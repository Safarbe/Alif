{
  "cells": [
    {
      "cell_type": "code",
      "execution_count": 5,
      "metadata": {
        "id": "lLT75WAtA9E3"
      },
      "outputs": [],
      "source": [
        "import pandas as pd\n",
        "from sklearn.preprocessing import LabelEncoder \n",
        "from sklearn.metrics import confusion_matrix, roc_auc_score, roc_curve, accuracy_score, auc \n",
        "from sklearn.linear_model import LogisticRegression\n",
        "from sklearn.ensemble import RandomForestClassifier, AdaBoostClassifier, GradientBoostingClassifier, BaggingClassifier      \n",
        "from sklearn.model_selection import train_test_split, GridSearchCV\n",
        "from sklearn.preprocessing import StandardScaler, MinMaxScaler\n",
        "import xgboost as xgb\n",
        "from catboost import CatBoostClassifier\n",
        "import lightgbm as lgb\n",
        "\n",
        "from imblearn.over_sampling import RandomOverSampler\n",
        "import  matplotlib.pyplot as plt\n",
        "import seaborn as sns"
      ]
    },
    {
      "cell_type": "code",
      "source": [
        "!pip install catboost"
      ],
      "metadata": {
        "colab": {
          "base_uri": "https://localhost:8080/"
        },
        "id": "IUwiMyjodViu",
        "outputId": "03078ad1-d099-4b87-f885-3ece2b8c4e0b"
      },
      "execution_count": 1,
      "outputs": [
        {
          "output_type": "stream",
          "name": "stdout",
          "text": [
            "Looking in indexes: https://pypi.org/simple, https://us-python.pkg.dev/colab-wheels/public/simple/\n",
            "Collecting catboost\n",
            "  Downloading catboost-1.1.1-cp38-none-manylinux1_x86_64.whl (76.6 MB)\n",
            "\u001b[K     |████████████████████████████████| 76.6 MB 1.2 MB/s \n",
            "\u001b[?25hRequirement already satisfied: scipy in /usr/local/lib/python3.8/dist-packages (from catboost) (1.7.3)\n",
            "Requirement already satisfied: matplotlib in /usr/local/lib/python3.8/dist-packages (from catboost) (3.2.2)\n",
            "Requirement already satisfied: graphviz in /usr/local/lib/python3.8/dist-packages (from catboost) (0.10.1)\n",
            "Requirement already satisfied: pandas>=0.24.0 in /usr/local/lib/python3.8/dist-packages (from catboost) (1.3.5)\n",
            "Requirement already satisfied: numpy>=1.16.0 in /usr/local/lib/python3.8/dist-packages (from catboost) (1.21.6)\n",
            "Requirement already satisfied: six in /usr/local/lib/python3.8/dist-packages (from catboost) (1.15.0)\n",
            "Requirement already satisfied: plotly in /usr/local/lib/python3.8/dist-packages (from catboost) (5.5.0)\n",
            "Requirement already satisfied: pytz>=2017.3 in /usr/local/lib/python3.8/dist-packages (from pandas>=0.24.0->catboost) (2022.6)\n",
            "Requirement already satisfied: python-dateutil>=2.7.3 in /usr/local/lib/python3.8/dist-packages (from pandas>=0.24.0->catboost) (2.8.2)\n",
            "Requirement already satisfied: kiwisolver>=1.0.1 in /usr/local/lib/python3.8/dist-packages (from matplotlib->catboost) (1.4.4)\n",
            "Requirement already satisfied: pyparsing!=2.0.4,!=2.1.2,!=2.1.6,>=2.0.1 in /usr/local/lib/python3.8/dist-packages (from matplotlib->catboost) (3.0.9)\n",
            "Requirement already satisfied: cycler>=0.10 in /usr/local/lib/python3.8/dist-packages (from matplotlib->catboost) (0.11.0)\n",
            "Requirement already satisfied: tenacity>=6.2.0 in /usr/local/lib/python3.8/dist-packages (from plotly->catboost) (8.1.0)\n",
            "Installing collected packages: catboost\n",
            "Successfully installed catboost-1.1.1\n"
          ]
        }
      ]
    },
    {
      "cell_type": "code",
      "source": [
        "!pip install imblearn"
      ],
      "metadata": {
        "colab": {
          "base_uri": "https://localhost:8080/"
        },
        "id": "nq72lf5hdnNd",
        "outputId": "5a604f2e-33cb-487c-f970-6151d8b611cb"
      },
      "execution_count": 2,
      "outputs": [
        {
          "output_type": "stream",
          "name": "stdout",
          "text": [
            "Looking in indexes: https://pypi.org/simple, https://us-python.pkg.dev/colab-wheels/public/simple/\n",
            "Requirement already satisfied: imblearn in /usr/local/lib/python3.8/dist-packages (0.0)\n",
            "Requirement already satisfied: imbalanced-learn in /usr/local/lib/python3.8/dist-packages (from imblearn) (0.8.1)\n",
            "Requirement already satisfied: joblib>=0.11 in /usr/local/lib/python3.8/dist-packages (from imbalanced-learn->imblearn) (1.2.0)\n",
            "Requirement already satisfied: numpy>=1.13.3 in /usr/local/lib/python3.8/dist-packages (from imbalanced-learn->imblearn) (1.21.6)\n",
            "Requirement already satisfied: scipy>=0.19.1 in /usr/local/lib/python3.8/dist-packages (from imbalanced-learn->imblearn) (1.7.3)\n",
            "Requirement already satisfied: scikit-learn>=0.24 in /usr/local/lib/python3.8/dist-packages (from imbalanced-learn->imblearn) (1.0.2)\n",
            "Requirement already satisfied: threadpoolctl>=2.0.0 in /usr/local/lib/python3.8/dist-packages (from scikit-learn>=0.24->imbalanced-learn->imblearn) (3.1.0)\n"
          ]
        }
      ]
    },
    {
      "cell_type": "code",
      "source": [
        "!pip install xgboost"
      ],
      "metadata": {
        "colab": {
          "base_uri": "https://localhost:8080/"
        },
        "id": "TXx4UjMUdnSm",
        "outputId": "ec1da943-1505-4d84-cb5f-886396412484"
      },
      "execution_count": 3,
      "outputs": [
        {
          "output_type": "stream",
          "name": "stdout",
          "text": [
            "Looking in indexes: https://pypi.org/simple, https://us-python.pkg.dev/colab-wheels/public/simple/\n",
            "Requirement already satisfied: xgboost in /usr/local/lib/python3.8/dist-packages (0.90)\n",
            "Requirement already satisfied: numpy in /usr/local/lib/python3.8/dist-packages (from xgboost) (1.21.6)\n",
            "Requirement already satisfied: scipy in /usr/local/lib/python3.8/dist-packages (from xgboost) (1.7.3)\n"
          ]
        }
      ]
    },
    {
      "cell_type": "code",
      "source": [
        "!pip install lightgbm"
      ],
      "metadata": {
        "colab": {
          "base_uri": "https://localhost:8080/"
        },
        "id": "kBxaotrZdnen",
        "outputId": "1a0b4173-b86c-4e34-f016-28b293a914d9"
      },
      "execution_count": 4,
      "outputs": [
        {
          "output_type": "stream",
          "name": "stdout",
          "text": [
            "Looking in indexes: https://pypi.org/simple, https://us-python.pkg.dev/colab-wheels/public/simple/\n",
            "Requirement already satisfied: lightgbm in /usr/local/lib/python3.8/dist-packages (2.2.3)\n",
            "Requirement already satisfied: scipy in /usr/local/lib/python3.8/dist-packages (from lightgbm) (1.7.3)\n",
            "Requirement already satisfied: numpy in /usr/local/lib/python3.8/dist-packages (from lightgbm) (1.21.6)\n",
            "Requirement already satisfied: scikit-learn in /usr/local/lib/python3.8/dist-packages (from lightgbm) (1.0.2)\n",
            "Requirement already satisfied: threadpoolctl>=2.0.0 in /usr/local/lib/python3.8/dist-packages (from scikit-learn->lightgbm) (3.1.0)\n",
            "Requirement already satisfied: joblib>=0.11 in /usr/local/lib/python3.8/dist-packages (from scikit-learn->lightgbm) (1.2.0)\n"
          ]
        }
      ]
    },
    {
      "cell_type": "code",
      "execution_count": 6,
      "metadata": {
        "id": "vUenM1yfEKJd"
      },
      "outputs": [],
      "source": [
        "data = pd.read_csv('/content/sampledataset.csv')"
      ]
    },
    {
      "cell_type": "code",
      "execution_count": 5,
      "metadata": {
        "colab": {
          "base_uri": "https://localhost:8080/",
          "height": 270
        },
        "id": "VX4h8EKcEbNb",
        "outputId": "f389bd48-96ab-4b4d-e95a-0aed2d345e42"
      },
      "outputs": [
        {
          "output_type": "execute_result",
          "data": {
            "text/plain": [
              "   age  gender  amount_tjs  duration  int_rate  credit_history_count  \\\n",
              "0   52       0      3000.0        15        24                     1   \n",
              "1   40       0      8000.0        18        24                     2   \n",
              "2   44       0      2000.0        12        20                     2   \n",
              "3   35       1      6800.0        24        25                     1   \n",
              "4   22       1      4800.0        24        22                     1   \n",
              "\n",
              "   mon_remit  mon_payment  int_amount    sector marital_status    district  \\\n",
              "0  180993000      233.477     502.155  Consumer        Married     Bokhtar   \n",
              "1  180993000      533.617    1605.106  Consumer        Married      Hissor   \n",
              "2  180993000      185.270     223.240  Consumer       Divorced     Khujand   \n",
              "3  276714667      362.927    1910.248  Consumer        Married  Tursunzoda   \n",
              "4  141971000      249.016    1176.384  Consumer         Single    Dushanbe   \n",
              "\n",
              "   is_bad_credit  \n",
              "0              0  \n",
              "1              0  \n",
              "2              0  \n",
              "3              1  \n",
              "4              0  "
            ],
            "text/html": [
              "\n",
              "  <div id=\"df-be540141-deff-45fd-970d-aa8eadf975db\">\n",
              "    <div class=\"colab-df-container\">\n",
              "      <div>\n",
              "<style scoped>\n",
              "    .dataframe tbody tr th:only-of-type {\n",
              "        vertical-align: middle;\n",
              "    }\n",
              "\n",
              "    .dataframe tbody tr th {\n",
              "        vertical-align: top;\n",
              "    }\n",
              "\n",
              "    .dataframe thead th {\n",
              "        text-align: right;\n",
              "    }\n",
              "</style>\n",
              "<table border=\"1\" class=\"dataframe\">\n",
              "  <thead>\n",
              "    <tr style=\"text-align: right;\">\n",
              "      <th></th>\n",
              "      <th>age</th>\n",
              "      <th>gender</th>\n",
              "      <th>amount_tjs</th>\n",
              "      <th>duration</th>\n",
              "      <th>int_rate</th>\n",
              "      <th>credit_history_count</th>\n",
              "      <th>mon_remit</th>\n",
              "      <th>mon_payment</th>\n",
              "      <th>int_amount</th>\n",
              "      <th>sector</th>\n",
              "      <th>marital_status</th>\n",
              "      <th>district</th>\n",
              "      <th>is_bad_credit</th>\n",
              "    </tr>\n",
              "  </thead>\n",
              "  <tbody>\n",
              "    <tr>\n",
              "      <th>0</th>\n",
              "      <td>52</td>\n",
              "      <td>0</td>\n",
              "      <td>3000.0</td>\n",
              "      <td>15</td>\n",
              "      <td>24</td>\n",
              "      <td>1</td>\n",
              "      <td>180993000</td>\n",
              "      <td>233.477</td>\n",
              "      <td>502.155</td>\n",
              "      <td>Consumer</td>\n",
              "      <td>Married</td>\n",
              "      <td>Bokhtar</td>\n",
              "      <td>0</td>\n",
              "    </tr>\n",
              "    <tr>\n",
              "      <th>1</th>\n",
              "      <td>40</td>\n",
              "      <td>0</td>\n",
              "      <td>8000.0</td>\n",
              "      <td>18</td>\n",
              "      <td>24</td>\n",
              "      <td>2</td>\n",
              "      <td>180993000</td>\n",
              "      <td>533.617</td>\n",
              "      <td>1605.106</td>\n",
              "      <td>Consumer</td>\n",
              "      <td>Married</td>\n",
              "      <td>Hissor</td>\n",
              "      <td>0</td>\n",
              "    </tr>\n",
              "    <tr>\n",
              "      <th>2</th>\n",
              "      <td>44</td>\n",
              "      <td>0</td>\n",
              "      <td>2000.0</td>\n",
              "      <td>12</td>\n",
              "      <td>20</td>\n",
              "      <td>2</td>\n",
              "      <td>180993000</td>\n",
              "      <td>185.270</td>\n",
              "      <td>223.240</td>\n",
              "      <td>Consumer</td>\n",
              "      <td>Divorced</td>\n",
              "      <td>Khujand</td>\n",
              "      <td>0</td>\n",
              "    </tr>\n",
              "    <tr>\n",
              "      <th>3</th>\n",
              "      <td>35</td>\n",
              "      <td>1</td>\n",
              "      <td>6800.0</td>\n",
              "      <td>24</td>\n",
              "      <td>25</td>\n",
              "      <td>1</td>\n",
              "      <td>276714667</td>\n",
              "      <td>362.927</td>\n",
              "      <td>1910.248</td>\n",
              "      <td>Consumer</td>\n",
              "      <td>Married</td>\n",
              "      <td>Tursunzoda</td>\n",
              "      <td>1</td>\n",
              "    </tr>\n",
              "    <tr>\n",
              "      <th>4</th>\n",
              "      <td>22</td>\n",
              "      <td>1</td>\n",
              "      <td>4800.0</td>\n",
              "      <td>24</td>\n",
              "      <td>22</td>\n",
              "      <td>1</td>\n",
              "      <td>141971000</td>\n",
              "      <td>249.016</td>\n",
              "      <td>1176.384</td>\n",
              "      <td>Consumer</td>\n",
              "      <td>Single</td>\n",
              "      <td>Dushanbe</td>\n",
              "      <td>0</td>\n",
              "    </tr>\n",
              "  </tbody>\n",
              "</table>\n",
              "</div>\n",
              "      <button class=\"colab-df-convert\" onclick=\"convertToInteractive('df-be540141-deff-45fd-970d-aa8eadf975db')\"\n",
              "              title=\"Convert this dataframe to an interactive table.\"\n",
              "              style=\"display:none;\">\n",
              "        \n",
              "  <svg xmlns=\"http://www.w3.org/2000/svg\" height=\"24px\"viewBox=\"0 0 24 24\"\n",
              "       width=\"24px\">\n",
              "    <path d=\"M0 0h24v24H0V0z\" fill=\"none\"/>\n",
              "    <path d=\"M18.56 5.44l.94 2.06.94-2.06 2.06-.94-2.06-.94-.94-2.06-.94 2.06-2.06.94zm-11 1L8.5 8.5l.94-2.06 2.06-.94-2.06-.94L8.5 2.5l-.94 2.06-2.06.94zm10 10l.94 2.06.94-2.06 2.06-.94-2.06-.94-.94-2.06-.94 2.06-2.06.94z\"/><path d=\"M17.41 7.96l-1.37-1.37c-.4-.4-.92-.59-1.43-.59-.52 0-1.04.2-1.43.59L10.3 9.45l-7.72 7.72c-.78.78-.78 2.05 0 2.83L4 21.41c.39.39.9.59 1.41.59.51 0 1.02-.2 1.41-.59l7.78-7.78 2.81-2.81c.8-.78.8-2.07 0-2.86zM5.41 20L4 18.59l7.72-7.72 1.47 1.35L5.41 20z\"/>\n",
              "  </svg>\n",
              "      </button>\n",
              "      \n",
              "  <style>\n",
              "    .colab-df-container {\n",
              "      display:flex;\n",
              "      flex-wrap:wrap;\n",
              "      gap: 12px;\n",
              "    }\n",
              "\n",
              "    .colab-df-convert {\n",
              "      background-color: #E8F0FE;\n",
              "      border: none;\n",
              "      border-radius: 50%;\n",
              "      cursor: pointer;\n",
              "      display: none;\n",
              "      fill: #1967D2;\n",
              "      height: 32px;\n",
              "      padding: 0 0 0 0;\n",
              "      width: 32px;\n",
              "    }\n",
              "\n",
              "    .colab-df-convert:hover {\n",
              "      background-color: #E2EBFA;\n",
              "      box-shadow: 0px 1px 2px rgba(60, 64, 67, 0.3), 0px 1px 3px 1px rgba(60, 64, 67, 0.15);\n",
              "      fill: #174EA6;\n",
              "    }\n",
              "\n",
              "    [theme=dark] .colab-df-convert {\n",
              "      background-color: #3B4455;\n",
              "      fill: #D2E3FC;\n",
              "    }\n",
              "\n",
              "    [theme=dark] .colab-df-convert:hover {\n",
              "      background-color: #434B5C;\n",
              "      box-shadow: 0px 1px 3px 1px rgba(0, 0, 0, 0.15);\n",
              "      filter: drop-shadow(0px 1px 2px rgba(0, 0, 0, 0.3));\n",
              "      fill: #FFFFFF;\n",
              "    }\n",
              "  </style>\n",
              "\n",
              "      <script>\n",
              "        const buttonEl =\n",
              "          document.querySelector('#df-be540141-deff-45fd-970d-aa8eadf975db button.colab-df-convert');\n",
              "        buttonEl.style.display =\n",
              "          google.colab.kernel.accessAllowed ? 'block' : 'none';\n",
              "\n",
              "        async function convertToInteractive(key) {\n",
              "          const element = document.querySelector('#df-be540141-deff-45fd-970d-aa8eadf975db');\n",
              "          const dataTable =\n",
              "            await google.colab.kernel.invokeFunction('convertToInteractive',\n",
              "                                                     [key], {});\n",
              "          if (!dataTable) return;\n",
              "\n",
              "          const docLinkHtml = 'Like what you see? Visit the ' +\n",
              "            '<a target=\"_blank\" href=https://colab.research.google.com/notebooks/data_table.ipynb>data table notebook</a>'\n",
              "            + ' to learn more about interactive tables.';\n",
              "          element.innerHTML = '';\n",
              "          dataTable['output_type'] = 'display_data';\n",
              "          await google.colab.output.renderOutput(dataTable, element);\n",
              "          const docLink = document.createElement('div');\n",
              "          docLink.innerHTML = docLinkHtml;\n",
              "          element.appendChild(docLink);\n",
              "        }\n",
              "      </script>\n",
              "    </div>\n",
              "  </div>\n",
              "  "
            ]
          },
          "metadata": {},
          "execution_count": 5
        }
      ],
      "source": [
        "data.head()"
      ]
    },
    {
      "cell_type": "code",
      "execution_count": 6,
      "metadata": {
        "colab": {
          "base_uri": "https://localhost:8080/"
        },
        "id": "j_6Nqnk6EfYS",
        "outputId": "14f74ee2-f584-4628-d7b2-5b89a9017751"
      },
      "outputs": [
        {
          "output_type": "stream",
          "name": "stdout",
          "text": [
            "<class 'pandas.core.frame.DataFrame'>\n",
            "RangeIndex: 2669 entries, 0 to 2668\n",
            "Data columns (total 13 columns):\n",
            " #   Column                Non-Null Count  Dtype  \n",
            "---  ------                --------------  -----  \n",
            " 0   age                   2669 non-null   int64  \n",
            " 1   gender                2669 non-null   int64  \n",
            " 2   amount_tjs            2669 non-null   float64\n",
            " 3   duration              2669 non-null   int64  \n",
            " 4   int_rate              2669 non-null   int64  \n",
            " 5   credit_history_count  2669 non-null   int64  \n",
            " 6   mon_remit             2669 non-null   int64  \n",
            " 7   mon_payment           2669 non-null   float64\n",
            " 8   int_amount            2669 non-null   float64\n",
            " 9   sector                2669 non-null   object \n",
            " 10  marital_status        2669 non-null   object \n",
            " 11  district              2669 non-null   object \n",
            " 12  is_bad_credit         2669 non-null   int64  \n",
            "dtypes: float64(3), int64(7), object(3)\n",
            "memory usage: 271.2+ KB\n"
          ]
        }
      ],
      "source": [
        "data.info()"
      ]
    },
    {
      "cell_type": "code",
      "execution_count": 7,
      "metadata": {
        "colab": {
          "base_uri": "https://localhost:8080/"
        },
        "id": "r7EMZQDEEfUQ",
        "outputId": "c9ef1bc7-f8ee-4f75-9f11-ac023afe96d9"
      },
      "outputs": [
        {
          "output_type": "stream",
          "name": "stdout",
          "text": [
            "is_bad_credit [0 1]\n",
            "age [52 40 44 35 22 28 42 23 39 26 33 32 25 27 60 45 37 34 21 36 56 30 31 38\n",
            " 55 41 43 24 54 51 50 46 53 47 59 29 58 61 49 63 57 48 19 20 62 64 18 65]\n",
            "gender [0 1]\n",
            "amount_tjs [ 3000.    8000.    2000.    6800.    4800.    1575.   17700.    2700.\n",
            "  2182.4   5000.   12000.    5640.    3300.    4000.    6000.   15600.\n",
            " 10000.   16000.   10500.    9300.   20000.    4200.    1650.    4900.\n",
            "  5999.    3740.    2750.    3500.    3750.    3564.   10300.    1850.\n",
            "  5700.    1500.    3390.   15000.    7000.   19000.    5300.    9400.\n",
            "  9700.    1300.    2500.    2730.    6500.     516.    1050.     419.\n",
            "  1318.    4750.    5200.    6400.   11000.   15500.    7200.   12350.\n",
            "  7890.   10600.    5800.    3618.    9000.   13000.   17100.    1040.\n",
            " 11500.    1000.    4290.    1751.5  18000.   15800.    4500.    5500.\n",
            " 10900.   19500.    3600.    6600.    1800.    6950.    9900.    2400.\n",
            "  3350.    8300.   12800.    8800.   10400.    7900.    9800.    1350.\n",
            "  3025.    1030.    6300.    2200.    6700.    6780.    3700.   11800.\n",
            " 11400.    7600.   17300.    9600.    8700.    4180.    7560.    4300.\n",
            "  4100.    7300.     355.95 19800.   14500.   13700.    3800.    2160.\n",
            "  2916.    8900.    1210.    1700.    5450.    1760.    4400.    7800.\n",
            "  8500.   12100.    2600.    3200.   11200.    4777.5   2214.    2530.\n",
            "  3058.    2625.    3955.    7700.   17000.    7500.   16500.    4700.\n",
            "  3850.   19400.    1551.5   5141.5   1980.    2800.    1100.    7400.\n",
            " 11300.    6200.    3240.    6100.    3210.   13900.    5900.    3675.\n",
            "  2931.5  14000.    5850.    9500.    6150.   18500.    3190.    3380.\n",
            "  8150.    8833.    7480.    2675.    1977.5   2090.    9570.   18800.\n",
            " 11700.   11100.    3630.    5720.   15400.   11600.     850.    3100.\n",
            " 16900.    3400.    2908.5   3164.    4600.     735.    5650.    6875.\n",
            " 13400.    1819.    3161.74  3960.    3790.    2100.    8679.    6350.\n",
            "  7660.   13500.    6825.    5100.    2192.2   8690.   19300.    5600.\n",
            "  9390.    1695.    2520.    2712.    9100.    6650.   12600.    6900.\n",
            "  5400.    2900.   10800.    4999.    4428.    8624.    1870.   18557.\n",
            "  1566.   10700.    6240.    1926.   15200.    8475.    9250.    8600.\n",
            "  5499.   13350.    1976.    3520.   17500.    2486.    2915.    6723.5\n",
            " 14700.    2060.    4240.    3900.    1360.    1750.   18900.    7100.\n",
            "  6215.     800.    2300.    4788.    9200.   16415.    1728.    1430.\n",
            "  2980.8   2268.    1458.    4066.    4520.    4746.   14400.    1498.\n",
            " 16700.   13300.   17200.    3045.   16100.    1752.     536.75  5280.\n",
            "  5885.    9040.     670.   19700.   19200.    3150.   18450.   17600.\n",
            "  5599.    2373.    3220.5  13600.   15650.    7780.   18200.    4870.\n",
            "  9999.    4730.    4725.    1593.9  18400.     390.    4970.    2640.\n",
            "   712.    2140.    8400.    4899.     946.    8988.    4012.63  2247.\n",
            "  2288.    8950.    4499.    1188.    3024.    5424.    2825.    8910.\n",
            "  8701.    1475.25  2231.    2415.    4850.    6070.    4680.    8100.\n",
            "  5085.    3899.   16300.     630.     605.    4150.    1200.   19100.\n",
            "  2964.    2760.   12900.    5250.    2035.    8200.   13800.   10100.\n",
            " 11900.    7750.    1078.    4160.    4212.   12500.   19900.   14600.\n",
            "  3650.  ]\n",
            "duration [15 18 12 24  6 22 36 27  5 16  8 10  9  3 13 20 14  7 11 21  4 30 17 19\n",
            " 23]\n",
            "int_rate [24 20 25 22  0 16 18 23 21 26 32 31 30 27]\n",
            "credit_history_count [ 1  2 17  5  6  3  7  4 11  8 13 10  9 12 14]\n",
            "mon_remit [180993000 276714667 141971000 131086333 148419000 178087667 109660000\n",
            " 119683333 211652000 216197667]\n",
            "mon_payment [ 233.477  533.617  185.27   362.927  249.016  262.5    756.477 1163.398\n",
            "  142.417  181.867  323.817  800.426  283.679  470.     220.117  378.239\n",
            "  183.36   555.808  620.254  508.959  567.358 1482.153  399.393  997.965\n",
            "  473.331  318.079  277.904  647.633 1852.691  233.334  137.5    528.711\n",
            "  667.022  408.334  499.917  975.996  472.798  877.627  311.667  209.494\n",
            "  229.167  327.581  143.215  229.143  418.987  297.     388.054  194.29\n",
            "  119.812  266.809  363.693 1276.116  510.447  382.835  449.667   97.145\n",
            "  945.596  282.5   1403.916  363.148 1248.845  343.245  608.775  422.969\n",
            "  646.495  493.69   971.449  188.153  259.391  275.806  229.2    455.\n",
            "  289.22   334.356  248.238   43.     175.      69.834  109.834  733.44\n",
            " 1334.043  333.511  316.835  602.125  481.7    466.915  259.053  463.173\n",
            "  648.442  608.283  793.067 1018.98   819.503  407.167  760.354  666.969\n",
            "  490.963  141.84   231.587  236.399  665.31   717.197  659.139  189.12\n",
            "  510.982  981.926  295.196  282.229  301.5    523.734  842.35   955.302\n",
            "  854.473  870.319  453.343  173.334  596.599   93.595  275.     357.5\n",
            "  145.959  907.866  223.321  916.125  957.087  835.364  638.058  249.39\n",
            "  470.382  421.175  356.198  554.765  518.106  287.127  400.213  235.191\n",
            " 1011.625  491.436  655.161 1891.192  356.271  200.107  388.58   458.4\n",
            "  370.539  335.913  152.688  166.743  475.222  643.81   190.089  523.424\n",
            "  477.651  528.017  736.502  138.952  470.795  262.546  216.957  422.436\n",
            "  482.241  634.454  305.375  426.973  733.334  514.77   539.533  511.63\n",
            "  250.     518.137  458.334  150.     940.764  252.084  343.334  212.296\n",
            "  255.224  312.649  401.977  191.418  374.378  183.334  446.641  254.48\n",
            "  446.905  565.     534.345  525.811 1200.638  881.184 1047.467  324.221\n",
            "  349.871  336.769  764.206  334.492  580.213  467.972  711.318  660.695\n",
            "  502.784  314.24   764.242  563.44   133.405  348.334  449.254  366.614\n",
            "  662.144  840.     286.82  3300.     143.234  690.151  574.253  329.268\n",
            "  463.501  355.046  374.654  916.667  865.647  591.411  135.368  300.16\n",
            "  683.239 1037.564  400.     168.47    59.325  211.485  656.364  264.356\n",
            "  641.156  676.836 1007.737 1057.422 1343.201 1269.093  661.918  798.786\n",
            "  288.413  101.792  926.346  244.3    413.75   180.     657.287  243.\n",
            "  289.107  452.973  100.834  274.365  166.667  748.756  159.111  358.222\n",
            "  146.667  233.458  366.862  284.959  319.029  887.615  332.526 1385.925\n",
            "  778.173  627.083 1123.133  730.037  929.848  203.584  420.961  660.558\n",
            "  651.761  615.84   158.614  518.782 1017.917  240.85   402.077  296.431\n",
            "  599.555  570.033  927.072  796.25   184.5    168.385  793.975  561.567\n",
            "  210.834  471.36   532.569  330.959 1650.     254.834  437.5    253.067\n",
            "  329.584  407.108  848.71   396.534 1068.593  407.592  585.302  628.48\n",
            "  500.     826.02   582.869  250.114  366.45   432.615  439.894  320.834\n",
            "  475.84  3443.946  258.584  376.306  428.459  187.189  330.     359.063\n",
            " 2574.084  146.646  226.672   91.667  529.716  898.507  508.406  534.073\n",
            "  506.111  397.287  486.926  479.248  861.939  317.227  941.667  620.652\n",
            "  574.334   94.56   441.102  998.483 1382.519  185.049  841.922  270.\n",
            "  198.644  763.81   458.063  612.536  316.457  535.     370.098 2467.57\n",
            "  586.979  592.072 1314.574  264.858  261.867  243.346  552.207  612.5\n",
            "  244.292  341.667  712.542  301.401  541.912  441.307  687.325  565.402\n",
            "  491.202  433.564  371.636  444.646  879.405  902.92   485.725  611.568\n",
            "  598.779  387.213  313.01  1574.787  213.719 1713.739  987.379  585.826\n",
            "  830.051  611.048  265.834  778.255  327.801  272.04  1126.667  114.62\n",
            "  762.795  736.084 1750.     623.334 1262.883  445.834  280.784  580.286\n",
            "  461.716  565.472  164.792  232.223  797.5    717.981 1473.003  526.947\n",
            "  595.481  718.872  302.5    713.286  476.667  366.72  1000.532  572.32\n",
            "  590.392  814.333  538.746   70.834  200.766  860.14  1389.518  220.195\n",
            " 1067.431  244.599 1100.643  484.75   315.554  290.792  381.719   94.077\n",
            "  700.     263.667  893.281  293.507  542.848  480.256  740.196  933.83\n",
            "   27.778  867.128  229.701  500.266  317.34   310.864 1132.242  426.119\n",
            "  682.549  880.028  512.126  661.646  167.957  583.598  651.467  333.485\n",
            "  245.509  225.     122.5    470.834  157.12   879.788  572.917  511.753\n",
            "  765.67   129.527  338.171  424.591  303.167  263.479  358.381  350.\n",
            "  723.25  1117.388  423.559 1900.885  501.693  621.727  451.431 1138.95\n",
            "  416.856  709.581  700.356  398.038 1137.5    311.269  217.686  387.563\n",
            "  783.635  939.067  453.575  325.41  1591.105  182.684  942.72   985.93\n",
            "  493.596  207.243  506.936  259.569  600.319  191.061  166.756  824.79\n",
            "  804.994  982.289  296.079  865.229  698.938  157.479  304.388  496.46\n",
            "  743.418  898.634  397.805  141.25   285.33   564.458  207.513  415.208\n",
            "  198.839  210.     226.     589.346  443.569  641.288 1100.975  351.182\n",
            "  595.933  851.037  495.612  817.424  733.724  570.66   622.604  772.56\n",
            "  511.443  629.915  274.223  389.713  549.675 1223.135  416.584  741.077\n",
            "  300.894  369.     658.535  299.503  718.667  286.429  155.834 1546.417\n",
            "  130.5    100.054 1783.334 2080.     570.266  233.986  622.538  321.\n",
            "  773.617  492.71   706.25   460.101  447.884  208.673  470.787  353.726\n",
            "  546.04   509.49   453.052  312.047  713.76   437.704  199.697 1111.615\n",
            "  458.25   378.711  864.589  763.438  658.667 1050.496  231.751  478.421\n",
            "  216.94   376.455  293.334  668.333 1295.265  207.167  595.93   477.332\n",
            "  242.917  560.292  373.532 1644.265  229.032  559.854  748.169  137.52\n",
            "  190.828  392.771  361.275  125.983  162.111  961.931  346.915  380.177\n",
            "  330.408  161.909  391.247  237.92   520.078  671.374  139.051  552.685\n",
            "  440.965  517.917 4161.057 1775.23   389.128  198.576   75.648  427.499\n",
            "  414.738  280.746  352.772  357.052  331.072  381.227  413.554  649.014\n",
            "  425.519  444.431  213.06   352.012  731.813  699.742  453.887  243.69\n",
            "  468.242  851.58   144.     119.167  450.648  248.4    189.     121.5\n",
            "  609.63   535.578  677.667  252.057 1029.539  710.092  376.667 1230.501\n",
            "  185.037 2023.763  395.5    718.908  249.667  770.087  640.341  624.588\n",
            " 1546.997  624.841  967.021  364.811  657.705  709.842  693.83   427.699\n",
            "  951.68   858.695  197.204  278.101  524.129  819.423  146.     798.854\n",
            "  106.934  492.201  256.342   44.73   178.025  165.     666.667  614.339\n",
            "  586.667  430.997  406.607  640.459 1065.138  368.081  980.834  753.334\n",
            "  325.275   25.588  308.334  490.062  950.443 1002.648  328.182  713.541\n",
            "  510.028  753.502  183.417   66.703  650.606  484.06   291.799   92.635\n",
            "  695.105 1630.368  466.584  777.159  507.563  197.75   230.051  445.174\n",
            "  874.192  104.747  505.41   906.685  183.225  268.375  907.868 1778.294\n",
            " 1272.884  478.544  320.171  262.915  749.307  512.85   311.712  483.511\n",
            "  269.748  589.615  248.495  395.97  1178.691  875.408  247.863  748.862\n",
            "  435.042  833.25   392.8    366.667  394.167  881.929  186.766  402.456\n",
            "  382.121  525.83   333.334  262.906  787.5    290.518  132.825 1420.184\n",
            " 1084.248 1722.137   10.834  460.394  268.641  621.639  244.556 1165.738\n",
            "  597.444  935.944  954.136  868.297 1224.909  237.334 1166.872  356.667\n",
            "  536.638  828.969  217.889 1347.76   635.659 1066.976  277.579  127.24\n",
            "  444.118  287.167  341.542  342.748  386.873  577.85   758.981  465.266\n",
            "  408.25   302.591   78.834  343.663 1498.     334.386  187.25   525.\n",
            "  190.667  455.518  602.298  449.405  709.197  400.287  398.617 1093.088\n",
            "  374.917  375.     275.04    99.     252.     341.789  452.     235.417\n",
            " 1020.893 1051.659  286.591  459.302  409.838  382.103  441.901  840.447\n",
            " 1067.234  460.245  672.779  414.451 1113.266  587.848  341.002  587.087\n",
            "  923.596  413.01   285.133  338.418  264.767  267.037  742.5    356.049\n",
            "  948.717  725.084  245.875  948.558  630.996  185.917  402.5    233.148\n",
            "  502.276 1156.048  684.319  449.278  705.919  403.668  576.919  592.861\n",
            "  556.964 1426.572  218.602  390.     200.     420.214  687.094  362.523\n",
            "  309.343  533.488  446.153  423.75   714.104 1795.313  712.097  301.79\n",
            "  159.804  164.091  550.488  367.547  386.809  348.95   178.136  403.384\n",
            " 1049.548  534.406  324.917  303.593  358.991 1148.505  346.667 1084.523\n",
            " 1055.641  260.139  496.476  105.     394.372 1581.746  306.83   384.434\n",
            "  531.287  153.327  111.162  805.921  258.582  972.11   239.711 1071.155\n",
            "  494.     608.364  153.334  847.9    411.816  686.667  486.691  538.594\n",
            "  875.     175.526  169.584 1455.689  581.583  118.865  340.976  328.644\n",
            "  120.425  122.516 1000.453  446.867  599.09  1093.362  893.733  737.99\n",
            "  523.97  1871.888 1267.34   680.853  525.248  224.627  605.661  446.924\n",
            "  350.902  396.988  394.443  351.085  350.932  240.128  162.867  500.227\n",
            "   89.834 1952.753  628.565  397.406 1404.     654.667  892.63   938.043\n",
            " 1843.427  435.383  374.431 1837.732 1387.646  338.116]\n",
            "int_amount [5.021550e+02 1.605106e+03 2.232400e+02 1.910248e+03 1.176384e+03\n",
            " 0.000000e+00 1.077724e+03 3.241164e+03 4.331740e+02 4.000000e-03\n",
            " 8.287060e+02 2.407668e+03 4.041480e+02 6.621060e+02 5.388680e+02\n",
            " 2.003200e+02 6.696960e+02 6.729144e+03 2.215016e+03 8.082960e+02\n",
            " 1.785836e+03 1.585432e+03 1.475580e+03 2.059944e+03 3.450844e+03\n",
            " 3.348480e+02 1.657394e+03 2.232292e+03 1.200000e-02 2.689064e+03\n",
            " 2.006396e+03 8.000000e-03 6.351892e+03 6.735760e+02 2.657620e+02\n",
            " 1.027856e+03 4.309720e+02 1.405740e+03 2.249148e+03 2.055688e+03\n",
            " 3.669944e+03 4.972200e+02 3.066160e+02 8.025620e+02 8.464740e+02\n",
            " 2.970088e+03 1.188046e+03 8.910300e+02 7.450050e+02 2.486100e+02\n",
            " 1.347152e+03 1.846992e+03 1.715552e+03 3.479210e+03 8.784100e+02\n",
            " 1.557950e+03 2.151256e+03 3.515880e+03 2.148560e+03 2.486082e+03\n",
            " 2.578360e+02 1.225384e+03 7.903000e+01 2.504000e+02 2.411920e+03\n",
            " 5.122720e+02 2.436568e+03 8.012800e+02 4.012774e+03 1.003198e+03\n",
            " 9.530300e+02 7.255000e+02 5.804000e+02 1.404470e+03 6.629540e+02\n",
            " 5.580760e+02 7.813040e+02 8.993960e+02 4.033608e+03 1.227760e+03\n",
            " 4.168072e+03 1.772008e+03 1.124248e+03 8.036280e+02 5.915560e+02\n",
            " 2.020800e+02 2.790440e+02 3.367880e+02 9.837200e+02 1.475152e+03\n",
            " 3.469336e+03 2.694400e+02 1.307676e+03 1.183112e+03 1.284704e+03\n",
            " 3.867480e+02 2.569616e+03 1.108200e+03 1.463624e+03 2.380514e+03\n",
            " 3.787656e+03 1.160174e+03 2.818376e+03 1.231400e+02 1.194392e+03\n",
            " 5.197780e+02 3.987000e+03 2.227566e+03 4.248736e+03 1.485044e+03\n",
            " 1.085360e+03 6.445840e+02 5.541000e+02 9.115640e+02 2.414360e+03\n",
            " 1.325908e+03 6.682860e+02 1.203834e+03 3.222920e+02 4.779000e+03\n",
            " 3.314880e+02 8.619320e+02 2.694304e+03 1.550504e+03 6.019260e+02\n",
            " 9.944400e+02 5.008000e+02 4.464680e+02 1.461912e+03 6.645120e+02\n",
            " 2.009160e+02 7.026640e+02 7.757200e+02 2.810680e+02 2.662176e+03\n",
            " 7.318120e+02 6.362040e+02 1.784032e+03 1.674240e+02 4.948620e+03\n",
            " 2.254600e+02 5.552260e+02 1.838464e+03 4.560676e+03 3.226896e+03\n",
            " 1.329000e+03 2.247352e+03 6.772400e+02 2.548792e+03 1.309340e+03\n",
            " 2.635288e+03 1.289168e+03 2.000000e-03 3.967360e+02 5.940320e+02\n",
            " 7.276820e+02 9.355860e+02 4.455240e+02 4.925360e+02 1.039538e+03\n",
            " 1.107520e+03 1.344290e+03 2.524280e+03 8.355430e+02 3.611484e+03\n",
            " 1.455392e+03 5.139208e+03 3.906520e+02 4.984520e+02 8.618420e+02\n",
            " 1.955708e+03 1.327808e+03 2.525112e+03 6.156640e+02 9.358160e+02\n",
            " 6.485020e+03 2.466816e+03 1.541760e+03 1.170904e+03 1.441920e+03\n",
            " 4.012900e+02 5.910480e+02 1.798736e+03 1.918592e+03 8.627600e+02\n",
            " 3.646800e+02 1.922718e+03 1.336554e+03 4.512160e+02 1.343018e+03\n",
            " 1.302760e+02 1.043772e+03 4.000000e-03 2.282350e+02 2.793864e+03\n",
            " 4.366240e+02 9.028800e+02 8.988680e+02 4.901536e+03 2.216400e+02\n",
            " 1.075640e+03 5.636400e+02 1.344544e+03 1.640808e+03 2.183048e+03\n",
            " 4.385688e+03 5.378128e+03 1.618412e+03 1.529116e+03 9.430160e+02\n",
            " 3.170864e+03 5.261950e+02 4.430080e+02 1.116152e+03 1.063200e+03\n",
            " 2.030000e+03 1.831166e+03 5.474980e+02 1.971352e+03 6.385700e+02\n",
            " 9.850720e+02 2.093320e+02 9.979960e+02 7.022440e+02 1.103516e+03\n",
            " 7.292620e+02 7.425220e+02 3.256900e+02 3.252600e+02 7.874000e+02\n",
            " 3.676152e+03 8.249960e+02 1.477596e+03 9.604440e+02 7.984800e+02\n",
            " 8.860160e+02 1.077298e+03 9.766960e+02 2.031698e+03 2.680160e+03\n",
            " 8.067360e+02 2.450768e+03 4.430008e+03 2.902000e+02 1.749848e+03\n",
            " 3.571720e+02 9.933250e+02 2.480792e+03 4.895040e+02 4.309300e+02\n",
            " 3.455400e+03 7.388040e+02 2.312640e+03 1.954140e+02 4.715080e+02\n",
            " 2.110412e+03 2.070592e+03 3.369040e+03 2.016816e+03 2.734674e+03\n",
            " 4.911040e+02 2.547248e+03 3.083520e+03 1.564280e+03 1.491642e+03\n",
            " 3.013680e+02 1.594800e+03 1.882760e+03 5.787280e+02 2.420160e+03\n",
            " 1.263676e+03 5.156720e+02 2.462680e+02 1.543780e+02 9.445040e+02\n",
            " 7.195040e+02 5.800960e+02 1.534888e+03 1.182084e+03 2.401744e+03\n",
            " 2.044380e+02 1.409998e+03 1.151166e+03 1.464668e+03 1.226464e+03\n",
            " 1.205207e+03 1.613448e+03 7.478240e+02 6.920080e+02 1.347200e+02\n",
            " 4.521220e+02 3.963592e+03 1.475570e+02 9.411760e+02 2.154596e+03\n",
            " 5.755920e+02 7.497160e+03 1.993512e+03 1.425648e+03 1.494968e+03\n",
            " 1.882352e+03 9.054200e+02 1.765622e+03 1.841440e+03 3.662332e+03\n",
            " 7.674440e+02 1.284808e+03 3.201520e+02 7.264840e+02 3.101008e+03\n",
            " 2.850436e+03 6.529440e+02 1.478420e+02 3.495800e+03 2.177236e+03\n",
            " 1.841636e+03 1.304152e+03 3.378896e+03 5.357520e+02 1.252860e+03\n",
            " 1.335040e+03 1.243050e+03 2.231360e+03 8.853480e+02 4.665560e+02\n",
            " 1.362240e+03 1.897444e+03 5.469420e+02 2.064868e+03 4.297096e+03\n",
            " 2.149560e+02 3.921224e+03 5.997728e+03 1.673825e+03 1.667224e+03\n",
            " 1.763200e+02 1.000000e-03 1.426320e+03 1.003540e+03 3.231894e+03\n",
            " 3.694080e+02 7.634320e+02 2.181184e+03 2.671328e+03 7.000000e-03\n",
            " 7.047316e+03 3.568048e+03 1.585046e+03 2.591544e+03 1.839696e+03\n",
            " 8.594320e+02 4.006400e+02 3.009576e+03 5.203520e+03 2.569408e+03\n",
            " 3.543992e+03 2.929904e+03 5.137880e+02 3.743360e+03 1.674216e+03\n",
            " 5.635100e+02 5.618344e+03 3.351880e+02 4.038580e+02 1.373296e+03\n",
            " 1.479008e+03 1.661256e+03 1.289240e+02 2.079058e+03 6.831260e+02\n",
            " 7.141760e+02 1.444608e+03 3.764704e+03 2.808940e+03 2.608304e+03\n",
            " 5.346180e+02 1.504788e+03 8.121200e+02 7.955520e+02 2.115872e+03\n",
            " 5.134280e+02 4.603920e+02 1.060336e+03 6.455120e+02 2.879504e+03\n",
            " 7.309680e+02 7.031760e+02 2.835208e+03 4.018200e+02 1.292216e+03\n",
            " 7.708800e+02 1.157456e+03 5.023108e+03 1.782060e+03 3.314860e+02\n",
            " 7.870780e+02 7.934560e+02 5.105720e+02 3.112984e+03 1.274062e+03\n",
            " 2.810620e+03 2.640632e+03 1.591086e+03 2.834344e+03 7.334800e+03\n",
            " 5.022720e+02 8.549720e+02 3.308544e+03 1.952912e+03 1.470456e+03\n",
            " 2.136696e+03 1.901512e+03 2.005430e+03 2.403206e+03 1.364350e+03\n",
            " 7.573800e+02 2.093260e+03 4.625280e+03 2.746740e+03 1.484728e+03\n",
            " 5.303740e+02 1.524848e+03 1.129656e+03 1.805742e+03 2.927320e+02\n",
            " 5.016080e+02 4.194960e+03 9.699280e+02 4.274936e+03 1.505896e+03\n",
            " 3.765496e+03 2.774512e+03 1.897480e+02 7.789840e+02 2.525040e+03\n",
            " 1.407852e+03 3.567216e+03 1.353905e+03 1.347920e+03 7.734960e+02\n",
            " 9.803120e+02 3.210616e+03 1.658204e+03 1.508228e+03 1.334242e+03\n",
            " 2.790912e+03 2.817550e+03 1.528368e+03 5.593300e+02 1.212444e+03\n",
            " 9.385680e+02 9.916640e+02 2.207032e+03 2.695840e+03 1.339060e+03\n",
            " 4.079200e+02 6.487590e+02 7.589800e+02 3.906760e+02 1.214834e+03\n",
            " 2.392200e+03 4.462700e+03 8.929240e+02 1.421456e+03 9.024200e+02\n",
            " 3.940360e+02 2.811444e+03 3.009720e+02 8.431920e+02 3.078320e+02\n",
            " 2.940912e+03 3.366808e+03 8.979400e+02 1.281818e+03 1.949216e+03\n",
            " 9.081520e+02 2.048888e+03 1.539424e+03 3.683200e+02 6.138800e+02\n",
            " 1.967144e+03 4.445640e+02 3.630240e+03 1.904896e+03 7.927280e+02\n",
            " 1.339380e+03 1.789064e+03 2.212602e+03 3.322512e+03 1.000000e-03\n",
            " 2.019840e+02 6.715180e+02 2.082104e+03 5.049200e+02 8.761900e+02\n",
            " 6.559988e+03 3.314770e+03 1.726740e+03 6.279840e+02 1.123576e+03\n",
            " 2.431180e+03 9.967680e+02 2.436496e+03 3.256056e+03 1.502400e+02\n",
            " 2.299360e+02 4.732520e+02 4.353000e+02 1.517960e+02 1.953320e+02\n",
            " 4.186344e+03 1.825960e+03 5.621240e+02 6.257120e+02 4.143620e+02\n",
            " 1.989928e+03 1.210080e+03 7.409360e+02 9.564880e+02 4.029180e+02\n",
            " 2.687950e+02 2.083160e+03 4.831710e+02 6.513800e+02 8.369200e+02\n",
            " 2.829120e+02 1.077760e+02 9.949820e+02 9.652840e+02 6.534280e+02\n",
            " 1.666528e+03 1.423120e+02 9.592960e+02 1.062086e+03 1.243972e+03\n",
            " 2.576336e+03 6.062280e+02 6.331720e+02 2.567200e+02 4.241440e+02\n",
            " 8.817560e+02 9.969040e+02 6.466440e+02 1.060560e+03 2.037808e+03\n",
            " 4.022920e+03 4.423328e+03 5.963000e+02 2.134680e+02 2.474052e+03\n",
            " 1.354468e+03 2.605520e+02 3.149018e+03 4.306660e+02 7.425780e+02\n",
            " 2.853792e+03 3.906090e+02 1.926138e+03 3.737640e+03 1.863964e+03\n",
            " 2.490460e+02 4.208504e+03 1.855464e+03 7.924600e+02 3.736208e+03\n",
            " 3.651920e+03 6.323880e+02 4.840320e+03 3.408680e+03 5.046720e+02\n",
            " 8.058180e+02 6.895480e+02 3.566152e+03 2.931240e+02 1.049624e+03\n",
            " 1.259618e+03 7.141560e+02 1.000000e-02 6.815000e+01 1.860340e+02\n",
            " 3.000000e-03 2.343928e+03 5.792840e+02 3.371016e+03 3.908280e+02\n",
            " 1.025458e+03 2.022000e+02 2.511680e+02 4.105580e+02 1.405316e+03\n",
            " 4.363552e+03 2.818200e+02 6.487476e+03 5.361008e+03 7.126072e+03\n",
            " 2.210040e+02 2.006540e+02 5.060600e+02 7.768400e+02 3.515880e+02\n",
            " 1.116200e+02 6.573780e+03 1.964416e+03 1.988862e+03 2.581512e+03\n",
            " 6.409180e+02 2.184176e+03 2.435456e+03 5.139280e+02 6.649200e+02\n",
            " 2.320330e+03 7.974000e+02 4.288832e+03 2.339528e+03 1.674608e+03\n",
            " 1.113792e+03 9.630780e+02 7.324700e+02 2.087526e+03 2.608400e+03\n",
            " 3.405440e+02 2.104264e+03 1.173952e+03 5.576140e+03 1.263880e+03\n",
            " 1.723280e+03 3.016438e+03 3.809792e+03 1.078712e+03 2.972688e+03\n",
            " 2.441008e+03 1.927200e+03 4.166296e+03 5.617880e+02 5.294720e+02\n",
            " 5.854520e+02 1.464940e+03 4.177780e+02 1.372432e+03 5.211040e+02\n",
            " 6.739840e+02 2.265644e+03 2.400000e-02 5.547280e+02 3.236920e+02\n",
            " 5.879004e+03 2.946720e+02 2.983284e+03 3.038656e+03 1.231328e+03\n",
            " 1.149632e+03 4.463760e+02 4.494540e+02 3.343600e+02 1.122846e+03\n",
            " 2.121442e+03 1.029336e+03 1.773120e+03 1.841862e+03 1.403712e+03\n",
            " 1.361896e+03 5.537600e+02 2.258832e+03 3.460040e+02 6.231300e+02\n",
            " 4.129760e+02 1.163714e+03 1.801300e+03 1.384715e+03 2.366384e+03\n",
            " 4.310920e+02 1.747912e+03 1.982432e+03 1.541364e+03 2.285720e+03\n",
            " 1.010364e+03 2.106888e+03 5.806380e+02 1.317056e+03 3.004800e+02\n",
            " 9.522020e+02 2.376074e+03 2.929862e+03 4.390920e+02 1.823248e+03\n",
            " 1.936112e+03 9.778540e+02 1.070416e+03 2.528046e+03 3.210212e+03\n",
            " 1.384410e+03 3.822320e+02 1.289020e+03 1.132660e+03 2.344808e+03\n",
            " 1.484048e+03 3.090088e+03 3.666304e+03 7.821400e+02 4.215960e+02\n",
            " 1.091524e+03 3.772040e+02 1.022220e+02 1.362940e+02 6.000000e-03\n",
            " 5.897360e+02 3.765392e+03 1.757928e+03 5.966640e+02 2.554624e+03\n",
            " 4.277008e+03 1.011828e+03 5.413360e+02 1.806542e+03 2.293440e+02\n",
            " 8.530280e+02 7.143320e+02 1.425352e+03 1.718864e+03 3.232240e+02\n",
            " 1.985136e+03 2.990256e+03 1.788121e+03 3.036348e+03 7.018560e+02\n",
            " 2.107672e+03 2.846240e+02 7.718780e+02 2.725820e+02 1.107400e+02\n",
            " 1.452944e+03 1.409100e+02 1.408784e+03 3.079230e+02 1.683416e+03\n",
            " 1.774800e+03 7.752640e+02 6.473760e+02 2.842316e+03 2.325744e+03\n",
            " 5.538950e+02 3.523676e+03 2.673090e+03 3.021414e+03 2.701538e+03\n",
            " 7.825020e+02 4.873136e+03 1.098696e+03 2.080952e+03 9.229400e+02\n",
            " 4.632080e+02 9.693050e+02 7.798480e+02 1.339440e+02 9.710520e+02\n",
            " 3.615660e+02 4.230640e+03 5.545090e+02 4.269300e+02 8.003680e+02\n",
            " 2.362200e+03 5.417920e+02 6.402920e+02 2.315640e+02 5.315600e+01\n",
            " 5.341340e+02 2.957992e+03 1.479140e+03 1.160496e+03 9.155920e+02\n",
            " 1.451000e+02 1.026440e+02 1.205436e+03 1.143606e+03 2.378160e+03\n",
            " 5.147326e+03 2.287194e+03 3.211760e+03 2.475280e+03 2.462656e+03\n",
            " 3.812120e+03 3.340472e+03 1.009920e+02 2.955240e+02 2.635864e+03\n",
            " 1.385404e+03 1.721648e+03 1.727712e+03 1.716632e+03 4.230200e+02\n",
            " 8.167760e+02 7.223040e+02 7.088080e+02 6.027240e+02 7.165180e+02\n",
            " 1.314170e+03 6.088720e+02 3.212008e+03 3.557800e+02 8.804300e+02\n",
            " 2.221124e+03 5.245960e+02 1.486344e+03 1.539588e+03 2.051752e+03\n",
            " 4.073920e+02]\n",
            "sector ['Consumer' 'Trade' 'Consumer Loan' 'Agriculture' 'Production']\n",
            "marital_status ['Married' 'Divorced' 'Single' 'Widow/Widower']\n",
            "district ['Bokhtar' 'Hissor' 'Khujand' 'Tursunzoda' 'Dushanbe' 'Asht' 'Tojikobod'\n",
            " 'Istravshan' 'Rudaki' 'Vahdat' 'Farkhor' 'B.Gafurov' 'Dangara'\n",
            " 'Istaravshan' 'Panjakent' 'Shahrinav' 'Kulob' 'Isfara' 'Hamadoni' 'Jomi'\n",
            " 'Hisor' 'Ayni' 'Rasht' 'J.Rasulov' 'Yovon' 'Buston' 'Nurobod' 'Vose'\n",
            " 'Spitamen' 'Lakhsh' 'Muminobod' 'Temurmalik']\n"
          ]
        }
      ],
      "source": [
        "for i in range(len(list(data.columns))):\n",
        "  print(list(data.columns)[i-1], data[list(data.columns)[i-1]].unique())"
      ]
    },
    {
      "cell_type": "code",
      "execution_count": 7,
      "metadata": {
        "id": "wWTUAzmLEfNz"
      },
      "outputs": [],
      "source": [
        "data = data.replace({'is_bad_credit': {0:1, 1:0}})\n",
        "data.rename(columns={'is_bad_credit': 'is_good_credit'}, inplace=True)"
      ]
    },
    {
      "cell_type": "code",
      "execution_count": 8,
      "metadata": {
        "colab": {
          "base_uri": "https://localhost:8080/",
          "height": 282
        },
        "id": "G3MYpsIGEfKT",
        "outputId": "d1f7b9ca-18df-4a62-a67e-0f8d0e2f00fe"
      },
      "outputs": [
        {
          "output_type": "execute_result",
          "data": {
            "text/plain": [
              "<matplotlib.axes._subplots.AxesSubplot at 0x7f95f1f4d760>"
            ]
          },
          "metadata": {},
          "execution_count": 8
        },
        {
          "output_type": "display_data",
          "data": {
            "text/plain": [
              "<Figure size 432x288 with 1 Axes>"
            ],
            "image/png": "[encoded data removed]"
          },
          "metadata": {
            "needs_background": "light"
          }
        }
      ],
      "source": [
        "data['is_good_credit'].hist(orientation='horizontal', color='red')"
      ]
    },
    {
      "cell_type": "code",
      "execution_count": 9,
      "metadata": {
        "id": "N5K7wL8NEfEX"
      },
      "outputs": [],
      "source": [
        "data['sector'] = LabelEncoder().fit_transform(data['sector'])\n",
        "data['marital_status'] = LabelEncoder().fit_transform(data['marital_status'])\n",
        "data['district'] = LabelEncoder().fit_transform(data['district'])"
      ]
    },
    {
      "cell_type": "code",
      "execution_count": 10,
      "metadata": {
        "id": "DLMnNQICE90P"
      },
      "outputs": [],
      "source": [
        "X = data.drop(['is_good_credit'], axis = 1)\n",
        "y = data['is_good_credit']"
      ]
    },
    {
      "cell_type": "code",
      "execution_count": 11,
      "metadata": {
        "id": "EYPjnjrwF9oN"
      },
      "outputs": [],
      "source": [
        "X_norm = MinMaxScaler().fit_transform(X) "
      ]
    },
    {
      "cell_type": "code",
      "execution_count": 12,
      "metadata": {
        "id": "QeITOwCpGIMC"
      },
      "outputs": [],
      "source": [
        "X_norm = pd.DataFrame(data = X_norm, columns = list(X.columns))"
      ]
    },
    {
      "cell_type": "code",
      "execution_count": null,
      "metadata": {
        "colab": {
          "base_uri": "https://localhost:8080/",
          "height": 424
        },
        "id": "H-HYwhMNGiXo",
        "outputId": "d308a132-d7d2-4fb4-9cbc-0e839daf5f75"
      },
      "outputs": [
        {
          "output_type": "execute_result",
          "data": {
            "text/plain": [
              "           age  gender  amount_tjs  duration  int_rate  credit_history_count  \\\n",
              "0     0.723404     0.0    0.134598  0.363636   0.75000                0.0000   \n",
              "1     0.468085     0.0    0.389128  0.454545   0.75000                0.0625   \n",
              "2     0.553191     0.0    0.083692  0.272727   0.62500                0.0625   \n",
              "3     0.361702     1.0    0.328041  0.636364   0.78125                0.0000   \n",
              "4     0.085106     1.0    0.226229  0.636364   0.68750                0.0000   \n",
              "...        ...     ...         ...       ...       ...                   ...   \n",
              "2664  0.595745     1.0    0.490940  0.272727   0.75000                0.0625   \n",
              "2665  0.510638     0.0    0.109145  0.272727   0.62500                0.0000   \n",
              "2666  0.085106     1.0    0.236410  0.272727   0.62500                0.0000   \n",
              "2667  0.148936     0.0    0.287316  0.272727   0.75000                0.0625   \n",
              "2668  0.404255     1.0    0.389128  0.272727   0.56250                0.0000   \n",
              "\n",
              "      mon_remit  mon_payment  int_amount  sector  marital_status  district  \n",
              "0      0.427004     0.053646    0.066979    0.25        0.333333  0.096774  \n",
              "1      0.427004     0.125965    0.214095    0.25        0.333333  0.322581  \n",
              "2      0.427004     0.042031    0.029777    0.25        0.000000  0.516129  \n",
              "3      1.000000     0.084837    0.254796    0.25        0.333333  0.903226  \n",
              "4      0.193416     0.057390    0.156911    0.25        0.666667  0.193548  \n",
              "...         ...          ...         ...     ...             ...       ...  \n",
              "2664   0.232014     0.225232    0.179688    0.25        0.333333  0.387097  \n",
              "2665   0.232014     0.053191    0.037220    0.25        0.333333  0.677419  \n",
              "2666   0.232014     0.108991    0.074438    0.25        0.666667  0.193548  \n",
              "2667   0.232014     0.134095    0.107814    0.25        0.666667  0.193548  \n",
              "2668   0.232014     0.174113    0.106878    0.25        0.333333  0.193548  \n",
              "\n",
              "[2669 rows x 12 columns]"
            ],
            "text/html": [
              "\n",
              "  <div id=\"df-1adbe3a0-89e2-4da1-98a3-7a7fdb668300\">\n",
              "    <div class=\"colab-df-container\">\n",
              "      <div>\n",
              "<style scoped>\n",
              "    .dataframe tbody tr th:only-of-type {\n",
              "        vertical-align: middle;\n",
              "    }\n",
              "\n",
              "    .dataframe tbody tr th {\n",
              "        vertical-align: top;\n",
              "    }\n",
              "\n",
              "    .dataframe thead th {\n",
              "        text-align: right;\n",
              "    }\n",
              "</style>\n",
              "<table border=\"1\" class=\"dataframe\">\n",
              "  <thead>\n",
              "    <tr style=\"text-align: right;\">\n",
              "      <th></th>\n",
              "      <th>age</th>\n",
              "      <th>gender</th>\n",
              "      <th>amount_tjs</th>\n",
              "      <th>duration</th>\n",
              "      <th>int_rate</th>\n",
              "      <th>credit_history_count</th>\n",
              "      <th>mon_remit</th>\n",
              "      <th>mon_payment</th>\n",
              "      <th>int_amount</th>\n",
              "      <th>sector</th>\n",
              "      <th>marital_status</th>\n",
              "      <th>district</th>\n",
              "    </tr>\n",
              "  </thead>\n",
              "  <tbody>\n",
              "    <tr>\n",
              "      <th>0</th>\n",
              "      <td>0.723404</td>\n",
              "      <td>0.0</td>\n",
              "      <td>0.134598</td>\n",
              "      <td>0.363636</td>\n",
              "      <td>0.75000</td>\n",
              "      <td>0.0000</td>\n",
              "      <td>0.427004</td>\n",
              "      <td>0.053646</td>\n",
              "      <td>0.066979</td>\n",
              "      <td>0.25</td>\n",
              "      <td>0.333333</td>\n",
              "      <td>0.096774</td>\n",
              "    </tr>\n",
              "    <tr>\n",
              "      <th>1</th>\n",
              "      <td>0.468085</td>\n",
              "      <td>0.0</td>\n",
              "      <td>0.389128</td>\n",
              "      <td>0.454545</td>\n",
              "      <td>0.75000</td>\n",
              "      <td>0.0625</td>\n",
              "      <td>0.427004</td>\n",
              "      <td>0.125965</td>\n",
              "      <td>0.214095</td>\n",
              "      <td>0.25</td>\n",
              "      <td>0.333333</td>\n",
              "      <td>0.322581</td>\n",
              "    </tr>\n",
              "    <tr>\n",
              "      <th>2</th>\n",
              "      <td>0.553191</td>\n",
              "      <td>0.0</td>\n",
              "      <td>0.083692</td>\n",
              "      <td>0.272727</td>\n",
              "      <td>0.62500</td>\n",
              "      <td>0.0625</td>\n",
              "      <td>0.427004</td>\n",
              "      <td>0.042031</td>\n",
              "      <td>0.029777</td>\n",
              "      <td>0.25</td>\n",
              "      <td>0.000000</td>\n",
              "      <td>0.516129</td>\n",
              "    </tr>\n",
              "    <tr>\n",
              "      <th>3</th>\n",
              "      <td>0.361702</td>\n",
              "      <td>1.0</td>\n",
              "      <td>0.328041</td>\n",
              "      <td>0.636364</td>\n",
              "      <td>0.78125</td>\n",
              "      <td>0.0000</td>\n",
              "      <td>1.000000</td>\n",
              "      <td>0.084837</td>\n",
              "      <td>0.254796</td>\n",
              "      <td>0.25</td>\n",
              "      <td>0.333333</td>\n",
              "      <td>0.903226</td>\n",
              "    </tr>\n",
              "    <tr>\n",
              "      <th>4</th>\n",
              "      <td>0.085106</td>\n",
              "      <td>1.0</td>\n",
              "      <td>0.226229</td>\n",
              "      <td>0.636364</td>\n",
              "      <td>0.68750</td>\n",
              "      <td>0.0000</td>\n",
              "      <td>0.193416</td>\n",
              "      <td>0.057390</td>\n",
              "      <td>0.156911</td>\n",
              "      <td>0.25</td>\n",
              "      <td>0.666667</td>\n",
              "      <td>0.193548</td>\n",
              "    </tr>\n",
              "    <tr>\n",
              "      <th>...</th>\n",
              "      <td>...</td>\n",
              "      <td>...</td>\n",
              "      <td>...</td>\n",
              "      <td>...</td>\n",
              "      <td>...</td>\n",
              "      <td>...</td>\n",
              "      <td>...</td>\n",
              "      <td>...</td>\n",
              "      <td>...</td>\n",
              "      <td>...</td>\n",
              "      <td>...</td>\n",
              "      <td>...</td>\n",
              "    </tr>\n",
              "    <tr>\n",
              "      <th>2664</th>\n",
              "      <td>0.595745</td>\n",
              "      <td>1.0</td>\n",
              "      <td>0.490940</td>\n",
              "      <td>0.272727</td>\n",
              "      <td>0.75000</td>\n",
              "      <td>0.0625</td>\n",
              "      <td>0.232014</td>\n",
              "      <td>0.225232</td>\n",
              "      <td>0.179688</td>\n",
              "      <td>0.25</td>\n",
              "      <td>0.333333</td>\n",
              "      <td>0.387097</td>\n",
              "    </tr>\n",
              "    <tr>\n",
              "      <th>2665</th>\n",
              "      <td>0.510638</td>\n",
              "      <td>0.0</td>\n",
              "      <td>0.109145</td>\n",
              "      <td>0.272727</td>\n",
              "      <td>0.62500</td>\n",
              "      <td>0.0000</td>\n",
              "      <td>0.232014</td>\n",
              "      <td>0.053191</td>\n",
              "      <td>0.037220</td>\n",
              "      <td>0.25</td>\n",
              "      <td>0.333333</td>\n",
              "      <td>0.677419</td>\n",
              "    </tr>\n",
              "    <tr>\n",
              "      <th>2666</th>\n",
              "      <td>0.085106</td>\n",
              "      <td>1.0</td>\n",
              "      <td>0.236410</td>\n",
              "      <td>0.272727</td>\n",
              "      <td>0.62500</td>\n",
              "      <td>0.0000</td>\n",
              "      <td>0.232014</td>\n",
              "      <td>0.108991</td>\n",
              "      <td>0.074438</td>\n",
              "      <td>0.25</td>\n",
              "      <td>0.666667</td>\n",
              "      <td>0.193548</td>\n",
              "    </tr>\n",
              "    <tr>\n",
              "      <th>2667</th>\n",
              "      <td>0.148936</td>\n",
              "      <td>0.0</td>\n",
              "      <td>0.287316</td>\n",
              "      <td>0.272727</td>\n",
              "      <td>0.75000</td>\n",
              "      <td>0.0625</td>\n",
              "      <td>0.232014</td>\n",
              "      <td>0.134095</td>\n",
              "      <td>0.107814</td>\n",
              "      <td>0.25</td>\n",
              "      <td>0.666667</td>\n",
              "      <td>0.193548</td>\n",
              "    </tr>\n",
              "    <tr>\n",
              "      <th>2668</th>\n",
              "      <td>0.404255</td>\n",
              "      <td>1.0</td>\n",
              "      <td>0.389128</td>\n",
              "      <td>0.272727</td>\n",
              "      <td>0.56250</td>\n",
              "      <td>0.0000</td>\n",
              "      <td>0.232014</td>\n",
              "      <td>0.174113</td>\n",
              "      <td>0.106878</td>\n",
              "      <td>0.25</td>\n",
              "      <td>0.333333</td>\n",
              "      <td>0.193548</td>\n",
              "    </tr>\n",
              "  </tbody>\n",
              "</table>\n",
              "<p>2669 rows × 12 columns</p>\n",
              "</div>\n",
              "      <button class=\"colab-df-convert\" onclick=\"convertToInteractive('df-1adbe3a0-89e2-4da1-98a3-7a7fdb668300')\"\n",
              "              title=\"Convert this dataframe to an interactive table.\"\n",
              "              style=\"display:none;\">\n",
              "        \n",
              "  <svg xmlns=\"http://www.w3.org/2000/svg\" height=\"24px\"viewBox=\"0 0 24 24\"\n",
              "       width=\"24px\">\n",
              "    <path d=\"M0 0h24v24H0V0z\" fill=\"none\"/>\n",
              "    <path d=\"M18.56 5.44l.94 2.06.94-2.06 2.06-.94-2.06-.94-.94-2.06-.94 2.06-2.06.94zm-11 1L8.5 8.5l.94-2.06 2.06-.94-2.06-.94L8.5 2.5l-.94 2.06-2.06.94zm10 10l.94 2.06.94-2.06 2.06-.94-2.06-.94-.94-2.06-.94 2.06-2.06.94z\"/><path d=\"M17.41 7.96l-1.37-1.37c-.4-.4-.92-.59-1.43-.59-.52 0-1.04.2-1.43.59L10.3 9.45l-7.72 7.72c-.78.78-.78 2.05 0 2.83L4 21.41c.39.39.9.59 1.41.59.51 0 1.02-.2 1.41-.59l7.78-7.78 2.81-2.81c.8-.78.8-2.07 0-2.86zM5.41 20L4 18.59l7.72-7.72 1.47 1.35L5.41 20z\"/>\n",
              "  </svg>\n",
              "      </button>\n",
              "      \n",
              "  <style>\n",
              "    .colab-df-container {\n",
              "      display:flex;\n",
              "      flex-wrap:wrap;\n",
              "      gap: 12px;\n",
              "    }\n",
              "\n",
              "    .colab-df-convert {\n",
              "      background-color: #E8F0FE;\n",
              "      border: none;\n",
              "      border-radius: 50%;\n",
              "      cursor: pointer;\n",
              "      display: none;\n",
              "      fill: #1967D2;\n",
              "      height: 32px;\n",
              "      padding: 0 0 0 0;\n",
              "      width: 32px;\n",
              "    }\n",
              "\n",
              "    .colab-df-convert:hover {\n",
              "      background-color: #E2EBFA;\n",
              "      box-shadow: 0px 1px 2px rgba(60, 64, 67, 0.3), 0px 1px 3px 1px rgba(60, 64, 67, 0.15);\n",
              "      fill: #174EA6;\n",
              "    }\n",
              "\n",
              "    [theme=dark] .colab-df-convert {\n",
              "      background-color: #3B4455;\n",
              "      fill: #D2E3FC;\n",
              "    }\n",
              "\n",
              "    [theme=dark] .colab-df-convert:hover {\n",
              "      background-color: #434B5C;\n",
              "      box-shadow: 0px 1px 3px 1px rgba(0, 0, 0, 0.15);\n",
              "      filter: drop-shadow(0px 1px 2px rgba(0, 0, 0, 0.3));\n",
              "      fill: #FFFFFF;\n",
              "    }\n",
              "  </style>\n",
              "\n",
              "      <script>\n",
              "        const buttonEl =\n",
              "          document.querySelector('#df-1adbe3a0-89e2-4da1-98a3-7a7fdb668300 button.colab-df-convert');\n",
              "        buttonEl.style.display =\n",
              "          google.colab.kernel.accessAllowed ? 'block' : 'none';\n",
              "\n",
              "        async function convertToInteractive(key) {\n",
              "          const element = document.querySelector('#df-1adbe3a0-89e2-4da1-98a3-7a7fdb668300');\n",
              "          const dataTable =\n",
              "            await google.colab.kernel.invokeFunction('convertToInteractive',\n",
              "                                                     [key], {});\n",
              "          if (!dataTable) return;\n",
              "\n",
              "          const docLinkHtml = 'Like what you see? Visit the ' +\n",
              "            '<a target=\"_blank\" href=https://colab.research.google.com/notebooks/data_table.ipynb>data table notebook</a>'\n",
              "            + ' to learn more about interactive tables.';\n",
              "          element.innerHTML = '';\n",
              "          dataTable['output_type'] = 'display_data';\n",
              "          await google.colab.output.renderOutput(dataTable, element);\n",
              "          const docLink = document.createElement('div');\n",
              "          docLink.innerHTML = docLinkHtml;\n",
              "          element.appendChild(docLink);\n",
              "        }\n",
              "      </script>\n",
              "    </div>\n",
              "  </div>\n",
              "  "
            ]
          },
          "metadata": {},
          "execution_count": 107
        }
      ],
      "source": [
        "X_norm"
      ]
    },
    {
      "cell_type": "code",
      "execution_count": 13,
      "metadata": {
        "id": "Q-rGHnRvGsW-"
      },
      "outputs": [],
      "source": [
        "ovs = RandomOverSampler(random_state = 42)\n",
        "X_res, y_res = ovs.fit_resample(X_norm, y)"
      ]
    },
    {
      "cell_type": "code",
      "execution_count": 14,
      "metadata": {
        "colab": {
          "base_uri": "https://localhost:8080/"
        },
        "id": "kVeMzWVVHCCE",
        "outputId": "aeaeb554-9b47-431f-916c-33afbdfa11b7"
      },
      "outputs": [
        {
          "output_type": "stream",
          "name": "stdout",
          "text": [
            "Original dataset shape Counter({1: 2531, 0: 138})\n",
            "Resampled dataset shape Counter({1: 2531, 0: 2531})\n"
          ]
        }
      ],
      "source": [
        "from collections import Counter\n",
        "print('Original dataset shape {}'.format(Counter(y)))\n",
        "print('Resampled dataset shape {}'.format(Counter(y_res)))"
      ]
    },
    {
      "cell_type": "code",
      "source": [
        "from sklearn.utils import shuffle\n",
        "X_res, y_res = shuffle(X_res, y_res)"
      ],
      "metadata": {
        "id": "vjlVBHh5emxQ"
      },
      "execution_count": 15,
      "outputs": []
    },
    {
      "cell_type": "code",
      "source": [
        "X_res.reset_index(drop=True, inplace=True)\n",
        "y_res.reset_index(drop=True, inplace=True)"
      ],
      "metadata": {
        "id": "KhCFKsrHem1X"
      },
      "execution_count": 16,
      "outputs": []
    },
    {
      "cell_type": "code",
      "source": [
        "X_train_res, X_test_res, y_train_res, y_test_res = train_test_split(X_res, y_res, test_size = 0.25)"
      ],
      "metadata": {
        "id": "Pg3nTNvaem4c"
      },
      "execution_count": 17,
      "outputs": []
    },
    {
      "cell_type": "code",
      "source": [
        "def feat_imp(model):\n",
        "  importances=model.feature_importances_\n",
        "  plt.figure(figsize = (20, 5))\n",
        "  d_frame =  pd.DataFrame({'feat': list(X_norm.columns),\n",
        "              'coef': model.feature_importances_.flatten()}).sort_values(by='coef', ascending=False).reset_index().drop(['index'], axis = 1)\n",
        "  return d_frame, plt.bar(X_norm.columns, model.feature_importances_)"
      ],
      "metadata": {
        "id": "-hODUYOTjp3k"
      },
      "execution_count": 21,
      "outputs": []
    },
    {
      "cell_type": "code",
      "source": [
        "model_adc = AdaBoostClassifier()\n",
        "model_adc.fit(X_train_res, y_train_res)\n",
        "print('accuracy_score for model_adc is {}'.format(accuracy_score(y, model_adc.predict(X_norm))))\n",
        "print('confusion_matrix for model_adc is {}'.format(confusion_matrix(y, model_adc.predict(X_norm))))\n",
        "print('roc_auc_score for model_adc is {}'.format(roc_auc_score(y, model_adc.predict(X_norm))))\n",
        "print('sorted feature_importance dataframe of model_adc is {}'.format(feat_imp(model_adc)))\n"
      ],
      "metadata": {
        "colab": {
          "base_uri": "https://localhost:8080/",
          "height": 498
        },
        "id": "jyohSq1Hem9Z",
        "outputId": "b47fb571-c538-4bde-89d8-2713c2747044"
      },
      "execution_count": 22,
      "outputs": [
        {
          "output_type": "stream",
          "name": "stdout",
          "text": [
            "accuracy_score for model_adc is 0.793555638816036\n",
            "confusion_matrix for model_adc is [[ 114   24]\n",
            " [ 527 2004]]\n",
            "roc_auc_score for model_adc is 0.8089344304536787\n",
            "sorted feature_importance dataframe of model_adc is (                    feat  coef\n",
            "0             int_amount  0.24\n",
            "1              mon_remit  0.18\n",
            "2               district  0.16\n",
            "3             amount_tjs  0.14\n",
            "4            mon_payment  0.08\n",
            "5                    age  0.06\n",
            "6   credit_history_count  0.06\n",
            "7               int_rate  0.04\n",
            "8                 gender  0.02\n",
            "9               duration  0.02\n",
            "10                sector  0.00\n",
            "11        marital_status  0.00, <BarContainer object of 12 artists>)\n"
          ]
        },
        {
          "output_type": "display_data",
          "data": {
            "text/plain": [
              "<Figure size 1440x360 with 1 Axes>"
            ],
            "image/png": "[encoded data removed]"
          },
          "metadata": {
            "needs_background": "light"
          }
        }
      ]
    },
    {
      "cell_type": "code",
      "source": [
        "model_gbc = GradientBoostingClassifier()\n",
        "model_gbc.fit(X_train_res, y_train_res)\n",
        "print('accuracy_score for model_gbc is {}'.format(accuracy_score(y, model_gbc.predict(X_norm))))\n",
        "print('confusion_matrix for model_gbc is {}'.format(confusion_matrix(y, model_gbc.predict(X_norm))))\n",
        "print('roc_auc_score for model_gbc is {}'.format(roc_auc_score(y, model_gbc.predict(X_norm))))\n",
        "print('sorted feature_importance dataframe of model_gbc is {}'.format(feat_imp(model_gbc)))\n"
      ],
      "metadata": {
        "colab": {
          "base_uri": "https://localhost:8080/",
          "height": 497
        },
        "id": "84D2wUGxfz1f",
        "outputId": "cf0042ad-998c-4fa3-da3c-ec5c2ae93c1a"
      },
      "execution_count": 23,
      "outputs": [
        {
          "output_type": "stream",
          "name": "stdout",
          "text": [
            "accuracy_score for model_gbc is 0.8666167103784189\n",
            "confusion_matrix for model_gbc is [[ 129    9]\n",
            " [ 347 2184]]\n",
            "roc_auc_score for model_gbc is 0.8988413241028635\n",
            "sorted feature_importance dataframe of model_gbc is (                    feat      coef\n",
            "0              mon_remit  0.214404\n",
            "1             int_amount  0.127302\n",
            "2               district  0.122626\n",
            "3             amount_tjs  0.107474\n",
            "4            mon_payment  0.099480\n",
            "5   credit_history_count  0.078641\n",
            "6                 gender  0.076731\n",
            "7                    age  0.072966\n",
            "8               int_rate  0.060113\n",
            "9               duration  0.018944\n",
            "10        marital_status  0.016693\n",
            "11                sector  0.004627, <BarContainer object of 12 artists>)\n"
          ]
        },
        {
          "output_type": "display_data",
          "data": {
            "text/plain": [
              "<Figure size 1440x360 with 1 Axes>"
            ],
            "image/png": "[encoded data removed]"
          },
          "metadata": {
            "needs_background": "light"
          }
        }
      ]
    },
    {
      "cell_type": "code",
      "source": [
        "model_bc = BaggingClassifier()\n",
        "model_bc.fit(X_train_res, y_train_res)\n",
        "print('accuracy_score for model_bc is {}'.format(accuracy_score(y, model_bc.predict(X_norm))))\n",
        "print('confusion_matrix for model_bc is {}'.format(confusion_matrix(y, model_bc.predict(X_norm))))\n",
        "print('roc_auc_score for model_bc is {}'.format(roc_auc_score(y, model_bc.predict(X_norm))))"
      ],
      "metadata": {
        "colab": {
          "base_uri": "https://localhost:8080/"
        },
        "id": "pzWziej8fzyc",
        "outputId": "cdbcffd4-a904-4ba6-8f61-1d43c1420498"
      },
      "execution_count": 24,
      "outputs": [
        {
          "output_type": "stream",
          "name": "stdout",
          "text": [
            "accuracy_score for model_bc is 0.9842637692019482\n",
            "confusion_matrix for model_bc is [[ 138    0]\n",
            " [  42 2489]]\n",
            "roc_auc_score for model_bc is 0.99170288423548\n"
          ]
        }
      ]
    },
    {
      "cell_type": "code",
      "source": [
        "model_cbct = CatBoostClassifier()\n",
        "model_cbct.fit(X_train_res, y_train_res)\n",
        "print('accuracy_score for model_cbct is {}'.format(accuracy_score(y, model_cbct.predict(X_norm))))\n",
        "print('confusion_matrix for model_cbct is {}'.format(confusion_matrix(y, model_cbct.predict(X_norm))))\n",
        "print('roc_auc_score for model_cbct is {}'.format(roc_auc_score(y, model_cbct.predict(X_norm))))\n",
        "print('sorted feature_importance dataframe of model_cbct is {}'.format(feat_imp(model_cbct)))"
      ],
      "metadata": {
        "colab": {
          "base_uri": "https://localhost:8080/",
          "height": 1000
        },
        "id": "J79w-ZupiZO8",
        "outputId": "a3934ce4-b645-4823-d1fd-670cc4a762f1"
      },
      "execution_count": 25,
      "outputs": [
        {
          "output_type": "stream",
          "name": "stdout",
          "text": [
            "Learning rate set to 0.01821\n",
            "0:\tlearn: 0.6846231\ttotal: 50.9ms\tremaining: 50.8s\n",
            "1:\tlearn: 0.6794504\ttotal: 53.6ms\tremaining: 26.8s\n",
            "2:\tlearn: 0.6714247\ttotal: 56.6ms\tremaining: 18.8s\n",
            "3:\tlearn: 0.6654316\ttotal: 59.4ms\tremaining: 14.8s\n",
            "4:\tlearn: 0.6580495\ttotal: 62.2ms\tremaining: 12.4s\n",
            "5:\tlearn: 0.6501796\ttotal: 65.3ms\tremaining: 10.8s\n",
            "6:\tlearn: 0.6432824\ttotal: 68.1ms\tremaining: 9.67s\n",
            "7:\tlearn: 0.6368519\ttotal: 71ms\tremaining: 8.8s\n",
            "8:\tlearn: 0.6320538\ttotal: 73.8ms\tremaining: 8.12s\n",
            "9:\tlearn: 0.6269899\ttotal: 76.6ms\tremaining: 7.58s\n",
            "10:\tlearn: 0.6200262\ttotal: 79.5ms\tremaining: 7.15s\n",
            "11:\tlearn: 0.6151595\ttotal: 82.2ms\tremaining: 6.76s\n",
            "12:\tlearn: 0.6088579\ttotal: 84.9ms\tremaining: 6.45s\n",
            "13:\tlearn: 0.6043281\ttotal: 87.6ms\tremaining: 6.17s\n",
            "14:\tlearn: 0.5982463\ttotal: 90.4ms\tremaining: 5.93s\n",
            "15:\tlearn: 0.5921674\ttotal: 93.3ms\tremaining: 5.74s\n",
            "16:\tlearn: 0.5885947\ttotal: 96.1ms\tremaining: 5.56s\n",
            "17:\tlearn: 0.5829980\ttotal: 98.9ms\tremaining: 5.4s\n",
            "18:\tlearn: 0.5775960\ttotal: 102ms\tremaining: 5.26s\n",
            "19:\tlearn: 0.5736043\ttotal: 105ms\tremaining: 5.14s\n",
            "20:\tlearn: 0.5685492\ttotal: 108ms\tremaining: 5.02s\n",
            "21:\tlearn: 0.5642257\ttotal: 111ms\tremaining: 4.91s\n",
            "22:\tlearn: 0.5590642\ttotal: 113ms\tremaining: 4.82s\n",
            "23:\tlearn: 0.5551132\ttotal: 116ms\tremaining: 4.72s\n",
            "24:\tlearn: 0.5512238\ttotal: 119ms\tremaining: 4.63s\n",
            "25:\tlearn: 0.5482210\ttotal: 122ms\tremaining: 4.57s\n",
            "26:\tlearn: 0.5458313\ttotal: 125ms\tremaining: 4.52s\n",
            "27:\tlearn: 0.5408993\ttotal: 129ms\tremaining: 4.46s\n",
            "28:\tlearn: 0.5373792\ttotal: 131ms\tremaining: 4.4s\n",
            "29:\tlearn: 0.5325873\ttotal: 134ms\tremaining: 4.33s\n",
            "30:\tlearn: 0.5296128\ttotal: 137ms\tremaining: 4.28s\n",
            "31:\tlearn: 0.5262946\ttotal: 140ms\tremaining: 4.22s\n",
            "32:\tlearn: 0.5229937\ttotal: 143ms\tremaining: 4.17s\n",
            "33:\tlearn: 0.5190724\ttotal: 145ms\tremaining: 4.12s\n",
            "34:\tlearn: 0.5158981\ttotal: 148ms\tremaining: 4.08s\n",
            "35:\tlearn: 0.5128167\ttotal: 151ms\tremaining: 4.04s\n",
            "36:\tlearn: 0.5080979\ttotal: 154ms\tremaining: 4s\n",
            "37:\tlearn: 0.5050320\ttotal: 157ms\tremaining: 3.96s\n",
            "38:\tlearn: 0.5013152\ttotal: 159ms\tremaining: 3.92s\n",
            "39:\tlearn: 0.4977971\ttotal: 162ms\tremaining: 3.88s\n",
            "40:\tlearn: 0.4952932\ttotal: 165ms\tremaining: 3.85s\n",
            "41:\tlearn: 0.4928113\ttotal: 167ms\tremaining: 3.82s\n",
            "42:\tlearn: 0.4888572\ttotal: 170ms\tremaining: 3.79s\n",
            "43:\tlearn: 0.4842217\ttotal: 173ms\tremaining: 3.76s\n",
            "44:\tlearn: 0.4819836\ttotal: 176ms\tremaining: 3.73s\n",
            "45:\tlearn: 0.4793810\ttotal: 179ms\tremaining: 3.7s\n",
            "46:\tlearn: 0.4773750\ttotal: 182ms\tremaining: 3.68s\n",
            "47:\tlearn: 0.4752002\ttotal: 184ms\tremaining: 3.65s\n",
            "48:\tlearn: 0.4719882\ttotal: 189ms\tremaining: 3.66s\n",
            "49:\tlearn: 0.4690164\ttotal: 195ms\tremaining: 3.7s\n",
            "50:\tlearn: 0.4658383\ttotal: 197ms\tremaining: 3.67s\n",
            "51:\tlearn: 0.4630550\ttotal: 200ms\tremaining: 3.64s\n",
            "52:\tlearn: 0.4628529\ttotal: 201ms\tremaining: 3.6s\n",
            "53:\tlearn: 0.4607612\ttotal: 204ms\tremaining: 3.57s\n",
            "54:\tlearn: 0.4575892\ttotal: 207ms\tremaining: 3.55s\n",
            "55:\tlearn: 0.4552880\ttotal: 209ms\tremaining: 3.53s\n",
            "56:\tlearn: 0.4528974\ttotal: 213ms\tremaining: 3.52s\n",
            "57:\tlearn: 0.4507377\ttotal: 216ms\tremaining: 3.5s\n",
            "58:\tlearn: 0.4475677\ttotal: 219ms\tremaining: 3.48s\n",
            "59:\tlearn: 0.4455022\ttotal: 221ms\tremaining: 3.46s\n",
            "60:\tlearn: 0.4435570\ttotal: 224ms\tremaining: 3.45s\n",
            "61:\tlearn: 0.4408967\ttotal: 227ms\tremaining: 3.43s\n",
            "62:\tlearn: 0.4396347\ttotal: 230ms\tremaining: 3.42s\n",
            "63:\tlearn: 0.4374576\ttotal: 232ms\tremaining: 3.4s\n",
            "64:\tlearn: 0.4353019\ttotal: 235ms\tremaining: 3.38s\n",
            "65:\tlearn: 0.4334101\ttotal: 238ms\tremaining: 3.37s\n",
            "66:\tlearn: 0.4311719\ttotal: 241ms\tremaining: 3.36s\n",
            "67:\tlearn: 0.4283606\ttotal: 244ms\tremaining: 3.34s\n",
            "68:\tlearn: 0.4267828\ttotal: 246ms\tremaining: 3.33s\n",
            "69:\tlearn: 0.4250980\ttotal: 249ms\tremaining: 3.31s\n",
            "70:\tlearn: 0.4233733\ttotal: 252ms\tremaining: 3.3s\n",
            "71:\tlearn: 0.4216338\ttotal: 255ms\tremaining: 3.28s\n",
            "72:\tlearn: 0.4193192\ttotal: 257ms\tremaining: 3.27s\n",
            "73:\tlearn: 0.4172270\ttotal: 260ms\tremaining: 3.26s\n",
            "74:\tlearn: 0.4154088\ttotal: 263ms\tremaining: 3.24s\n",
            "75:\tlearn: 0.4136631\ttotal: 266ms\tremaining: 3.23s\n",
            "76:\tlearn: 0.4114698\ttotal: 269ms\tremaining: 3.22s\n",
            "77:\tlearn: 0.4095744\ttotal: 272ms\tremaining: 3.21s\n",
            "78:\tlearn: 0.4075174\ttotal: 276ms\tremaining: 3.22s\n",
            "79:\tlearn: 0.4061926\ttotal: 280ms\tremaining: 3.22s\n",
            "80:\tlearn: 0.4040569\ttotal: 287ms\tremaining: 3.25s\n",
            "81:\tlearn: 0.4014386\ttotal: 290ms\tremaining: 3.24s\n",
            "82:\tlearn: 0.3989814\ttotal: 293ms\tremaining: 3.23s\n",
            "83:\tlearn: 0.3962919\ttotal: 296ms\tremaining: 3.22s\n",
            "84:\tlearn: 0.3940645\ttotal: 299ms\tremaining: 3.22s\n",
            "85:\tlearn: 0.3920319\ttotal: 302ms\tremaining: 3.21s\n",
            "86:\tlearn: 0.3902289\ttotal: 308ms\tremaining: 3.23s\n",
            "87:\tlearn: 0.3881910\ttotal: 314ms\tremaining: 3.26s\n",
            "88:\tlearn: 0.3859398\ttotal: 319ms\tremaining: 3.27s\n",
            "89:\tlearn: 0.3844072\ttotal: 324ms\tremaining: 3.28s\n",
            "90:\tlearn: 0.3828050\ttotal: 327ms\tremaining: 3.27s\n",
            "91:\tlearn: 0.3806328\ttotal: 330ms\tremaining: 3.26s\n",
            "92:\tlearn: 0.3791479\ttotal: 333ms\tremaining: 3.25s\n",
            "93:\tlearn: 0.3776868\ttotal: 336ms\tremaining: 3.24s\n",
            "94:\tlearn: 0.3763872\ttotal: 339ms\tremaining: 3.23s\n",
            "95:\tlearn: 0.3751254\ttotal: 341ms\tremaining: 3.21s\n",
            "96:\tlearn: 0.3734898\ttotal: 344ms\tremaining: 3.2s\n",
            "97:\tlearn: 0.3724719\ttotal: 347ms\tremaining: 3.19s\n",
            "98:\tlearn: 0.3706403\ttotal: 350ms\tremaining: 3.19s\n",
            "99:\tlearn: 0.3691909\ttotal: 355ms\tremaining: 3.19s\n",
            "100:\tlearn: 0.3675367\ttotal: 358ms\tremaining: 3.19s\n",
            "101:\tlearn: 0.3661709\ttotal: 361ms\tremaining: 3.18s\n",
            "102:\tlearn: 0.3651005\ttotal: 365ms\tremaining: 3.18s\n",
            "103:\tlearn: 0.3637909\ttotal: 368ms\tremaining: 3.17s\n",
            "104:\tlearn: 0.3630568\ttotal: 372ms\tremaining: 3.17s\n",
            "105:\tlearn: 0.3614537\ttotal: 378ms\tremaining: 3.19s\n",
            "106:\tlearn: 0.3595222\ttotal: 381ms\tremaining: 3.18s\n",
            "107:\tlearn: 0.3583870\ttotal: 384ms\tremaining: 3.17s\n",
            "108:\tlearn: 0.3572965\ttotal: 387ms\tremaining: 3.16s\n",
            "109:\tlearn: 0.3556747\ttotal: 394ms\tremaining: 3.19s\n",
            "110:\tlearn: 0.3545366\ttotal: 400ms\tremaining: 3.21s\n",
            "111:\tlearn: 0.3536598\ttotal: 406ms\tremaining: 3.22s\n",
            "112:\tlearn: 0.3521594\ttotal: 410ms\tremaining: 3.21s\n",
            "113:\tlearn: 0.3507248\ttotal: 414ms\tremaining: 3.22s\n",
            "114:\tlearn: 0.3489605\ttotal: 418ms\tremaining: 3.22s\n",
            "115:\tlearn: 0.3475994\ttotal: 422ms\tremaining: 3.21s\n",
            "116:\tlearn: 0.3460357\ttotal: 424ms\tremaining: 3.2s\n",
            "117:\tlearn: 0.3446590\ttotal: 427ms\tremaining: 3.19s\n",
            "118:\tlearn: 0.3433882\ttotal: 430ms\tremaining: 3.18s\n",
            "119:\tlearn: 0.3415210\ttotal: 432ms\tremaining: 3.17s\n",
            "120:\tlearn: 0.3408195\ttotal: 435ms\tremaining: 3.16s\n",
            "121:\tlearn: 0.3396632\ttotal: 437ms\tremaining: 3.15s\n",
            "122:\tlearn: 0.3386710\ttotal: 440ms\tremaining: 3.14s\n",
            "123:\tlearn: 0.3377603\ttotal: 443ms\tremaining: 3.13s\n",
            "124:\tlearn: 0.3366573\ttotal: 447ms\tremaining: 3.13s\n",
            "125:\tlearn: 0.3353157\ttotal: 450ms\tremaining: 3.12s\n",
            "126:\tlearn: 0.3343528\ttotal: 453ms\tremaining: 3.11s\n",
            "127:\tlearn: 0.3330459\ttotal: 456ms\tremaining: 3.1s\n",
            "128:\tlearn: 0.3321602\ttotal: 459ms\tremaining: 3.1s\n",
            "129:\tlearn: 0.3310668\ttotal: 462ms\tremaining: 3.09s\n",
            "130:\tlearn: 0.3298278\ttotal: 465ms\tremaining: 3.08s\n",
            "131:\tlearn: 0.3284818\ttotal: 468ms\tremaining: 3.08s\n",
            "132:\tlearn: 0.3275697\ttotal: 471ms\tremaining: 3.07s\n",
            "133:\tlearn: 0.3269131\ttotal: 474ms\tremaining: 3.06s\n",
            "134:\tlearn: 0.3265591\ttotal: 476ms\tremaining: 3.05s\n",
            "135:\tlearn: 0.3253906\ttotal: 479ms\tremaining: 3.04s\n",
            "136:\tlearn: 0.3245372\ttotal: 482ms\tremaining: 3.04s\n",
            "137:\tlearn: 0.3231739\ttotal: 485ms\tremaining: 3.03s\n",
            "138:\tlearn: 0.3221113\ttotal: 488ms\tremaining: 3.02s\n",
            "139:\tlearn: 0.3214857\ttotal: 491ms\tremaining: 3.02s\n",
            "140:\tlearn: 0.3202288\ttotal: 494ms\tremaining: 3.01s\n",
            "141:\tlearn: 0.3192656\ttotal: 497ms\tremaining: 3s\n",
            "142:\tlearn: 0.3179036\ttotal: 500ms\tremaining: 3s\n",
            "143:\tlearn: 0.3166344\ttotal: 503ms\tremaining: 2.99s\n",
            "144:\tlearn: 0.3159094\ttotal: 506ms\tremaining: 2.98s\n",
            "145:\tlearn: 0.3152962\ttotal: 509ms\tremaining: 2.98s\n",
            "146:\tlearn: 0.3142269\ttotal: 512ms\tremaining: 2.97s\n",
            "147:\tlearn: 0.3129702\ttotal: 515ms\tremaining: 2.96s\n",
            "148:\tlearn: 0.3120099\ttotal: 518ms\tremaining: 2.96s\n",
            "149:\tlearn: 0.3110298\ttotal: 521ms\tremaining: 2.95s\n",
            "150:\tlearn: 0.3101428\ttotal: 524ms\tremaining: 2.94s\n",
            "151:\tlearn: 0.3089303\ttotal: 527ms\tremaining: 2.94s\n",
            "152:\tlearn: 0.3078705\ttotal: 530ms\tremaining: 2.93s\n",
            "153:\tlearn: 0.3074732\ttotal: 533ms\tremaining: 2.93s\n",
            "154:\tlearn: 0.3068296\ttotal: 536ms\tremaining: 2.92s\n",
            "155:\tlearn: 0.3064291\ttotal: 538ms\tremaining: 2.91s\n",
            "156:\tlearn: 0.3050720\ttotal: 541ms\tremaining: 2.9s\n",
            "157:\tlearn: 0.3039750\ttotal: 544ms\tremaining: 2.9s\n",
            "158:\tlearn: 0.3035371\ttotal: 547ms\tremaining: 2.89s\n",
            "159:\tlearn: 0.3028733\ttotal: 549ms\tremaining: 2.88s\n",
            "160:\tlearn: 0.3021623\ttotal: 554ms\tremaining: 2.89s\n",
            "161:\tlearn: 0.3013164\ttotal: 558ms\tremaining: 2.89s\n",
            "162:\tlearn: 0.3004675\ttotal: 563ms\tremaining: 2.89s\n",
            "163:\tlearn: 0.3000012\ttotal: 566ms\tremaining: 2.88s\n",
            "164:\tlearn: 0.2990073\ttotal: 568ms\tremaining: 2.88s\n",
            "165:\tlearn: 0.2981226\ttotal: 571ms\tremaining: 2.87s\n",
            "166:\tlearn: 0.2973332\ttotal: 573ms\tremaining: 2.86s\n",
            "167:\tlearn: 0.2965163\ttotal: 576ms\tremaining: 2.85s\n",
            "168:\tlearn: 0.2960996\ttotal: 578ms\tremaining: 2.84s\n",
            "169:\tlearn: 0.2954345\ttotal: 581ms\tremaining: 2.83s\n",
            "170:\tlearn: 0.2948426\ttotal: 583ms\tremaining: 2.83s\n",
            "171:\tlearn: 0.2939525\ttotal: 586ms\tremaining: 2.82s\n",
            "172:\tlearn: 0.2931054\ttotal: 588ms\tremaining: 2.81s\n",
            "173:\tlearn: 0.2923456\ttotal: 591ms\tremaining: 2.81s\n",
            "174:\tlearn: 0.2918302\ttotal: 594ms\tremaining: 2.8s\n",
            "175:\tlearn: 0.2908919\ttotal: 597ms\tremaining: 2.79s\n",
            "176:\tlearn: 0.2900767\ttotal: 599ms\tremaining: 2.79s\n",
            "177:\tlearn: 0.2885819\ttotal: 602ms\tremaining: 2.78s\n",
            "178:\tlearn: 0.2875420\ttotal: 605ms\tremaining: 2.77s\n",
            "179:\tlearn: 0.2869377\ttotal: 607ms\tremaining: 2.77s\n",
            "180:\tlearn: 0.2858968\ttotal: 610ms\tremaining: 2.76s\n",
            "181:\tlearn: 0.2849227\ttotal: 613ms\tremaining: 2.75s\n",
            "182:\tlearn: 0.2837240\ttotal: 616ms\tremaining: 2.75s\n",
            "183:\tlearn: 0.2831537\ttotal: 619ms\tremaining: 2.74s\n",
            "184:\tlearn: 0.2825651\ttotal: 621ms\tremaining: 2.74s\n",
            "185:\tlearn: 0.2816359\ttotal: 624ms\tremaining: 2.73s\n",
            "186:\tlearn: 0.2810845\ttotal: 627ms\tremaining: 2.73s\n",
            "187:\tlearn: 0.2806075\ttotal: 629ms\tremaining: 2.72s\n",
            "188:\tlearn: 0.2801904\ttotal: 632ms\tremaining: 2.71s\n",
            "189:\tlearn: 0.2795907\ttotal: 635ms\tremaining: 2.71s\n",
            "190:\tlearn: 0.2786368\ttotal: 637ms\tremaining: 2.7s\n",
            "191:\tlearn: 0.2778713\ttotal: 640ms\tremaining: 2.69s\n",
            "192:\tlearn: 0.2771900\ttotal: 643ms\tremaining: 2.69s\n",
            "193:\tlearn: 0.2766666\ttotal: 646ms\tremaining: 2.68s\n",
            "194:\tlearn: 0.2760290\ttotal: 648ms\tremaining: 2.68s\n",
            "195:\tlearn: 0.2753417\ttotal: 651ms\tremaining: 2.67s\n",
            "196:\tlearn: 0.2748652\ttotal: 654ms\tremaining: 2.67s\n",
            "197:\tlearn: 0.2743131\ttotal: 656ms\tremaining: 2.66s\n",
            "198:\tlearn: 0.2736562\ttotal: 659ms\tremaining: 2.65s\n",
            "199:\tlearn: 0.2728870\ttotal: 662ms\tremaining: 2.65s\n",
            "200:\tlearn: 0.2720449\ttotal: 665ms\tremaining: 2.64s\n",
            "201:\tlearn: 0.2717817\ttotal: 667ms\tremaining: 2.63s\n",
            "202:\tlearn: 0.2712856\ttotal: 670ms\tremaining: 2.63s\n",
            "203:\tlearn: 0.2707131\ttotal: 673ms\tremaining: 2.62s\n",
            "204:\tlearn: 0.2701913\ttotal: 675ms\tremaining: 2.62s\n",
            "205:\tlearn: 0.2697563\ttotal: 678ms\tremaining: 2.61s\n",
            "206:\tlearn: 0.2690933\ttotal: 681ms\tremaining: 2.61s\n",
            "207:\tlearn: 0.2678305\ttotal: 686ms\tremaining: 2.61s\n",
            "208:\tlearn: 0.2671877\ttotal: 689ms\tremaining: 2.61s\n",
            "209:\tlearn: 0.2668070\ttotal: 693ms\tremaining: 2.61s\n",
            "210:\tlearn: 0.2663506\ttotal: 698ms\tremaining: 2.61s\n",
            "211:\tlearn: 0.2659057\ttotal: 702ms\tremaining: 2.61s\n",
            "212:\tlearn: 0.2655958\ttotal: 706ms\tremaining: 2.61s\n",
            "213:\tlearn: 0.2651141\ttotal: 709ms\tremaining: 2.6s\n",
            "214:\tlearn: 0.2644683\ttotal: 714ms\tremaining: 2.6s\n",
            "215:\tlearn: 0.2632165\ttotal: 717ms\tremaining: 2.6s\n",
            "216:\tlearn: 0.2627260\ttotal: 720ms\tremaining: 2.6s\n",
            "217:\tlearn: 0.2622442\ttotal: 724ms\tremaining: 2.6s\n",
            "218:\tlearn: 0.2615870\ttotal: 729ms\tremaining: 2.6s\n",
            "219:\tlearn: 0.2612397\ttotal: 732ms\tremaining: 2.59s\n",
            "220:\tlearn: 0.2606386\ttotal: 735ms\tremaining: 2.59s\n",
            "221:\tlearn: 0.2601288\ttotal: 737ms\tremaining: 2.58s\n",
            "222:\tlearn: 0.2595604\ttotal: 743ms\tremaining: 2.59s\n",
            "223:\tlearn: 0.2587806\ttotal: 749ms\tremaining: 2.59s\n",
            "224:\tlearn: 0.2579366\ttotal: 757ms\tremaining: 2.6s\n",
            "225:\tlearn: 0.2575626\ttotal: 760ms\tremaining: 2.6s\n",
            "226:\tlearn: 0.2570060\ttotal: 763ms\tremaining: 2.6s\n",
            "227:\tlearn: 0.2559218\ttotal: 765ms\tremaining: 2.59s\n",
            "228:\tlearn: 0.2557221\ttotal: 768ms\tremaining: 2.58s\n",
            "229:\tlearn: 0.2553879\ttotal: 771ms\tremaining: 2.58s\n",
            "230:\tlearn: 0.2549998\ttotal: 773ms\tremaining: 2.57s\n",
            "231:\tlearn: 0.2539368\ttotal: 776ms\tremaining: 2.57s\n",
            "232:\tlearn: 0.2532153\ttotal: 779ms\tremaining: 2.56s\n",
            "233:\tlearn: 0.2525147\ttotal: 782ms\tremaining: 2.56s\n",
            "234:\tlearn: 0.2520522\ttotal: 785ms\tremaining: 2.55s\n",
            "235:\tlearn: 0.2517899\ttotal: 787ms\tremaining: 2.55s\n",
            "236:\tlearn: 0.2513984\ttotal: 790ms\tremaining: 2.54s\n",
            "237:\tlearn: 0.2508064\ttotal: 792ms\tremaining: 2.54s\n",
            "238:\tlearn: 0.2501837\ttotal: 795ms\tremaining: 2.53s\n",
            "239:\tlearn: 0.2495871\ttotal: 798ms\tremaining: 2.53s\n",
            "240:\tlearn: 0.2486961\ttotal: 801ms\tremaining: 2.52s\n",
            "241:\tlearn: 0.2482955\ttotal: 803ms\tremaining: 2.52s\n",
            "242:\tlearn: 0.2474398\ttotal: 808ms\tremaining: 2.52s\n",
            "243:\tlearn: 0.2468514\ttotal: 810ms\tremaining: 2.51s\n",
            "244:\tlearn: 0.2462484\ttotal: 813ms\tremaining: 2.5s\n",
            "245:\tlearn: 0.2458208\ttotal: 816ms\tremaining: 2.5s\n",
            "246:\tlearn: 0.2452415\ttotal: 819ms\tremaining: 2.5s\n",
            "247:\tlearn: 0.2444939\ttotal: 822ms\tremaining: 2.49s\n",
            "248:\tlearn: 0.2438901\ttotal: 824ms\tremaining: 2.48s\n",
            "249:\tlearn: 0.2437357\ttotal: 827ms\tremaining: 2.48s\n",
            "250:\tlearn: 0.2434256\ttotal: 830ms\tremaining: 2.48s\n",
            "251:\tlearn: 0.2430989\ttotal: 832ms\tremaining: 2.47s\n",
            "252:\tlearn: 0.2426640\ttotal: 835ms\tremaining: 2.46s\n",
            "253:\tlearn: 0.2420746\ttotal: 837ms\tremaining: 2.46s\n",
            "254:\tlearn: 0.2409761\ttotal: 840ms\tremaining: 2.45s\n",
            "255:\tlearn: 0.2402271\ttotal: 843ms\tremaining: 2.45s\n",
            "256:\tlearn: 0.2396921\ttotal: 846ms\tremaining: 2.44s\n",
            "257:\tlearn: 0.2391995\ttotal: 849ms\tremaining: 2.44s\n",
            "258:\tlearn: 0.2386611\ttotal: 852ms\tremaining: 2.44s\n",
            "259:\tlearn: 0.2378840\ttotal: 855ms\tremaining: 2.43s\n",
            "260:\tlearn: 0.2372844\ttotal: 858ms\tremaining: 2.43s\n",
            "261:\tlearn: 0.2367525\ttotal: 861ms\tremaining: 2.42s\n",
            "262:\tlearn: 0.2363959\ttotal: 864ms\tremaining: 2.42s\n",
            "263:\tlearn: 0.2359281\ttotal: 866ms\tremaining: 2.42s\n",
            "264:\tlearn: 0.2352652\ttotal: 870ms\tremaining: 2.41s\n",
            "265:\tlearn: 0.2344810\ttotal: 873ms\tremaining: 2.41s\n",
            "266:\tlearn: 0.2342111\ttotal: 878ms\tremaining: 2.41s\n",
            "267:\tlearn: 0.2338698\ttotal: 882ms\tremaining: 2.41s\n",
            "268:\tlearn: 0.2331552\ttotal: 885ms\tremaining: 2.4s\n",
            "269:\tlearn: 0.2327256\ttotal: 887ms\tremaining: 2.4s\n",
            "270:\tlearn: 0.2321483\ttotal: 890ms\tremaining: 2.39s\n",
            "271:\tlearn: 0.2316259\ttotal: 892ms\tremaining: 2.39s\n",
            "272:\tlearn: 0.2308998\ttotal: 897ms\tremaining: 2.39s\n",
            "273:\tlearn: 0.2301700\ttotal: 903ms\tremaining: 2.39s\n",
            "274:\tlearn: 0.2294011\ttotal: 906ms\tremaining: 2.39s\n",
            "275:\tlearn: 0.2289620\ttotal: 909ms\tremaining: 2.38s\n",
            "276:\tlearn: 0.2288165\ttotal: 912ms\tremaining: 2.38s\n",
            "277:\tlearn: 0.2281984\ttotal: 916ms\tremaining: 2.38s\n",
            "278:\tlearn: 0.2274259\ttotal: 920ms\tremaining: 2.38s\n",
            "279:\tlearn: 0.2268173\ttotal: 922ms\tremaining: 2.37s\n",
            "280:\tlearn: 0.2264053\ttotal: 928ms\tremaining: 2.37s\n",
            "281:\tlearn: 0.2258366\ttotal: 931ms\tremaining: 2.37s\n",
            "282:\tlearn: 0.2254687\ttotal: 933ms\tremaining: 2.36s\n",
            "283:\tlearn: 0.2252488\ttotal: 936ms\tremaining: 2.36s\n",
            "284:\tlearn: 0.2248496\ttotal: 939ms\tremaining: 2.36s\n",
            "285:\tlearn: 0.2242858\ttotal: 942ms\tremaining: 2.35s\n",
            "286:\tlearn: 0.2240901\ttotal: 945ms\tremaining: 2.35s\n",
            "287:\tlearn: 0.2236475\ttotal: 948ms\tremaining: 2.34s\n",
            "288:\tlearn: 0.2229332\ttotal: 952ms\tremaining: 2.34s\n",
            "289:\tlearn: 0.2224535\ttotal: 955ms\tremaining: 2.34s\n",
            "290:\tlearn: 0.2222602\ttotal: 957ms\tremaining: 2.33s\n",
            "291:\tlearn: 0.2214533\ttotal: 960ms\tremaining: 2.33s\n",
            "292:\tlearn: 0.2211259\ttotal: 963ms\tremaining: 2.32s\n",
            "293:\tlearn: 0.2207539\ttotal: 965ms\tremaining: 2.32s\n",
            "294:\tlearn: 0.2204190\ttotal: 968ms\tremaining: 2.31s\n",
            "295:\tlearn: 0.2201691\ttotal: 971ms\tremaining: 2.31s\n",
            "296:\tlearn: 0.2196817\ttotal: 973ms\tremaining: 2.3s\n",
            "297:\tlearn: 0.2192785\ttotal: 976ms\tremaining: 2.3s\n",
            "298:\tlearn: 0.2190637\ttotal: 979ms\tremaining: 2.29s\n",
            "299:\tlearn: 0.2187231\ttotal: 981ms\tremaining: 2.29s\n",
            "300:\tlearn: 0.2182617\ttotal: 984ms\tremaining: 2.29s\n",
            "301:\tlearn: 0.2175427\ttotal: 989ms\tremaining: 2.29s\n",
            "302:\tlearn: 0.2171300\ttotal: 992ms\tremaining: 2.28s\n",
            "303:\tlearn: 0.2165472\ttotal: 996ms\tremaining: 2.28s\n",
            "304:\tlearn: 0.2161648\ttotal: 1s\tremaining: 2.28s\n",
            "305:\tlearn: 0.2159369\ttotal: 1s\tremaining: 2.27s\n",
            "306:\tlearn: 0.2155116\ttotal: 1s\tremaining: 2.27s\n",
            "307:\tlearn: 0.2148643\ttotal: 1.01s\tremaining: 2.27s\n",
            "308:\tlearn: 0.2143712\ttotal: 1.01s\tremaining: 2.26s\n",
            "309:\tlearn: 0.2137694\ttotal: 1.01s\tremaining: 2.26s\n",
            "310:\tlearn: 0.2132824\ttotal: 1.02s\tremaining: 2.25s\n",
            "311:\tlearn: 0.2129658\ttotal: 1.02s\tremaining: 2.25s\n",
            "312:\tlearn: 0.2125433\ttotal: 1.02s\tremaining: 2.24s\n",
            "313:\tlearn: 0.2120687\ttotal: 1.02s\tremaining: 2.24s\n",
            "314:\tlearn: 0.2115421\ttotal: 1.03s\tremaining: 2.23s\n",
            "315:\tlearn: 0.2112270\ttotal: 1.03s\tremaining: 2.23s\n",
            "316:\tlearn: 0.2102040\ttotal: 1.03s\tremaining: 2.23s\n",
            "317:\tlearn: 0.2098193\ttotal: 1.04s\tremaining: 2.22s\n",
            "318:\tlearn: 0.2093046\ttotal: 1.04s\tremaining: 2.22s\n",
            "319:\tlearn: 0.2085966\ttotal: 1.04s\tremaining: 2.21s\n",
            "320:\tlearn: 0.2084613\ttotal: 1.04s\tremaining: 2.21s\n",
            "321:\tlearn: 0.2078094\ttotal: 1.05s\tremaining: 2.2s\n",
            "322:\tlearn: 0.2073151\ttotal: 1.05s\tremaining: 2.2s\n",
            "323:\tlearn: 0.2069200\ttotal: 1.05s\tremaining: 2.2s\n",
            "324:\tlearn: 0.2066038\ttotal: 1.05s\tremaining: 2.19s\n",
            "325:\tlearn: 0.2062703\ttotal: 1.06s\tremaining: 2.19s\n",
            "326:\tlearn: 0.2057360\ttotal: 1.06s\tremaining: 2.18s\n",
            "327:\tlearn: 0.2055349\ttotal: 1.06s\tremaining: 2.18s\n",
            "328:\tlearn: 0.2054128\ttotal: 1.06s\tremaining: 2.17s\n",
            "329:\tlearn: 0.2048883\ttotal: 1.07s\tremaining: 2.17s\n",
            "330:\tlearn: 0.2044794\ttotal: 1.07s\tremaining: 2.17s\n",
            "331:\tlearn: 0.2040533\ttotal: 1.07s\tremaining: 2.16s\n",
            "332:\tlearn: 0.2035496\ttotal: 1.08s\tremaining: 2.16s\n",
            "333:\tlearn: 0.2032897\ttotal: 1.08s\tremaining: 2.15s\n",
            "334:\tlearn: 0.2030297\ttotal: 1.08s\tremaining: 2.15s\n",
            "335:\tlearn: 0.2024514\ttotal: 1.09s\tremaining: 2.15s\n",
            "336:\tlearn: 0.2019487\ttotal: 1.1s\tremaining: 2.16s\n",
            "337:\tlearn: 0.2014954\ttotal: 1.1s\tremaining: 2.16s\n",
            "338:\tlearn: 0.2012073\ttotal: 1.1s\tremaining: 2.15s\n",
            "339:\tlearn: 0.2005369\ttotal: 1.11s\tremaining: 2.15s\n",
            "340:\tlearn: 0.1998023\ttotal: 1.11s\tremaining: 2.15s\n",
            "341:\tlearn: 0.1995627\ttotal: 1.12s\tremaining: 2.15s\n",
            "342:\tlearn: 0.1991367\ttotal: 1.12s\tremaining: 2.15s\n",
            "343:\tlearn: 0.1987354\ttotal: 1.13s\tremaining: 2.15s\n",
            "344:\tlearn: 0.1982435\ttotal: 1.13s\tremaining: 2.14s\n",
            "345:\tlearn: 0.1979309\ttotal: 1.13s\tremaining: 2.14s\n",
            "346:\tlearn: 0.1974778\ttotal: 1.13s\tremaining: 2.13s\n",
            "347:\tlearn: 0.1970993\ttotal: 1.14s\tremaining: 2.13s\n",
            "348:\tlearn: 0.1966841\ttotal: 1.14s\tremaining: 2.13s\n",
            "349:\tlearn: 0.1960880\ttotal: 1.14s\tremaining: 2.12s\n",
            "350:\tlearn: 0.1955057\ttotal: 1.14s\tremaining: 2.12s\n",
            "351:\tlearn: 0.1950458\ttotal: 1.15s\tremaining: 2.11s\n",
            "352:\tlearn: 0.1947407\ttotal: 1.15s\tremaining: 2.11s\n",
            "353:\tlearn: 0.1944525\ttotal: 1.15s\tremaining: 2.11s\n",
            "354:\tlearn: 0.1942243\ttotal: 1.16s\tremaining: 2.1s\n",
            "355:\tlearn: 0.1940135\ttotal: 1.16s\tremaining: 2.1s\n",
            "356:\tlearn: 0.1937272\ttotal: 1.17s\tremaining: 2.1s\n",
            "357:\tlearn: 0.1934165\ttotal: 1.17s\tremaining: 2.1s\n",
            "358:\tlearn: 0.1931639\ttotal: 1.17s\tremaining: 2.09s\n",
            "359:\tlearn: 0.1928726\ttotal: 1.18s\tremaining: 2.09s\n",
            "360:\tlearn: 0.1925525\ttotal: 1.18s\tremaining: 2.09s\n",
            "361:\tlearn: 0.1921272\ttotal: 1.18s\tremaining: 2.08s\n",
            "362:\tlearn: 0.1919632\ttotal: 1.18s\tremaining: 2.08s\n",
            "363:\tlearn: 0.1915095\ttotal: 1.19s\tremaining: 2.07s\n",
            "364:\tlearn: 0.1910375\ttotal: 1.19s\tremaining: 2.07s\n",
            "365:\tlearn: 0.1906406\ttotal: 1.19s\tremaining: 2.07s\n",
            "366:\tlearn: 0.1902866\ttotal: 1.2s\tremaining: 2.06s\n",
            "367:\tlearn: 0.1896819\ttotal: 1.2s\tremaining: 2.06s\n",
            "368:\tlearn: 0.1893144\ttotal: 1.2s\tremaining: 2.05s\n",
            "369:\tlearn: 0.1888773\ttotal: 1.2s\tremaining: 2.05s\n",
            "370:\tlearn: 0.1883292\ttotal: 1.21s\tremaining: 2.05s\n",
            "371:\tlearn: 0.1878505\ttotal: 1.21s\tremaining: 2.04s\n",
            "372:\tlearn: 0.1872570\ttotal: 1.21s\tremaining: 2.04s\n",
            "373:\tlearn: 0.1870446\ttotal: 1.22s\tremaining: 2.03s\n",
            "374:\tlearn: 0.1866926\ttotal: 1.22s\tremaining: 2.03s\n",
            "375:\tlearn: 0.1861174\ttotal: 1.22s\tremaining: 2.03s\n",
            "376:\tlearn: 0.1858828\ttotal: 1.22s\tremaining: 2.02s\n",
            "377:\tlearn: 0.1854183\ttotal: 1.23s\tremaining: 2.02s\n",
            "378:\tlearn: 0.1848847\ttotal: 1.23s\tremaining: 2.02s\n",
            "379:\tlearn: 0.1846462\ttotal: 1.24s\tremaining: 2.02s\n",
            "380:\tlearn: 0.1844176\ttotal: 1.24s\tremaining: 2.02s\n",
            "381:\tlearn: 0.1841020\ttotal: 1.25s\tremaining: 2.02s\n",
            "382:\tlearn: 0.1839412\ttotal: 1.25s\tremaining: 2.02s\n",
            "383:\tlearn: 0.1834197\ttotal: 1.25s\tremaining: 2.01s\n",
            "384:\tlearn: 0.1830675\ttotal: 1.26s\tremaining: 2.01s\n",
            "385:\tlearn: 0.1827651\ttotal: 1.26s\tremaining: 2s\n",
            "386:\tlearn: 0.1818361\ttotal: 1.26s\tremaining: 2s\n",
            "387:\tlearn: 0.1815362\ttotal: 1.26s\tremaining: 2s\n",
            "388:\tlearn: 0.1813355\ttotal: 1.27s\tremaining: 1.99s\n",
            "389:\tlearn: 0.1811070\ttotal: 1.27s\tremaining: 1.99s\n",
            "390:\tlearn: 0.1804966\ttotal: 1.27s\tremaining: 1.98s\n",
            "391:\tlearn: 0.1802396\ttotal: 1.28s\tremaining: 1.98s\n",
            "392:\tlearn: 0.1800449\ttotal: 1.28s\tremaining: 1.98s\n",
            "393:\tlearn: 0.1798041\ttotal: 1.28s\tremaining: 1.97s\n",
            "394:\tlearn: 0.1794734\ttotal: 1.28s\tremaining: 1.97s\n",
            "395:\tlearn: 0.1791820\ttotal: 1.29s\tremaining: 1.97s\n",
            "396:\tlearn: 0.1789711\ttotal: 1.29s\tremaining: 1.96s\n",
            "397:\tlearn: 0.1785435\ttotal: 1.29s\tremaining: 1.96s\n",
            "398:\tlearn: 0.1781318\ttotal: 1.3s\tremaining: 1.95s\n",
            "399:\tlearn: 0.1778009\ttotal: 1.3s\tremaining: 1.95s\n",
            "400:\tlearn: 0.1775273\ttotal: 1.3s\tremaining: 1.95s\n",
            "401:\tlearn: 0.1769227\ttotal: 1.31s\tremaining: 1.95s\n",
            "402:\tlearn: 0.1766371\ttotal: 1.33s\tremaining: 1.97s\n",
            "403:\tlearn: 0.1762215\ttotal: 1.33s\tremaining: 1.97s\n",
            "404:\tlearn: 0.1758102\ttotal: 1.33s\tremaining: 1.96s\n",
            "405:\tlearn: 0.1754727\ttotal: 1.34s\tremaining: 1.96s\n",
            "406:\tlearn: 0.1753319\ttotal: 1.34s\tremaining: 1.96s\n",
            "407:\tlearn: 0.1750922\ttotal: 1.34s\tremaining: 1.95s\n",
            "408:\tlearn: 0.1749138\ttotal: 1.35s\tremaining: 1.95s\n",
            "409:\tlearn: 0.1745955\ttotal: 1.35s\tremaining: 1.94s\n",
            "410:\tlearn: 0.1744151\ttotal: 1.35s\tremaining: 1.94s\n",
            "411:\tlearn: 0.1742021\ttotal: 1.36s\tremaining: 1.94s\n",
            "412:\tlearn: 0.1737487\ttotal: 1.36s\tremaining: 1.93s\n",
            "413:\tlearn: 0.1735445\ttotal: 1.36s\tremaining: 1.93s\n",
            "414:\tlearn: 0.1730385\ttotal: 1.36s\tremaining: 1.93s\n",
            "415:\tlearn: 0.1728532\ttotal: 1.37s\tremaining: 1.92s\n",
            "416:\tlearn: 0.1725351\ttotal: 1.37s\tremaining: 1.92s\n",
            "417:\tlearn: 0.1721720\ttotal: 1.37s\tremaining: 1.91s\n",
            "418:\tlearn: 0.1716970\ttotal: 1.38s\tremaining: 1.91s\n",
            "419:\tlearn: 0.1713884\ttotal: 1.38s\tremaining: 1.91s\n",
            "420:\tlearn: 0.1709627\ttotal: 1.38s\tremaining: 1.9s\n",
            "421:\tlearn: 0.1707686\ttotal: 1.39s\tremaining: 1.9s\n",
            "422:\tlearn: 0.1704907\ttotal: 1.39s\tremaining: 1.89s\n",
            "423:\tlearn: 0.1700722\ttotal: 1.39s\tremaining: 1.89s\n",
            "424:\tlearn: 0.1698763\ttotal: 1.39s\tremaining: 1.89s\n",
            "425:\tlearn: 0.1694715\ttotal: 1.4s\tremaining: 1.88s\n",
            "426:\tlearn: 0.1691734\ttotal: 1.4s\tremaining: 1.88s\n",
            "427:\tlearn: 0.1689855\ttotal: 1.4s\tremaining: 1.87s\n",
            "428:\tlearn: 0.1687443\ttotal: 1.4s\tremaining: 1.87s\n",
            "429:\tlearn: 0.1685728\ttotal: 1.41s\tremaining: 1.86s\n",
            "430:\tlearn: 0.1684553\ttotal: 1.41s\tremaining: 1.86s\n",
            "431:\tlearn: 0.1679872\ttotal: 1.41s\tremaining: 1.86s\n",
            "432:\tlearn: 0.1675864\ttotal: 1.41s\tremaining: 1.85s\n",
            "433:\tlearn: 0.1672838\ttotal: 1.42s\tremaining: 1.85s\n",
            "434:\tlearn: 0.1668669\ttotal: 1.42s\tremaining: 1.84s\n",
            "435:\tlearn: 0.1666926\ttotal: 1.42s\tremaining: 1.84s\n",
            "436:\tlearn: 0.1664569\ttotal: 1.43s\tremaining: 1.84s\n",
            "437:\tlearn: 0.1658973\ttotal: 1.43s\tremaining: 1.83s\n",
            "438:\tlearn: 0.1657194\ttotal: 1.43s\tremaining: 1.83s\n",
            "439:\tlearn: 0.1652736\ttotal: 1.44s\tremaining: 1.83s\n",
            "440:\tlearn: 0.1650049\ttotal: 1.44s\tremaining: 1.83s\n",
            "441:\tlearn: 0.1646734\ttotal: 1.45s\tremaining: 1.82s\n",
            "442:\tlearn: 0.1640790\ttotal: 1.45s\tremaining: 1.82s\n",
            "443:\tlearn: 0.1635316\ttotal: 1.45s\tremaining: 1.82s\n",
            "444:\tlearn: 0.1631982\ttotal: 1.46s\tremaining: 1.81s\n",
            "445:\tlearn: 0.1630361\ttotal: 1.46s\tremaining: 1.81s\n",
            "446:\tlearn: 0.1627864\ttotal: 1.46s\tremaining: 1.81s\n",
            "447:\tlearn: 0.1624606\ttotal: 1.46s\tremaining: 1.8s\n",
            "448:\tlearn: 0.1622505\ttotal: 1.47s\tremaining: 1.8s\n",
            "449:\tlearn: 0.1619140\ttotal: 1.47s\tremaining: 1.8s\n",
            "450:\tlearn: 0.1617238\ttotal: 1.47s\tremaining: 1.79s\n",
            "451:\tlearn: 0.1613537\ttotal: 1.48s\tremaining: 1.79s\n",
            "452:\tlearn: 0.1609535\ttotal: 1.48s\tremaining: 1.79s\n",
            "453:\tlearn: 0.1606428\ttotal: 1.48s\tremaining: 1.78s\n",
            "454:\tlearn: 0.1603162\ttotal: 1.49s\tremaining: 1.78s\n",
            "455:\tlearn: 0.1598645\ttotal: 1.49s\tremaining: 1.78s\n",
            "456:\tlearn: 0.1595201\ttotal: 1.5s\tremaining: 1.78s\n",
            "457:\tlearn: 0.1592949\ttotal: 1.5s\tremaining: 1.78s\n",
            "458:\tlearn: 0.1590646\ttotal: 1.51s\tremaining: 1.78s\n",
            "459:\tlearn: 0.1586218\ttotal: 1.51s\tremaining: 1.77s\n",
            "460:\tlearn: 0.1583184\ttotal: 1.51s\tremaining: 1.77s\n",
            "461:\tlearn: 0.1580572\ttotal: 1.52s\tremaining: 1.77s\n",
            "462:\tlearn: 0.1578257\ttotal: 1.52s\tremaining: 1.76s\n",
            "463:\tlearn: 0.1573627\ttotal: 1.52s\tremaining: 1.76s\n",
            "464:\tlearn: 0.1569981\ttotal: 1.52s\tremaining: 1.75s\n",
            "465:\tlearn: 0.1567557\ttotal: 1.53s\tremaining: 1.75s\n",
            "466:\tlearn: 0.1565619\ttotal: 1.53s\tremaining: 1.75s\n",
            "467:\tlearn: 0.1561745\ttotal: 1.54s\tremaining: 1.75s\n",
            "468:\tlearn: 0.1560049\ttotal: 1.54s\tremaining: 1.74s\n",
            "469:\tlearn: 0.1557633\ttotal: 1.54s\tremaining: 1.74s\n",
            "470:\tlearn: 0.1556547\ttotal: 1.54s\tremaining: 1.74s\n",
            "471:\tlearn: 0.1553492\ttotal: 1.55s\tremaining: 1.73s\n",
            "472:\tlearn: 0.1551213\ttotal: 1.55s\tremaining: 1.73s\n",
            "473:\tlearn: 0.1548201\ttotal: 1.55s\tremaining: 1.72s\n",
            "474:\tlearn: 0.1545835\ttotal: 1.55s\tremaining: 1.72s\n",
            "475:\tlearn: 0.1543004\ttotal: 1.56s\tremaining: 1.72s\n",
            "476:\tlearn: 0.1539312\ttotal: 1.56s\tremaining: 1.71s\n",
            "477:\tlearn: 0.1536944\ttotal: 1.56s\tremaining: 1.71s\n",
            "478:\tlearn: 0.1533916\ttotal: 1.57s\tremaining: 1.7s\n",
            "479:\tlearn: 0.1529622\ttotal: 1.57s\tremaining: 1.7s\n",
            "480:\tlearn: 0.1527926\ttotal: 1.57s\tremaining: 1.7s\n",
            "481:\tlearn: 0.1524922\ttotal: 1.57s\tremaining: 1.69s\n",
            "482:\tlearn: 0.1521750\ttotal: 1.58s\tremaining: 1.69s\n",
            "483:\tlearn: 0.1519525\ttotal: 1.58s\tremaining: 1.68s\n",
            "484:\tlearn: 0.1518250\ttotal: 1.58s\tremaining: 1.68s\n",
            "485:\tlearn: 0.1516137\ttotal: 1.58s\tremaining: 1.68s\n",
            "486:\tlearn: 0.1513539\ttotal: 1.59s\tremaining: 1.67s\n",
            "487:\tlearn: 0.1510465\ttotal: 1.59s\tremaining: 1.67s\n",
            "488:\tlearn: 0.1506625\ttotal: 1.59s\tremaining: 1.67s\n",
            "489:\tlearn: 0.1501688\ttotal: 1.6s\tremaining: 1.66s\n",
            "490:\tlearn: 0.1499465\ttotal: 1.6s\tremaining: 1.66s\n",
            "491:\tlearn: 0.1497532\ttotal: 1.6s\tremaining: 1.65s\n",
            "492:\tlearn: 0.1495699\ttotal: 1.6s\tremaining: 1.65s\n",
            "493:\tlearn: 0.1494316\ttotal: 1.61s\tremaining: 1.65s\n",
            "494:\tlearn: 0.1491461\ttotal: 1.61s\tremaining: 1.64s\n",
            "495:\tlearn: 0.1489582\ttotal: 1.61s\tremaining: 1.64s\n",
            "496:\tlearn: 0.1485785\ttotal: 1.61s\tremaining: 1.63s\n",
            "497:\tlearn: 0.1481804\ttotal: 1.62s\tremaining: 1.63s\n",
            "498:\tlearn: 0.1480174\ttotal: 1.62s\tremaining: 1.63s\n",
            "499:\tlearn: 0.1477204\ttotal: 1.62s\tremaining: 1.62s\n",
            "500:\tlearn: 0.1476245\ttotal: 1.63s\tremaining: 1.62s\n",
            "501:\tlearn: 0.1474632\ttotal: 1.63s\tremaining: 1.61s\n",
            "502:\tlearn: 0.1472037\ttotal: 1.63s\tremaining: 1.61s\n",
            "503:\tlearn: 0.1465998\ttotal: 1.63s\tremaining: 1.61s\n",
            "504:\tlearn: 0.1464225\ttotal: 1.64s\tremaining: 1.6s\n",
            "505:\tlearn: 0.1460458\ttotal: 1.64s\tremaining: 1.6s\n",
            "506:\tlearn: 0.1458498\ttotal: 1.64s\tremaining: 1.6s\n",
            "507:\tlearn: 0.1454787\ttotal: 1.65s\tremaining: 1.59s\n",
            "508:\tlearn: 0.1450372\ttotal: 1.65s\tremaining: 1.59s\n",
            "509:\tlearn: 0.1448135\ttotal: 1.65s\tremaining: 1.59s\n",
            "510:\tlearn: 0.1445870\ttotal: 1.65s\tremaining: 1.58s\n",
            "511:\tlearn: 0.1443953\ttotal: 1.66s\tremaining: 1.58s\n",
            "512:\tlearn: 0.1441594\ttotal: 1.66s\tremaining: 1.57s\n",
            "513:\tlearn: 0.1438897\ttotal: 1.66s\tremaining: 1.57s\n",
            "514:\tlearn: 0.1437143\ttotal: 1.67s\tremaining: 1.57s\n",
            "515:\tlearn: 0.1434347\ttotal: 1.67s\tremaining: 1.56s\n",
            "516:\tlearn: 0.1430207\ttotal: 1.67s\tremaining: 1.56s\n",
            "517:\tlearn: 0.1427604\ttotal: 1.67s\tremaining: 1.56s\n",
            "518:\tlearn: 0.1424493\ttotal: 1.68s\tremaining: 1.55s\n",
            "519:\tlearn: 0.1422969\ttotal: 1.68s\tremaining: 1.55s\n",
            "520:\tlearn: 0.1421133\ttotal: 1.68s\tremaining: 1.55s\n",
            "521:\tlearn: 0.1417632\ttotal: 1.68s\tremaining: 1.54s\n",
            "522:\tlearn: 0.1414052\ttotal: 1.69s\tremaining: 1.54s\n",
            "523:\tlearn: 0.1412267\ttotal: 1.7s\tremaining: 1.54s\n",
            "524:\tlearn: 0.1411098\ttotal: 1.7s\tremaining: 1.54s\n",
            "525:\tlearn: 0.1408442\ttotal: 1.7s\tremaining: 1.53s\n",
            "526:\tlearn: 0.1407460\ttotal: 1.71s\tremaining: 1.53s\n",
            "527:\tlearn: 0.1404280\ttotal: 1.71s\tremaining: 1.53s\n",
            "528:\tlearn: 0.1401063\ttotal: 1.71s\tremaining: 1.52s\n",
            "529:\tlearn: 0.1397356\ttotal: 1.71s\tremaining: 1.52s\n",
            "530:\tlearn: 0.1395577\ttotal: 1.72s\tremaining: 1.51s\n",
            "531:\tlearn: 0.1392769\ttotal: 1.72s\tremaining: 1.51s\n",
            "532:\tlearn: 0.1388141\ttotal: 1.72s\tremaining: 1.51s\n",
            "533:\tlearn: 0.1385985\ttotal: 1.72s\tremaining: 1.5s\n",
            "534:\tlearn: 0.1383258\ttotal: 1.73s\tremaining: 1.5s\n",
            "535:\tlearn: 0.1379897\ttotal: 1.73s\tremaining: 1.5s\n",
            "536:\tlearn: 0.1378708\ttotal: 1.73s\tremaining: 1.49s\n",
            "537:\tlearn: 0.1377021\ttotal: 1.74s\tremaining: 1.49s\n",
            "538:\tlearn: 0.1373664\ttotal: 1.74s\tremaining: 1.49s\n",
            "539:\tlearn: 0.1371442\ttotal: 1.74s\tremaining: 1.48s\n",
            "540:\tlearn: 0.1370325\ttotal: 1.74s\tremaining: 1.48s\n",
            "541:\tlearn: 0.1368177\ttotal: 1.75s\tremaining: 1.48s\n",
            "542:\tlearn: 0.1363368\ttotal: 1.75s\tremaining: 1.47s\n",
            "543:\tlearn: 0.1362439\ttotal: 1.75s\tremaining: 1.47s\n",
            "544:\tlearn: 0.1359797\ttotal: 1.75s\tremaining: 1.46s\n",
            "545:\tlearn: 0.1356065\ttotal: 1.76s\tremaining: 1.46s\n",
            "546:\tlearn: 0.1353719\ttotal: 1.76s\tremaining: 1.46s\n",
            "547:\tlearn: 0.1350310\ttotal: 1.76s\tremaining: 1.45s\n",
            "548:\tlearn: 0.1348622\ttotal: 1.76s\tremaining: 1.45s\n",
            "549:\tlearn: 0.1345333\ttotal: 1.77s\tremaining: 1.45s\n",
            "550:\tlearn: 0.1342919\ttotal: 1.77s\tremaining: 1.44s\n",
            "551:\tlearn: 0.1341860\ttotal: 1.77s\tremaining: 1.44s\n",
            "552:\tlearn: 0.1339087\ttotal: 1.78s\tremaining: 1.44s\n",
            "553:\tlearn: 0.1336470\ttotal: 1.78s\tremaining: 1.43s\n",
            "554:\tlearn: 0.1334723\ttotal: 1.78s\tremaining: 1.43s\n",
            "555:\tlearn: 0.1332084\ttotal: 1.79s\tremaining: 1.43s\n",
            "556:\tlearn: 0.1328305\ttotal: 1.79s\tremaining: 1.42s\n",
            "557:\tlearn: 0.1326385\ttotal: 1.79s\tremaining: 1.42s\n",
            "558:\tlearn: 0.1325076\ttotal: 1.79s\tremaining: 1.42s\n",
            "559:\tlearn: 0.1322467\ttotal: 1.8s\tremaining: 1.41s\n",
            "560:\tlearn: 0.1318455\ttotal: 1.81s\tremaining: 1.41s\n",
            "561:\tlearn: 0.1316328\ttotal: 1.81s\tremaining: 1.41s\n",
            "562:\tlearn: 0.1314924\ttotal: 1.81s\tremaining: 1.41s\n",
            "563:\tlearn: 0.1313410\ttotal: 1.81s\tremaining: 1.4s\n",
            "564:\tlearn: 0.1312208\ttotal: 1.82s\tremaining: 1.4s\n",
            "565:\tlearn: 0.1309310\ttotal: 1.82s\tremaining: 1.4s\n",
            "566:\tlearn: 0.1306303\ttotal: 1.82s\tremaining: 1.39s\n",
            "567:\tlearn: 0.1304806\ttotal: 1.83s\tremaining: 1.39s\n",
            "568:\tlearn: 0.1301979\ttotal: 1.83s\tremaining: 1.39s\n",
            "569:\tlearn: 0.1299523\ttotal: 1.83s\tremaining: 1.38s\n",
            "570:\tlearn: 0.1297495\ttotal: 1.83s\tremaining: 1.38s\n",
            "571:\tlearn: 0.1295023\ttotal: 1.84s\tremaining: 1.38s\n",
            "572:\tlearn: 0.1292639\ttotal: 1.84s\tremaining: 1.37s\n",
            "573:\tlearn: 0.1290027\ttotal: 1.84s\tremaining: 1.37s\n",
            "574:\tlearn: 0.1289138\ttotal: 1.84s\tremaining: 1.36s\n",
            "575:\tlearn: 0.1286946\ttotal: 1.85s\tremaining: 1.36s\n",
            "576:\tlearn: 0.1283307\ttotal: 1.85s\tremaining: 1.36s\n",
            "577:\tlearn: 0.1280570\ttotal: 1.85s\tremaining: 1.35s\n",
            "578:\tlearn: 0.1278482\ttotal: 1.86s\tremaining: 1.35s\n",
            "579:\tlearn: 0.1274828\ttotal: 1.86s\tremaining: 1.35s\n",
            "580:\tlearn: 0.1271845\ttotal: 1.86s\tremaining: 1.34s\n",
            "581:\tlearn: 0.1269675\ttotal: 1.86s\tremaining: 1.34s\n",
            "582:\tlearn: 0.1266676\ttotal: 1.87s\tremaining: 1.34s\n",
            "583:\tlearn: 0.1263862\ttotal: 1.87s\tremaining: 1.33s\n",
            "584:\tlearn: 0.1261254\ttotal: 1.87s\tremaining: 1.33s\n",
            "585:\tlearn: 0.1258945\ttotal: 1.88s\tremaining: 1.33s\n",
            "586:\tlearn: 0.1256037\ttotal: 1.88s\tremaining: 1.33s\n",
            "587:\tlearn: 0.1253780\ttotal: 1.89s\tremaining: 1.32s\n",
            "588:\tlearn: 0.1253221\ttotal: 1.89s\tremaining: 1.32s\n",
            "589:\tlearn: 0.1251494\ttotal: 1.9s\tremaining: 1.32s\n",
            "590:\tlearn: 0.1250296\ttotal: 1.9s\tremaining: 1.31s\n",
            "591:\tlearn: 0.1247374\ttotal: 1.9s\tremaining: 1.31s\n",
            "592:\tlearn: 0.1245953\ttotal: 1.91s\tremaining: 1.31s\n",
            "593:\tlearn: 0.1245116\ttotal: 1.92s\tremaining: 1.31s\n",
            "594:\tlearn: 0.1242424\ttotal: 1.93s\tremaining: 1.31s\n",
            "595:\tlearn: 0.1239705\ttotal: 1.93s\tremaining: 1.31s\n",
            "596:\tlearn: 0.1237686\ttotal: 1.93s\tremaining: 1.3s\n",
            "597:\tlearn: 0.1235735\ttotal: 1.93s\tremaining: 1.3s\n",
            "598:\tlearn: 0.1233095\ttotal: 1.94s\tremaining: 1.3s\n",
            "599:\tlearn: 0.1230167\ttotal: 1.94s\tremaining: 1.29s\n",
            "600:\tlearn: 0.1227994\ttotal: 1.94s\tremaining: 1.29s\n",
            "601:\tlearn: 0.1226548\ttotal: 1.95s\tremaining: 1.29s\n",
            "602:\tlearn: 0.1224357\ttotal: 1.95s\tremaining: 1.28s\n",
            "603:\tlearn: 0.1221242\ttotal: 1.95s\tremaining: 1.28s\n",
            "604:\tlearn: 0.1219712\ttotal: 1.95s\tremaining: 1.27s\n",
            "605:\tlearn: 0.1218948\ttotal: 1.96s\tremaining: 1.27s\n",
            "606:\tlearn: 0.1217149\ttotal: 1.96s\tremaining: 1.27s\n",
            "607:\tlearn: 0.1215709\ttotal: 1.96s\tremaining: 1.26s\n",
            "608:\tlearn: 0.1214492\ttotal: 1.96s\tremaining: 1.26s\n",
            "609:\tlearn: 0.1211463\ttotal: 1.97s\tremaining: 1.26s\n",
            "610:\tlearn: 0.1209327\ttotal: 1.97s\tremaining: 1.25s\n",
            "611:\tlearn: 0.1207382\ttotal: 1.97s\tremaining: 1.25s\n",
            "612:\tlearn: 0.1205938\ttotal: 1.98s\tremaining: 1.25s\n",
            "613:\tlearn: 0.1204264\ttotal: 1.98s\tremaining: 1.24s\n",
            "614:\tlearn: 0.1202242\ttotal: 1.98s\tremaining: 1.24s\n",
            "615:\tlearn: 0.1200057\ttotal: 1.98s\tremaining: 1.24s\n",
            "616:\tlearn: 0.1198474\ttotal: 1.99s\tremaining: 1.23s\n",
            "617:\tlearn: 0.1196492\ttotal: 1.99s\tremaining: 1.23s\n",
            "618:\tlearn: 0.1196042\ttotal: 1.99s\tremaining: 1.23s\n",
            "619:\tlearn: 0.1191776\ttotal: 2s\tremaining: 1.23s\n",
            "620:\tlearn: 0.1190015\ttotal: 2s\tremaining: 1.22s\n",
            "621:\tlearn: 0.1187509\ttotal: 2s\tremaining: 1.22s\n",
            "622:\tlearn: 0.1185289\ttotal: 2.01s\tremaining: 1.21s\n",
            "623:\tlearn: 0.1183031\ttotal: 2.01s\tremaining: 1.21s\n",
            "624:\tlearn: 0.1181340\ttotal: 2.01s\tremaining: 1.21s\n",
            "625:\tlearn: 0.1178883\ttotal: 2.02s\tremaining: 1.2s\n",
            "626:\tlearn: 0.1177109\ttotal: 2.02s\tremaining: 1.2s\n",
            "627:\tlearn: 0.1175128\ttotal: 2.02s\tremaining: 1.2s\n",
            "628:\tlearn: 0.1172766\ttotal: 2.02s\tremaining: 1.19s\n",
            "629:\tlearn: 0.1171419\ttotal: 2.03s\tremaining: 1.19s\n",
            "630:\tlearn: 0.1169038\ttotal: 2.03s\tremaining: 1.19s\n",
            "631:\tlearn: 0.1167636\ttotal: 2.03s\tremaining: 1.18s\n",
            "632:\tlearn: 0.1165960\ttotal: 2.04s\tremaining: 1.18s\n",
            "633:\tlearn: 0.1164535\ttotal: 2.04s\tremaining: 1.18s\n",
            "634:\tlearn: 0.1162828\ttotal: 2.04s\tremaining: 1.17s\n",
            "635:\tlearn: 0.1160228\ttotal: 2.04s\tremaining: 1.17s\n",
            "636:\tlearn: 0.1158210\ttotal: 2.05s\tremaining: 1.17s\n",
            "637:\tlearn: 0.1156659\ttotal: 2.05s\tremaining: 1.16s\n",
            "638:\tlearn: 0.1154641\ttotal: 2.05s\tremaining: 1.16s\n",
            "639:\tlearn: 0.1152696\ttotal: 2.06s\tremaining: 1.16s\n",
            "640:\tlearn: 0.1150315\ttotal: 2.06s\tremaining: 1.15s\n",
            "641:\tlearn: 0.1148637\ttotal: 2.06s\tremaining: 1.15s\n",
            "642:\tlearn: 0.1147274\ttotal: 2.07s\tremaining: 1.15s\n",
            "643:\tlearn: 0.1146242\ttotal: 2.07s\tremaining: 1.14s\n",
            "644:\tlearn: 0.1144850\ttotal: 2.07s\tremaining: 1.14s\n",
            "645:\tlearn: 0.1143820\ttotal: 2.08s\tremaining: 1.14s\n",
            "646:\tlearn: 0.1142138\ttotal: 2.08s\tremaining: 1.13s\n",
            "647:\tlearn: 0.1139389\ttotal: 2.08s\tremaining: 1.13s\n",
            "648:\tlearn: 0.1137206\ttotal: 2.08s\tremaining: 1.13s\n",
            "649:\tlearn: 0.1135422\ttotal: 2.09s\tremaining: 1.12s\n",
            "650:\tlearn: 0.1134404\ttotal: 2.09s\tremaining: 1.12s\n",
            "651:\tlearn: 0.1132857\ttotal: 2.09s\tremaining: 1.12s\n",
            "652:\tlearn: 0.1130378\ttotal: 2.09s\tremaining: 1.11s\n",
            "653:\tlearn: 0.1128998\ttotal: 2.1s\tremaining: 1.11s\n",
            "654:\tlearn: 0.1126885\ttotal: 2.1s\tremaining: 1.11s\n",
            "655:\tlearn: 0.1125061\ttotal: 2.1s\tremaining: 1.1s\n",
            "656:\tlearn: 0.1122923\ttotal: 2.1s\tremaining: 1.1s\n",
            "657:\tlearn: 0.1119366\ttotal: 2.11s\tremaining: 1.1s\n",
            "658:\tlearn: 0.1117802\ttotal: 2.11s\tremaining: 1.09s\n",
            "659:\tlearn: 0.1116596\ttotal: 2.11s\tremaining: 1.09s\n",
            "660:\tlearn: 0.1114497\ttotal: 2.12s\tremaining: 1.09s\n",
            "661:\tlearn: 0.1112548\ttotal: 2.12s\tremaining: 1.08s\n",
            "662:\tlearn: 0.1110796\ttotal: 2.12s\tremaining: 1.08s\n",
            "663:\tlearn: 0.1108330\ttotal: 2.13s\tremaining: 1.07s\n",
            "664:\tlearn: 0.1106494\ttotal: 2.13s\tremaining: 1.07s\n",
            "665:\tlearn: 0.1104582\ttotal: 2.13s\tremaining: 1.07s\n",
            "666:\tlearn: 0.1102022\ttotal: 2.13s\tremaining: 1.06s\n",
            "667:\tlearn: 0.1101072\ttotal: 2.14s\tremaining: 1.06s\n",
            "668:\tlearn: 0.1099896\ttotal: 2.14s\tremaining: 1.06s\n",
            "669:\tlearn: 0.1096991\ttotal: 2.14s\tremaining: 1.05s\n",
            "670:\tlearn: 0.1094296\ttotal: 2.15s\tremaining: 1.05s\n",
            "671:\tlearn: 0.1092571\ttotal: 2.15s\tremaining: 1.05s\n",
            "672:\tlearn: 0.1090066\ttotal: 2.15s\tremaining: 1.04s\n",
            "673:\tlearn: 0.1087547\ttotal: 2.15s\tremaining: 1.04s\n",
            "674:\tlearn: 0.1085915\ttotal: 2.16s\tremaining: 1.04s\n",
            "675:\tlearn: 0.1084265\ttotal: 2.16s\tremaining: 1.04s\n",
            "676:\tlearn: 0.1082824\ttotal: 2.17s\tremaining: 1.03s\n",
            "677:\tlearn: 0.1081557\ttotal: 2.18s\tremaining: 1.03s\n",
            "678:\tlearn: 0.1080417\ttotal: 2.18s\tremaining: 1.03s\n",
            "679:\tlearn: 0.1079393\ttotal: 2.18s\tremaining: 1.03s\n",
            "680:\tlearn: 0.1078224\ttotal: 2.19s\tremaining: 1.02s\n",
            "681:\tlearn: 0.1076061\ttotal: 2.19s\tremaining: 1.02s\n",
            "682:\tlearn: 0.1073045\ttotal: 2.19s\tremaining: 1.02s\n",
            "683:\tlearn: 0.1071224\ttotal: 2.2s\tremaining: 1.01s\n",
            "684:\tlearn: 0.1069401\ttotal: 2.2s\tremaining: 1.01s\n",
            "685:\tlearn: 0.1067354\ttotal: 2.2s\tremaining: 1.01s\n",
            "686:\tlearn: 0.1064795\ttotal: 2.21s\tremaining: 1s\n",
            "687:\tlearn: 0.1062837\ttotal: 2.21s\tremaining: 1s\n",
            "688:\tlearn: 0.1062025\ttotal: 2.21s\tremaining: 999ms\n",
            "689:\tlearn: 0.1060335\ttotal: 2.21s\tremaining: 996ms\n",
            "690:\tlearn: 0.1058001\ttotal: 2.22s\tremaining: 993ms\n",
            "691:\tlearn: 0.1056259\ttotal: 2.22s\tremaining: 990ms\n",
            "692:\tlearn: 0.1053992\ttotal: 2.23s\tremaining: 986ms\n",
            "693:\tlearn: 0.1052667\ttotal: 2.23s\tremaining: 984ms\n",
            "694:\tlearn: 0.1051048\ttotal: 2.23s\tremaining: 980ms\n",
            "695:\tlearn: 0.1049704\ttotal: 2.24s\tremaining: 977ms\n",
            "696:\tlearn: 0.1047966\ttotal: 2.24s\tremaining: 974ms\n",
            "697:\tlearn: 0.1045537\ttotal: 2.24s\tremaining: 971ms\n",
            "698:\tlearn: 0.1044489\ttotal: 2.25s\tremaining: 970ms\n",
            "699:\tlearn: 0.1042324\ttotal: 2.25s\tremaining: 967ms\n",
            "700:\tlearn: 0.1040225\ttotal: 2.26s\tremaining: 963ms\n",
            "701:\tlearn: 0.1037752\ttotal: 2.26s\tremaining: 960ms\n",
            "702:\tlearn: 0.1036404\ttotal: 2.26s\tremaining: 957ms\n",
            "703:\tlearn: 0.1034566\ttotal: 2.27s\tremaining: 954ms\n",
            "704:\tlearn: 0.1033317\ttotal: 2.27s\tremaining: 950ms\n",
            "705:\tlearn: 0.1031874\ttotal: 2.27s\tremaining: 947ms\n",
            "706:\tlearn: 0.1029685\ttotal: 2.28s\tremaining: 944ms\n",
            "707:\tlearn: 0.1027588\ttotal: 2.28s\tremaining: 940ms\n",
            "708:\tlearn: 0.1025529\ttotal: 2.28s\tremaining: 937ms\n",
            "709:\tlearn: 0.1024222\ttotal: 2.29s\tremaining: 934ms\n",
            "710:\tlearn: 0.1022121\ttotal: 2.29s\tremaining: 930ms\n",
            "711:\tlearn: 0.1021029\ttotal: 2.29s\tremaining: 927ms\n",
            "712:\tlearn: 0.1018221\ttotal: 2.29s\tremaining: 924ms\n",
            "713:\tlearn: 0.1016727\ttotal: 2.3s\tremaining: 920ms\n",
            "714:\tlearn: 0.1015229\ttotal: 2.3s\tremaining: 917ms\n",
            "715:\tlearn: 0.1013301\ttotal: 2.3s\tremaining: 913ms\n",
            "716:\tlearn: 0.1011921\ttotal: 2.31s\tremaining: 910ms\n",
            "717:\tlearn: 0.1011052\ttotal: 2.31s\tremaining: 907ms\n",
            "718:\tlearn: 0.1009855\ttotal: 2.31s\tremaining: 903ms\n",
            "719:\tlearn: 0.1008779\ttotal: 2.31s\tremaining: 900ms\n",
            "720:\tlearn: 0.1006998\ttotal: 2.32s\tremaining: 896ms\n",
            "721:\tlearn: 0.1005981\ttotal: 2.32s\tremaining: 893ms\n",
            "722:\tlearn: 0.1004338\ttotal: 2.32s\tremaining: 890ms\n",
            "723:\tlearn: 0.1002308\ttotal: 2.33s\tremaining: 887ms\n",
            "724:\tlearn: 0.1000468\ttotal: 2.33s\tremaining: 883ms\n",
            "725:\tlearn: 0.0998538\ttotal: 2.33s\tremaining: 881ms\n",
            "726:\tlearn: 0.0996745\ttotal: 2.34s\tremaining: 877ms\n",
            "727:\tlearn: 0.0994564\ttotal: 2.34s\tremaining: 875ms\n",
            "728:\tlearn: 0.0993664\ttotal: 2.35s\tremaining: 872ms\n",
            "729:\tlearn: 0.0991207\ttotal: 2.35s\tremaining: 870ms\n",
            "730:\tlearn: 0.0990273\ttotal: 2.35s\tremaining: 867ms\n",
            "731:\tlearn: 0.0988936\ttotal: 2.36s\tremaining: 863ms\n",
            "732:\tlearn: 0.0988230\ttotal: 2.36s\tremaining: 860ms\n",
            "733:\tlearn: 0.0986217\ttotal: 2.36s\tremaining: 856ms\n",
            "734:\tlearn: 0.0984674\ttotal: 2.37s\tremaining: 853ms\n",
            "735:\tlearn: 0.0983145\ttotal: 2.37s\tremaining: 850ms\n",
            "736:\tlearn: 0.0982181\ttotal: 2.37s\tremaining: 846ms\n",
            "737:\tlearn: 0.0981065\ttotal: 2.37s\tremaining: 843ms\n",
            "738:\tlearn: 0.0979873\ttotal: 2.38s\tremaining: 839ms\n",
            "739:\tlearn: 0.0977326\ttotal: 2.38s\tremaining: 836ms\n",
            "740:\tlearn: 0.0976037\ttotal: 2.38s\tremaining: 833ms\n",
            "741:\tlearn: 0.0974535\ttotal: 2.38s\tremaining: 830ms\n",
            "742:\tlearn: 0.0972798\ttotal: 2.39s\tremaining: 826ms\n",
            "743:\tlearn: 0.0972007\ttotal: 2.39s\tremaining: 823ms\n",
            "744:\tlearn: 0.0969956\ttotal: 2.39s\tremaining: 819ms\n",
            "745:\tlearn: 0.0967666\ttotal: 2.4s\tremaining: 816ms\n",
            "746:\tlearn: 0.0966404\ttotal: 2.4s\tremaining: 813ms\n",
            "747:\tlearn: 0.0964753\ttotal: 2.4s\tremaining: 810ms\n",
            "748:\tlearn: 0.0963179\ttotal: 2.4s\tremaining: 806ms\n",
            "749:\tlearn: 0.0961398\ttotal: 2.41s\tremaining: 803ms\n",
            "750:\tlearn: 0.0960725\ttotal: 2.41s\tremaining: 800ms\n",
            "751:\tlearn: 0.0959316\ttotal: 2.41s\tremaining: 796ms\n",
            "752:\tlearn: 0.0958632\ttotal: 2.42s\tremaining: 793ms\n",
            "753:\tlearn: 0.0956363\ttotal: 2.42s\tremaining: 790ms\n",
            "754:\tlearn: 0.0953998\ttotal: 2.42s\tremaining: 786ms\n",
            "755:\tlearn: 0.0952658\ttotal: 2.42s\tremaining: 783ms\n",
            "756:\tlearn: 0.0952016\ttotal: 2.43s\tremaining: 779ms\n",
            "757:\tlearn: 0.0949565\ttotal: 2.43s\tremaining: 776ms\n",
            "758:\tlearn: 0.0947718\ttotal: 2.44s\tremaining: 773ms\n",
            "759:\tlearn: 0.0946549\ttotal: 2.44s\tremaining: 770ms\n",
            "760:\tlearn: 0.0945179\ttotal: 2.45s\tremaining: 769ms\n",
            "761:\tlearn: 0.0943284\ttotal: 2.45s\tremaining: 766ms\n",
            "762:\tlearn: 0.0942294\ttotal: 2.46s\tremaining: 763ms\n",
            "763:\tlearn: 0.0941002\ttotal: 2.46s\tremaining: 760ms\n",
            "764:\tlearn: 0.0939254\ttotal: 2.46s\tremaining: 756ms\n",
            "765:\tlearn: 0.0938267\ttotal: 2.46s\tremaining: 753ms\n",
            "766:\tlearn: 0.0936590\ttotal: 2.47s\tremaining: 750ms\n",
            "767:\tlearn: 0.0935359\ttotal: 2.47s\tremaining: 746ms\n",
            "768:\tlearn: 0.0933302\ttotal: 2.47s\tremaining: 743ms\n",
            "769:\tlearn: 0.0932300\ttotal: 2.48s\tremaining: 740ms\n",
            "770:\tlearn: 0.0930859\ttotal: 2.48s\tremaining: 736ms\n",
            "771:\tlearn: 0.0929923\ttotal: 2.48s\tremaining: 733ms\n",
            "772:\tlearn: 0.0928325\ttotal: 2.48s\tremaining: 730ms\n",
            "773:\tlearn: 0.0926582\ttotal: 2.49s\tremaining: 727ms\n",
            "774:\tlearn: 0.0925784\ttotal: 2.5s\tremaining: 726ms\n",
            "775:\tlearn: 0.0924018\ttotal: 2.5s\tremaining: 722ms\n",
            "776:\tlearn: 0.0923233\ttotal: 2.5s\tremaining: 719ms\n",
            "777:\tlearn: 0.0921516\ttotal: 2.51s\tremaining: 716ms\n",
            "778:\tlearn: 0.0920433\ttotal: 2.51s\tremaining: 712ms\n",
            "779:\tlearn: 0.0919368\ttotal: 2.52s\tremaining: 709ms\n",
            "780:\tlearn: 0.0918201\ttotal: 2.52s\tremaining: 707ms\n",
            "781:\tlearn: 0.0916682\ttotal: 2.52s\tremaining: 704ms\n",
            "782:\tlearn: 0.0915849\ttotal: 2.53s\tremaining: 702ms\n",
            "783:\tlearn: 0.0915165\ttotal: 2.53s\tremaining: 698ms\n",
            "784:\tlearn: 0.0914201\ttotal: 2.54s\tremaining: 695ms\n",
            "785:\tlearn: 0.0913138\ttotal: 2.54s\tremaining: 692ms\n",
            "786:\tlearn: 0.0912080\ttotal: 2.54s\tremaining: 688ms\n",
            "787:\tlearn: 0.0910974\ttotal: 2.55s\tremaining: 686ms\n",
            "788:\tlearn: 0.0909043\ttotal: 2.55s\tremaining: 683ms\n",
            "789:\tlearn: 0.0908157\ttotal: 2.56s\tremaining: 680ms\n",
            "790:\tlearn: 0.0906870\ttotal: 2.56s\tremaining: 677ms\n",
            "791:\tlearn: 0.0905571\ttotal: 2.56s\tremaining: 673ms\n",
            "792:\tlearn: 0.0904820\ttotal: 2.57s\tremaining: 670ms\n",
            "793:\tlearn: 0.0903559\ttotal: 2.57s\tremaining: 667ms\n",
            "794:\tlearn: 0.0902489\ttotal: 2.57s\tremaining: 663ms\n",
            "795:\tlearn: 0.0900836\ttotal: 2.57s\tremaining: 660ms\n",
            "796:\tlearn: 0.0899837\ttotal: 2.58s\tremaining: 656ms\n",
            "797:\tlearn: 0.0897043\ttotal: 2.58s\tremaining: 653ms\n",
            "798:\tlearn: 0.0895242\ttotal: 2.58s\tremaining: 650ms\n",
            "799:\tlearn: 0.0894690\ttotal: 2.58s\tremaining: 646ms\n",
            "800:\tlearn: 0.0893393\ttotal: 2.59s\tremaining: 643ms\n",
            "801:\tlearn: 0.0892375\ttotal: 2.59s\tremaining: 640ms\n",
            "802:\tlearn: 0.0891451\ttotal: 2.59s\tremaining: 636ms\n",
            "803:\tlearn: 0.0889847\ttotal: 2.6s\tremaining: 633ms\n",
            "804:\tlearn: 0.0888277\ttotal: 2.6s\tremaining: 630ms\n",
            "805:\tlearn: 0.0885372\ttotal: 2.6s\tremaining: 626ms\n",
            "806:\tlearn: 0.0883760\ttotal: 2.61s\tremaining: 623ms\n",
            "807:\tlearn: 0.0883229\ttotal: 2.61s\tremaining: 620ms\n",
            "808:\tlearn: 0.0881556\ttotal: 2.61s\tremaining: 617ms\n",
            "809:\tlearn: 0.0880520\ttotal: 2.62s\tremaining: 613ms\n",
            "810:\tlearn: 0.0878429\ttotal: 2.62s\tremaining: 610ms\n",
            "811:\tlearn: 0.0877592\ttotal: 2.62s\tremaining: 607ms\n",
            "812:\tlearn: 0.0876631\ttotal: 2.62s\tremaining: 603ms\n",
            "813:\tlearn: 0.0874887\ttotal: 2.63s\tremaining: 600ms\n",
            "814:\tlearn: 0.0873472\ttotal: 2.63s\tremaining: 597ms\n",
            "815:\tlearn: 0.0871880\ttotal: 2.64s\tremaining: 595ms\n",
            "816:\tlearn: 0.0870844\ttotal: 2.64s\tremaining: 592ms\n",
            "817:\tlearn: 0.0869250\ttotal: 2.64s\tremaining: 588ms\n",
            "818:\tlearn: 0.0867916\ttotal: 2.65s\tremaining: 585ms\n",
            "819:\tlearn: 0.0866508\ttotal: 2.65s\tremaining: 582ms\n",
            "820:\tlearn: 0.0865857\ttotal: 2.65s\tremaining: 578ms\n",
            "821:\tlearn: 0.0864904\ttotal: 2.66s\tremaining: 575ms\n",
            "822:\tlearn: 0.0864084\ttotal: 2.66s\tremaining: 572ms\n",
            "823:\tlearn: 0.0862693\ttotal: 2.66s\tremaining: 568ms\n",
            "824:\tlearn: 0.0861904\ttotal: 2.66s\tremaining: 565ms\n",
            "825:\tlearn: 0.0860891\ttotal: 2.67s\tremaining: 562ms\n",
            "826:\tlearn: 0.0859927\ttotal: 2.67s\tremaining: 559ms\n",
            "827:\tlearn: 0.0858654\ttotal: 2.67s\tremaining: 555ms\n",
            "828:\tlearn: 0.0855974\ttotal: 2.67s\tremaining: 552ms\n",
            "829:\tlearn: 0.0854462\ttotal: 2.68s\tremaining: 549ms\n",
            "830:\tlearn: 0.0853293\ttotal: 2.68s\tremaining: 545ms\n",
            "831:\tlearn: 0.0852178\ttotal: 2.68s\tremaining: 542ms\n",
            "832:\tlearn: 0.0850478\ttotal: 2.69s\tremaining: 539ms\n",
            "833:\tlearn: 0.0849752\ttotal: 2.69s\tremaining: 535ms\n",
            "834:\tlearn: 0.0849095\ttotal: 2.69s\tremaining: 532ms\n",
            "835:\tlearn: 0.0847536\ttotal: 2.69s\tremaining: 529ms\n",
            "836:\tlearn: 0.0846752\ttotal: 2.7s\tremaining: 525ms\n",
            "837:\tlearn: 0.0846004\ttotal: 2.7s\tremaining: 522ms\n",
            "838:\tlearn: 0.0845439\ttotal: 2.7s\tremaining: 519ms\n",
            "839:\tlearn: 0.0844719\ttotal: 2.71s\tremaining: 516ms\n",
            "840:\tlearn: 0.0843783\ttotal: 2.71s\tremaining: 512ms\n",
            "841:\tlearn: 0.0842338\ttotal: 2.71s\tremaining: 509ms\n",
            "842:\tlearn: 0.0841748\ttotal: 2.71s\tremaining: 506ms\n",
            "843:\tlearn: 0.0840905\ttotal: 2.72s\tremaining: 503ms\n",
            "844:\tlearn: 0.0840252\ttotal: 2.72s\tremaining: 500ms\n",
            "845:\tlearn: 0.0838863\ttotal: 2.73s\tremaining: 496ms\n",
            "846:\tlearn: 0.0838233\ttotal: 2.73s\tremaining: 493ms\n",
            "847:\tlearn: 0.0836428\ttotal: 2.73s\tremaining: 490ms\n",
            "848:\tlearn: 0.0835298\ttotal: 2.73s\tremaining: 486ms\n",
            "849:\tlearn: 0.0834261\ttotal: 2.74s\tremaining: 483ms\n",
            "850:\tlearn: 0.0833092\ttotal: 2.74s\tremaining: 480ms\n",
            "851:\tlearn: 0.0832347\ttotal: 2.74s\tremaining: 476ms\n",
            "852:\tlearn: 0.0831737\ttotal: 2.75s\tremaining: 474ms\n",
            "853:\tlearn: 0.0830955\ttotal: 2.75s\tremaining: 471ms\n",
            "854:\tlearn: 0.0829943\ttotal: 2.76s\tremaining: 468ms\n",
            "855:\tlearn: 0.0828350\ttotal: 2.76s\tremaining: 464ms\n",
            "856:\tlearn: 0.0827603\ttotal: 2.76s\tremaining: 461ms\n",
            "857:\tlearn: 0.0826713\ttotal: 2.76s\tremaining: 457ms\n",
            "858:\tlearn: 0.0825352\ttotal: 2.77s\tremaining: 454ms\n",
            "859:\tlearn: 0.0823968\ttotal: 2.77s\tremaining: 451ms\n",
            "860:\tlearn: 0.0822671\ttotal: 2.77s\tremaining: 447ms\n",
            "861:\tlearn: 0.0822065\ttotal: 2.77s\tremaining: 444ms\n",
            "862:\tlearn: 0.0821099\ttotal: 2.78s\tremaining: 441ms\n",
            "863:\tlearn: 0.0820265\ttotal: 2.78s\tremaining: 438ms\n",
            "864:\tlearn: 0.0818924\ttotal: 2.78s\tremaining: 434ms\n",
            "865:\tlearn: 0.0817914\ttotal: 2.79s\tremaining: 431ms\n",
            "866:\tlearn: 0.0816716\ttotal: 2.79s\tremaining: 428ms\n",
            "867:\tlearn: 0.0815106\ttotal: 2.79s\tremaining: 425ms\n",
            "868:\tlearn: 0.0813747\ttotal: 2.79s\tremaining: 421ms\n",
            "869:\tlearn: 0.0812732\ttotal: 2.8s\tremaining: 418ms\n",
            "870:\tlearn: 0.0811738\ttotal: 2.8s\tremaining: 415ms\n",
            "871:\tlearn: 0.0810423\ttotal: 2.8s\tremaining: 411ms\n",
            "872:\tlearn: 0.0809361\ttotal: 2.8s\tremaining: 408ms\n",
            "873:\tlearn: 0.0807867\ttotal: 2.81s\tremaining: 405ms\n",
            "874:\tlearn: 0.0807201\ttotal: 2.81s\tremaining: 401ms\n",
            "875:\tlearn: 0.0805957\ttotal: 2.81s\tremaining: 398ms\n",
            "876:\tlearn: 0.0805380\ttotal: 2.82s\tremaining: 395ms\n",
            "877:\tlearn: 0.0804232\ttotal: 2.82s\tremaining: 392ms\n",
            "878:\tlearn: 0.0803456\ttotal: 2.83s\tremaining: 389ms\n",
            "879:\tlearn: 0.0802550\ttotal: 2.83s\tremaining: 386ms\n",
            "880:\tlearn: 0.0801325\ttotal: 2.83s\tremaining: 383ms\n",
            "881:\tlearn: 0.0800468\ttotal: 2.84s\tremaining: 380ms\n",
            "882:\tlearn: 0.0799184\ttotal: 2.84s\tremaining: 376ms\n",
            "883:\tlearn: 0.0797890\ttotal: 2.84s\tremaining: 373ms\n",
            "884:\tlearn: 0.0796871\ttotal: 2.85s\tremaining: 370ms\n",
            "885:\tlearn: 0.0795038\ttotal: 2.85s\tremaining: 366ms\n",
            "886:\tlearn: 0.0792658\ttotal: 2.85s\tremaining: 363ms\n",
            "887:\tlearn: 0.0792017\ttotal: 2.85s\tremaining: 360ms\n",
            "888:\tlearn: 0.0791191\ttotal: 2.86s\tremaining: 357ms\n",
            "889:\tlearn: 0.0789893\ttotal: 2.86s\tremaining: 354ms\n",
            "890:\tlearn: 0.0789066\ttotal: 2.87s\tremaining: 351ms\n",
            "891:\tlearn: 0.0787466\ttotal: 2.87s\tremaining: 348ms\n",
            "892:\tlearn: 0.0786599\ttotal: 2.88s\tremaining: 345ms\n",
            "893:\tlearn: 0.0785517\ttotal: 2.88s\tremaining: 341ms\n",
            "894:\tlearn: 0.0784802\ttotal: 2.88s\tremaining: 338ms\n",
            "895:\tlearn: 0.0784287\ttotal: 2.88s\tremaining: 335ms\n",
            "896:\tlearn: 0.0783345\ttotal: 2.89s\tremaining: 332ms\n",
            "897:\tlearn: 0.0781914\ttotal: 2.89s\tremaining: 328ms\n",
            "898:\tlearn: 0.0781318\ttotal: 2.89s\tremaining: 325ms\n",
            "899:\tlearn: 0.0779525\ttotal: 2.9s\tremaining: 322ms\n",
            "900:\tlearn: 0.0778999\ttotal: 2.9s\tremaining: 319ms\n",
            "901:\tlearn: 0.0777814\ttotal: 2.9s\tremaining: 315ms\n",
            "902:\tlearn: 0.0776554\ttotal: 2.9s\tremaining: 312ms\n",
            "903:\tlearn: 0.0775568\ttotal: 2.91s\tremaining: 309ms\n",
            "904:\tlearn: 0.0773958\ttotal: 2.91s\tremaining: 305ms\n",
            "905:\tlearn: 0.0773038\ttotal: 2.91s\tremaining: 302ms\n",
            "906:\tlearn: 0.0771734\ttotal: 2.92s\tremaining: 299ms\n",
            "907:\tlearn: 0.0770341\ttotal: 2.92s\tremaining: 296ms\n",
            "908:\tlearn: 0.0769560\ttotal: 2.92s\tremaining: 292ms\n",
            "909:\tlearn: 0.0768431\ttotal: 2.92s\tremaining: 289ms\n",
            "910:\tlearn: 0.0766842\ttotal: 2.93s\tremaining: 286ms\n",
            "911:\tlearn: 0.0766272\ttotal: 2.93s\tremaining: 283ms\n",
            "912:\tlearn: 0.0764374\ttotal: 2.93s\tremaining: 279ms\n",
            "913:\tlearn: 0.0763612\ttotal: 2.93s\tremaining: 276ms\n",
            "914:\tlearn: 0.0762109\ttotal: 2.94s\tremaining: 273ms\n",
            "915:\tlearn: 0.0760703\ttotal: 2.94s\tremaining: 270ms\n",
            "916:\tlearn: 0.0759245\ttotal: 2.95s\tremaining: 267ms\n",
            "917:\tlearn: 0.0757790\ttotal: 2.95s\tremaining: 264ms\n",
            "918:\tlearn: 0.0756888\ttotal: 2.96s\tremaining: 260ms\n",
            "919:\tlearn: 0.0755635\ttotal: 2.96s\tremaining: 257ms\n",
            "920:\tlearn: 0.0754807\ttotal: 2.96s\tremaining: 254ms\n",
            "921:\tlearn: 0.0753990\ttotal: 2.96s\tremaining: 251ms\n",
            "922:\tlearn: 0.0752742\ttotal: 2.96s\tremaining: 247ms\n",
            "923:\tlearn: 0.0752069\ttotal: 2.97s\tremaining: 244ms\n",
            "924:\tlearn: 0.0751238\ttotal: 2.97s\tremaining: 241ms\n",
            "925:\tlearn: 0.0750079\ttotal: 2.97s\tremaining: 238ms\n",
            "926:\tlearn: 0.0749464\ttotal: 2.98s\tremaining: 234ms\n",
            "927:\tlearn: 0.0747868\ttotal: 2.98s\tremaining: 231ms\n",
            "928:\tlearn: 0.0747037\ttotal: 2.98s\tremaining: 228ms\n",
            "929:\tlearn: 0.0745432\ttotal: 2.98s\tremaining: 225ms\n",
            "930:\tlearn: 0.0744006\ttotal: 2.98s\tremaining: 221ms\n",
            "931:\tlearn: 0.0743707\ttotal: 2.99s\tremaining: 218ms\n",
            "932:\tlearn: 0.0742810\ttotal: 2.99s\tremaining: 215ms\n",
            "933:\tlearn: 0.0741945\ttotal: 2.99s\tremaining: 212ms\n",
            "934:\tlearn: 0.0741083\ttotal: 3s\tremaining: 208ms\n",
            "935:\tlearn: 0.0739705\ttotal: 3s\tremaining: 205ms\n",
            "936:\tlearn: 0.0738683\ttotal: 3.01s\tremaining: 202ms\n",
            "937:\tlearn: 0.0737193\ttotal: 3.01s\tremaining: 199ms\n",
            "938:\tlearn: 0.0735819\ttotal: 3.01s\tremaining: 196ms\n",
            "939:\tlearn: 0.0734715\ttotal: 3.02s\tremaining: 193ms\n",
            "940:\tlearn: 0.0733023\ttotal: 3.02s\tremaining: 189ms\n",
            "941:\tlearn: 0.0731666\ttotal: 3.02s\tremaining: 186ms\n",
            "942:\tlearn: 0.0730893\ttotal: 3.02s\tremaining: 183ms\n",
            "943:\tlearn: 0.0729614\ttotal: 3.03s\tremaining: 180ms\n",
            "944:\tlearn: 0.0728020\ttotal: 3.03s\tremaining: 176ms\n",
            "945:\tlearn: 0.0726883\ttotal: 3.03s\tremaining: 173ms\n",
            "946:\tlearn: 0.0726100\ttotal: 3.04s\tremaining: 170ms\n",
            "947:\tlearn: 0.0725316\ttotal: 3.04s\tremaining: 167ms\n",
            "948:\tlearn: 0.0724607\ttotal: 3.04s\tremaining: 163ms\n",
            "949:\tlearn: 0.0723663\ttotal: 3.04s\tremaining: 160ms\n",
            "950:\tlearn: 0.0722370\ttotal: 3.05s\tremaining: 157ms\n",
            "951:\tlearn: 0.0721341\ttotal: 3.05s\tremaining: 154ms\n",
            "952:\tlearn: 0.0719876\ttotal: 3.05s\tremaining: 151ms\n",
            "953:\tlearn: 0.0717961\ttotal: 3.06s\tremaining: 147ms\n",
            "954:\tlearn: 0.0716908\ttotal: 3.06s\tremaining: 144ms\n",
            "955:\tlearn: 0.0715833\ttotal: 3.06s\tremaining: 141ms\n",
            "956:\tlearn: 0.0715147\ttotal: 3.06s\tremaining: 138ms\n",
            "957:\tlearn: 0.0714447\ttotal: 3.07s\tremaining: 134ms\n",
            "958:\tlearn: 0.0713594\ttotal: 3.07s\tremaining: 131ms\n",
            "959:\tlearn: 0.0712217\ttotal: 3.07s\tremaining: 128ms\n",
            "960:\tlearn: 0.0711688\ttotal: 3.07s\tremaining: 125ms\n",
            "961:\tlearn: 0.0710825\ttotal: 3.08s\tremaining: 122ms\n",
            "962:\tlearn: 0.0709817\ttotal: 3.08s\tremaining: 118ms\n",
            "963:\tlearn: 0.0707917\ttotal: 3.08s\tremaining: 115ms\n",
            "964:\tlearn: 0.0707014\ttotal: 3.09s\tremaining: 112ms\n",
            "965:\tlearn: 0.0706293\ttotal: 3.09s\tremaining: 109ms\n",
            "966:\tlearn: 0.0705705\ttotal: 3.1s\tremaining: 106ms\n",
            "967:\tlearn: 0.0703697\ttotal: 3.1s\tremaining: 103ms\n",
            "968:\tlearn: 0.0702890\ttotal: 3.11s\tremaining: 99.5ms\n",
            "969:\tlearn: 0.0702078\ttotal: 3.11s\tremaining: 96.2ms\n",
            "970:\tlearn: 0.0700824\ttotal: 3.11s\tremaining: 93ms\n",
            "971:\tlearn: 0.0699960\ttotal: 3.12s\tremaining: 89.8ms\n",
            "972:\tlearn: 0.0697644\ttotal: 3.12s\tremaining: 86.6ms\n",
            "973:\tlearn: 0.0696526\ttotal: 3.12s\tremaining: 83.4ms\n",
            "974:\tlearn: 0.0695256\ttotal: 3.13s\tremaining: 80.1ms\n",
            "975:\tlearn: 0.0693028\ttotal: 3.13s\tremaining: 76.9ms\n",
            "976:\tlearn: 0.0691941\ttotal: 3.13s\tremaining: 73.7ms\n",
            "977:\tlearn: 0.0691402\ttotal: 3.13s\tremaining: 70.5ms\n",
            "978:\tlearn: 0.0690561\ttotal: 3.14s\tremaining: 67.3ms\n",
            "979:\tlearn: 0.0689621\ttotal: 3.14s\tremaining: 64.1ms\n",
            "980:\tlearn: 0.0688744\ttotal: 3.14s\tremaining: 60.9ms\n",
            "981:\tlearn: 0.0687547\ttotal: 3.14s\tremaining: 57.6ms\n",
            "982:\tlearn: 0.0686032\ttotal: 3.15s\tremaining: 54.4ms\n",
            "983:\tlearn: 0.0685476\ttotal: 3.15s\tremaining: 51.2ms\n",
            "984:\tlearn: 0.0684808\ttotal: 3.15s\tremaining: 48ms\n",
            "985:\tlearn: 0.0684554\ttotal: 3.15s\tremaining: 44.8ms\n",
            "986:\tlearn: 0.0683230\ttotal: 3.16s\tremaining: 41.6ms\n",
            "987:\tlearn: 0.0682521\ttotal: 3.16s\tremaining: 38.4ms\n",
            "988:\tlearn: 0.0681264\ttotal: 3.17s\tremaining: 35.2ms\n",
            "989:\tlearn: 0.0680784\ttotal: 3.17s\tremaining: 32ms\n",
            "990:\tlearn: 0.0679735\ttotal: 3.17s\tremaining: 28.8ms\n",
            "991:\tlearn: 0.0677615\ttotal: 3.18s\tremaining: 25.6ms\n",
            "992:\tlearn: 0.0676488\ttotal: 3.18s\tremaining: 22.4ms\n",
            "993:\tlearn: 0.0675988\ttotal: 3.18s\tremaining: 19.2ms\n",
            "994:\tlearn: 0.0675535\ttotal: 3.19s\tremaining: 16ms\n",
            "995:\tlearn: 0.0674943\ttotal: 3.19s\tremaining: 12.8ms\n",
            "996:\tlearn: 0.0673791\ttotal: 3.2s\tremaining: 9.62ms\n",
            "997:\tlearn: 0.0673410\ttotal: 3.2s\tremaining: 6.42ms\n",
            "998:\tlearn: 0.0673075\ttotal: 3.2s\tremaining: 3.21ms\n",
            "999:\tlearn: 0.0672672\ttotal: 3.21s\tremaining: 0us\n",
            "accuracy_score for model_cbct is 0.9763956538029225\n",
            "confusion_matrix for model_cbct is [[ 138    0]\n",
            " [  63 2468]]\n",
            "roc_auc_score for model_cbct is 0.98755432635322\n",
            "sorted feature_importance dataframe of model_cbct is (                    feat       coef\n",
            "0              mon_remit  16.869012\n",
            "1                    age  13.623900\n",
            "2               district  12.663031\n",
            "3             int_amount  10.735542\n",
            "4            mon_payment   9.864894\n",
            "5             amount_tjs   8.973304\n",
            "6               int_rate   7.912606\n",
            "7   credit_history_count   6.962698\n",
            "8                 gender   5.472410\n",
            "9               duration   3.646223\n",
            "10        marital_status   2.857087\n",
            "11                sector   0.419294, <BarContainer object of 12 artists>)\n"
          ]
        },
        {
          "output_type": "display_data",
          "data": {
            "text/plain": [
              "<Figure size 1440x360 with 1 Axes>"
            ],
            "image/png": "[encoded data removed]"
          },
          "metadata": {
            "needs_background": "light"
          }
        }
      ]
    },
    {
      "cell_type": "code",
      "source": [
        "model_lgb = lgb.LGBMClassifier()\n",
        "model_lgb.fit(X_train_res, y_train_res)\n",
        "print('accuracy_score for model_lgb is {}'.format(accuracy_score(y, model_lgb.predict(X_norm))))\n",
        "print('confusion_matrix for model_lgb is {}'.format(confusion_matrix(y, model_lgb.predict(X_norm))))\n",
        "print('roc_auc_score for model_lgb is {}'.format(roc_auc_score(y, model_lgb.predict(X_norm))))\n",
        "print('sorted feature_importance dataframe of model_lgb is {}'.format(feat_imp(model_lgb)))"
      ],
      "metadata": {
        "colab": {
          "base_uri": "https://localhost:8080/",
          "height": 498
        },
        "id": "XeSSuadAiZKg",
        "outputId": "047586af-567a-484a-d311-8a14818fa991"
      },
      "execution_count": 26,
      "outputs": [
        {
          "output_type": "stream",
          "name": "stdout",
          "text": [
            "accuracy_score for model_lgb is 0.9786436867740727\n",
            "confusion_matrix for model_lgb is [[ 138    0]\n",
            " [  57 2474]]\n",
            "roc_auc_score for model_lgb is 0.9887396286052943\n",
            "sorted feature_importance dataframe of model_lgb is (                    feat  coef\n",
            "0                    age   514\n",
            "1             int_amount   499\n",
            "2            mon_payment   498\n",
            "3               district   394\n",
            "4             amount_tjs   269\n",
            "5              mon_remit   261\n",
            "6   credit_history_count   185\n",
            "7               int_rate   141\n",
            "8                 gender    79\n",
            "9               duration    70\n",
            "10        marital_status    69\n",
            "11                sector    21, <BarContainer object of 12 artists>)\n"
          ]
        },
        {
          "output_type": "display_data",
          "data": {
            "text/plain": [
              "<Figure size 1440x360 with 1 Axes>"
            ],
            "image/png": "[encoded data removed]"
          },
          "metadata": {
            "needs_background": "light"
          }
        }
      ]
    },
    {
      "cell_type": "code",
      "source": [
        "def m_lr(model):\n",
        "  d_frame = pd.DataFrame({'feat': list(X_norm.columns),\n",
        "              'coef': model.coef_.flatten().tolist()}).sort_values(by='coef', ascending=False).reset_index().drop(['index'], axis = 1)\n",
        "  return d_frame            "
      ],
      "metadata": {
        "id": "NQuuQJVnpkaB"
      },
      "execution_count": 27,
      "outputs": []
    },
    {
      "cell_type": "code",
      "source": [],
      "metadata": {
        "id": "Po6700cfshvn"
      },
      "execution_count": null,
      "outputs": []
    },
    {
      "cell_type": "code",
      "source": [],
      "metadata": {
        "id": "bdEGpAITsh_M"
      },
      "execution_count": null,
      "outputs": []
    },
    {
      "cell_type": "code",
      "source": [],
      "metadata": {
        "id": "CbE-aPEhsiHc"
      },
      "execution_count": null,
      "outputs": []
    },
    {
      "cell_type": "code",
      "source": [
        "model_rfc = RandomForestClassifier()\n",
        "model_rfc.fit(X_train_res, y_train_res)\n",
        "print('accuracy_score for model_rfc is {}'.format(accuracy_score(y, model_rfc.predict(X_norm))))\n",
        "print('confusion_matrix for model_rfc is {}'.format(confusion_matrix(y, model_rfc.predict(X_norm))))\n",
        "print('roc_auc_score for model_rfc is {}'.format(roc_auc_score(y, model_rfc.predict(X_norm))))\n",
        "print('sorted feature_importance dataframe of model_rfc is {}'.format(feat_imp(model_rfc)))"
      ],
      "metadata": {
        "colab": {
          "base_uri": "https://localhost:8080/",
          "height": 497
        },
        "id": "s218U_F8pkNq",
        "outputId": "7ecc1024-2c5a-46ed-cb53-d03df95d2f2b"
      },
      "execution_count": 28,
      "outputs": [
        {
          "output_type": "stream",
          "name": "stdout",
          "text": [
            "accuracy_score for model_rfc is 0.9932559010865493\n",
            "confusion_matrix for model_rfc is [[ 138    0]\n",
            " [  18 2513]]\n",
            "roc_auc_score for model_rfc is 0.9964440932437771\n",
            "sorted feature_importance dataframe of model_rfc is (                    feat      coef\n",
            "0             int_amount  0.136751\n",
            "1                    age  0.133145\n",
            "2            mon_payment  0.128161\n",
            "3             amount_tjs  0.118481\n",
            "4              mon_remit  0.111453\n",
            "5               district  0.101641\n",
            "6   credit_history_count  0.077581\n",
            "7               int_rate  0.071162\n",
            "8                 gender  0.047826\n",
            "9               duration  0.042849\n",
            "10        marital_status  0.024837\n",
            "11                sector  0.006114, <BarContainer object of 12 artists>)\n"
          ]
        },
        {
          "output_type": "display_data",
          "data": {
            "text/plain": [
              "<Figure size 1440x360 with 1 Axes>"
            ],
            "image/png": "[encoded data removed]"
          },
          "metadata": {
            "needs_background": "light"
          }
        }
      ]
    },
    {
      "cell_type": "code",
      "source": [],
      "metadata": {
        "id": "hIfYUnr1fzod"
      },
      "execution_count": null,
      "outputs": []
    },
    {
      "cell_type": "code",
      "source": [],
      "metadata": {
        "id": "_bcqySAifzd5"
      },
      "execution_count": null,
      "outputs": []
    },
    {
      "cell_type": "code",
      "source": [],
      "metadata": {
        "id": "GjS5DvN5s4fO"
      },
      "execution_count": null,
      "outputs": []
    },
    {
      "cell_type": "code",
      "source": [
        "xgb1 = xgb.XGBClassifier(\n",
        "        learning_rate=0.1,\n",
        "        n_estimators=150,\n",
        "        objective= 'binary:logistic',\n",
        "        nthread=4,\n",
        "        scale_pos_weight=1,\n",
        "        seed=27)"
      ],
      "metadata": {
        "id": "wG7SFwaOb9y-"
      },
      "execution_count": 29,
      "outputs": []
    },
    {
      "cell_type": "code",
      "source": [
        "xgb1.fit(X_train_res, y_train_res)"
      ],
      "metadata": {
        "colab": {
          "base_uri": "https://localhost:8080/"
        },
        "id": "5UPd3op6b9sy",
        "outputId": "30f16bab-d420-4b94-e55f-b3f8e65e4551"
      },
      "execution_count": 30,
      "outputs": [
        {
          "output_type": "execute_result",
          "data": {
            "text/plain": [
              "XGBClassifier(n_estimators=150, nthread=4, seed=27)"
            ]
          },
          "metadata": {},
          "execution_count": 30
        }
      ]
    },
    {
      "cell_type": "code",
      "source": [
        "accuracy_score(y, xgb1.predict(X_norm))"
      ],
      "metadata": {
        "id": "D_hAecBAs4U-",
        "colab": {
          "base_uri": "https://localhost:8080/"
        },
        "outputId": "6e52e3db-c984-4e32-d5fb-7e3f0991c639"
      },
      "execution_count": 31,
      "outputs": [
        {
          "output_type": "execute_result",
          "data": {
            "text/plain": [
              "0.8838516298239041"
            ]
          },
          "metadata": {},
          "execution_count": 31
        }
      ]
    },
    {
      "cell_type": "code",
      "source": [
        "param_test1 = {\n",
        "    'max_depth':range(3,10,2),\n",
        "    'min_child_weight':range(1,6,2)\n",
        "}\n",
        "gsearch1 = GridSearchCV(estimator = xgb.XGBClassifier(learning_rate=0.1, n_estimators=150,\n",
        "                                        objective= 'binary:logistic', nthread=4, scale_pos_weight=1, seed=27), \n",
        "                       param_grid = param_test1, scoring='accuracy',n_jobs=4, cv=5)\n",
        "gsearch1.fit(X_train_res, y_train_res)"
      ],
      "metadata": {
        "id": "_qg1cVats4Q1",
        "colab": {
          "base_uri": "https://localhost:8080/"
        },
        "outputId": "f0bbb1ba-0286-40c0-9570-a6a34611a35d"
      },
      "execution_count": 32,
      "outputs": [
        {
          "output_type": "execute_result",
          "data": {
            "text/plain": [
              "GridSearchCV(cv=5,\n",
              "             estimator=XGBClassifier(n_estimators=150, nthread=4, seed=27),\n",
              "             n_jobs=4,\n",
              "             param_grid={'max_depth': range(3, 10, 2),\n",
              "                         'min_child_weight': range(1, 6, 2)},\n",
              "             scoring='accuracy')"
            ]
          },
          "metadata": {},
          "execution_count": 32
        }
      ]
    },
    {
      "cell_type": "code",
      "source": [
        "gsearch1.best_params_, gsearch1.best_score_"
      ],
      "metadata": {
        "id": "skDJk_fOs4MP",
        "colab": {
          "base_uri": "https://localhost:8080/"
        },
        "outputId": "9f801ab2-7f5c-4051-c78a-603e9eef23a3"
      },
      "execution_count": 33,
      "outputs": [
        {
          "output_type": "execute_result",
          "data": {
            "text/plain": [
              "({'max_depth': 9, 'min_child_weight': 1}, 0.9797163858262256)"
            ]
          },
          "metadata": {},
          "execution_count": 33
        }
      ]
    },
    {
      "cell_type": "code",
      "source": [
        "param_test2 = {\n",
        "    'max_depth':[2,3,4],\n",
        "    'min_child_weight':[2,3,4]\n",
        "}\n",
        "gsearch2 = GridSearchCV(estimator = xgb.XGBClassifier( learning_rate=0.1, n_estimators=150, \n",
        "                                        objective= 'binary:logistic', nthread=4, scale_pos_weight=1,seed=27), \n",
        "                       param_grid = param_test2, scoring='accuracy',n_jobs=4,  cv=5)\n",
        "gsearch2.fit(X_train_res, y_train_res)"
      ],
      "metadata": {
        "id": "iaH7iqrQcbK6",
        "colab": {
          "base_uri": "https://localhost:8080/"
        },
        "outputId": "05afc794-af94-4b2b-ec1f-e33a3e1c6e1c"
      },
      "execution_count": 34,
      "outputs": [
        {
          "output_type": "execute_result",
          "data": {
            "text/plain": [
              "GridSearchCV(cv=5,\n",
              "             estimator=XGBClassifier(n_estimators=150, nthread=4, seed=27),\n",
              "             n_jobs=4,\n",
              "             param_grid={'max_depth': [2, 3, 4], 'min_child_weight': [2, 3, 4]},\n",
              "             scoring='accuracy')"
            ]
          },
          "metadata": {},
          "execution_count": 34
        }
      ]
    },
    {
      "cell_type": "code",
      "source": [
        "gsearch2.best_params_, gsearch2.best_score_"
      ],
      "metadata": {
        "colab": {
          "base_uri": "https://localhost:8080/"
        },
        "id": "opwZzAJ3cbHM",
        "outputId": "4708a254-097a-4d2f-9982-3e9695d6c72e"
      },
      "execution_count": 35,
      "outputs": [
        {
          "output_type": "execute_result",
          "data": {
            "text/plain": [
              "({'max_depth': 4, 'min_child_weight': 3}, 0.9467848970251715)"
            ]
          },
          "metadata": {},
          "execution_count": 35
        }
      ]
    },
    {
      "cell_type": "code",
      "source": [
        "accuracy_score(y, gsearch2.predict(X_norm)), accuracy_score(y, gsearch1.predict(X_norm))"
      ],
      "metadata": {
        "colab": {
          "base_uri": "https://localhost:8080/"
        },
        "id": "dtX_Q9VkcbC8",
        "outputId": "2f9b34eb-7a64-47cc-c165-13440a8e4e0a"
      },
      "execution_count": 36,
      "outputs": [
        {
          "output_type": "execute_result",
          "data": {
            "text/plain": [
              "(0.9325590108654926, 0.9891345073061072)"
            ]
          },
          "metadata": {},
          "execution_count": 36
        }
      ]
    },
    {
      "cell_type": "code",
      "source": [],
      "metadata": {
        "id": "I_WBi2wudwPF"
      },
      "execution_count": null,
      "outputs": []
    },
    {
      "cell_type": "code",
      "source": [
        "param_test2b = {\n",
        "    'min_child_weight':[5,6,7]\n",
        "}\n",
        "gsearch2b = GridSearchCV(estimator = xgb.XGBClassifier( learning_rate=0.1, n_estimators=150, max_depth=9,\n",
        "                                        objective= 'binary:logistic', nthread=4, scale_pos_weight=1,seed=27), \n",
        "                       param_grid = param_test2b, scoring='accuracy',n_jobs=4, cv=5)\n",
        "gsearch2b.fit(X_train_res, y_train_res)"
      ],
      "metadata": {
        "colab": {
          "base_uri": "https://localhost:8080/"
        },
        "id": "8KgkGMhZca3i",
        "outputId": "6f76e390-e06f-40c8-b6ef-29a75b644192"
      },
      "execution_count": 37,
      "outputs": [
        {
          "output_type": "execute_result",
          "data": {
            "text/plain": [
              "GridSearchCV(cv=5,\n",
              "             estimator=XGBClassifier(max_depth=9, n_estimators=150, nthread=4,\n",
              "                                     seed=27),\n",
              "             n_jobs=4, param_grid={'min_child_weight': [5, 6, 7]},\n",
              "             scoring='accuracy')"
            ]
          },
          "metadata": {},
          "execution_count": 37
        }
      ]
    },
    {
      "cell_type": "code",
      "source": [
        "gsearch2b.best_params_, gsearch2b.best_score_"
      ],
      "metadata": {
        "colab": {
          "base_uri": "https://localhost:8080/"
        },
        "id": "nHJ99GSreCwN",
        "outputId": "c8620ba6-5ee2-44e5-a509-184b3e9ffe9b"
      },
      "execution_count": 38,
      "outputs": [
        {
          "output_type": "execute_result",
          "data": {
            "text/plain": [
              "({'min_child_weight': 5}, 0.9749767699882117)"
            ]
          },
          "metadata": {},
          "execution_count": 38
        }
      ]
    },
    {
      "cell_type": "code",
      "source": [
        "accuracy_score(y, gsearch2b.predict(X_norm))"
      ],
      "metadata": {
        "colab": {
          "base_uri": "https://localhost:8080/"
        },
        "id": "G7sby4PMcazq",
        "outputId": "c0e9bc0a-f014-43d6-fce8-e87289f1be44"
      },
      "execution_count": 39,
      "outputs": [
        {
          "output_type": "execute_result",
          "data": {
            "text/plain": [
              "0.9797677032596478"
            ]
          },
          "metadata": {},
          "execution_count": 39
        }
      ]
    },
    {
      "cell_type": "code",
      "source": [
        "param_test3 = {\n",
        "    'gamma': [0.2, 0.4, 0.6, 0.8]\n",
        "}\n",
        "gsearch3 = GridSearchCV(estimator = xgb.XGBClassifier( learning_rate=0.1, n_estimators=150, max_depth=9, min_child_weight = 5,\n",
        "                                        objective= 'binary:logistic', nthread=4, scale_pos_weight=1,seed=27), \n",
        "                       param_grid = param_test3, scoring='accuracy',n_jobs=4, cv=5)\n",
        "gsearch3.fit(X_train_res, y_train_res)"
      ],
      "metadata": {
        "colab": {
          "base_uri": "https://localhost:8080/"
        },
        "id": "i4o-nzg4casv",
        "outputId": "3dc116d3-4eb1-451e-f0a8-773fffc52bde"
      },
      "execution_count": 40,
      "outputs": [
        {
          "output_type": "execute_result",
          "data": {
            "text/plain": [
              "GridSearchCV(cv=5,\n",
              "             estimator=XGBClassifier(max_depth=9, min_child_weight=5,\n",
              "                                     n_estimators=150, nthread=4, seed=27),\n",
              "             n_jobs=4, param_grid={'gamma': [0.2, 0.4, 0.6, 0.8]},\n",
              "             scoring='accuracy')"
            ]
          },
          "metadata": {},
          "execution_count": 40
        }
      ]
    },
    {
      "cell_type": "code",
      "source": [
        "gsearch3.best_params_, gsearch3.best_score_"
      ],
      "metadata": {
        "colab": {
          "base_uri": "https://localhost:8080/"
        },
        "id": "MhHPkBO_fEPK",
        "outputId": "f7c0e51f-c30b-411a-9cf2-28b7c8b03d49"
      },
      "execution_count": 41,
      "outputs": [
        {
          "output_type": "execute_result",
          "data": {
            "text/plain": [
              "({'gamma': 0.6}, 0.9733947021704459)"
            ]
          },
          "metadata": {},
          "execution_count": 41
        }
      ]
    },
    {
      "cell_type": "code",
      "source": [
        "accuracy_score(y, gsearch3.predict(X_norm))"
      ],
      "metadata": {
        "colab": {
          "base_uri": "https://localhost:8080/"
        },
        "id": "BmXoqugffEL2",
        "outputId": "90bc37fe-9275-4a6b-8379-cffdee2e6f47"
      },
      "execution_count": 42,
      "outputs": [
        {
          "output_type": "execute_result",
          "data": {
            "text/plain": [
              "0.9778943424503559"
            ]
          },
          "metadata": {},
          "execution_count": 42
        }
      ]
    },
    {
      "cell_type": "code",
      "source": [
        "xgb2 = xgb.XGBClassifier(\n",
        "        learning_rate =0.1,\n",
        "        n_estimators=150,\n",
        "        max_depth=9,\n",
        "        min_child_weight=5,\n",
        "        gamma = 0.4,\n",
        "        objective= 'binary:logistic',\n",
        "        nthread=4,\n",
        "        scale_pos_weight=1,\n",
        "        \n",
        "        seed=27)\n",
        "xgb2.fit(X_train_res, y_train_res)\n",
        "accuracy_score(y, xgb2.predict(X_norm))"
      ],
      "metadata": {
        "colab": {
          "base_uri": "https://localhost:8080/"
        },
        "id": "1xljUdPmfEIE",
        "outputId": "669ccd02-3b7d-49b9-9dcb-b614acacca2f"
      },
      "execution_count": 43,
      "outputs": [
        {
          "output_type": "execute_result",
          "data": {
            "text/plain": [
              "0.9805170475833646"
            ]
          },
          "metadata": {},
          "execution_count": 43
        }
      ]
    },
    {
      "cell_type": "code",
      "source": [
        "param_test4 = {\n",
        "    'subsample': [0.6,0.7,0.8,0.9,1.],\n",
        "    'colsample_bytree': [0.6,0.7,0.8,0.9,1.]\n",
        "}\n",
        "gsearch4 = GridSearchCV(estimator = xgb.XGBClassifier( learning_rate=0.1, n_estimators=150, max_depth=9, min_child_weight = 5, gamma = 0.4,\n",
        "                                        objective= 'binary:logistic', nthread=4, scale_pos_weight=1,seed=27), \n",
        "                       param_grid = param_test4, scoring='accuracy',n_jobs=4, cv=5)\n",
        "gsearch4.fit(X_train_res, y_train_res)"
      ],
      "metadata": {
        "colab": {
          "base_uri": "https://localhost:8080/"
        },
        "id": "VeAHFnO7fEEV",
        "outputId": "867c56dc-bfd9-4230-8e77-81d15a4ac03d"
      },
      "execution_count": 44,
      "outputs": [
        {
          "output_type": "execute_result",
          "data": {
            "text/plain": [
              "GridSearchCV(cv=5,\n",
              "             estimator=XGBClassifier(gamma=0.4, max_depth=9, min_child_weight=5,\n",
              "                                     n_estimators=150, nthread=4, seed=27),\n",
              "             n_jobs=4,\n",
              "             param_grid={'colsample_bytree': [0.6, 0.7, 0.8, 0.9, 1.0],\n",
              "                         'subsample': [0.6, 0.7, 0.8, 0.9, 1.0]},\n",
              "             scoring='accuracy')"
            ]
          },
          "metadata": {},
          "execution_count": 44
        }
      ]
    },
    {
      "cell_type": "code",
      "source": [
        "gsearch4.best_params_, gsearch4.best_score_"
      ],
      "metadata": {
        "colab": {
          "base_uri": "https://localhost:8080/"
        },
        "id": "I03sNspcfD4v",
        "outputId": "e64fad5a-4a8b-4e46-ef45-33a4b92376ce"
      },
      "execution_count": 45,
      "outputs": [
        {
          "output_type": "execute_result",
          "data": {
            "text/plain": [
              "({'colsample_bytree': 1.0, 'subsample': 0.9}, 0.9736589002149643)"
            ]
          },
          "metadata": {},
          "execution_count": 45
        }
      ]
    },
    {
      "cell_type": "code",
      "source": [
        "accuracy_score(y, gsearch4.predict(X_norm))"
      ],
      "metadata": {
        "colab": {
          "base_uri": "https://localhost:8080/"
        },
        "id": "qUYZHoObgtr_",
        "outputId": "8dfd735a-d709-4318-f900-691e4e401b43"
      },
      "execution_count": 46,
      "outputs": [
        {
          "output_type": "execute_result",
          "data": {
            "text/plain": [
              "0.9801423754215062"
            ]
          },
          "metadata": {},
          "execution_count": 46
        }
      ]
    },
    {
      "cell_type": "code",
      "source": [
        "param_test5 = {\n",
        "    'reg_alpha': [1e-5, 1e-2, 0.1, 1, 100]\n",
        "}\n",
        "gsearch5 = GridSearchCV(estimator = xgb.XGBClassifier( learning_rate=0.1, n_estimators=150, max_depth=9, min_child_weight = 5, gamma = 0.4, subsample = 0.9, colsample_bytree = 1,\n",
        "                                        objective= 'binary:logistic', nthread=4, scale_pos_weight=1,  seed=27),  \n",
        "                       param_grid = param_test5, scoring='accuracy',n_jobs=4, cv=5)\n",
        "gsearch5.fit(X_train_res, y_train_res)"
      ],
      "metadata": {
        "colab": {
          "base_uri": "https://localhost:8080/"
        },
        "id": "WRzhvDSXgQYX",
        "outputId": "3ab3fa98-0aa9-4b91-8f4a-70d0c14e997f"
      },
      "execution_count": 47,
      "outputs": [
        {
          "output_type": "execute_result",
          "data": {
            "text/plain": [
              "GridSearchCV(cv=5,\n",
              "             estimator=XGBClassifier(gamma=0.4, max_depth=9, min_child_weight=5,\n",
              "                                     n_estimators=150, nthread=4, seed=27,\n",
              "                                     subsample=0.9),\n",
              "             n_jobs=4, param_grid={'reg_alpha': [1e-05, 0.01, 0.1, 1, 100]},\n",
              "             scoring='accuracy')"
            ]
          },
          "metadata": {},
          "execution_count": 47
        }
      ]
    },
    {
      "cell_type": "code",
      "source": [
        "gsearch5.best_params_, gsearch5.best_score_"
      ],
      "metadata": {
        "colab": {
          "base_uri": "https://localhost:8080/"
        },
        "id": "u_4zMHQQgQRL",
        "outputId": "2ec3c70d-a5aa-413c-b72b-5bdb14350ff1"
      },
      "execution_count": 48,
      "outputs": [
        {
          "output_type": "execute_result",
          "data": {
            "text/plain": [
              "({'reg_alpha': 0.01}, 0.974185216004438)"
            ]
          },
          "metadata": {},
          "execution_count": 48
        }
      ]
    },
    {
      "cell_type": "code",
      "source": [
        "accuracy_score(y, gsearch5.predict(X_norm))"
      ],
      "metadata": {
        "colab": {
          "base_uri": "https://localhost:8080/"
        },
        "id": "c1sePI-PgQEh",
        "outputId": "a86188a3-2d8a-45fe-a5d8-ad2423d67082"
      },
      "execution_count": 49,
      "outputs": [
        {
          "output_type": "execute_result",
          "data": {
            "text/plain": [
              "0.979018358935931"
            ]
          },
          "metadata": {},
          "execution_count": 49
        }
      ]
    },
    {
      "cell_type": "code",
      "source": [
        "model_xgb = xgb.XGBClassifier(\n",
        "        learning_rate=0.1,     \n",
        "        n_estimators=150,   \n",
        "        max_depth= 9,\n",
        "        min_child_weight= 5,\n",
        "        gamma= 0.4,\n",
        "        subsample= 0.9,\n",
        "        colsample_bytree= 1,\n",
        "        reg_alpha= 1e-05,\n",
        "        objective= 'binary:logistic',\n",
        "        nthread=4,\n",
        "        scale_pos_weight=1,\n",
        "        seed=27)\n",
        "model_xgb.fit(X_train_res, y_train_res)\n",
        "accuracy_score(y, model_xgb.predict(X_norm))"
      ],
      "metadata": {
        "colab": {
          "base_uri": "https://localhost:8080/"
        },
        "id": "D9r-rZUuhLXy",
        "outputId": "d1910f67-5191-4e94-f13c-5c3ac201efbe"
      },
      "execution_count": 74,
      "outputs": [
        {
          "output_type": "execute_result",
          "data": {
            "text/plain": [
              "0.9801423754215062"
            ]
          },
          "metadata": {},
          "execution_count": 74
        }
      ]
    },
    {
      "cell_type": "code",
      "source": [
        "print('accuracy_score for model_xgb is {}'.format(accuracy_score(y, model_xgb.predict(X_norm))))\n",
        "print('confusion_matrix for model_xgb is {}'.format(confusion_matrix(y, model_xgb.predict(X_norm))))\n",
        "print('roc_auc_score for model_xgb is {}'.format(roc_auc_score(y, model_xgb.predict(X_norm))))\n",
        "print('sorted feature_importance dataframe of model_xgb is {}'.format(feat_imp(model_xgb)))"
      ],
      "metadata": {
        "colab": {
          "base_uri": "https://localhost:8080/",
          "height": 496
        },
        "id": "cwol09AQhLP0",
        "outputId": "7bc8d4c5-34fe-4fd0-fc42-6a0d9e7a5c90"
      },
      "execution_count": 144,
      "outputs": [
        {
          "output_type": "stream",
          "name": "stdout",
          "text": [
            "accuracy_score for model_xgb is 0.9801423754215062\n",
            "confusion_matrix for model_xgb is [[ 138    0]\n",
            " [  53 2478]]\n",
            "roc_auc_score for model_xgb is 0.9895298301066773\n",
            "sorted feature_importance dataframe of model_xgb is (                    feat      coef\n",
            "0                 gender  0.185528\n",
            "1   credit_history_count  0.103422\n",
            "2               int_rate  0.099638\n",
            "3             amount_tjs  0.095345\n",
            "4              mon_remit  0.092824\n",
            "5             int_amount  0.078038\n",
            "6               district  0.063640\n",
            "7               duration  0.062109\n",
            "8            mon_payment  0.061293\n",
            "9                    age  0.058082\n",
            "10        marital_status  0.054519\n",
            "11                sector  0.045561, <BarContainer object of 12 artists>)\n"
          ]
        },
        {
          "output_type": "display_data",
          "data": {
            "text/plain": [
              "<Figure size 1440x360 with 1 Axes>"
            ],
            "image/png": "[encoded data removed]"
          },
          "metadata": {
            "needs_background": "light"
          }
        }
      ]
    },
    {
      "cell_type": "code",
      "source": [],
      "metadata": {
        "id": "51h3Jx-I8f4d"
      },
      "execution_count": null,
      "outputs": []
    },
    {
      "cell_type": "code",
      "source": [],
      "metadata": {
        "id": "ZwHeO2Kd8fsk"
      },
      "execution_count": null,
      "outputs": []
    },
    {
      "cell_type": "code",
      "source": [
        "param_test_lr1 = {\n",
        "    'C': [1e-4, 1e-2, 1e-1, 10, 1000, 10000]\n",
        "     }\n",
        "gsearch1r = GridSearchCV(LogisticRegression(), param_test_lr1)\n",
        "gsearch1r.fit(X_train_res, y_train_res)"
      ],
      "metadata": {
        "colab": {
          "base_uri": "https://localhost:8080/"
        },
        "id": "pJkl6Fsn2WKQ",
        "outputId": "5ce51a82-f74f-4a13-cd95-c0f2cd905d4a"
      },
      "execution_count": 52,
      "outputs": [
        {
          "output_type": "execute_result",
          "data": {
            "text/plain": [
              "GridSearchCV(estimator=LogisticRegression(),\n",
              "             param_grid={'C': [0.0001, 0.01, 0.1, 10, 1000, 10000]})"
            ]
          },
          "metadata": {},
          "execution_count": 52
        }
      ]
    },
    {
      "cell_type": "code",
      "source": [
        "gsearch1r.best_params_, gsearch1r.best_score_"
      ],
      "metadata": {
        "colab": {
          "base_uri": "https://localhost:8080/"
        },
        "id": "gaipqN843v3C",
        "outputId": "58522e0e-6c6c-4ad4-e579-1790469dc1fc"
      },
      "execution_count": 53,
      "outputs": [
        {
          "output_type": "execute_result",
          "data": {
            "text/plain": [
              "({'C': 10}, 0.6585829692809098)"
            ]
          },
          "metadata": {},
          "execution_count": 53
        }
      ]
    },
    {
      "cell_type": "code",
      "source": [],
      "metadata": {
        "id": "VbmFzPRg5hGV"
      },
      "execution_count": null,
      "outputs": []
    },
    {
      "cell_type": "code",
      "source": [
        "param_test_lr2 = {\n",
        "    'solver' : ['newton-cg', 'lbfgs', 'liblinear', 'sag', 'saga'],\n",
        "    'penalty' : ['l1', 'l2'],\n",
        "    'max_iter' :[1,10,100,1000]\n",
        "}\n",
        "gsearch2r = GridSearchCV(LogisticRegression(C = 1000), param_test_lr2)\n",
        "gsearch2r.fit(X_train_res, y_train_res)"
      ],
      "metadata": {
        "colab": {
          "base_uri": "https://localhost:8080/"
        },
        "id": "zg-vSqAt37EZ",
        "outputId": "1cc2e5a8-e7fb-441a-bf4f-8a18d8ef6354"
      },
      "execution_count": 54,
      "outputs": [
        {
          "output_type": "stream",
          "name": "stderr",
          "text": [
            "/usr/local/lib/python3.8/dist-packages/sklearn/svm/_base.py:1206: ConvergenceWarning: Liblinear failed to converge, increase the number of iterations.\n",
            "  warnings.warn(\n",
            "/usr/local/lib/python3.8/dist-packages/sklearn/svm/_base.py:1206: ConvergenceWarning: Liblinear failed to converge, increase the number of iterations.\n",
            "  warnings.warn(\n",
            "/usr/local/lib/python3.8/dist-packages/sklearn/svm/_base.py:1206: ConvergenceWarning: Liblinear failed to converge, increase the number of iterations.\n",
            "  warnings.warn(\n",
            "/usr/local/lib/python3.8/dist-packages/sklearn/svm/_base.py:1206: ConvergenceWarning: Liblinear failed to converge, increase the number of iterations.\n",
            "  warnings.warn(\n",
            "/usr/local/lib/python3.8/dist-packages/sklearn/svm/_base.py:1206: ConvergenceWarning: Liblinear failed to converge, increase the number of iterations.\n",
            "  warnings.warn(\n",
            "/usr/local/lib/python3.8/dist-packages/sklearn/linear_model/_sag.py:352: ConvergenceWarning: The max_iter was reached which means the coef_ did not converge\n",
            "  warnings.warn(\n",
            "/usr/local/lib/python3.8/dist-packages/sklearn/linear_model/_sag.py:352: ConvergenceWarning: The max_iter was reached which means the coef_ did not converge\n",
            "  warnings.warn(\n",
            "/usr/local/lib/python3.8/dist-packages/sklearn/linear_model/_sag.py:352: ConvergenceWarning: The max_iter was reached which means the coef_ did not converge\n",
            "  warnings.warn(\n",
            "/usr/local/lib/python3.8/dist-packages/sklearn/linear_model/_sag.py:352: ConvergenceWarning: The max_iter was reached which means the coef_ did not converge\n",
            "  warnings.warn(\n",
            "/usr/local/lib/python3.8/dist-packages/sklearn/linear_model/_sag.py:352: ConvergenceWarning: The max_iter was reached which means the coef_ did not converge\n",
            "  warnings.warn(\n",
            "/usr/local/lib/python3.8/dist-packages/sklearn/utils/optimize.py:210: ConvergenceWarning: newton-cg failed to converge. Increase the number of iterations.\n",
            "  warnings.warn(\n",
            "/usr/local/lib/python3.8/dist-packages/sklearn/utils/optimize.py:210: ConvergenceWarning: newton-cg failed to converge. Increase the number of iterations.\n",
            "  warnings.warn(\n",
            "/usr/local/lib/python3.8/dist-packages/sklearn/utils/optimize.py:210: ConvergenceWarning: newton-cg failed to converge. Increase the number of iterations.\n",
            "  warnings.warn(\n",
            "/usr/local/lib/python3.8/dist-packages/sklearn/utils/optimize.py:210: ConvergenceWarning: newton-cg failed to converge. Increase the number of iterations.\n",
            "  warnings.warn(\n",
            "/usr/local/lib/python3.8/dist-packages/sklearn/utils/optimize.py:210: ConvergenceWarning: newton-cg failed to converge. Increase the number of iterations.\n",
            "  warnings.warn(\n",
            "/usr/local/lib/python3.8/dist-packages/sklearn/linear_model/_logistic.py:814: ConvergenceWarning: lbfgs failed to converge (status=1):\n",
            "STOP: TOTAL NO. of ITERATIONS REACHED LIMIT.\n",
            "\n",
            "Increase the number of iterations (max_iter) or scale the data as shown in:\n",
            "    https://scikit-learn.org/stable/modules/preprocessing.html\n",
            "Please also refer to the documentation for alternative solver options:\n",
            "    https://scikit-learn.org/stable/modules/linear_model.html#logistic-regression\n",
            "  n_iter_i = _check_optimize_result(\n",
            "/usr/local/lib/python3.8/dist-packages/sklearn/linear_model/_logistic.py:814: ConvergenceWarning: lbfgs failed to converge (status=1):\n",
            "STOP: TOTAL NO. of ITERATIONS REACHED LIMIT.\n",
            "\n",
            "Increase the number of iterations (max_iter) or scale the data as shown in:\n",
            "    https://scikit-learn.org/stable/modules/preprocessing.html\n",
            "Please also refer to the documentation for alternative solver options:\n",
            "    https://scikit-learn.org/stable/modules/linear_model.html#logistic-regression\n",
            "  n_iter_i = _check_optimize_result(\n",
            "/usr/local/lib/python3.8/dist-packages/sklearn/linear_model/_logistic.py:814: ConvergenceWarning: lbfgs failed to converge (status=1):\n",
            "STOP: TOTAL NO. of ITERATIONS REACHED LIMIT.\n",
            "\n",
            "Increase the number of iterations (max_iter) or scale the data as shown in:\n",
            "    https://scikit-learn.org/stable/modules/preprocessing.html\n",
            "Please also refer to the documentation for alternative solver options:\n",
            "    https://scikit-learn.org/stable/modules/linear_model.html#logistic-regression\n",
            "  n_iter_i = _check_optimize_result(\n",
            "/usr/local/lib/python3.8/dist-packages/sklearn/linear_model/_logistic.py:814: ConvergenceWarning: lbfgs failed to converge (status=1):\n",
            "STOP: TOTAL NO. of ITERATIONS REACHED LIMIT.\n",
            "\n",
            "Increase the number of iterations (max_iter) or scale the data as shown in:\n",
            "    https://scikit-learn.org/stable/modules/preprocessing.html\n",
            "Please also refer to the documentation for alternative solver options:\n",
            "    https://scikit-learn.org/stable/modules/linear_model.html#logistic-regression\n",
            "  n_iter_i = _check_optimize_result(\n",
            "/usr/local/lib/python3.8/dist-packages/sklearn/linear_model/_logistic.py:814: ConvergenceWarning: lbfgs failed to converge (status=1):\n",
            "STOP: TOTAL NO. of ITERATIONS REACHED LIMIT.\n",
            "\n",
            "Increase the number of iterations (max_iter) or scale the data as shown in:\n",
            "    https://scikit-learn.org/stable/modules/preprocessing.html\n",
            "Please also refer to the documentation for alternative solver options:\n",
            "    https://scikit-learn.org/stable/modules/linear_model.html#logistic-regression\n",
            "  n_iter_i = _check_optimize_result(\n",
            "/usr/local/lib/python3.8/dist-packages/sklearn/svm/_base.py:1206: ConvergenceWarning: Liblinear failed to converge, increase the number of iterations.\n",
            "  warnings.warn(\n",
            "/usr/local/lib/python3.8/dist-packages/sklearn/svm/_base.py:1206: ConvergenceWarning: Liblinear failed to converge, increase the number of iterations.\n",
            "  warnings.warn(\n",
            "/usr/local/lib/python3.8/dist-packages/sklearn/svm/_base.py:1206: ConvergenceWarning: Liblinear failed to converge, increase the number of iterations.\n",
            "  warnings.warn(\n",
            "/usr/local/lib/python3.8/dist-packages/sklearn/svm/_base.py:1206: ConvergenceWarning: Liblinear failed to converge, increase the number of iterations.\n",
            "  warnings.warn(\n",
            "/usr/local/lib/python3.8/dist-packages/sklearn/svm/_base.py:1206: ConvergenceWarning: Liblinear failed to converge, increase the number of iterations.\n",
            "  warnings.warn(\n",
            "/usr/local/lib/python3.8/dist-packages/sklearn/linear_model/_sag.py:352: ConvergenceWarning: The max_iter was reached which means the coef_ did not converge\n",
            "  warnings.warn(\n",
            "/usr/local/lib/python3.8/dist-packages/sklearn/linear_model/_sag.py:352: ConvergenceWarning: The max_iter was reached which means the coef_ did not converge\n",
            "  warnings.warn(\n",
            "/usr/local/lib/python3.8/dist-packages/sklearn/linear_model/_sag.py:352: ConvergenceWarning: The max_iter was reached which means the coef_ did not converge\n",
            "  warnings.warn(\n",
            "/usr/local/lib/python3.8/dist-packages/sklearn/linear_model/_sag.py:352: ConvergenceWarning: The max_iter was reached which means the coef_ did not converge\n",
            "  warnings.warn(\n",
            "/usr/local/lib/python3.8/dist-packages/sklearn/linear_model/_sag.py:352: ConvergenceWarning: The max_iter was reached which means the coef_ did not converge\n",
            "  warnings.warn(\n",
            "/usr/local/lib/python3.8/dist-packages/sklearn/linear_model/_sag.py:352: ConvergenceWarning: The max_iter was reached which means the coef_ did not converge\n",
            "  warnings.warn(\n",
            "/usr/local/lib/python3.8/dist-packages/sklearn/linear_model/_sag.py:352: ConvergenceWarning: The max_iter was reached which means the coef_ did not converge\n",
            "  warnings.warn(\n",
            "/usr/local/lib/python3.8/dist-packages/sklearn/linear_model/_sag.py:352: ConvergenceWarning: The max_iter was reached which means the coef_ did not converge\n",
            "  warnings.warn(\n",
            "/usr/local/lib/python3.8/dist-packages/sklearn/linear_model/_sag.py:352: ConvergenceWarning: The max_iter was reached which means the coef_ did not converge\n",
            "  warnings.warn(\n",
            "/usr/local/lib/python3.8/dist-packages/sklearn/linear_model/_sag.py:352: ConvergenceWarning: The max_iter was reached which means the coef_ did not converge\n",
            "  warnings.warn(\n",
            "/usr/local/lib/python3.8/dist-packages/sklearn/svm/_base.py:1206: ConvergenceWarning: Liblinear failed to converge, increase the number of iterations.\n",
            "  warnings.warn(\n",
            "/usr/local/lib/python3.8/dist-packages/sklearn/svm/_base.py:1206: ConvergenceWarning: Liblinear failed to converge, increase the number of iterations.\n",
            "  warnings.warn(\n",
            "/usr/local/lib/python3.8/dist-packages/sklearn/svm/_base.py:1206: ConvergenceWarning: Liblinear failed to converge, increase the number of iterations.\n",
            "  warnings.warn(\n",
            "/usr/local/lib/python3.8/dist-packages/sklearn/svm/_base.py:1206: ConvergenceWarning: Liblinear failed to converge, increase the number of iterations.\n",
            "  warnings.warn(\n",
            "/usr/local/lib/python3.8/dist-packages/sklearn/svm/_base.py:1206: ConvergenceWarning: Liblinear failed to converge, increase the number of iterations.\n",
            "  warnings.warn(\n",
            "/usr/local/lib/python3.8/dist-packages/sklearn/linear_model/_sag.py:352: ConvergenceWarning: The max_iter was reached which means the coef_ did not converge\n",
            "  warnings.warn(\n",
            "/usr/local/lib/python3.8/dist-packages/sklearn/linear_model/_sag.py:352: ConvergenceWarning: The max_iter was reached which means the coef_ did not converge\n",
            "  warnings.warn(\n",
            "/usr/local/lib/python3.8/dist-packages/sklearn/linear_model/_sag.py:352: ConvergenceWarning: The max_iter was reached which means the coef_ did not converge\n",
            "  warnings.warn(\n",
            "/usr/local/lib/python3.8/dist-packages/sklearn/linear_model/_sag.py:352: ConvergenceWarning: The max_iter was reached which means the coef_ did not converge\n",
            "  warnings.warn(\n",
            "/usr/local/lib/python3.8/dist-packages/sklearn/linear_model/_sag.py:352: ConvergenceWarning: The max_iter was reached which means the coef_ did not converge\n",
            "  warnings.warn(\n",
            "/usr/local/lib/python3.8/dist-packages/sklearn/utils/optimize.py:210: ConvergenceWarning: newton-cg failed to converge. Increase the number of iterations.\n",
            "  warnings.warn(\n",
            "/usr/local/lib/python3.8/dist-packages/sklearn/utils/optimize.py:210: ConvergenceWarning: newton-cg failed to converge. Increase the number of iterations.\n",
            "  warnings.warn(\n",
            "/usr/local/lib/python3.8/dist-packages/sklearn/utils/optimize.py:210: ConvergenceWarning: newton-cg failed to converge. Increase the number of iterations.\n",
            "  warnings.warn(\n",
            "/usr/local/lib/python3.8/dist-packages/sklearn/utils/optimize.py:210: ConvergenceWarning: newton-cg failed to converge. Increase the number of iterations.\n",
            "  warnings.warn(\n",
            "/usr/local/lib/python3.8/dist-packages/sklearn/utils/optimize.py:210: ConvergenceWarning: newton-cg failed to converge. Increase the number of iterations.\n",
            "  warnings.warn(\n",
            "/usr/local/lib/python3.8/dist-packages/sklearn/linear_model/_logistic.py:814: ConvergenceWarning: lbfgs failed to converge (status=1):\n",
            "STOP: TOTAL NO. of ITERATIONS REACHED LIMIT.\n",
            "\n",
            "Increase the number of iterations (max_iter) or scale the data as shown in:\n",
            "    https://scikit-learn.org/stable/modules/preprocessing.html\n",
            "Please also refer to the documentation for alternative solver options:\n",
            "    https://scikit-learn.org/stable/modules/linear_model.html#logistic-regression\n",
            "  n_iter_i = _check_optimize_result(\n",
            "/usr/local/lib/python3.8/dist-packages/sklearn/linear_model/_logistic.py:814: ConvergenceWarning: lbfgs failed to converge (status=1):\n",
            "STOP: TOTAL NO. of ITERATIONS REACHED LIMIT.\n",
            "\n",
            "Increase the number of iterations (max_iter) or scale the data as shown in:\n",
            "    https://scikit-learn.org/stable/modules/preprocessing.html\n",
            "Please also refer to the documentation for alternative solver options:\n",
            "    https://scikit-learn.org/stable/modules/linear_model.html#logistic-regression\n",
            "  n_iter_i = _check_optimize_result(\n",
            "/usr/local/lib/python3.8/dist-packages/sklearn/linear_model/_logistic.py:814: ConvergenceWarning: lbfgs failed to converge (status=1):\n",
            "STOP: TOTAL NO. of ITERATIONS REACHED LIMIT.\n",
            "\n",
            "Increase the number of iterations (max_iter) or scale the data as shown in:\n",
            "    https://scikit-learn.org/stable/modules/preprocessing.html\n",
            "Please also refer to the documentation for alternative solver options:\n",
            "    https://scikit-learn.org/stable/modules/linear_model.html#logistic-regression\n",
            "  n_iter_i = _check_optimize_result(\n",
            "/usr/local/lib/python3.8/dist-packages/sklearn/linear_model/_logistic.py:814: ConvergenceWarning: lbfgs failed to converge (status=1):\n",
            "STOP: TOTAL NO. of ITERATIONS REACHED LIMIT.\n",
            "\n",
            "Increase the number of iterations (max_iter) or scale the data as shown in:\n",
            "    https://scikit-learn.org/stable/modules/preprocessing.html\n",
            "Please also refer to the documentation for alternative solver options:\n",
            "    https://scikit-learn.org/stable/modules/linear_model.html#logistic-regression\n",
            "  n_iter_i = _check_optimize_result(\n",
            "/usr/local/lib/python3.8/dist-packages/sklearn/linear_model/_logistic.py:814: ConvergenceWarning: lbfgs failed to converge (status=1):\n",
            "STOP: TOTAL NO. of ITERATIONS REACHED LIMIT.\n",
            "\n",
            "Increase the number of iterations (max_iter) or scale the data as shown in:\n",
            "    https://scikit-learn.org/stable/modules/preprocessing.html\n",
            "Please also refer to the documentation for alternative solver options:\n",
            "    https://scikit-learn.org/stable/modules/linear_model.html#logistic-regression\n",
            "  n_iter_i = _check_optimize_result(\n",
            "/usr/local/lib/python3.8/dist-packages/sklearn/linear_model/_sag.py:352: ConvergenceWarning: The max_iter was reached which means the coef_ did not converge\n",
            "  warnings.warn(\n",
            "/usr/local/lib/python3.8/dist-packages/sklearn/linear_model/_sag.py:352: ConvergenceWarning: The max_iter was reached which means the coef_ did not converge\n",
            "  warnings.warn(\n",
            "/usr/local/lib/python3.8/dist-packages/sklearn/linear_model/_sag.py:352: ConvergenceWarning: The max_iter was reached which means the coef_ did not converge\n",
            "  warnings.warn(\n",
            "/usr/local/lib/python3.8/dist-packages/sklearn/linear_model/_sag.py:352: ConvergenceWarning: The max_iter was reached which means the coef_ did not converge\n",
            "  warnings.warn(\n",
            "/usr/local/lib/python3.8/dist-packages/sklearn/linear_model/_sag.py:352: ConvergenceWarning: The max_iter was reached which means the coef_ did not converge\n",
            "  warnings.warn(\n",
            "/usr/local/lib/python3.8/dist-packages/sklearn/linear_model/_sag.py:352: ConvergenceWarning: The max_iter was reached which means the coef_ did not converge\n",
            "  warnings.warn(\n",
            "/usr/local/lib/python3.8/dist-packages/sklearn/linear_model/_sag.py:352: ConvergenceWarning: The max_iter was reached which means the coef_ did not converge\n",
            "  warnings.warn(\n",
            "/usr/local/lib/python3.8/dist-packages/sklearn/linear_model/_sag.py:352: ConvergenceWarning: The max_iter was reached which means the coef_ did not converge\n",
            "  warnings.warn(\n",
            "/usr/local/lib/python3.8/dist-packages/sklearn/linear_model/_sag.py:352: ConvergenceWarning: The max_iter was reached which means the coef_ did not converge\n",
            "  warnings.warn(\n",
            "/usr/local/lib/python3.8/dist-packages/sklearn/linear_model/_sag.py:352: ConvergenceWarning: The max_iter was reached which means the coef_ did not converge\n",
            "  warnings.warn(\n",
            "/usr/local/lib/python3.8/dist-packages/sklearn/linear_model/_sag.py:352: ConvergenceWarning: The max_iter was reached which means the coef_ did not converge\n",
            "  warnings.warn(\n",
            "/usr/local/lib/python3.8/dist-packages/sklearn/linear_model/_sag.py:352: ConvergenceWarning: The max_iter was reached which means the coef_ did not converge\n",
            "  warnings.warn(\n",
            "/usr/local/lib/python3.8/dist-packages/sklearn/linear_model/_sag.py:352: ConvergenceWarning: The max_iter was reached which means the coef_ did not converge\n",
            "  warnings.warn(\n",
            "/usr/local/lib/python3.8/dist-packages/sklearn/linear_model/_sag.py:352: ConvergenceWarning: The max_iter was reached which means the coef_ did not converge\n",
            "  warnings.warn(\n",
            "/usr/local/lib/python3.8/dist-packages/sklearn/linear_model/_sag.py:352: ConvergenceWarning: The max_iter was reached which means the coef_ did not converge\n",
            "  warnings.warn(\n",
            "/usr/local/lib/python3.8/dist-packages/sklearn/linear_model/_sag.py:352: ConvergenceWarning: The max_iter was reached which means the coef_ did not converge\n",
            "  warnings.warn(\n",
            "/usr/local/lib/python3.8/dist-packages/sklearn/linear_model/_sag.py:352: ConvergenceWarning: The max_iter was reached which means the coef_ did not converge\n",
            "  warnings.warn(\n",
            "/usr/local/lib/python3.8/dist-packages/sklearn/linear_model/_sag.py:352: ConvergenceWarning: The max_iter was reached which means the coef_ did not converge\n",
            "  warnings.warn(\n",
            "/usr/local/lib/python3.8/dist-packages/sklearn/linear_model/_sag.py:352: ConvergenceWarning: The max_iter was reached which means the coef_ did not converge\n",
            "  warnings.warn(\n",
            "/usr/local/lib/python3.8/dist-packages/sklearn/linear_model/_sag.py:352: ConvergenceWarning: The max_iter was reached which means the coef_ did not converge\n",
            "  warnings.warn(\n",
            "/usr/local/lib/python3.8/dist-packages/sklearn/model_selection/_validation.py:372: FitFailedWarning: \n",
            "60 fits failed out of a total of 200.\n",
            "The score on these train-test partitions for these parameters will be set to nan.\n",
            "If these failures are not expected, you can try to debug them by setting error_score='raise'.\n",
            "\n",
            "Below are more details about the failures:\n",
            "--------------------------------------------------------------------------------\n",
            "20 fits failed with the following error:\n",
            "Traceback (most recent call last):\n",
            "  File \"/usr/local/lib/python3.8/dist-packages/sklearn/model_selection/_validation.py\", line 680, in _fit_and_score\n",
            "    estimator.fit(X_train, y_train, **fit_params)\n",
            "  File \"/usr/local/lib/python3.8/dist-packages/sklearn/linear_model/_logistic.py\", line 1461, in fit\n",
            "    solver = _check_solver(self.solver, self.penalty, self.dual)\n",
            "  File \"/usr/local/lib/python3.8/dist-packages/sklearn/linear_model/_logistic.py\", line 447, in _check_solver\n",
            "    raise ValueError(\n",
            "ValueError: Solver newton-cg supports only 'l2' or 'none' penalties, got l1 penalty.\n",
            "\n",
            "--------------------------------------------------------------------------------\n",
            "20 fits failed with the following error:\n",
            "Traceback (most recent call last):\n",
            "  File \"/usr/local/lib/python3.8/dist-packages/sklearn/model_selection/_validation.py\", line 680, in _fit_and_score\n",
            "    estimator.fit(X_train, y_train, **fit_params)\n",
            "  File \"/usr/local/lib/python3.8/dist-packages/sklearn/linear_model/_logistic.py\", line 1461, in fit\n",
            "    solver = _check_solver(self.solver, self.penalty, self.dual)\n",
            "  File \"/usr/local/lib/python3.8/dist-packages/sklearn/linear_model/_logistic.py\", line 447, in _check_solver\n",
            "    raise ValueError(\n",
            "ValueError: Solver lbfgs supports only 'l2' or 'none' penalties, got l1 penalty.\n",
            "\n",
            "--------------------------------------------------------------------------------\n",
            "20 fits failed with the following error:\n",
            "Traceback (most recent call last):\n",
            "  File \"/usr/local/lib/python3.8/dist-packages/sklearn/model_selection/_validation.py\", line 680, in _fit_and_score\n",
            "    estimator.fit(X_train, y_train, **fit_params)\n",
            "  File \"/usr/local/lib/python3.8/dist-packages/sklearn/linear_model/_logistic.py\", line 1461, in fit\n",
            "    solver = _check_solver(self.solver, self.penalty, self.dual)\n",
            "  File \"/usr/local/lib/python3.8/dist-packages/sklearn/linear_model/_logistic.py\", line 447, in _check_solver\n",
            "    raise ValueError(\n",
            "ValueError: Solver sag supports only 'l2' or 'none' penalties, got l1 penalty.\n",
            "\n",
            "  warnings.warn(some_fits_failed_message, FitFailedWarning)\n",
            "/usr/local/lib/python3.8/dist-packages/sklearn/model_selection/_search.py:969: UserWarning: One or more of the test scores are non-finite: [       nan        nan 0.61854206        nan 0.62987414 0.61880938\n",
            " 0.62249705 0.65726614 0.59827023 0.61958914        nan        nan\n",
            " 0.65753172        nan 0.65753068 0.65542161 0.65305145 0.65542161\n",
            " 0.65937071 0.65753068        nan        nan 0.65542161        nan\n",
            " 0.65542161 0.65542161 0.65542161 0.65542161 0.65542161 0.65542161\n",
            "        nan        nan 0.65542161        nan 0.65542161 0.65542161\n",
            " 0.65542161 0.65542161 0.65542161 0.65542161]\n",
            "  warnings.warn(\n",
            "/usr/local/lib/python3.8/dist-packages/sklearn/linear_model/_sag.py:352: ConvergenceWarning: The max_iter was reached which means the coef_ did not converge\n",
            "  warnings.warn(\n"
          ]
        },
        {
          "output_type": "execute_result",
          "data": {
            "text/plain": [
              "GridSearchCV(estimator=LogisticRegression(C=1000),\n",
              "             param_grid={'max_iter': [1, 10, 100, 1000],\n",
              "                         'penalty': ['l1', 'l2'],\n",
              "                         'solver': ['newton-cg', 'lbfgs', 'liblinear', 'sag',\n",
              "                                    'saga']})"
            ]
          },
          "metadata": {},
          "execution_count": 54
        }
      ]
    },
    {
      "cell_type": "code",
      "source": [
        "gsearch2r.best_params_, gsearch2r.best_score_"
      ],
      "metadata": {
        "colab": {
          "base_uri": "https://localhost:8080/"
        },
        "id": "_CBgbd73xPzb",
        "outputId": "372fc8c9-c2ce-4b2b-f8f8-9c6c34b5c24e"
      },
      "execution_count": 55,
      "outputs": [
        {
          "output_type": "execute_result",
          "data": {
            "text/plain": [
              "({'max_iter': 10, 'penalty': 'l2', 'solver': 'sag'}, 0.659370709382151)"
            ]
          },
          "metadata": {},
          "execution_count": 55
        }
      ]
    },
    {
      "cell_type": "code",
      "source": [
        "model_lr = LogisticRegression(max_iter = 10, penalty = 'l2', solver = 'lbfgs', C = 1000)\n",
        "model_lr.fit(X_train_res, y_train_res)\n",
        "print('accuracy_score for model_lr is {}'.format(accuracy_score(y, model_lr.predict(X_norm) > 0.5)))\n",
        "print('confusion_matrix for model_lr is {}'.format(confusion_matrix(y, model_lr.predict(X_norm))))\n",
        "print('roc_auc_score for model_lr is {}'.format(roc_auc_score(y, model_lr.predict(X_norm))))\n",
        "print('sorted feature_importance dataframe of model_lr is {}'.format(m_lr(model_lr)))"
      ],
      "metadata": {
        "colab": {
          "base_uri": "https://localhost:8080/"
        },
        "id": "6nM7p0zA9t61",
        "outputId": "7196e384-2694-47ff-9d3a-274df83a9d21"
      },
      "execution_count": 143,
      "outputs": [
        {
          "output_type": "stream",
          "name": "stdout",
          "text": [
            "accuracy_score for model_lr is 0.646309479205695\n",
            "confusion_matrix for model_lr is [[  91   47]\n",
            " [ 897 1634]]\n",
            "roc_auc_score for model_lr is 0.6525074582424316\n",
            "sorted feature_importance dataframe of model_lr is                     feat      coef\n",
            "0   credit_history_count  1.716068\n",
            "1                    age  0.989036\n",
            "2               int_rate  0.652464\n",
            "3            mon_payment  0.015264\n",
            "4               district -0.358018\n",
            "5             int_amount -0.405967\n",
            "6               duration -0.486804\n",
            "7                 sector -0.701105\n",
            "8              mon_remit -0.770547\n",
            "9         marital_status -0.871096\n",
            "10                gender -0.892470\n",
            "11            amount_tjs -1.059365\n"
          ]
        },
        {
          "output_type": "stream",
          "name": "stderr",
          "text": [
            "/usr/local/lib/python3.8/dist-packages/sklearn/linear_model/_logistic.py:814: ConvergenceWarning: lbfgs failed to converge (status=1):\n",
            "STOP: TOTAL NO. of ITERATIONS REACHED LIMIT.\n",
            "\n",
            "Increase the number of iterations (max_iter) or scale the data as shown in:\n",
            "    https://scikit-learn.org/stable/modules/preprocessing.html\n",
            "Please also refer to the documentation for alternative solver options:\n",
            "    https://scikit-learn.org/stable/modules/linear_model.html#logistic-regression\n",
            "  n_iter_i = _check_optimize_result(\n"
          ]
        }
      ]
    },
    {
      "cell_type": "code",
      "source": [],
      "metadata": {
        "id": "c36Hj-lTxN3X"
      },
      "execution_count": null,
      "outputs": []
    },
    {
      "cell_type": "markdown",
      "source": [
        "\n",
        "\n",
        "```\n",
        "2.Обучение модели:\n",
        "a.Обучите модели классификации скоринга: Gradient Boosting,  Random    Forest   Logistic Regression в Python. Используйте переменные из набора данных банка \n",
        "А для обучения моделей.\n",
        "b. Сохраните результаты работы (матрица запутанности, AUC, точность) для каждой модели в листе Excel.\n",
        "```\n"
      ],
      "metadata": {
        "id": "tN2gvE1_qTVB"
      }
    },
    {
      "cell_type": "code",
      "source": [
        "models = [model_adc, model_bc, model_cbct, model_gbc, model_lgb, model_lr, model_rfc, model_xgb]\n",
        "models_name = ['model_adc', 'model_bc', 'model_cbct', 'model_gbc', 'model_lgb', 'model_lr', 'model_rfc', 'model_xgb']\n",
        "def metric(models, models_name):\n",
        "  metrics = []\n",
        "  for i in range(len(models)):\n",
        "    metrics.append([models_name[i], accuracy_score(y, models[i].predict(X_norm)), roc_auc_score(y, models[i].predict(X_norm)), confusion_matrix(y, models[i].predict(X_norm))])\n",
        "  return metrics\n",
        "metric(models, models_name)  "
      ],
      "metadata": {
        "colab": {
          "base_uri": "https://localhost:8080/"
        },
        "id": "Qb_XkfISlNY9",
        "outputId": "99d89703-a997-410e-e240-97d4c19c0d2e"
      },
      "execution_count": 145,
      "outputs": [
        {
          "output_type": "execute_result",
          "data": {
            "text/plain": [
              "[['model_adc', 0.793555638816036, 0.8089344304536787, array([[ 114,   24],\n",
              "         [ 527, 2004]])],\n",
              " ['model_bc', 0.9842637692019482, 0.99170288423548, array([[ 138,    0],\n",
              "         [  42, 2489]])],\n",
              " ['model_cbct', 0.9763956538029225, 0.98755432635322, array([[ 138,    0],\n",
              "         [  63, 2468]])],\n",
              " ['model_gbc', 0.8666167103784189, 0.8988413241028635, array([[ 129,    9],\n",
              "         [ 347, 2184]])],\n",
              " ['model_lgb', 0.9786436867740727, 0.9887396286052943, array([[ 138,    0],\n",
              "         [  57, 2474]])],\n",
              " ['model_lr', 0.646309479205695, 0.6525074582424316, array([[  91,   47],\n",
              "         [ 897, 1634]])],\n",
              " ['model_rfc', 0.9932559010865493, 0.9964440932437771, array([[ 138,    0],\n",
              "         [  18, 2513]])],\n",
              " ['model_xgb', 0.9801423754215062, 0.9895298301066773, array([[ 138,    0],\n",
              "         [  53, 2478]])]]"
            ]
          },
          "metadata": {},
          "execution_count": 145
        }
      ]
    },
    {
      "cell_type": "markdown",
      "source": [
        "\n",
        "\n",
        "```\n",
        "3a.\n",
        "Оцените результаты:\n",
        "Исходя из полученных вами результатов, какая модель является лучшей? Какую метрику вы использовали для определения лучшей модели?\n",
        "\n",
        "\n",
        "\n",
        "```\n",
        "Cравниваются модели: Random Forest Classifier, XGBClassifier и\n",
        "Logistic Regression. \n",
        "```\n",
        "\n",
        "\n",
        "```\n",
        "Random Forest Classifier  и XGBClassifier  \n",
        "являются лучшими модельями потому что показывают \n",
        "максильную чистую прибыль и минимальную\n",
        "упущеную выгоду, которые определы по метрике confusion_matrix.\n",
        "\n",
        "```\n",
        "\n",
        "\n",
        "\n",
        "\n"
      ],
      "metadata": {
        "id": "2aesce8B2-Zi"
      }
    },
    {
      "cell_type": "code",
      "source": [],
      "metadata": {
        "id": "WxMFZcAFgP46"
      },
      "execution_count": null,
      "outputs": []
    },
    {
      "cell_type": "markdown",
      "source": [
        "\n",
        "\n",
        "```\n",
        "3b:\n",
        "Какая модель…\n",
        "...выдает больше кредитов?\n",
        "...отказывает большему количеству клиентов?\n",
        "\n",
        "```\n",
        " \n",
        "\n",
        "```\n",
        "Сравнения приводятся для трех моделей: \n",
        "Logistic Regression [выдача = 2529, отказ = 140], \n",
        "Random Forest [выдача = 2513, отказ = 156], \n",
        "XGBClassifier [выдача = 2478, отказ = 191]\n",
        "\n",
        "\n",
        "\n",
        "```\n",
        "\n",
        "\n"
      ],
      "metadata": {
        "id": "k3LEW6yDtSAW"
      }
    },
    {
      "cell_type": "code",
      "source": [
        "# 3b CatBoostClassifier\n",
        "cm_cbct = confusion_matrix(data['is_good_credit'], model_cbct.predict(X_norm))\n",
        "print('число выдаваемых кредитов (TP+FP) при model_cbct ->', cm_cbct[1][1] + cm_cbct[0][1])\n",
        "print('число отказов  выдаваемых кредитов (FN+TN) при model_cbct ->',cm_cbct[0][0] + cm_cbct[1][0])"
      ],
      "metadata": {
        "colab": {
          "base_uri": "https://localhost:8080/"
        },
        "id": "s77355HFvUNC",
        "outputId": "fb2e663b-1b63-498e-a142-701a519baa0f"
      },
      "execution_count": 126,
      "outputs": [
        {
          "output_type": "stream",
          "name": "stdout",
          "text": [
            "число выдаваемых кредитов (TP+FP) при model_cbct -> 2468\n",
            "число отказов  выдаваемых кредитов (FN+TN) при model_cbct -> 201\n"
          ]
        }
      ]
    },
    {
      "cell_type": "code",
      "source": [
        "# 3b LGBMClassifier\n",
        "cm_lgb = confusion_matrix(data['is_good_credit'], model_lgb.predict(X_norm))\n",
        "print('число выдаваемых кредитов (TP+FP) при model_lgb ->', cm_lgb[1][1] + cm_lgb[0][1])\n",
        "print('число отказов  выдаваемых кредитов (FN+TN) при model_lgb ->',cm_lgb[0][0] + cm_lgb[1][0])"
      ],
      "metadata": {
        "colab": {
          "base_uri": "https://localhost:8080/"
        },
        "id": "cbvD16o_lyla",
        "outputId": "bd24fa41-2eb7-4d50-d0c9-a1736e07fe39"
      },
      "execution_count": 125,
      "outputs": [
        {
          "output_type": "stream",
          "name": "stdout",
          "text": [
            "число выдаваемых кредитов (TP+FP) при model_lgb -> 2474\n",
            "число отказов  выдаваемых кредитов (FN+TN) при model_lgb -> 195\n"
          ]
        }
      ]
    },
    {
      "cell_type": "code",
      "source": [
        "# 3b GradientBoostingClassifier\n",
        "cm_gbc = confusion_matrix(data['is_good_credit'], model_gbc.predict(X_norm))\n",
        "print('число выдаваемых кредитов (TP+FP) при model_gbc ->', cm_gbc[1][1] + cm_gbc[0][1])\n",
        "print('число отказов  выдаваемых кредитов (FN+TN) при model_gbc ->',cm_gbc[0][0] + cm_gbc[1][0])"
      ],
      "metadata": {
        "colab": {
          "base_uri": "https://localhost:8080/"
        },
        "id": "3vmCQl0slyTG",
        "outputId": "e527370d-eb75-4981-cb98-94a864b45e1f"
      },
      "execution_count": 123,
      "outputs": [
        {
          "output_type": "stream",
          "name": "stdout",
          "text": [
            "число выдаваемых кредитов (TP+FP) при model_gbc -> 2193\n",
            "число отказов  выдаваемых кредитов (FN+TN) при model_gbc -> 476\n"
          ]
        }
      ]
    },
    {
      "cell_type": "code",
      "source": [
        "# 3b BaggingClassifier\n",
        "cm_bc = confusion_matrix(data['is_good_credit'], model_bc.predict(X_norm))\n",
        "print('число выдаваемых кредитов (TP+FP) при model_rfc ->', cm_bc[1][1] + cm_bc[0][1])\n",
        "print('число отказов  выдаваемых кредитов (FN+TN) при model_rfc ->',cm_bc[0][0] + cm_bc[1][0])"
      ],
      "metadata": {
        "colab": {
          "base_uri": "https://localhost:8080/"
        },
        "id": "fpBo2Cl1lyCi",
        "outputId": "dff6c00b-23e4-4db2-cd72-36cda0c52061"
      },
      "execution_count": 122,
      "outputs": [
        {
          "output_type": "stream",
          "name": "stdout",
          "text": [
            "число выдаваемых кредитов (TP+FP) при model_rfc -> 2489\n",
            "число отказов  выдаваемых кредитов (FN+TN) при model_rfc -> 180\n"
          ]
        }
      ]
    },
    {
      "cell_type": "code",
      "source": [
        "# 3b AdaBoostClassifier\n",
        "cm_adc = confusion_matrix(data['is_good_credit'], model_adc.predict(X_norm))\n",
        "print('число выдаваемых кредитов (TP+FP) при model_adc ->', cm_adc[1][1] + cm_adc[0][1])\n",
        "print('число отказов  выдаваемых кредитов (FN+TN) при model_adc ->',cm_adc[0][0] + cm_adc[1][0])"
      ],
      "metadata": {
        "colab": {
          "base_uri": "https://localhost:8080/"
        },
        "id": "jUtscYoElm6m",
        "outputId": "d7734629-568e-49dc-cb3a-86ac1386a121"
      },
      "execution_count": 121,
      "outputs": [
        {
          "output_type": "stream",
          "name": "stdout",
          "text": [
            "число выдаваемых кредитов (TP+FP) при model_adc -> 2028\n",
            "число отказов  выдаваемых кредитов (FN+TN) при model_adc -> 641\n"
          ]
        }
      ]
    },
    {
      "cell_type": "code",
      "source": [
        "# 3b LogisticRegression\n",
        "cm_lr = confusion_matrix(data['is_good_credit'], model_lr.predict((X_norm) > 0.5))\n",
        "print('число выдаваемых кредитов (TP+FP) при model_lr ->',cm_lr[1][1] + cm_lr[0][1])\n",
        "print('число отказов  выдаваемых кредитов (FN+TN) при model_lr ->',cm_lr[0][0] + cm_lr[1][0])"
      ],
      "metadata": {
        "id": "C5pLTU-ss4IE",
        "colab": {
          "base_uri": "https://localhost:8080/"
        },
        "outputId": "a365ce8d-2f6c-4d66-bac8-90467845f3a2"
      },
      "execution_count": 120,
      "outputs": [
        {
          "output_type": "stream",
          "name": "stdout",
          "text": [
            "число выдаваемых кредитов (TP+FP) при model_lr -> 2306\n",
            "число отказов  выдаваемых кредитов (FN+TN) при model_lr -> 363\n"
          ]
        }
      ]
    },
    {
      "cell_type": "code",
      "source": [
        "# 3b RandomForestClassifier\n",
        "cm_rfc = confusion_matrix(data['is_good_credit'], model_rfc.predict(X_norm))\n",
        "print('число выдаваемых кредитов (TP+FP) при model_rfc ->', cm_rfc[1][1] + cm_rfc[0][1])\n",
        "print('число отказов  выдаваемых кредитов (FN+TN) при model_rfc ->',cm_rfc[0][0] + cm_rfc[1][0])"
      ],
      "metadata": {
        "colab": {
          "base_uri": "https://localhost:8080/"
        },
        "id": "nNr0epXrtfuo",
        "outputId": "45ecf598-95cf-472b-9c9e-24b8aa1e7b37"
      },
      "execution_count": 119,
      "outputs": [
        {
          "output_type": "stream",
          "name": "stdout",
          "text": [
            "число выдаваемых кредитов (TP+FP) при model_rfc -> 2513\n",
            "число отказов  выдаваемых кредитов (FN+TN) при model_rfc -> 156\n"
          ]
        }
      ]
    },
    {
      "cell_type": "code",
      "source": [
        "# 3b XGBClassifier\n",
        "cm_xgb = confusion_matrix(data['is_good_credit'], model_xgb.predict(X_norm))\n",
        "print('число выдаваемых кредитов (TP+FP) при model_xgb ->',cm_xgb[1][1] + cm_xgb[0][1])\n",
        "print('число отказов  выдаваемых кредитов (FN+TN) при model_xgb ->',cm_xgb[0][0] + cm_xgb[1][0])"
      ],
      "metadata": {
        "colab": {
          "base_uri": "https://localhost:8080/"
        },
        "id": "Ts4gGJeSwYvO",
        "outputId": "65335c1b-74a8-4ed2-a9bb-20935600efb0"
      },
      "execution_count": 115,
      "outputs": [
        {
          "output_type": "stream",
          "name": "stdout",
          "text": [
            "число выдаваемых кредитов (TP+FP) при model_xgb -> 2478\n",
            "число отказов  выдаваемых кредитов (FN+TN) при model_xgb -> 191\n"
          ]
        }
      ]
    },
    {
      "cell_type": "markdown",
      "source": [
        "\n",
        "\n",
        "```\n",
        "\n",
        "Предположим, что сумма среднего кредита составляет 5000 сомони:\n",
        "Используя матрицу запутанности, рассчитайте приведенные ниже финансовые показатели для каждой модели:\n",
        "Прибыль.\n",
        "Убыток.\n",
        "Упущенная выгода.\n",
        "Чистая прибыль.\n",
        "\n",
        "```\n",
        "\n"
      ],
      "metadata": {
        "id": "8OJci7qyverW"
      }
    },
    {
      "cell_type": "code",
      "source": [
        "model_data = X_norm.copy()"
      ],
      "metadata": {
        "id": "gpXyG4QSzezt"
      },
      "execution_count": 127,
      "outputs": []
    },
    {
      "cell_type": "code",
      "source": [
        "model_data['is_good_credit'] = y\n",
        "model_data['model_lr_y'] = model_lr.predict(X_norm)\n",
        "model_data['model_adc_y'] = model_adc.predict(X_norm)\n",
        "model_data['model_gbc_y'] = model_gbc.predict(X_norm)\n",
        "model_data['model_bc_y'] = model_bc.predict(X_norm)\n",
        "model_data['model_rfc_y'] = model_rfc.predict(X_norm)\n",
        "model_data['model_xgb_y'] = model_xgb.predict(X_norm)\n",
        "model_data['model_lgb_y'] = model_lgb.predict(X_norm)\n",
        "model_data['model_cbct_y'] = model_cbct.predict(X_norm)"
      ],
      "metadata": {
        "id": "ZcEfauV1zqdM"
      },
      "execution_count": 128,
      "outputs": []
    },
    {
      "cell_type": "code",
      "source": [
        "def finance(mod, model_name):\n",
        "  tp_data = model_data.loc[(model_data['is_good_credit'] == 1) & (model_data[mod] == 1)]['int_amount']\n",
        "\n",
        "  fp_data = model_data.loc[(model_data['is_good_credit'] == 0) & (model_data[mod] == 1)]['int_amount']\n",
        "  \n",
        "  fn_data = model_data.loc[(model_data['is_good_credit'] == 1) & (model_data[mod] == 0)]['int_amount']\n",
        "\n",
        "   \n",
        "  \n",
        "  sum_tp = data.loc[list(tp_data.index)]['int_amount'].sum() \n",
        "  sum_fp = data.loc[list(fp_data.index)]['int_amount'].sum() \n",
        "  sum_fn = data.loc[list(fn_data.index)]['int_amount'].sum() \n",
        "  def loss(sum_tp, sum_fp):\n",
        "    if((sum_tp - sum_fp) < 0):\n",
        "       losss = - profit\n",
        "    else:\n",
        "       losss = 0\n",
        "    return losss     \n",
        "  \n",
        "\n",
        "  profit = 'Прибыль по модели {}'.format(model_name) + '= TP - FP = {}'.format(sum_tp - sum_fp)\n",
        "  net_profit = 'Чистая прибыль по модели {}'.format(model_name) + '= TP - FP = {}'.format(sum_tp - sum_fp)\n",
        "  loss_profit = 'Упущенная выгода по модели {}'.format(model_name) + '= FN = {}'.format(sum_fn)\n",
        "  loss = 'Убыток по модели {}'.format(model_name) + 'равно {}'.format(loss(sum_tp, sum_fp))\n",
        "  return [profit, net_profit, loss_profit, loss]"
      ],
      "metadata": {
        "id": "RdjrGlfpEBzL"
      },
      "execution_count": 140,
      "outputs": []
    },
    {
      "cell_type": "code",
      "source": [
        "fin = ['model_lr_y', 'model_adc_y', 'model_gbc_y', 'model_bc_y', 'model_rfc_y', 'model_xgb_y', 'model_lgb_y', 'model_cbct_y']\n",
        "names = ['LogisticRegression', 'AdaBoostClassifier', 'GradientBoostingClassifier', 'BaggingClassifier', 'RandomForestClassifier',\n",
        "         'XGBClassifier', 'LGBMClassifier', 'CatBoostClassifier']\n",
        "for i in range(len(fin)):\n",
        "  print(finance(fin[i], names[i]))         "
      ],
      "metadata": {
        "colab": {
          "base_uri": "https://localhost:8080/"
        },
        "id": "JdyeeYjHxfjV",
        "outputId": "c5ae242a-cf1a-4f6d-e1c6-26c4d525934f"
      },
      "execution_count": 141,
      "outputs": [
        {
          "output_type": "stream",
          "name": "stdout",
          "text": [
            "['Прибыль по модели LogisticRegression= TP - FP = 1718571.3530000001', 'Чистая прибыль по модели LogisticRegression= TP - FP = 1718571.3530000001', 'Упущенная выгода по модели LogisticRegression= FN = 1616828.571', 'Убыток по модели LogisticRegressionравно 0']\n",
            "['Прибыль по модели AdaBoostClassifier= TP - FP = 2470506.5710000005', 'Чистая прибыль по модели AdaBoostClassifier= TP - FP = 2470506.5710000005', 'Упущенная выгода по модели AdaBoostClassifier= FN = 887143.915', 'Убыток по модели AdaBoostClassifierравно 0']\n",
            "['Прибыль по модели GradientBoostingClassifier= TP - FP = 2714779.214', 'Чистая прибыль по модели GradientBoostingClassifier= TP - FP = 2714779.214', 'Упущенная выгода по модели GradientBoostingClassifier= FN = 664611.8520000001', 'Убыток по модели GradientBoostingClassifierравно 0']\n",
            "['Прибыль по модели BaggingClassifier= TP - FP = 3325913.7539999997', 'Чистая прибыль по модели BaggingClassifier= TP - FP = 3325913.7539999997', 'Упущенная выгода по модели BaggingClassifier= FN = 65082.072', 'Убыток по модели BaggingClassifierравно 0']\n",
            "['Прибыль по модели RandomForestClassifier= TP - FP = 3350242.0719999997', 'Чистая прибыль по модели RandomForestClassifier= TP - FP = 3350242.0719999997', 'Упущенная выгода по модели RandomForestClassifier= FN = 40753.75399999999', 'Убыток по модели RandomForestClassifierравно 0']\n",
            "['Прибыль по модели XGBClassifier= TP - FP = 3295243.0', 'Чистая прибыль по модели XGBClassifier= TP - FP = 3295243.0', 'Упущенная выгода по модели XGBClassifier= FN = 95752.82599999999', 'Убыток по модели XGBClassifierравно 0']\n",
            "['Прибыль по модели LGBMClassifier= TP - FP = 3282997.1789999995', 'Чистая прибыль по модели LGBMClassifier= TP - FP = 3282997.1789999995', 'Упущенная выгода по модели LGBMClassifier= FN = 107998.647', 'Убыток по модели LGBMClassifierравно 0']\n",
            "['Прибыль по модели CatBoostClassifier= TP - FP = 3278312.662', 'Чистая прибыль по модели CatBoostClassifier= TP - FP = 3278312.662', 'Упущенная выгода по модели CatBoostClassifier= FN = 112683.164', 'Убыток по модели CatBoostClassifierравно 0']\n"
          ]
        }
      ]
    }
  ],
  "metadata": {
    "colab": {
      "provenance": []
    },
    "kernelspec": {
      "display_name": "Python 3",
      "name": "python3"
    },
    "language_info": {
      "name": "python"
    }
  },
  "nbformat": 4,
  "nbformat_minor": 0
}