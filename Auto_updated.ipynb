{
  "nbformat": 4,
  "nbformat_minor": 0,
  "metadata": {
    "colab": {
      "provenance": [],
      "authorship_tag": "ABX9TyNt+Z5sOwJPZSSS9PaQvtW5",
      "include_colab_link": true
    },
    "kernelspec": {
      "name": "python3",
      "display_name": "Python 3"
    },
    "language_info": {
      "name": "python"
    }
  },
  "cells": [
    {
      "cell_type": "markdown",
      "metadata": {
        "id": "view-in-github",
        "colab_type": "text"
      },
      "source": [
        "<a href=\"https://colab.research.google.com/github/Safarbe/ML-Model/blob/main/Auto_updated.ipynb\" target=\"_parent\"><img src=\"https://colab.research.google.com/assets/colab-badge.svg\" alt=\"Open In Colab\"/></a>"
      ]
    },
    {
      "cell_type": "code",
      "execution_count": null,
      "metadata": {
        "id": "zioMYPgLKook"
      },
      "outputs": [],
      "source": [
        "[Xo, Yo, Vo, alpha, _x_min, x_max, y_min, y_max, N]"
      ]
    },
    {
      "cell_type": "code",
      "source": [],
      "metadata": {
        "id": "sulYGQNyKuyI"
      },
      "execution_count": null,
      "outputs": []
    },
    {
      "cell_type": "code",
      "source": [
        "[[], [], [] ...  []]"
      ],
      "metadata": {
        "id": "7NToRLUiKuq2"
      },
      "execution_count": null,
      "outputs": []
    },
    {
      "cell_type": "code",
      "source": [
        "import random\n",
        "import math "
      ],
      "metadata": {
        "id": "w6_qHqwpOjOz"
      },
      "execution_count": 24,
      "outputs": []
    },
    {
      "cell_type": "code",
      "source": [
        "def autonomous(N, x_min, x_max, y_min, y_max):\n",
        "  space_of_coordinates = [x for x in range(1, 51)]\n",
        "  space_of_orientation = [x for x in range(1, 361)]\n",
        "  state_of_system = []     #Xo, Yo, Xf, Yf, Vo, alpha\n",
        "  for i in range(N):\n",
        "    state_of_system.append([random.choice(space_of_coordinates), random.choice( space_of_coordinates), random.choice(space_of_coordinates), random.choice(space_of_coordinates), 0, random.choice(space_of_orientation)])\n",
        "  return state_of_system  "
      ],
      "metadata": {
        "id": "yz0_esY2KujX"
      },
      "execution_count": 22,
      "outputs": []
    },
    {
      "cell_type": "code",
      "source": [
        "Xo, Yo, Xf, Yf, Vo, alpha, rate"
      ],
      "metadata": {
        "id": "rI6Lxg5mTkJE"
      },
      "execution_count": null,
      "outputs": []
    },
    {
      "cell_type": "code",
      "source": [
        "round(math.atan((Yf - Yo)/(Xf - Xo))*180/3.14, 0)"
      ],
      "metadata": {
        "id": "F8sMgjUNWIkV"
      },
      "execution_count": null,
      "outputs": []
    },
    {
      "cell_type": "code",
      "source": [
        "x + round(rate*cos(alpha), 0)\n",
        "y + round(rate*sin(alpha), 0)"
      ],
      "metadata": {
        "id": "OO53SQkIX1Z4"
      },
      "execution_count": null,
      "outputs": []
    },
    {
      "cell_type": "code",
      "source": [],
      "metadata": {
        "id": "e3S1UC2cYRzK"
      },
      "execution_count": null,
      "outputs": []
    },
    {
      "cell_type": "code",
      "source": [
        "X1, Y1, Xf, Yf, Vo, alpha, rate"
      ],
      "metadata": {
        "id": "zpXZdt4hWdP-"
      },
      "execution_count": null,
      "outputs": []
    },
    {
      "cell_type": "code",
      "source": [
        "x + round(rate*cos(alpha), 0)\n",
        "y + round(rate*sin(alpha), 0)"
      ],
      "metadata": {
        "id": "RbQExQslWdJL"
      },
      "execution_count": null,
      "outputs": []
    },
    {
      "cell_type": "code",
      "source": [
        "tg(alpha) = (Yf - Yo)/(Xf - Xo)"
      ],
      "metadata": {
        "id": "NaVndeswTw3l"
      },
      "execution_count": null,
      "outputs": []
    },
    {
      "cell_type": "code",
      "source": [
        "math.atan(1)"
      ],
      "metadata": {
        "colab": {
          "base_uri": "https://localhost:8080/"
        },
        "id": "5oacSGS3TwyK",
        "outputId": "0da2847b-7d9c-4861-9e4e-a487223f3b6a"
      },
      "execution_count": 25,
      "outputs": [
        {
          "output_type": "execute_result",
          "data": {
            "text/plain": [
              "0.7853981633974483"
            ]
          },
          "metadata": {},
          "execution_count": 25
        }
      ]
    },
    {
      "cell_type": "code",
      "source": [
        "round(math.atan(1)*180/3.14)"
      ],
      "metadata": {
        "colab": {
          "base_uri": "https://localhost:8080/"
        },
        "id": "fWk05N89VPEO",
        "outputId": "2a3b0905-1dc8-4fbd-bf4d-c6e1cc89cf87"
      },
      "execution_count": 32,
      "outputs": [
        {
          "output_type": "execute_result",
          "data": {
            "text/plain": [
              "45"
            ]
          },
          "metadata": {},
          "execution_count": 32
        }
      ]
    },
    {
      "cell_type": "code",
      "source": [
        "round(3.523, 0)"
      ],
      "metadata": {
        "colab": {
          "base_uri": "https://localhost:8080/"
        },
        "id": "smF2VpVaVz9l",
        "outputId": "b3dd6181-6b93-413d-95ca-f9add0d72e09"
      },
      "execution_count": 31,
      "outputs": [
        {
          "output_type": "execute_result",
          "data": {
            "text/plain": [
              "4.0"
            ]
          },
          "metadata": {},
          "execution_count": 31
        }
      ]
    },
    {
      "cell_type": "code",
      "source": [
        "3.14/math.atan(1)"
      ],
      "metadata": {
        "colab": {
          "base_uri": "https://localhost:8080/"
        },
        "id": "9_kDPh0TTwR7",
        "outputId": "8b1eae3e-032a-40b9-94c2-6c1cf465e5d8"
      },
      "execution_count": 26,
      "outputs": [
        {
          "output_type": "execute_result",
          "data": {
            "text/plain": [
              "3.9979721704684112"
            ]
          },
          "metadata": {},
          "execution_count": 26
        }
      ]
    },
    {
      "cell_type": "code",
      "source": [
        "autonomous(10, 0, 50, 0, 50)"
      ],
      "metadata": {
        "colab": {
          "base_uri": "https://localhost:8080/"
        },
        "id": "McLv6AddPFKw",
        "outputId": "28da6c8a-387e-448e-abab-973d1949cb33"
      },
      "execution_count": 23,
      "outputs": [
        {
          "output_type": "execute_result",
          "data": {
            "text/plain": [
              "[[43, 7, 17, 50, 0, 132],\n",
              " [8, 15, 49, 35, 0, 89],\n",
              " [2, 25, 40, 26, 0, 241],\n",
              " [22, 42, 11, 13, 0, 307],\n",
              " [50, 40, 26, 1, 0, 296],\n",
              " [36, 3, 45, 13, 0, 154],\n",
              " [31, 30, 1, 32, 0, 190],\n",
              " [9, 26, 34, 36, 0, 184],\n",
              " [17, 36, 24, 45, 0, 148],\n",
              " [23, 42, 37, 20, 0, 99]]"
            ]
          },
          "metadata": {},
          "execution_count": 23
        }
      ]
    },
    {
      "cell_type": "code",
      "source": [],
      "metadata": {
        "id": "23W_L-WePFHw"
      },
      "execution_count": null,
      "outputs": []
    },
    {
      "cell_type": "code",
      "source": [
        "random.choice(space_of_coordinates)"
      ],
      "metadata": {
        "id": "f3k-vSxIPF6I"
      },
      "execution_count": null,
      "outputs": []
    },
    {
      "cell_type": "code",
      "source": [
        "t"
      ],
      "metadata": {
        "colab": {
          "base_uri": "https://localhost:8080/"
        },
        "id": "h6GaT1WTPF23",
        "outputId": "bc7215f2-b4c6-4e25-ba20-0ad37f9e19b8"
      },
      "execution_count": 19,
      "outputs": [
        {
          "output_type": "execute_result",
          "data": {
            "text/plain": [
              "149"
            ]
          },
          "metadata": {},
          "execution_count": 19
        }
      ]
    },
    {
      "cell_type": "code",
      "source": [
        "random.choice(space_of_orientation)"
      ],
      "metadata": {
        "id": "Hm6rfyp2PFz_"
      },
      "execution_count": 17,
      "outputs": []
    },
    {
      "cell_type": "code",
      "source": [
        "Xo, Yo, Xf, Yf, N, x_min, x_max, y_min, y_max"
      ],
      "metadata": {
        "id": "MXxI5ibXPFxA"
      },
      "execution_count": null,
      "outputs": []
    },
    {
      "cell_type": "code",
      "source": [
        "#Xo, Yo, Xf, Yf, Vo, alpha"
      ],
      "metadata": {
        "id": "ZJhhtxBIPaNX"
      },
      "execution_count": null,
      "outputs": []
    }
  ]
}