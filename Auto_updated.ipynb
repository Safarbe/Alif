{
  "nbformat": 4,
  "nbformat_minor": 0,
  "metadata": {
    "colab": {
      "provenance": [],
      "include_colab_link": true
    },
    "kernelspec": {
      "name": "python3",
      "display_name": "Python 3"
    },
    "language_info": {
      "name": "python"
    }
  },
  "cells": [
    {
      "cell_type": "markdown",
      "metadata": {
        "id": "view-in-github",
        "colab_type": "text"
      },
      "source": [
        "<a href=\"https://colab.research.google.com/github/Safarbe/ML-Model/blob/main/Auto_updated.ipynb\" target=\"_parent\"><img src=\"https://colab.research.google.com/assets/colab-badge.svg\" alt=\"Open In Colab\"/></a>"
      ]
    },
    {
      "cell_type": "code",
      "execution_count": null,
      "metadata": {
        "id": "zioMYPgLKook"
      },
      "outputs": [],
      "source": [
        "[Xo, Yo, Vo, alpha, _x_min, x_max, y_min, y_max, N]"
      ]
    },
    {
      "cell_type": "code",
      "source": [],
      "metadata": {
        "id": "sulYGQNyKuyI"
      },
      "execution_count": null,
      "outputs": []
    },
    {
      "cell_type": "code",
      "source": [
        "[[], [], [] ...  []]"
      ],
      "metadata": {
        "id": "7NToRLUiKuq2"
      },
      "execution_count": null,
      "outputs": []
    },
    {
      "cell_type": "code",
      "source": [
        "import random\n",
        "import math "
      ],
      "metadata": {
        "id": "w6_qHqwpOjOz"
      },
      "execution_count": 3,
      "outputs": []
    },
    {
      "cell_type": "code",
      "source": [
        "def autonomous(N, x_min, x_max, y_min, y_max):\n",
        "  space_of_coordinates = [x for x in range(1, 51)]\n",
        "  space_of_orientation = [x for x in range(1, 361)]\n",
        "  state_of_system = []     #Xo, Yo, Xf, Yf, Vo, alpha\n",
        "  for i in range(N):\n",
        "    state_of_system.append([random.choice(space_of_coordinates), random.choice( space_of_coordinates), random.choice(space_of_coordinates), random.choice(space_of_coordinates), 0, random.choice(space_of_orientation)])\n",
        "  return state_of_system  "
      ],
      "metadata": {
        "id": "yz0_esY2KujX"
      },
      "execution_count": null,
      "outputs": []
    },
    {
      "cell_type": "code",
      "source": [
        "Xo, Yo, Xf, Yf, Vo, alpha, rate"
      ],
      "metadata": {
        "id": "rI6Lxg5mTkJE"
      },
      "execution_count": null,
      "outputs": []
    },
    {
      "cell_type": "code",
      "source": [
        "round(math.atan((Yf - Yo)/(Xf - Xo))*180/3.14, 0)"
      ],
      "metadata": {
        "id": "F8sMgjUNWIkV"
      },
      "execution_count": null,
      "outputs": []
    },
    {
      "cell_type": "code",
      "source": [
        "space_of_coordinates = [x for x in range(1, 51)]\n",
        "space_of_orientation = [x for x in range(1, 361)]\n",
        "#random.choice(space_of_coordinates)\n",
        "Xo, Yo, Xf, Yf = random.choice(space_of_coordinates), random.choice(space_of_coordinates), random.choice(space_of_coordinates), random.choice(space_of_coordinates)\n",
        "x = Xo\n",
        "y = Yo"
      ],
      "metadata": {
        "id": "0pDqf97vgSKE"
      },
      "execution_count": 38,
      "outputs": []
    },
    {
      "cell_type": "code",
      "source": [
        "x + round(rate*cos(alpha), 0)\n",
        "y + round(rate*sin(alpha), 0)"
      ],
      "metadata": {
        "id": "OO53SQkIX1Z4"
      },
      "execution_count": null,
      "outputs": []
    },
    {
      "cell_type": "code",
      "source": [
        "rate = 2\n",
        "num_iter = 0\n",
        "state = []\n",
        "alpha = round(math.atan((Yf - Xo)/(Xf - Yo))*180/3.14, 0)\n",
        "while ((x != Xf) and (y != Yf)):\n",
        "  x = x + round(rate*math.cos(alpha), 0)\n",
        "  y = y + round(rate*math.sin(alpha), 0)\n",
        "  alpha = round(math.atan((Yf - x)/(Xf - y))*180/3.14, 0)\n",
        "  state.append([x, y, alpha])\n",
        "  num_iter += 1"
      ],
      "metadata": {
        "id": "e3S1UC2cYRzK",
        "outputId": "2902a92e-5369-432d-97ab-e3cf79665200",
        "colab": {
          "base_uri": "https://localhost:8080/",
          "height": 235
        }
      },
      "execution_count": 39,
      "outputs": [
        {
          "output_type": "error",
          "ename": "KeyboardInterrupt",
          "evalue": "ignored",
          "traceback": [
            "\u001b[0;31m---------------------------------------------------------------------------\u001b[0m",
            "\u001b[0;31mKeyboardInterrupt\u001b[0m                         Traceback (most recent call last)",
            "\u001b[0;32m<ipython-input-39-661dca8e316a>\u001b[0m in \u001b[0;36m<module>\u001b[0;34m\u001b[0m\n\u001b[1;32m      6\u001b[0m   \u001b[0mx\u001b[0m \u001b[0;34m=\u001b[0m \u001b[0mx\u001b[0m \u001b[0;34m+\u001b[0m \u001b[0mround\u001b[0m\u001b[0;34m(\u001b[0m\u001b[0mrate\u001b[0m\u001b[0;34m*\u001b[0m\u001b[0mmath\u001b[0m\u001b[0;34m.\u001b[0m\u001b[0mcos\u001b[0m\u001b[0;34m(\u001b[0m\u001b[0malpha\u001b[0m\u001b[0;34m)\u001b[0m\u001b[0;34m,\u001b[0m \u001b[0;36m0\u001b[0m\u001b[0;34m)\u001b[0m\u001b[0;34m\u001b[0m\u001b[0;34m\u001b[0m\u001b[0m\n\u001b[1;32m      7\u001b[0m   \u001b[0my\u001b[0m \u001b[0;34m=\u001b[0m \u001b[0my\u001b[0m \u001b[0;34m+\u001b[0m \u001b[0mround\u001b[0m\u001b[0;34m(\u001b[0m\u001b[0mrate\u001b[0m\u001b[0;34m*\u001b[0m\u001b[0mmath\u001b[0m\u001b[0;34m.\u001b[0m\u001b[0msin\u001b[0m\u001b[0;34m(\u001b[0m\u001b[0malpha\u001b[0m\u001b[0;34m)\u001b[0m\u001b[0;34m,\u001b[0m \u001b[0;36m0\u001b[0m\u001b[0;34m)\u001b[0m\u001b[0;34m\u001b[0m\u001b[0;34m\u001b[0m\u001b[0m\n\u001b[0;32m----> 8\u001b[0;31m   \u001b[0malpha\u001b[0m \u001b[0;34m=\u001b[0m \u001b[0mround\u001b[0m\u001b[0;34m(\u001b[0m\u001b[0mmath\u001b[0m\u001b[0;34m.\u001b[0m\u001b[0matan\u001b[0m\u001b[0;34m(\u001b[0m\u001b[0;34m(\u001b[0m\u001b[0mYf\u001b[0m \u001b[0;34m-\u001b[0m \u001b[0mx\u001b[0m\u001b[0;34m)\u001b[0m\u001b[0;34m/\u001b[0m\u001b[0;34m(\u001b[0m\u001b[0mXf\u001b[0m \u001b[0;34m-\u001b[0m \u001b[0my\u001b[0m\u001b[0;34m)\u001b[0m\u001b[0;34m)\u001b[0m\u001b[0;34m*\u001b[0m\u001b[0;36m180\u001b[0m\u001b[0;34m/\u001b[0m\u001b[0;36m3.14\u001b[0m\u001b[0;34m,\u001b[0m \u001b[0;36m0\u001b[0m\u001b[0;34m)\u001b[0m\u001b[0;34m\u001b[0m\u001b[0;34m\u001b[0m\u001b[0m\n\u001b[0m\u001b[1;32m      9\u001b[0m   \u001b[0mstate\u001b[0m\u001b[0;34m.\u001b[0m\u001b[0mappend\u001b[0m\u001b[0;34m(\u001b[0m\u001b[0;34m[\u001b[0m\u001b[0mx\u001b[0m\u001b[0;34m,\u001b[0m \u001b[0my\u001b[0m\u001b[0;34m,\u001b[0m \u001b[0malpha\u001b[0m\u001b[0;34m]\u001b[0m\u001b[0;34m)\u001b[0m\u001b[0;34m\u001b[0m\u001b[0;34m\u001b[0m\u001b[0m\n\u001b[1;32m     10\u001b[0m   \u001b[0mnum_iter\u001b[0m \u001b[0;34m+=\u001b[0m \u001b[0;36m1\u001b[0m\u001b[0;34m\u001b[0m\u001b[0;34m\u001b[0m\u001b[0m\n",
            "\u001b[0;31mKeyboardInterrupt\u001b[0m: "
          ]
        }
      ]
    },
    {
      "cell_type": "code",
      "source": [
        "state, num_iter"
      ],
      "metadata": {
        "id": "nWXDOPNkhxGs",
        "outputId": "9a61fed8-d0f7-4737-b624-d4ba3a0c0ea6",
        "colab": {
          "base_uri": "https://localhost:8080/"
        }
      },
      "execution_count": 21,
      "outputs": [
        {
          "output_type": "execute_result",
          "data": {
            "text/plain": [
              "0"
            ]
          },
          "metadata": {},
          "execution_count": 21
        }
      ]
    },
    {
      "cell_type": "code",
      "source": [
        "Xo, Yo, Xf, Yf"
      ],
      "metadata": {
        "id": "7SFVrluci0zv"
      },
      "execution_count": null,
      "outputs": []
    },
    {
      "cell_type": "code",
      "source": [
        "Xo, Yo, Xf, Yf"
      ],
      "metadata": {
        "id": "btSN3hc9hVbO",
        "outputId": "81a60be4-55a8-44b6-ad5e-f3cfc867b3d3",
        "colab": {
          "base_uri": "https://localhost:8080/"
        }
      },
      "execution_count": 15,
      "outputs": [
        {
          "output_type": "execute_result",
          "data": {
            "text/plain": [
              "(1, 6, 42, 16)"
            ]
          },
          "metadata": {},
          "execution_count": 15
        }
      ]
    },
    {
      "cell_type": "code",
      "source": [
        "X1, Y1, Xf, Yf, Vo, alpha, rate"
      ],
      "metadata": {
        "id": "zpXZdt4hWdP-"
      },
      "execution_count": null,
      "outputs": []
    },
    {
      "cell_type": "code",
      "source": [
        "x + round(rate*cos(alpha), 0)\n",
        "y + round(rate*sin(alpha), 0)"
      ],
      "metadata": {
        "id": "RbQExQslWdJL"
      },
      "execution_count": null,
      "outputs": []
    },
    {
      "cell_type": "code",
      "source": [
        "tg(alpha) = (Yf - Yo)/(Xf - Xo)"
      ],
      "metadata": {
        "id": "NaVndeswTw3l"
      },
      "execution_count": null,
      "outputs": []
    },
    {
      "cell_type": "code",
      "source": [
        "math.atan(1)"
      ],
      "metadata": {
        "colab": {
          "base_uri": "https://localhost:8080/"
        },
        "id": "5oacSGS3TwyK",
        "outputId": "0da2847b-7d9c-4861-9e4e-a487223f3b6a"
      },
      "execution_count": null,
      "outputs": [
        {
          "output_type": "execute_result",
          "data": {
            "text/plain": [
              "0.7853981633974483"
            ]
          },
          "metadata": {},
          "execution_count": 25
        }
      ]
    },
    {
      "cell_type": "code",
      "source": [
        "round(math.atan(1)*180/3.14)"
      ],
      "metadata": {
        "colab": {
          "base_uri": "https://localhost:8080/"
        },
        "id": "fWk05N89VPEO",
        "outputId": "2a3b0905-1dc8-4fbd-bf4d-c6e1cc89cf87"
      },
      "execution_count": null,
      "outputs": [
        {
          "output_type": "execute_result",
          "data": {
            "text/plain": [
              "45"
            ]
          },
          "metadata": {},
          "execution_count": 32
        }
      ]
    },
    {
      "cell_type": "code",
      "source": [
        "round(3.523, 0)"
      ],
      "metadata": {
        "colab": {
          "base_uri": "https://localhost:8080/"
        },
        "id": "smF2VpVaVz9l",
        "outputId": "b3dd6181-6b93-413d-95ca-f9add0d72e09"
      },
      "execution_count": null,
      "outputs": [
        {
          "output_type": "execute_result",
          "data": {
            "text/plain": [
              "4.0"
            ]
          },
          "metadata": {},
          "execution_count": 31
        }
      ]
    },
    {
      "cell_type": "code",
      "source": [
        "3.14/math.atan(1)"
      ],
      "metadata": {
        "colab": {
          "base_uri": "https://localhost:8080/"
        },
        "id": "9_kDPh0TTwR7",
        "outputId": "8b1eae3e-032a-40b9-94c2-6c1cf465e5d8"
      },
      "execution_count": null,
      "outputs": [
        {
          "output_type": "execute_result",
          "data": {
            "text/plain": [
              "3.9979721704684112"
            ]
          },
          "metadata": {},
          "execution_count": 26
        }
      ]
    },
    {
      "cell_type": "code",
      "source": [
        "autonomous(10, 0, 50, 0, 50)"
      ],
      "metadata": {
        "colab": {
          "base_uri": "https://localhost:8080/"
        },
        "id": "McLv6AddPFKw",
        "outputId": "28da6c8a-387e-448e-abab-973d1949cb33"
      },
      "execution_count": null,
      "outputs": [
        {
          "output_type": "execute_result",
          "data": {
            "text/plain": [
              "[[43, 7, 17, 50, 0, 132],\n",
              " [8, 15, 49, 35, 0, 89],\n",
              " [2, 25, 40, 26, 0, 241],\n",
              " [22, 42, 11, 13, 0, 307],\n",
              " [50, 40, 26, 1, 0, 296],\n",
              " [36, 3, 45, 13, 0, 154],\n",
              " [31, 30, 1, 32, 0, 190],\n",
              " [9, 26, 34, 36, 0, 184],\n",
              " [17, 36, 24, 45, 0, 148],\n",
              " [23, 42, 37, 20, 0, 99]]"
            ]
          },
          "metadata": {},
          "execution_count": 23
        }
      ]
    },
    {
      "cell_type": "code",
      "source": [
        "Xo, Yo, Xf, Yf"
      ],
      "metadata": {
        "id": "23W_L-WePFHw"
      },
      "execution_count": null,
      "outputs": []
    },
    {
      "cell_type": "code",
      "source": [
        "random.choice(space_of_coordinates)"
      ],
      "metadata": {
        "id": "f3k-vSxIPF6I"
      },
      "execution_count": null,
      "outputs": []
    },
    {
      "cell_type": "code",
      "source": [
        "t"
      ],
      "metadata": {
        "colab": {
          "base_uri": "https://localhost:8080/"
        },
        "id": "h6GaT1WTPF23",
        "outputId": "bc7215f2-b4c6-4e25-ba20-0ad37f9e19b8"
      },
      "execution_count": null,
      "outputs": [
        {
          "output_type": "execute_result",
          "data": {
            "text/plain": [
              "149"
            ]
          },
          "metadata": {},
          "execution_count": 19
        }
      ]
    },
    {
      "cell_type": "code",
      "source": [
        "random.choice(space_of_orientation)"
      ],
      "metadata": {
        "id": "Hm6rfyp2PFz_"
      },
      "execution_count": null,
      "outputs": []
    },
    {
      "cell_type": "code",
      "source": [
        "Xo, Yo, Xf, Yf, N, x_min, x_max, y_min, y_max"
      ],
      "metadata": {
        "id": "MXxI5ibXPFxA"
      },
      "execution_count": null,
      "outputs": []
    },
    {
      "cell_type": "code",
      "source": [
        "#Xo, Yo, Xf, Yf, Vo, alpha"
      ],
      "metadata": {
        "id": "ZJhhtxBIPaNX"
      },
      "execution_count": null,
      "outputs": []
    }
  ]
}