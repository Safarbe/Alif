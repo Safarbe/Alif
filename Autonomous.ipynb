{
  "nbformat": 4,
  "nbformat_minor": 0,
  "metadata": {
    "colab": {
      "provenance": [],
      "authorship_tag": "ABX9TyPWasK1HTbrHo9bVQVEzr6u",
      "include_colab_link": true
    },
    "kernelspec": {
      "name": "python3",
      "display_name": "Python 3"
    },
    "language_info": {
      "name": "python"
    }
  },
  "cells": [
    {
      "cell_type": "markdown",
      "metadata": {
        "id": "view-in-github",
        "colab_type": "text"
      },
      "source": [
        "<a href=\"https://colab.research.google.com/github/Safarbe/ML-Model/blob/main/Autonomous.ipynb\" target=\"_parent\"><img src=\"https://colab.research.google.com/assets/colab-badge.svg\" alt=\"Open In Colab\"/></a>"
      ]
    },
    {
      "cell_type": "code",
      "execution_count": null,
      "metadata": {
        "id": "zioMYPgLKook"
      },
      "outputs": [],
      "source": [
        "[Xo, Yo, Vo, alpha, _x_min, x_max, y_min, y_max, N]"
      ]
    },
    {
      "cell_type": "code",
      "source": [],
      "metadata": {
        "id": "sulYGQNyKuyI"
      },
      "execution_count": null,
      "outputs": []
    },
    {
      "cell_type": "code",
      "source": [
        "[[], [], [] ...  []]"
      ],
      "metadata": {
        "id": "7NToRLUiKuq2"
      },
      "execution_count": null,
      "outputs": []
    },
    {
      "cell_type": "code",
      "source": [
        "import random"
      ],
      "metadata": {
        "id": "w6_qHqwpOjOz"
      },
      "execution_count": 12,
      "outputs": []
    },
    {
      "cell_type": "code",
      "source": [
        "def autonomous(N, x_min, x_max, y_min, y_max):\n",
        "  space_of_coordinates = [x for x in range(1, 51)]\n",
        "  space_of_orientation = [x for x in range(1, 361)]\n",
        "  state_of_system = []     #Xo, Yo, Xf, Yf, Vo, alpha\n",
        "  for i in range(N):\n",
        "    state_of_system.append([random.choice(space_of_coordinates), random.choice( space_of_coordinates), random.choice(space_of_coordinates), random.choice(space_of_coordinates), 0, random.choice(space_of_orientation)])\n",
        "  return state_of_system  "
      ],
      "metadata": {
        "id": "yz0_esY2KujX"
      },
      "execution_count": 22,
      "outputs": []
    },
    {
      "cell_type": "code",
      "source": [
        "autonomous(10, 0, 50, 0, 50)"
      ],
      "metadata": {
        "colab": {
          "base_uri": "https://localhost:8080/"
        },
        "id": "McLv6AddPFKw",
        "outputId": "28da6c8a-387e-448e-abab-973d1949cb33"
      },
      "execution_count": 23,
      "outputs": [
        {
          "output_type": "execute_result",
          "data": {
            "text/plain": [
              "[[43, 7, 17, 50, 0, 132],\n",
              " [8, 15, 49, 35, 0, 89],\n",
              " [2, 25, 40, 26, 0, 241],\n",
              " [22, 42, 11, 13, 0, 307],\n",
              " [50, 40, 26, 1, 0, 296],\n",
              " [36, 3, 45, 13, 0, 154],\n",
              " [31, 30, 1, 32, 0, 190],\n",
              " [9, 26, 34, 36, 0, 184],\n",
              " [17, 36, 24, 45, 0, 148],\n",
              " [23, 42, 37, 20, 0, 99]]"
            ]
          },
          "metadata": {},
          "execution_count": 23
        }
      ]
    },
    {
      "cell_type": "code",
      "source": [],
      "metadata": {
        "id": "23W_L-WePFHw"
      },
      "execution_count": null,
      "outputs": []
    },
    {
      "cell_type": "code",
      "source": [
        "random.choice(space_of_coordinates)"
      ],
      "metadata": {
        "id": "f3k-vSxIPF6I"
      },
      "execution_count": null,
      "outputs": []
    },
    {
      "cell_type": "code",
      "source": [
        "t"
      ],
      "metadata": {
        "colab": {
          "base_uri": "https://localhost:8080/"
        },
        "id": "h6GaT1WTPF23",
        "outputId": "bc7215f2-b4c6-4e25-ba20-0ad37f9e19b8"
      },
      "execution_count": 19,
      "outputs": [
        {
          "output_type": "execute_result",
          "data": {
            "text/plain": [
              "149"
            ]
          },
          "metadata": {},
          "execution_count": 19
        }
      ]
    },
    {
      "cell_type": "code",
      "source": [
        "random.choice(space_of_orientation)"
      ],
      "metadata": {
        "id": "Hm6rfyp2PFz_"
      },
      "execution_count": 17,
      "outputs": []
    },
    {
      "cell_type": "code",
      "source": [
        "Xo, Yo, Xf, Yf, N, x_min, x_max, y_min, y_max"
      ],
      "metadata": {
        "id": "MXxI5ibXPFxA"
      },
      "execution_count": null,
      "outputs": []
    },
    {
      "cell_type": "code",
      "source": [
        "#Xo, Yo, Xf, Yf, Vo, alpha"
      ],
      "metadata": {
        "id": "ZJhhtxBIPaNX"
      },
      "execution_count": null,
      "outputs": []
    }
  ]
}