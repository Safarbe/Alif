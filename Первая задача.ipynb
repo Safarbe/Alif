{
  "nbformat": 4,
  "nbformat_minor": 0,
  "metadata": {
    "colab": {
      "provenance": []
    },
    "kernelspec": {
      "name": "python3",
      "display_name": "Python 3"
    },
    "language_info": {
      "name": "python"
    }
  },
  "cells": [
    {
      "cell_type": "code",
      "execution_count": null,
      "metadata": {
        "id": "eG4SgrNWV1aH"
      },
      "outputs": [],
      "source": [
        "import numpy as np\n",
        "import pandas as pd\n",
        "import seaborn as sns\n",
        "import matplotlib.pylab as plt\n",
        "import scipy.stats as st"
      ]
    },
    {
      "cell_type": "code",
      "source": [
        "train = pd.read_csv('/content/credit_train.csv', encoding='cp1251', sep = ';') \n",
        "X_test = pd.read_csv('/content/credit_test.csv', encoding='cp1251', sep = ';') "
      ],
      "metadata": {
        "id": "WVEQDAXqV_MW"
      },
      "execution_count": null,
      "outputs": []
    },
    {
      "cell_type": "code",
      "source": [
        "new_data = []"
      ],
      "metadata": {
        "id": "Gc63kVPdWLqs"
      },
      "execution_count": null,
      "outputs": []
    },
    {
      "cell_type": "code",
      "source": [
        "for i in range(len(X_test)):\n",
        "  new_data.append(3) "
      ],
      "metadata": {
        "id": "3mMYV4oOWNBk"
      },
      "execution_count": null,
      "outputs": []
    },
    {
      "cell_type": "code",
      "source": [
        "X_test['open_account_flg'] = new_data"
      ],
      "metadata": {
        "id": "TjrSZhI4WM-v"
      },
      "execution_count": null,
      "outputs": []
    },
    {
      "cell_type": "code",
      "source": [
        "result = pd.concat([train, X_test])"
      ],
      "metadata": {
        "id": "v5vVIAlKWM7K"
      },
      "execution_count": null,
      "outputs": []
    },
    {
      "cell_type": "code",
      "source": [
        "result['credit_sum'] = train['credit_sum'].str.replace(',','.')\n",
        "result['score_shk'] = result['score_shk'].str.replace(',','.')\n",
        "result['credit_sum'] = result['credit_sum'].astype(float)\n",
        "result['score_shk'] = result['score_shk'].astype(float)"
      ],
      "metadata": {
        "id": "JbB0LWxAWM3D"
      },
      "execution_count": null,
      "outputs": []
    },
    {
      "cell_type": "code",
      "source": [
        "result.isnull().sum()"
      ],
      "metadata": {
        "colab": {
          "base_uri": "https://localhost:8080/"
        },
        "id": "HeByURb2XAGk",
        "outputId": "ff85d6e8-fa2d-460d-b069-ec64d7bd99ec"
      },
      "execution_count": null,
      "outputs": [
        {
          "output_type": "execute_result",
          "data": {
            "text/plain": [
              "client_id                   0\n",
              "gender                      0\n",
              "age                         0\n",
              "marital_status              0\n",
              "job_position                0\n",
              "credit_sum                  0\n",
              "credit_month                0\n",
              "tariff_id                   0\n",
              "score_shk                   0\n",
              "education                   0\n",
              "living_region             308\n",
              "monthly_income              1\n",
              "credit_count            13933\n",
              "overdue_credit_count    13933\n",
              "open_account_flg            0\n",
              "dtype: int64"
            ]
          },
          "metadata": {},
          "execution_count": 9
        }
      ]
    },
    {
      "cell_type": "code",
      "source": [
        "result.shape"
      ],
      "metadata": {
        "colab": {
          "base_uri": "https://localhost:8080/"
        },
        "id": "IdzkwnZfXACx",
        "outputId": "f36e88f9-676c-4311-d4cf-89e2db4964f2"
      },
      "execution_count": null,
      "outputs": [
        {
          "output_type": "execute_result",
          "data": {
            "text/plain": [
              "(262686, 15)"
            ]
          },
          "metadata": {},
          "execution_count": 10
        }
      ]
    },
    {
      "cell_type": "code",
      "source": [
        "result = result.dropna()"
      ],
      "metadata": {
        "id": "hfvy8CuWW__C"
      },
      "execution_count": null,
      "outputs": []
    },
    {
      "cell_type": "code",
      "source": [
        "result.shape"
      ],
      "metadata": {
        "colab": {
          "base_uri": "https://localhost:8080/"
        },
        "id": "qlKhgtagW_6e",
        "outputId": "fc3918b7-ad0b-479e-ae30-222e133c6314"
      },
      "execution_count": null,
      "outputs": [
        {
          "output_type": "execute_result",
          "data": {
            "text/plain": [
              "(248471, 15)"
            ]
          },
          "metadata": {},
          "execution_count": 12
        }
      ]
    },
    {
      "cell_type": "code",
      "source": [
        "result = result.drop('client_id', axis=1)"
      ],
      "metadata": {
        "id": "jEbO9fUtXoxv"
      },
      "execution_count": null,
      "outputs": []
    },
    {
      "cell_type": "code",
      "source": [
        "set(result.gender)"
      ],
      "metadata": {
        "colab": {
          "base_uri": "https://localhost:8080/"
        },
        "id": "PF-CUyN5aC21",
        "outputId": "5598176f-329b-48a9-9858-98abc9a9e59b"
      },
      "execution_count": null,
      "outputs": [
        {
          "output_type": "execute_result",
          "data": {
            "text/plain": [
              "{'F', 'M'}"
            ]
          },
          "metadata": {},
          "execution_count": 32
        }
      ]
    },
    {
      "cell_type": "code",
      "source": [
        "set(result.marital_status)"
      ],
      "metadata": {
        "colab": {
          "base_uri": "https://localhost:8080/"
        },
        "id": "u1Gf1ze2aCzg",
        "outputId": "d8c3cf7d-01e4-4fbf-c952-1b4e1da8893b"
      },
      "execution_count": null,
      "outputs": [
        {
          "output_type": "execute_result",
          "data": {
            "text/plain": [
              "{'CIV', 'DIV', 'MAR', 'UNM', 'WID'}"
            ]
          },
          "metadata": {},
          "execution_count": 33
        }
      ]
    },
    {
      "cell_type": "code",
      "source": [
        "set(result.job_position)"
      ],
      "metadata": {
        "colab": {
          "base_uri": "https://localhost:8080/"
        },
        "id": "462ih3J_aCwo",
        "outputId": "b91b10f6-080f-445b-da48-c7210be34eb3"
      },
      "execution_count": null,
      "outputs": [
        {
          "output_type": "execute_result",
          "data": {
            "text/plain": [
              "{'ATP',\n",
              " 'BIS',\n",
              " 'BIU',\n",
              " 'DIR',\n",
              " 'HSK',\n",
              " 'INP',\n",
              " 'INV',\n",
              " 'NOR',\n",
              " 'ONB',\n",
              " 'PNA',\n",
              " 'PNI',\n",
              " 'PNS',\n",
              " 'PNV',\n",
              " 'SPC',\n",
              " 'UMN',\n",
              " 'WOI',\n",
              " 'WRK',\n",
              " 'WRP'}"
            ]
          },
          "metadata": {},
          "execution_count": 34
        }
      ]
    },
    {
      "cell_type": "code",
      "source": [
        "set(result.education)"
      ],
      "metadata": {
        "colab": {
          "base_uri": "https://localhost:8080/"
        },
        "id": "HBmF8q_caCtK",
        "outputId": "6a2c11bd-e323-4106-eb94-d84ba6114750"
      },
      "execution_count": null,
      "outputs": [
        {
          "output_type": "execute_result",
          "data": {
            "text/plain": [
              "{'ACD', 'GRD', 'PGR', 'SCH', 'UGR'}"
            ]
          },
          "metadata": {},
          "execution_count": 35
        }
      ]
    },
    {
      "cell_type": "code",
      "source": [
        "result['living_region'] = result['living_region'].replace({'КРАЙ ЗАБАЙКАЛЬСКИЙ': 'ЗАБАЙКАЛЬСКИЙ КРАЙ', 'КРАЙ. СТАВРОПОЛЬСКИЙ': 'СТАВРОПОЛЬСКИЙ КРАЙ', 'КРАЙ. ПЕРМСКИЙ': 'ПЕРМСКИЙ КРАЙ', 'КРАЙ.ПЕРМСКИЙ': 'ПЕРМСКИЙ КРАЙ',  'КРАЙ. КРАСНОЯРСКИЙ': 'КРАСНОЯРСКИЙ КРАЙ', 'КРАЙ ХАБАРОВСКИЙ': 'ХАБАРОВСКИЙ КРАЙ', 'КРАЙ СТАВРОПОЛЬСКИЙ': 'СТАВРОПОЛЬСКИЙ КРАЙ', 'КРАЙ ПРИМОРСКИЙ': 'ПРИМОРСКИЙ КРАЙ', 'КРАЙ ПЕРМСКИЙ': 'ПЕРМСКИЙ КРАЙ', 'КРАЙ КРАСНОЯРСКИЙ': 'КРАСНОЯРСКИЙ КРАЙ', 'КРАЙ КРАСНОДАРСКИЙ': 'КРАСНОДАРСКИЙ КРАЙ', 'КРАЙ КАМЧАТСКИЙ': 'КАМЧАТСКИЙ КРАЙ', 'КРАЙ АЛТАЙСКИЙ': 'АЛТАЙСКИЙ КРАЙ', 'КОСТРОМСКАЯ ОБЛ': 'КОСТРОМСКАЯ ОБЛАСТЬ', 'КОМИ': 'КОМИ РЕСП', 'КИРОВСКАЯ ОБЛ': 'КИРОВСКАЯ ОБЛАСТЬ', 'КЕМЕРОВСКАЯ ОБЛ': 'КЕМЕРОВСКАЯ ОБЛАСТЬ', 'КЕМЕРОВСКАЯ': 'КЕМЕРОВСКАЯ ОБЛАСТЬ', 'КАРЕЛИЯ': 'КАРЕЛИЯ РЕСП', 'КАРАЧАЕВО-ЧЕРКЕССКАЯ': 'КАРАЧАЕВО-ЧЕРКЕССКАЯ РЕСП', 'КАМЧАТС??ИЙ КРАЙ': 'КАМЧАТСКИЙ КРАЙ', 'КАЛУЖСКАЯ ОБЛ': 'КАЛУЖСКАЯ ОБЛАСТЬ', 'КАЛУЖСКАЯ': 'КАЛУЖСКАЯ ОБЛАСТЬ', 'КАЛМЫКИЯ РЕСП': 'КАЛМЫКИЯ', 'КАЛИНИНГРАДСКАЯ ОБЛ.': 'КАЛИНИНГРАДСКАЯ ОБЛ', 'КАБАРДИНО-БАЛКАРСКАЯ РЕСП': 'КАБАРДИНО-БАЛКАРСКАЯ', 'ИРКУТСКАЯ ОБЛ': 'ИРКУТСКАЯ ОБЛАСТЬ', 'ИВАНОВСКАЯ ОБЛ': 'ИВАНОВСКАЯ ОБЛАСТЬ', 'ЕВРЕЙСКАЯ АВТОНОМНАЯ': 'АО ЕВРЕЙСКАЯ', 'ЕВРЕЙСКАЯ АОБЛ': 'АО ЕВРЕЙСКАЯ', 'Г. ЧЕЛЯБИНСК': 'ЧЕЛЯБИНСК', 'Г САНКТ-ПЕТЕРБУРГ': 'САНКТ-ПЕТЕРБУРГ', 'Г. САНКТ-ПЕТЕРБУРГ': 'САНКТ-ПЕТЕРБУРГ', 'Г МОСКВА': 'МОСКВА', 'Г. МОСКВА': 'МОСКВА', 'ВОРОНЕЖСКАЯ ОБЛ': 'ВОРОНЕЖСКАЯ ОБЛАСТЬ', 'ВОЛОГОДСКАЯ': 'ВОЛГОГРАДСКАЯ ОБЛАСТЬ', 'ВОЛОГОДСКАЯ ОБЛ': 'ВОЛГОГРАДСКАЯ ОБЛАСТЬ', 'ВОЛОГОДСКАЯ ОБЛ.': 'ВОЛГОГРАДСКАЯ ОБЛАСТЬ', 'ВОЛГОГРАДСКАЯ': 'ВОЛГОГРАДСКАЯ ОБЛАСТЬ', 'ВОЛГОГРАДСКАЯ ОБЛ': 'ВОЛГОГРАДСКАЯ ОБЛАСТЬ', 'ВЛАДИМИРСКАЯ ОБЛ': 'ВЛАДИМИРСКАЯ ОБЛАСТЬ', 'БУРЯТИЯ РЕСП': 'БУРЯТИЯ', 'БРЯНСКАЯ ОБЛ': 'БРЯНСКАЯ ОБЛАСТЬ', 'БРЯНСКИЙ': 'БРЯНСКАЯ ОБЛАСТЬ', 'БЕЛГОРОДСКАЯ ОБЛ': 'БЕЛГОРОДСКАЯ ОБЛАСТЬ','БАШКОРТОСТАН РЕСП': 'БАШКОРТОСТАН', 'АСТРАХАНСКАЯ': 'АСТРАХАНСКАЯ ОБЛАСТЬ', 'АСТРАХАНСКАЯ ОБЛ': 'АСТРАХАНСКАЯ ОБЛАСТЬ','АРХАНГЕЛЬСКАЯ': 'АРХАНГЕЛЬСКАЯ ОБЛАСТЬ','АРХАНГЕЛЬСКАЯ ОБЛ': 'АРХАНГЕЛЬСКАЯ ОБЛАСТЬ','АОБЛ ЕВРЕЙСКАЯ': 'АО ЕВРЕЙСКАЯ', 'АДЫГЕЯ РЕСП': 'АДЫГЕЯ', 'АЛТАЙСКИЙ': 'АЛТАЙСКИЙ КРАЙ', 'АМУРСКАЯ ОБЛ': 'АМУРСКАЯ ОБЛАСТЬ', 'АО ХАНТЫ-МАНСИЙСКИЙ АВТОНОМНЫЙ ОКРУГ - Ю': 'АО ХАНТЫ-МАНСИЙСКИЙ-ЮГРА'})"
      ],
      "metadata": {
        "id": "k-CI_NaPdbDz"
      },
      "execution_count": null,
      "outputs": []
    },
    {
      "cell_type": "code",
      "source": [
        "set(result.living_region)"
      ],
      "metadata": {
        "colab": {
          "base_uri": "https://localhost:8080/"
        },
        "id": "0xrgCK6paCoo",
        "outputId": "91ef2fd6-8217-49ae-ed0c-141c2ef349f8"
      },
      "execution_count": null,
      "outputs": [
        {
          "output_type": "execute_result",
          "data": {
            "text/plain": [
              "{'74',\n",
              " '98',\n",
              " 'АДЫГЕЯ',\n",
              " 'АЛТАЙСКИЙ КРАЙ',\n",
              " 'АМУРСКАЯ ОБЛАСТЬ',\n",
              " 'АО ЕВРЕЙСКАЯ',\n",
              " 'АО НЕНЕЦКИЙ',\n",
              " 'АО ХАНТЫ-МАНСИЙСКИЙ-ЮГРА',\n",
              " 'АО ЧУКОТСКИЙ',\n",
              " 'АО ЯМАЛО-НЕНЕЦКИЙ',\n",
              " 'АРХАНГЕЛЬСКАЯ ОБЛАСТЬ',\n",
              " 'АСТРАХАНСКАЯ ОБЛАСТЬ',\n",
              " 'БАШКОРТОСТАН',\n",
              " 'БЕЛГОРОДСКАЯ ОБЛАСТЬ',\n",
              " 'БРЯНСКАЯ ОБЛАСТЬ',\n",
              " 'БУРЯТИЯ',\n",
              " 'ВЛАДИМИРСКАЯ ОБЛАСТЬ',\n",
              " 'ВОЛГОГРАДСКАЯ ОБЛАСТЬ',\n",
              " 'ВОЛОГОДСКАЯ ОБЛАСТЬ',\n",
              " 'ВОРОНЕЖСКАЯ ОБЛАСТЬ',\n",
              " 'ГОРЬКОВСКАЯ ОБЛ',\n",
              " 'ГУСЬ-ХРУСТАЛЬНЫЙ Р-Н',\n",
              " 'ДАГЕСТАН РЕСП',\n",
              " 'ЗАБАЙКАЛЬСКИЙ КРАЙ',\n",
              " 'ИВАНОВСКАЯ ОБЛАСТЬ',\n",
              " 'ИНГУШЕТИЯ РЕСП',\n",
              " 'ИРКУТСКАЯ ОБЛАСТЬ',\n",
              " 'КАБАРДИНО-БАЛКАРСКАЯ',\n",
              " 'КАЛИНИНГРАДСКАЯ ОБЛ',\n",
              " 'КАЛМЫКИЯ',\n",
              " 'КАЛУЖСКАЯ ОБЛАСТЬ',\n",
              " 'КАМЧАТСКАЯ ОБЛАСТЬ',\n",
              " 'КАМЧАТСКИЙ КРАЙ',\n",
              " 'КАРАЧАЕВО-ЧЕРКЕССКАЯ РЕСП',\n",
              " 'КАРЕЛИЯ РЕСП',\n",
              " 'КЕМЕРОВСКАЯ ОБЛАСТЬ',\n",
              " 'КИРОВСКАЯ ОБЛАСТЬ',\n",
              " 'КОМИ РЕСП',\n",
              " 'КОСТРОМСКАЯ ОБЛАСТЬ',\n",
              " 'КРАСНОДАРСКИЙ',\n",
              " 'КРАСНОДАРСКИЙ КРАЙ',\n",
              " 'КРАСНОЯРСКИЙ КРАЙ',\n",
              " 'КУРГАНСКАЯ ОБЛ',\n",
              " 'КУРГАНСКАЯ ОБЛАСТЬ',\n",
              " 'КУРСКАЯ ОБЛ',\n",
              " 'КУРСКАЯ ОБЛАСТЬ',\n",
              " 'ЛЕНИНГРАДСКАЯ',\n",
              " 'ЛЕНИНГРАДСКАЯ ОБЛ',\n",
              " 'ЛЕНИНГРАДСКАЯ ОБЛАСТЬ',\n",
              " 'ЛИПЕЦКАЯ ОБЛ',\n",
              " 'ЛИПЕЦКАЯ ОБЛАСТЬ',\n",
              " 'МАГАДАНСКАЯ ОБЛАСТЬ',\n",
              " 'МАРИЙ ЭЛ РЕСП',\n",
              " 'МОРДОВИЯ РЕСП',\n",
              " 'МОСКВА',\n",
              " 'МОСКВА Г',\n",
              " 'МОСКВОСКАЯ ОБЛ',\n",
              " 'МОСКОВСКАЯ',\n",
              " 'МОСКОВСКАЯ ОБЛ',\n",
              " 'МОСКОВСКАЯ ОБЛАСТЬ',\n",
              " 'МОСКОВСКИЙ П',\n",
              " 'МУРМАНСКАЯ ОБЛ',\n",
              " 'МУРМАНСКАЯ ОБЛАСТЬ',\n",
              " 'МЫТИЩИНСКИЙ Р-Н',\n",
              " 'НЕНЕЦКИЙ АО',\n",
              " 'НИЖЕГОРОДСКАЯ ОБЛ',\n",
              " 'НИЖЕГОРОДСКАЯ ОБЛАСТЬ',\n",
              " 'НОВГОРОДСКАЯ ОБЛ',\n",
              " 'НОВГОРОДСКАЯ ОБЛАСТЬ',\n",
              " 'НОВОСИБИРСКАЯ',\n",
              " 'НОВОСИБИРСКАЯ ОБЛ',\n",
              " 'НОВОСИБИРСКАЯ ОБЛАСТЬ',\n",
              " 'ОБЛ АМУРСКАЯ',\n",
              " 'ОБЛ АРХАНГЕЛЬСКАЯ',\n",
              " 'ОБЛ АСТРАХАНСКАЯ',\n",
              " 'ОБЛ БЕЛГОРОДСКАЯ',\n",
              " 'ОБЛ БРЯНСКАЯ',\n",
              " 'ОБЛ ВЛАДИМИРСКАЯ',\n",
              " 'ОБЛ ВОЛГОГРАДСКАЯ',\n",
              " 'ОБЛ ВОЛОГОДСКАЯ',\n",
              " 'ОБЛ ВОРОНЕЖСКАЯ',\n",
              " 'ОБЛ ИВАНОВСКАЯ',\n",
              " 'ОБЛ ИРКУТСКАЯ',\n",
              " 'ОБЛ КАЛИНИНГРАДСКАЯ',\n",
              " 'ОБЛ КАЛУЖСКАЯ',\n",
              " 'ОБЛ КЕМЕРОВСКАЯ',\n",
              " 'ОБЛ КИРОВСКАЯ',\n",
              " 'ОБЛ КОСТРОМСКАЯ',\n",
              " 'ОБЛ КУРГАНСКАЯ',\n",
              " 'ОБЛ КУРСКАЯ',\n",
              " 'ОБЛ ЛЕНИНГРАДСКАЯ',\n",
              " 'ОБЛ ЛИПЕЦКАЯ',\n",
              " 'ОБЛ МАГАДАНСКАЯ',\n",
              " 'ОБЛ МОСКОВСКАЯ',\n",
              " 'ОБЛ МУРМАНСКАЯ',\n",
              " 'ОБЛ НИЖЕГОРОДСКАЯ',\n",
              " 'ОБЛ НОВГОРОДСКАЯ',\n",
              " 'ОБЛ НОВОСИБИРСКАЯ',\n",
              " 'ОБЛ ОМСКАЯ',\n",
              " 'ОБЛ ОРЕНБУРГСКАЯ',\n",
              " 'ОБЛ ОРЛОВСКАЯ',\n",
              " 'ОБЛ ПЕНЗЕНСКАЯ',\n",
              " 'ОБЛ ПСКОВСКАЯ',\n",
              " 'ОБЛ РОСТОВСКАЯ',\n",
              " 'ОБЛ РЯЗАНСКАЯ',\n",
              " 'ОБЛ САМАРСКАЯ',\n",
              " 'ОБЛ САРАТОВСКАЯ',\n",
              " 'ОБЛ САХАЛИНСКАЯ',\n",
              " 'ОБЛ СВЕРДЛОВСКАЯ',\n",
              " 'ОБЛ СМОЛЕНСКАЯ',\n",
              " 'ОБЛ ТАМБОВСКАЯ',\n",
              " 'ОБЛ ТВЕРСКАЯ',\n",
              " 'ОБЛ ТОМСКАЯ',\n",
              " 'ОБЛ ТУЛЬСКАЯ',\n",
              " 'ОБЛ ТЮМЕНСКАЯ',\n",
              " 'ОБЛ УЛЬЯНОВСКАЯ',\n",
              " 'ОБЛ ЧЕЛЯБИНСКАЯ',\n",
              " 'ОБЛ ЯРОСЛАВСКАЯ',\n",
              " 'ОБЛ. БЕЛГОРОДСКАЯ',\n",
              " 'ОБЛ. ВЛАДИМИРСКАЯ',\n",
              " 'ОБЛ. КИРОВСКАЯ',\n",
              " 'ОБЛ. КУРГАНСКАЯ',\n",
              " 'ОБЛ. ЛИПЕЦКАЯ',\n",
              " 'ОБЛ. МОСКОВСКАЯ',\n",
              " 'ОБЛ. МУРМАНСКАЯ',\n",
              " 'ОБЛ. НОВОСИБИРСКАЯ',\n",
              " 'ОБЛ. СВЕРДЛОВСКАЯ',\n",
              " 'ОБЛ. ЧЕЛЯБИНСКАЯ',\n",
              " 'ОБЛ.МОСКОВСКАЯ',\n",
              " 'ОБЛ.НИЖЕГОРОДСКАЯ',\n",
              " 'ОБЛ.РОСТОВСКАЯ',\n",
              " 'ОБЛ.САРАТОВСКАЯ',\n",
              " 'ОМСКАЯ',\n",
              " 'ОМСКАЯ ОБЛ',\n",
              " 'ОМСКАЯ ОБЛАСТЬ',\n",
              " 'ОРЁЛ',\n",
              " 'ОРЕНБУРГСКАЯ',\n",
              " 'ОРЕНБУРГСКАЯ ОБЛ',\n",
              " 'ОРЕНБУРГСКАЯ ОБЛАСТЬ',\n",
              " 'ОРЛОВСКАЯ',\n",
              " 'ОРЛОВСКАЯ ОБЛ',\n",
              " 'ОРЛОВСКАЯ ОБЛАСТЬ',\n",
              " 'ПЕНЗЕНСКАЯ',\n",
              " 'ПЕНЗЕНСКАЯ ОБЛ',\n",
              " 'ПЕНЗЕНСКАЯ ОБЛАСТЬ',\n",
              " 'ПЕРМСКАЯ ОБЛ',\n",
              " 'ПЕРМСКИЙ',\n",
              " 'ПЕРМСКИЙ КРАЙ',\n",
              " 'ПРИВОЛЖСКИЙ ФЕДЕРАЛЬНЫЙ ОКРУГ',\n",
              " 'ПРИМОРСКИЙ КРАЙ',\n",
              " 'ПСКОВСКАЯ',\n",
              " 'ПСКОВСКАЯ ОБЛ',\n",
              " 'ПСКОВСКАЯ ОБЛАСТЬ',\n",
              " 'РЕСП АДЫГЕЯ',\n",
              " 'РЕСП АЛТАЙ',\n",
              " 'РЕСП БАШКОРТОСТАН',\n",
              " 'РЕСП БУРЯТИЯ',\n",
              " 'РЕСП ДАГЕСТАН',\n",
              " 'РЕСП ИНГУШЕТИЯ',\n",
              " 'РЕСП КАБАРДИНО-БАЛКАРСКАЯ',\n",
              " 'РЕСП КАЛМЫКИЯ',\n",
              " 'РЕСП КАРАЧАЕВО-ЧЕРКЕССКАЯ',\n",
              " 'РЕСП КАРЕЛИЯ',\n",
              " 'РЕСП КОМИ',\n",
              " 'РЕСП МАРИЙ ЭЛ',\n",
              " 'РЕСП МОРДОВИЯ',\n",
              " 'РЕСП САХА /ЯКУТИЯ/',\n",
              " 'РЕСП СЕВЕРНАЯ ОСЕТИЯ - АЛАНИЯ',\n",
              " 'РЕСП ТАТАРСТАН',\n",
              " 'РЕСП ТЫВА',\n",
              " 'РЕСП УДМУРТСКАЯ',\n",
              " 'РЕСП ХАКАСИЯ',\n",
              " 'РЕСП ЧЕЧЕНСКАЯ',\n",
              " 'РЕСП ЧУВАШСКАЯ - ЧУВАШИЯ',\n",
              " 'РЕСП. БАШКОРТОСТАН',\n",
              " 'РЕСП. КОМИ',\n",
              " 'РЕСП. САХА (ЯКУТИЯ)',\n",
              " 'РЕСП.БАШКОРТОСТАН',\n",
              " 'РЕСП.ТАТАРСТАН',\n",
              " 'РЕСПУБЛИКА АДЫГЕЯ',\n",
              " 'РЕСПУБЛИКА АЛТАЙ',\n",
              " 'РЕСПУБЛИКА БУРЯТИЯ',\n",
              " 'РЕСПУБЛИКА ДАГЕСТАН',\n",
              " 'РЕСПУБЛИКА КАЛМЫКИЯ',\n",
              " 'РЕСПУБЛИКА КАРЕЛИЯ',\n",
              " 'РЕСПУБЛИКА КОМИ',\n",
              " 'РЕСПУБЛИКА МАРИЙ ЭЛ',\n",
              " 'РЕСПУБЛИКА МОРДОВИЯ',\n",
              " 'РЕСПУБЛИКА САХА',\n",
              " 'РЕСПУБЛИКА ТАТАРСТАН',\n",
              " 'РЕСПУБЛИКА ТЫВА',\n",
              " 'РЕСПУБЛИКА ХАКАСИЯ',\n",
              " 'РЕСПУБЛИКАТАТАРСТАН',\n",
              " 'РОССИЯ',\n",
              " 'РОСТОВСКАЯ',\n",
              " 'РОСТОВСКАЯ ОБЛ',\n",
              " 'РОСТОВСКАЯ ОБЛАСТЬ',\n",
              " 'РЯЗАНСКАЯ ОБЛ',\n",
              " 'РЯЗАНСКАЯ ОБЛАСТЬ',\n",
              " 'САМАРСКАЯ',\n",
              " 'САМАРСКАЯ ОБЛ',\n",
              " 'САМАРСКАЯ ОБЛАСТЬ',\n",
              " 'САНКТ-ПЕТЕРБУРГ',\n",
              " 'САНКТ-ПЕТЕРБУРГ Г',\n",
              " 'САРАТОВСКАЯ ОБЛ',\n",
              " 'САРАТОВСКАЯ ОБЛАСТЬ',\n",
              " 'САХА /ЯКУТИЯ/',\n",
              " 'САХА /ЯКУТИЯ/ РЕСП',\n",
              " 'САХАЛИНСКАЯ ОБЛ',\n",
              " 'САХАЛИНСКАЯ ОБЛАСТЬ',\n",
              " 'СВЕРДЛОВСКАЯ',\n",
              " 'СВЕРДЛОВСКАЯ ОБЛ',\n",
              " 'СВЕРДЛОВСКАЯ ОБЛАСТЬ',\n",
              " 'СЕВ. ОСЕТИЯ - АЛАНИЯ',\n",
              " 'СЕВЕРНАЯ ОСЕТИЯ - АЛАНИЯ РЕСП',\n",
              " 'СМОЛЕНСКАЯ ОБЛ',\n",
              " 'СМОЛЕНСКАЯ ОБЛАСТЬ',\n",
              " 'СТАВРОПОЛЬСКИЙ',\n",
              " 'СТАВРОПОЛЬСКИЙ КРАЙ',\n",
              " 'ТАМБОВСКАЯ ОБЛ',\n",
              " 'ТАМБОВСКАЯ ОБЛАСТЬ',\n",
              " 'ТАТАРСТАН РЕСП',\n",
              " 'ТВЕРСКАЯ ОБЛ',\n",
              " 'ТВЕРСКАЯ ОБЛАСТЬ',\n",
              " 'ТОМСКАЯ',\n",
              " 'ТОМСКАЯ ОБЛ',\n",
              " 'ТОМСКАЯ ОБЛАСТЬ',\n",
              " 'ТУЛЬСКАЯ ОБЛ',\n",
              " 'ТУЛЬСКАЯ ОБЛАСТЬ',\n",
              " 'ТЫВА РЕСП',\n",
              " 'ТЮМЕНСКАЯ',\n",
              " 'ТЮМЕНСКАЯ ОБЛ',\n",
              " 'ТЮМЕНСКАЯ ОБЛАСТЬ',\n",
              " 'УДМУРТСКАЯ РЕСП',\n",
              " 'УДМУРТСКАЯ РЕСПУБЛИКА',\n",
              " 'УЛЬЯНОВСКАЯ ОБЛ',\n",
              " 'УЛЬЯНОВСКАЯ ОБЛАСТЬ',\n",
              " 'ХАБАРОВСКИЙ КРАЙ',\n",
              " 'ХАКАСИЯ',\n",
              " 'ХАКАСИЯ РЕСП',\n",
              " 'ХАНТЫ-МАНСИЙСКИЙ АВТОНОМНЫЙ ОКРУГ - ЮГРА',\n",
              " 'ХАНТЫ-МАНСИЙСКИЙ АО',\n",
              " 'ЧЕЛЯБИНСК',\n",
              " 'ЧЕЛЯБИНСКАЯ ОБЛ',\n",
              " 'ЧЕЛЯБИНСКАЯ ОБЛАСТЬ',\n",
              " 'ЧЕЧЕНСКАЯ РЕСП',\n",
              " 'ЧЕЧЕНСКАЯ РЕСПУБЛИКА',\n",
              " 'ЧИТИНСКАЯ ОБЛ',\n",
              " 'ЧУВАШИЯ ЧУВАШСКАЯ РЕСПУБЛИКА -',\n",
              " 'ЧУВАШСКАЯ - ЧУВАШИЯ РЕСП',\n",
              " 'ЧУВАШСКАЯ РЕСП',\n",
              " 'ЧУВАШСКАЯ РЕСПУБЛИКА',\n",
              " 'ЧУВАШСКАЯ РЕСПУБЛИКА - ЧУВАШИЯ',\n",
              " 'ЧУКОТСКИЙ АO',\n",
              " 'ЧУКОТСКИЙ АО',\n",
              " 'ЭВЕНКИЙСКИЙ АО',\n",
              " 'ЯМАЛО-НЕНЕЦКИЙ',\n",
              " 'ЯМАЛО-НЕНЕЦКИЙ АО',\n",
              " 'ЯРОСЛАВСКАЯ ОБЛ',\n",
              " 'ЯРОСЛАВСКАЯ ОБЛАСТЬ'}"
            ]
          },
          "metadata": {},
          "execution_count": 17
        }
      ]
    },
    {
      "cell_type": "code",
      "source": [
        "# takes too much time  to replace all errors"
      ],
      "metadata": {
        "id": "fqXCATlO72I-"
      },
      "execution_count": null,
      "outputs": []
    },
    {
      "cell_type": "code",
      "source": [
        "result['living_region'].nunique()"
      ],
      "metadata": {
        "colab": {
          "base_uri": "https://localhost:8080/"
        },
        "id": "O0d-b1iAt4Wv",
        "outputId": "fe77f104-c8ad-48ef-de07-7bec02cdb883"
      },
      "execution_count": null,
      "outputs": [
        {
          "output_type": "execute_result",
          "data": {
            "text/plain": [
              "260"
            ]
          },
          "metadata": {},
          "execution_count": 18
        }
      ]
    },
    {
      "cell_type": "code",
      "source": [
        "result.dtypes"
      ],
      "metadata": {
        "colab": {
          "base_uri": "https://localhost:8080/"
        },
        "id": "1xeiA1RIuLb-",
        "outputId": "92eb9aea-c2f2-454b-c38f-56113e2c6a52"
      },
      "execution_count": null,
      "outputs": [
        {
          "output_type": "execute_result",
          "data": {
            "text/plain": [
              "gender                   object\n",
              "age                       int64\n",
              "marital_status           object\n",
              "job_position             object\n",
              "credit_sum              float64\n",
              "credit_month              int64\n",
              "tariff_id               float64\n",
              "score_shk               float64\n",
              "education                object\n",
              "living_region            object\n",
              "monthly_income          float64\n",
              "credit_count            float64\n",
              "overdue_credit_count    float64\n",
              "open_account_flg          int64\n",
              "dtype: object"
            ]
          },
          "metadata": {},
          "execution_count": 19
        }
      ]
    },
    {
      "cell_type": "code",
      "source": [
        "from sklearn.preprocessing import LabelEncoder"
      ],
      "metadata": {
        "id": "lFjR2zSXuScd"
      },
      "execution_count": null,
      "outputs": []
    },
    {
      "cell_type": "code",
      "source": [
        "result['gender'] = LabelEncoder().fit_transform(result['gender'])"
      ],
      "metadata": {
        "id": "xa7TyR9quX-S"
      },
      "execution_count": null,
      "outputs": []
    },
    {
      "cell_type": "code",
      "source": [
        "result['marital_status'] = LabelEncoder().fit_transform(result['marital_status'])"
      ],
      "metadata": {
        "id": "Cb5Ih6Hbu73t"
      },
      "execution_count": null,
      "outputs": []
    },
    {
      "cell_type": "code",
      "source": [
        "result['job_position'] = LabelEncoder().fit_transform(result['job_position'])"
      ],
      "metadata": {
        "id": "9Tn2ZF8QvDNZ"
      },
      "execution_count": null,
      "outputs": []
    },
    {
      "cell_type": "code",
      "source": [
        "result['education'] = LabelEncoder().fit_transform(result['education'])"
      ],
      "metadata": {
        "id": "Aw9xJmJTvC_H"
      },
      "execution_count": null,
      "outputs": []
    },
    {
      "cell_type": "code",
      "source": [
        "result['living_region'] = LabelEncoder().fit_transform(result['living_region'])"
      ],
      "metadata": {
        "id": "_iE4lgbwuyU7"
      },
      "execution_count": null,
      "outputs": []
    },
    {
      "cell_type": "code",
      "source": [
        "result['open_account_flg'].unique()"
      ],
      "metadata": {
        "colab": {
          "base_uri": "https://localhost:8080/"
        },
        "id": "MEbYLu6PvbPD",
        "outputId": "c1d4b026-511a-4b87-bad6-fb792582d4cd"
      },
      "execution_count": null,
      "outputs": [
        {
          "output_type": "execute_result",
          "data": {
            "text/plain": [
              "array([0, 1, 3])"
            ]
          },
          "metadata": {},
          "execution_count": 26
        }
      ]
    },
    {
      "cell_type": "code",
      "source": [
        "Test = result[result['open_account_flg'] == 3]"
      ],
      "metadata": {
        "id": "v-uPBzLgvbF4"
      },
      "execution_count": null,
      "outputs": []
    },
    {
      "cell_type": "code",
      "source": [
        "Train = result[result['open_account_flg'] != 3]"
      ],
      "metadata": {
        "id": "fJAxuSTXva6q"
      },
      "execution_count": null,
      "outputs": []
    },
    {
      "cell_type": "code",
      "source": [
        "X_train =  Train.drop('open_account_flg', axis = 1)"
      ],
      "metadata": {
        "id": "myBXigiZvatH"
      },
      "execution_count": null,
      "outputs": []
    },
    {
      "cell_type": "code",
      "source": [
        "y_train = Train['open_account_flg']"
      ],
      "metadata": {
        "id": "ks9UgGswwBSC"
      },
      "execution_count": null,
      "outputs": []
    },
    {
      "cell_type": "code",
      "source": [
        "X_test = Test.drop('open_account_flg', axis = 1)"
      ],
      "metadata": {
        "id": "jAL23coxxQC_"
      },
      "execution_count": null,
      "outputs": []
    },
    {
      "cell_type": "code",
      "source": [
        "from sklearn.metrics import accuracy_score\n",
        "from sklearn.linear_model import LogisticRegression"
      ],
      "metadata": {
        "id": "nGiqkK5ixhFS"
      },
      "execution_count": null,
      "outputs": []
    },
    {
      "cell_type": "code",
      "source": [
        "model_lr = LogisticRegression()"
      ],
      "metadata": {
        "id": "gx76LSHIxhBR"
      },
      "execution_count": null,
      "outputs": []
    },
    {
      "cell_type": "code",
      "source": [
        "model_lr.fit(X_train, y_train)"
      ],
      "metadata": {
        "colab": {
          "base_uri": "https://localhost:8080/"
        },
        "id": "-Y4eTi0Hxg8b",
        "outputId": "c2602b48-7496-471d-bcfd-1f8d2208354e"
      },
      "execution_count": null,
      "outputs": [
        {
          "output_type": "execute_result",
          "data": {
            "text/plain": [
              "LogisticRegression()"
            ]
          },
          "metadata": {},
          "execution_count": 34
        }
      ]
    },
    {
      "cell_type": "code",
      "source": [
        "model_lr.coef_"
      ],
      "metadata": {
        "colab": {
          "base_uri": "https://localhost:8080/"
        },
        "id": "vpxTti0FrZVJ",
        "outputId": "547e4112-3459-4a44-f5df-af8dfe6b912e"
      },
      "execution_count": null,
      "outputs": [
        {
          "output_type": "execute_result",
          "data": {
            "text/plain": [
              "array([[ 3.64603803e-05, -1.92111111e-02, -9.44577266e-04,\n",
              "        -7.36099544e-03, -2.00190563e-05, -3.40659685e-03,\n",
              "        -8.03334757e-04, -1.80227089e-04, -7.98243247e-04,\n",
              "        -1.56420074e-03, -1.22446440e-06, -1.99685516e-04,\n",
              "         3.10099308e-05]])"
            ]
          },
          "metadata": {},
          "execution_count": 38
        }
      ]
    },
    {
      "cell_type": "code",
      "source": [
        "accuracy_score(y_train, model_lr.predict(X_train))"
      ],
      "metadata": {
        "colab": {
          "base_uri": "https://localhost:8080/"
        },
        "id": "qE9v-19CzkAp",
        "outputId": "25e21a2c-2001-43c2-e88f-5426b7a851b6"
      },
      "execution_count": null,
      "outputs": [
        {
          "output_type": "execute_result",
          "data": {
            "text/plain": [
              "0.8350884152199379"
            ]
          },
          "metadata": {},
          "execution_count": 35
        }
      ]
    },
    {
      "cell_type": "code",
      "source": [
        "from sklearn.svm import SVC, SVR"
      ],
      "metadata": {
        "id": "AX14qZjvzj8j"
      },
      "execution_count": null,
      "outputs": []
    },
    {
      "cell_type": "code",
      "source": [
        "model_svm = SVC()"
      ],
      "metadata": {
        "id": "y_hy0aXTz5e8"
      },
      "execution_count": null,
      "outputs": []
    },
    {
      "cell_type": "code",
      "source": [
        "model_svm.fit(X_train, y_train)\n",
        "accuracy_score(y_train, model_svm.predict(X_train))"
      ],
      "metadata": {
        "id": "F4yFEdfNsSGL"
      },
      "execution_count": null,
      "outputs": []
    },
    {
      "cell_type": "code",
      "source": [
        "from sklearn.neighbors  import KNeighborsClassifier "
      ],
      "metadata": {
        "id": "0e2ajix7tM_J"
      },
      "execution_count": null,
      "outputs": []
    },
    {
      "cell_type": "code",
      "source": [
        "model_knc = KNeighborsClassifier()"
      ],
      "metadata": {
        "id": "2i3xHKQnz5H5"
      },
      "execution_count": null,
      "outputs": []
    },
    {
      "cell_type": "code",
      "source": [
        "model_knc.fit(X_train, y_train)\n",
        "accuracy_score(y_train, model_knc.predict(X_train))"
      ],
      "metadata": {
        "id": "B_xT0nKv0ieJ"
      },
      "execution_count": null,
      "outputs": []
    },
    {
      "cell_type": "code",
      "source": [
        "from sklearn.tree import DecisionTreeClassifier\n",
        "from sklearn.ensemble import RandomForestClassifier"
      ],
      "metadata": {
        "id": "cbRyX9uRz5Bs"
      },
      "execution_count": null,
      "outputs": []
    },
    {
      "cell_type": "code",
      "source": [
        "model_dtc = DecisionTreeClassifier()"
      ],
      "metadata": {
        "id": "jD1woXg3z4-j"
      },
      "execution_count": null,
      "outputs": []
    },
    {
      "cell_type": "code",
      "source": [
        "model_dtc.fit(X_train, y_train)"
      ],
      "metadata": {
        "colab": {
          "base_uri": "https://localhost:8080/"
        },
        "id": "mn3fDtxb0ooj",
        "outputId": "af2d88cb-1d25-4ad7-b1de-91f13fc28924"
      },
      "execution_count": null,
      "outputs": [
        {
          "output_type": "execute_result",
          "data": {
            "text/plain": [
              "DecisionTreeClassifier()"
            ]
          },
          "metadata": {},
          "execution_count": 116
        }
      ]
    },
    {
      "cell_type": "code",
      "source": [
        "accuracy_score(y_train, model_dtc.predict(X_train))"
      ],
      "metadata": {
        "colab": {
          "base_uri": "https://localhost:8080/"
        },
        "id": "GUI_FVnmz46O",
        "outputId": "8209fe14-60a6-41fe-b41c-03c9038e9306"
      },
      "execution_count": null,
      "outputs": [
        {
          "output_type": "execute_result",
          "data": {
            "text/plain": [
              "0.9989091427473488"
            ]
          },
          "metadata": {},
          "execution_count": 117
        }
      ]
    },
    {
      "cell_type": "code",
      "source": [
        "model_rfc = RandomForestClassifier()"
      ],
      "metadata": {
        "id": "UBGbMgJ1z42d"
      },
      "execution_count": null,
      "outputs": []
    },
    {
      "cell_type": "code",
      "source": [
        "models = []\n",
        "scores_train = []\n",
        "#scores_test = []\n",
        "n_estimators = list(range(1, 20))\n",
        "for estimators in n_estimators:\n",
        "    model_rfc = RandomForestClassifier(n_estimators=estimators, random_state=0)\n",
        "    model_rfc.fit(X_train, y_train)\n",
        "    models.append(model_rfc)\n",
        "    scores_train.append(model_rfc.score(X_train, y_train))"
      ],
      "metadata": {
        "id": "uGqhl8sPwPuQ"
      },
      "execution_count": null,
      "outputs": []
    },
    {
      "cell_type": "code",
      "source": [
        "models"
      ],
      "metadata": {
        "colab": {
          "base_uri": "https://localhost:8080/"
        },
        "id": "a4zpi1BHwqhH",
        "outputId": "a9cad887-b889-44dd-bbeb-0ba7ac41508f"
      },
      "execution_count": null,
      "outputs": [
        {
          "output_type": "execute_result",
          "data": {
            "text/plain": [
              "[RandomForestClassifier(n_estimators=1, random_state=0),\n",
              " RandomForestClassifier(n_estimators=2, random_state=0),\n",
              " RandomForestClassifier(n_estimators=3, random_state=0),\n",
              " RandomForestClassifier(n_estimators=4, random_state=0),\n",
              " RandomForestClassifier(n_estimators=5, random_state=0),\n",
              " RandomForestClassifier(n_estimators=6, random_state=0),\n",
              " RandomForestClassifier(n_estimators=7, random_state=0),\n",
              " RandomForestClassifier(n_estimators=8, random_state=0),\n",
              " RandomForestClassifier(n_estimators=9, random_state=0),\n",
              " RandomForestClassifier(n_estimators=10, random_state=0),\n",
              " RandomForestClassifier(n_estimators=11, random_state=0),\n",
              " RandomForestClassifier(n_estimators=12, random_state=0),\n",
              " RandomForestClassifier(n_estimators=13, random_state=0),\n",
              " RandomForestClassifier(n_estimators=14, random_state=0),\n",
              " RandomForestClassifier(n_estimators=15, random_state=0),\n",
              " RandomForestClassifier(n_estimators=16, random_state=0),\n",
              " RandomForestClassifier(n_estimators=17, random_state=0),\n",
              " RandomForestClassifier(n_estimators=18, random_state=0),\n",
              " RandomForestClassifier(n_estimators=19, random_state=0)]"
            ]
          },
          "metadata": {},
          "execution_count": 51
        }
      ]
    },
    {
      "cell_type": "code",
      "source": [
        "plt.plot(n_estimators, scores_train, label='train')\n",
        "\n",
        "plt.legend(loc='best')\n",
        "plt.grid()\n",
        "plt.show()"
      ],
      "metadata": {
        "colab": {
          "base_uri": "https://localhost:8080/",
          "height": 265
        },
        "id": "7oB_qisXw0MC",
        "outputId": "cb714508-a8fc-4074-cb7f-79fd7970b21c"
      },
      "execution_count": null,
      "outputs": [
        {
          "output_type": "display_data",
          "data": {
            "text/plain": [
              "<Figure size 432x288 with 1 Axes>"
            ],
            "image/png": "[encoded data removed]"
          },
          "metadata": {
            "needs_background": "light"
          }
        }
      ]
    },
    {
      "cell_type": "code",
      "source": [
        "models = []\n",
        "scores_train = []\n",
        "max_features = list(range(1, 13))\n",
        "for features in max_features:\n",
        "    model = RandomForestClassifier(n_estimators=17, \n",
        "                                   max_features=features, random_state=0)\n",
        "    model.fit(X_train, y_train)\n",
        "    models.append(model)\n",
        "    scores_train.append(model.score(X_train, y_train))"
      ],
      "metadata": {
        "id": "odHcw6RZxZgI"
      },
      "execution_count": null,
      "outputs": []
    },
    {
      "cell_type": "code",
      "source": [
        "models"
      ],
      "metadata": {
        "colab": {
          "base_uri": "https://localhost:8080/"
        },
        "id": "vXyNglnoyC6f",
        "outputId": "7f2e5caa-13db-4450-8442-f5d2f2323828"
      },
      "execution_count": null,
      "outputs": [
        {
          "output_type": "execute_result",
          "data": {
            "text/plain": [
              "[RandomForestClassifier(max_features=1, n_estimators=17, random_state=0),\n",
              " RandomForestClassifier(max_features=2, n_estimators=17, random_state=0),\n",
              " RandomForestClassifier(max_features=3, n_estimators=17, random_state=0),\n",
              " RandomForestClassifier(max_features=4, n_estimators=17, random_state=0),\n",
              " RandomForestClassifier(max_features=5, n_estimators=17, random_state=0),\n",
              " RandomForestClassifier(max_features=6, n_estimators=17, random_state=0),\n",
              " RandomForestClassifier(max_features=7, n_estimators=17, random_state=0),\n",
              " RandomForestClassifier(max_features=8, n_estimators=17, random_state=0),\n",
              " RandomForestClassifier(max_features=9, n_estimators=17, random_state=0),\n",
              " RandomForestClassifier(max_features=10, n_estimators=17, random_state=0),\n",
              " RandomForestClassifier(max_features=11, n_estimators=17, random_state=0),\n",
              " RandomForestClassifier(max_features=12, n_estimators=17, random_state=0)]"
            ]
          },
          "metadata": {},
          "execution_count": 55
        }
      ]
    },
    {
      "cell_type": "code",
      "source": [
        "plt.plot(max_features, scores_train, label='train')\n",
        "\n",
        "plt.legend(loc='best')\n",
        "plt.grid()\n",
        "plt.show()"
      ],
      "metadata": {
        "colab": {
          "base_uri": "https://localhost:8080/",
          "height": 265
        },
        "id": "kCUa0SZOyN5G",
        "outputId": "4ac92fea-0b9d-4697-fc3e-eed2a44a8ae4"
      },
      "execution_count": null,
      "outputs": [
        {
          "output_type": "display_data",
          "data": {
            "text/plain": [
              "<Figure size 432x288 with 1 Axes>"
            ],
            "image/png": "[encoded data removed]"
          },
          "metadata": {
            "needs_background": "light"
          }
        }
      ]
    },
    {
      "cell_type": "code",
      "source": [
        "models = []\n",
        "scores_train = []\n",
        "current_depth = []\n",
        "max_depth = list(range(1, 10))\n",
        "for depth in max_depth:\n",
        "    model = RandomForestClassifier(n_estimators=6,\n",
        "        max_depth=depth, random_state=0)\n",
        "    model.fit(X_train, y_train)\n",
        "    models.append(model)\n",
        "    scores_train.append(model.score(X_train, y_train))\n",
        "    current_depth.append(model.estimators_[0].get_depth()/depth)"
      ],
      "metadata": {
        "id": "GDPHmJGry3Zj"
      },
      "execution_count": null,
      "outputs": []
    },
    {
      "cell_type": "code",
      "source": [
        "plt.plot(max_depth, scores_train, label='train')\n",
        "plt.plot(max_depth, current_depth, label='real depth')\n",
        "\n",
        "plt.legend(loc='best')\n",
        "plt.grid()\n",
        "plt.show()"
      ],
      "metadata": {
        "colab": {
          "base_uri": "https://localhost:8080/",
          "height": 265
        },
        "id": "IHSvuuyIy-uW",
        "outputId": "45f66fd1-7fe3-42cd-85b2-02a815b5d135"
      },
      "execution_count": null,
      "outputs": [
        {
          "output_type": "display_data",
          "data": {
            "text/plain": [
              "<Figure size 432x288 with 1 Axes>"
            ],
            "image/png": "[encoded data removed]"
          },
          "metadata": {
            "needs_background": "light"
          }
        }
      ]
    },
    {
      "cell_type": "code",
      "source": [
        "from sklearn.ensemble import (AdaBoostClassifier, GradientBoostingClassifier, BaggingClassifier)"
      ],
      "metadata": {
        "id": "6B8zrpU200-U"
      },
      "execution_count": null,
      "outputs": []
    },
    {
      "cell_type": "code",
      "source": [
        "model_adc = AdaBoostClassifier()"
      ],
      "metadata": {
        "id": "KR6vL5DU007U"
      },
      "execution_count": null,
      "outputs": []
    },
    {
      "cell_type": "code",
      "source": [
        "model_adc.fit(X_train, y_train)"
      ],
      "metadata": {
        "colab": {
          "base_uri": "https://localhost:8080/"
        },
        "id": "7C89xEvb0031",
        "outputId": "979e3c79-275e-4e70-cc88-5c4ba4fb7a93"
      },
      "execution_count": null,
      "outputs": [
        {
          "output_type": "execute_result",
          "data": {
            "text/plain": [
              "AdaBoostClassifier()"
            ]
          },
          "metadata": {},
          "execution_count": 122
        }
      ]
    },
    {
      "cell_type": "code",
      "source": [
        "accuracy_score(y_train, model_adc.predict(X_train))"
      ],
      "metadata": {
        "colab": {
          "base_uri": "https://localhost:8080/"
        },
        "id": "h_8GotkB000Z",
        "outputId": "c3141dce-a406-4853-acea-63a7e325dcf6"
      },
      "execution_count": null,
      "outputs": [
        {
          "output_type": "execute_result",
          "data": {
            "text/plain": [
              "0.8352123762713756"
            ]
          },
          "metadata": {},
          "execution_count": 123
        }
      ]
    },
    {
      "cell_type": "code",
      "source": [
        "model_gbc = GradientBoostingClassifier()"
      ],
      "metadata": {
        "id": "pSAdM1ac00xA"
      },
      "execution_count": null,
      "outputs": []
    },
    {
      "cell_type": "code",
      "source": [
        "model_gbc.fit(X_train, y_train)\n",
        "accuracy_score(y_train, model_gbc.predict(X_train))"
      ],
      "metadata": {
        "colab": {
          "base_uri": "https://localhost:8080/"
        },
        "id": "YHwT3k3q2otb",
        "outputId": "2d460330-6615-4cd2-c554-79af3d9fdf1b"
      },
      "execution_count": null,
      "outputs": [
        {
          "output_type": "execute_result",
          "data": {
            "text/plain": [
              "0.8369540290440743"
            ]
          },
          "metadata": {},
          "execution_count": 125
        }
      ]
    },
    {
      "cell_type": "code",
      "source": [],
      "metadata": {
        "id": "FtVWNjBd2op6"
      },
      "execution_count": null,
      "outputs": []
    },
    {
      "cell_type": "code",
      "source": [
        "model_bc = BaggingClassifier()"
      ],
      "metadata": {
        "id": "rHztk7pW2omo"
      },
      "execution_count": null,
      "outputs": []
    },
    {
      "cell_type": "code",
      "source": [
        "model_bc.fit(X_train, y_train)\n",
        "accuracy_score(y_train, model_bc.predict(X_train))"
      ],
      "metadata": {
        "colab": {
          "base_uri": "https://localhost:8080/"
        },
        "id": "PCLW4du_2oi4",
        "outputId": "5adfc9c0-9c73-4324-ab77-ac673f8f732c"
      },
      "execution_count": null,
      "outputs": [
        {
          "output_type": "execute_result",
          "data": {
            "text/plain": [
              "0.9802034200854092"
            ]
          },
          "metadata": {},
          "execution_count": 127
        }
      ]
    },
    {
      "cell_type": "code",
      "source": [],
      "metadata": {
        "id": "6TRv2xUd2oep"
      },
      "execution_count": null,
      "outputs": []
    },
    {
      "cell_type": "code",
      "source": [
        "!pip install catboost"
      ],
      "metadata": {
        "colab": {
          "base_uri": "https://localhost:8080/"
        },
        "id": "gWPUKmj92oZs",
        "outputId": "9ed54812-3d41-48d1-e133-584f25be20c1"
      },
      "execution_count": null,
      "outputs": [
        {
          "output_type": "stream",
          "name": "stdout",
          "text": [
            "Looking in indexes: https://pypi.org/simple, https://us-python.pkg.dev/colab-wheels/public/simple/\n",
            "Collecting catboost\n",
            "  Downloading catboost-1.1.1-cp38-none-manylinux1_x86_64.whl (76.6 MB)\n",
            "\u001b[K     |████████████████████████████████| 76.6 MB 1.2 MB/s \n",
            "\u001b[?25hRequirement already satisfied: pandas>=0.24.0 in /usr/local/lib/python3.8/dist-packages (from catboost) (1.3.5)\n",
            "Requirement already satisfied: matplotlib in /usr/local/lib/python3.8/dist-packages (from catboost) (3.2.2)\n",
            "Requirement already satisfied: scipy in /usr/local/lib/python3.8/dist-packages (from catboost) (1.7.3)\n",
            "Requirement already satisfied: six in /usr/local/lib/python3.8/dist-packages (from catboost) (1.15.0)\n",
            "Requirement already satisfied: numpy>=1.16.0 in /usr/local/lib/python3.8/dist-packages (from catboost) (1.21.6)\n",
            "Requirement already satisfied: plotly in /usr/local/lib/python3.8/dist-packages (from catboost) (5.5.0)\n",
            "Requirement already satisfied: graphviz in /usr/local/lib/python3.8/dist-packages (from catboost) (0.10.1)\n",
            "Requirement already satisfied: pytz>=2017.3 in /usr/local/lib/python3.8/dist-packages (from pandas>=0.24.0->catboost) (2022.6)\n",
            "Requirement already satisfied: python-dateutil>=2.7.3 in /usr/local/lib/python3.8/dist-packages (from pandas>=0.24.0->catboost) (2.8.2)\n",
            "Requirement already satisfied: kiwisolver>=1.0.1 in /usr/local/lib/python3.8/dist-packages (from matplotlib->catboost) (1.4.4)\n",
            "Requirement already satisfied: cycler>=0.10 in /usr/local/lib/python3.8/dist-packages (from matplotlib->catboost) (0.11.0)\n",
            "Requirement already satisfied: pyparsing!=2.0.4,!=2.1.2,!=2.1.6,>=2.0.1 in /usr/local/lib/python3.8/dist-packages (from matplotlib->catboost) (3.0.9)\n",
            "Requirement already satisfied: tenacity>=6.2.0 in /usr/local/lib/python3.8/dist-packages (from plotly->catboost) (8.1.0)\n",
            "Installing collected packages: catboost\n",
            "Successfully installed catboost-1.1.1\n"
          ]
        }
      ]
    },
    {
      "cell_type": "code",
      "source": [
        "import xgboost as xgb\n",
        "from catboost import CatBoostClassifier\n",
        "import lightgbm as lgb"
      ],
      "metadata": {
        "id": "acYxqP5800r4"
      },
      "execution_count": null,
      "outputs": []
    },
    {
      "cell_type": "code",
      "source": [
        "model_xgb = xgb.XGBClassifier()"
      ],
      "metadata": {
        "id": "5pjnFq5f2zfd"
      },
      "execution_count": null,
      "outputs": []
    },
    {
      "cell_type": "code",
      "source": [
        "model_xgb.fit(X_train, y_train)\n",
        "accuracy_score(y_train, model_xgb.predict(X_train))"
      ],
      "metadata": {
        "colab": {
          "base_uri": "https://localhost:8080/"
        },
        "id": "NzxR7RF62zcE",
        "outputId": "54fa9e26-86de-477a-e22d-b3e46f9d37fd"
      },
      "execution_count": null,
      "outputs": [
        {
          "output_type": "execute_result",
          "data": {
            "text/plain": [
              "0.8364581848383238"
            ]
          },
          "metadata": {},
          "execution_count": 131
        }
      ]
    },
    {
      "cell_type": "code",
      "source": [
        "from sklearn.model_selection import GridSearchCV\n",
        "\n",
        "param_test1 = {\n",
        "    'max_depth':range(3,10,2),\n",
        "    'min_child_weight':range(1,6,2)\n",
        "}\n",
        "gsearch1 = GridSearchCV(estimator = xgb.XGBClassifier(learning_rate=0.1, n_estimators=150,\n",
        "                                        objective= 'binary:logistic', nthread=4, scale_pos_weight=1, seed=27), \n",
        "                       param_grid = param_test1, scoring='accuracy',n_jobs=4, cv=5)\n",
        "gsearch1.fit(X_train,y_train)"
      ],
      "metadata": {
        "id": "mjyf83oj5HGm"
      },
      "execution_count": null,
      "outputs": []
    },
    {
      "cell_type": "code",
      "source": [
        "gsearch1.best_params_, gsearch1.best_score_"
      ],
      "metadata": {
        "id": "O4EXlGkH2zYr"
      },
      "execution_count": null,
      "outputs": []
    },
    {
      "cell_type": "code",
      "source": [
        "param_test2 = {\n",
        "    'max_depth':[2,3,4],\n",
        "    'min_child_weight':[2,3,4]\n",
        "}\n",
        "gsearch2 = GridSearchCV(estimator = xgb.XGBClassifier( learning_rate=0.1, n_estimators=150, \n",
        "                                        objective= 'binary:logistic', nthread=4, scale_pos_weight=1,seed=27), \n",
        "                       param_grid = param_test2, scoring='accuracy',n_jobs=4,iid=False, cv=5)\n",
        "gsearch2.fit(X_train,X_train)"
      ],
      "metadata": {
        "id": "vLu42mnb1ytw"
      },
      "execution_count": null,
      "outputs": []
    },
    {
      "cell_type": "code",
      "source": [
        "gsearch2.best_params_, gsearch2.best_score_"
      ],
      "metadata": {
        "id": "CsAf8fhf1869"
      },
      "execution_count": null,
      "outputs": []
    },
    {
      "cell_type": "code",
      "source": [
        "param_test2b = {\n",
        "    'min_child_weight':[5,6,7]\n",
        "}\n",
        "gsearch2b = GridSearchCV(estimator = xgb.XGBClassifier( learning_rate=0.1, n_estimators=150, max_depth=4,\n",
        "                                        objective= 'binary:logistic', nthread=4, scale_pos_weight=1,seed=27), \n",
        "                       param_grid = param_test2b, scoring='accuracy',n_jobs=4,iid=False, cv=5)\n",
        "gsearch2b.fit(X_train,X_train)"
      ],
      "metadata": {
        "id": "x-eMV6Mc2CwV"
      },
      "execution_count": null,
      "outputs": []
    },
    {
      "cell_type": "code",
      "source": [
        "gsearch2b.best_params_, gsearch2b.best_score_"
      ],
      "metadata": {
        "id": "dUdzK2ok2fsS"
      },
      "execution_count": null,
      "outputs": []
    },
    {
      "cell_type": "code",
      "source": [
        "param_test3 = {\n",
        "    'gamma': [0, 0.2, 0.4, 0.6, 0.8, 1]\n",
        "}\n",
        "gsearch3b = GridSearchCV(estimator = xgb.XGBClassifier( learning_rate=0.1, n_estimators=150, max_depth=4,\n",
        "                                        objective= 'binary:logistic', nthread=4, scale_pos_weight=1,seed=27), \n",
        "                       param_grid = param_test3, scoring='accuracy',n_jobs=4,iid=False, cv=5)\n",
        "gsearch3b.fit(X_train, y_train)"
      ],
      "metadata": {
        "id": "vYGT4u-F2pOM"
      },
      "execution_count": null,
      "outputs": []
    },
    {
      "cell_type": "code",
      "source": [
        "gsearch3b.best_params_, gsearch3b.best_score_"
      ],
      "metadata": {
        "id": "PBuFZORn2pIk"
      },
      "execution_count": null,
      "outputs": []
    },
    {
      "cell_type": "code",
      "source": [
        "xgb2 = xgb.XGBClassifier(\n",
        "        learning_rate =0.1,\n",
        "        n_estimators=150,\n",
        "        max_depth=4,\n",
        "        min_child_weight=...,\n",
        "        gamma = ...,\n",
        "        objective= 'binary:logistic',\n",
        "        nthread=4,\n",
        "        scale_pos_weight=1,\n",
        "        seed=27)"
      ],
      "metadata": {
        "id": "srnPEMsj2pE1"
      },
      "execution_count": null,
      "outputs": []
    },
    {
      "cell_type": "code",
      "source": [
        "model_cbct = CatBoostClassifier(\n",
        "    iterations=50,\n",
        "    learning_rate=0.5,\n",
        "    loss_function='CrossEntropy',\n",
        "    custom_loss=['AUC', 'Accuracy']\n",
        ")\n",
        "model_cbct.fit(X_train, y_train)\n",
        "print('Model is fitted: ' + str(model_cbct.is_fitted()))\n",
        "print('Model params:')\n",
        "print(model_cbct.get_params())"
      ],
      "metadata": {
        "id": "degcH34k2o3g",
        "colab": {
          "base_uri": "https://localhost:8080/"
        },
        "outputId": "7baeabd4-7e66-4ed9-9a40-183b2b52c903"
      },
      "execution_count": null,
      "outputs": [
        {
          "output_type": "stream",
          "name": "stdout",
          "text": [
            "0:\tlearn: 0.5144368\ttotal: 34.7ms\tremaining: 1.7s\n",
            "1:\tlearn: 0.4509121\ttotal: 68.9ms\tremaining: 1.65s\n",
            "2:\tlearn: 0.4261758\ttotal: 102ms\tremaining: 1.59s\n",
            "3:\tlearn: 0.4121105\ttotal: 135ms\tremaining: 1.55s\n",
            "4:\tlearn: 0.4069483\ttotal: 191ms\tremaining: 1.72s\n",
            "5:\tlearn: 0.4040140\ttotal: 225ms\tremaining: 1.65s\n",
            "6:\tlearn: 0.4018493\ttotal: 262ms\tremaining: 1.61s\n",
            "7:\tlearn: 0.3997045\ttotal: 295ms\tremaining: 1.55s\n",
            "8:\tlearn: 0.3985954\ttotal: 328ms\tremaining: 1.49s\n",
            "9:\tlearn: 0.3973113\ttotal: 360ms\tremaining: 1.44s\n",
            "10:\tlearn: 0.3960322\ttotal: 394ms\tremaining: 1.4s\n",
            "11:\tlearn: 0.3952560\ttotal: 424ms\tremaining: 1.34s\n",
            "12:\tlearn: 0.3939785\ttotal: 472ms\tremaining: 1.34s\n",
            "13:\tlearn: 0.3933456\ttotal: 503ms\tremaining: 1.29s\n",
            "14:\tlearn: 0.3927828\ttotal: 535ms\tremaining: 1.25s\n",
            "15:\tlearn: 0.3924264\ttotal: 568ms\tremaining: 1.21s\n",
            "16:\tlearn: 0.3921452\ttotal: 603ms\tremaining: 1.17s\n",
            "17:\tlearn: 0.3917977\ttotal: 650ms\tremaining: 1.15s\n",
            "18:\tlearn: 0.3910868\ttotal: 690ms\tremaining: 1.13s\n",
            "19:\tlearn: 0.3907832\ttotal: 720ms\tremaining: 1.08s\n",
            "20:\tlearn: 0.3906159\ttotal: 752ms\tremaining: 1.04s\n",
            "21:\tlearn: 0.3903568\ttotal: 783ms\tremaining: 996ms\n",
            "22:\tlearn: 0.3901432\ttotal: 814ms\tremaining: 956ms\n",
            "23:\tlearn: 0.3899379\ttotal: 845ms\tremaining: 916ms\n",
            "24:\tlearn: 0.3895537\ttotal: 875ms\tremaining: 875ms\n",
            "25:\tlearn: 0.3890149\ttotal: 914ms\tremaining: 844ms\n",
            "26:\tlearn: 0.3885931\ttotal: 959ms\tremaining: 817ms\n",
            "27:\tlearn: 0.3883695\ttotal: 989ms\tremaining: 777ms\n",
            "28:\tlearn: 0.3880899\ttotal: 1.02s\tremaining: 738ms\n",
            "29:\tlearn: 0.3879013\ttotal: 1.05s\tremaining: 700ms\n",
            "30:\tlearn: 0.3876564\ttotal: 1.08s\tremaining: 661ms\n",
            "31:\tlearn: 0.3874809\ttotal: 1.11s\tremaining: 624ms\n",
            "32:\tlearn: 0.3873374\ttotal: 1.14s\tremaining: 589ms\n",
            "33:\tlearn: 0.3870920\ttotal: 1.18s\tremaining: 554ms\n",
            "34:\tlearn: 0.3869436\ttotal: 1.21s\tremaining: 520ms\n",
            "35:\tlearn: 0.3866913\ttotal: 1.24s\tremaining: 483ms\n",
            "36:\tlearn: 0.3865590\ttotal: 1.27s\tremaining: 447ms\n",
            "37:\tlearn: 0.3862383\ttotal: 1.3s\tremaining: 412ms\n",
            "38:\tlearn: 0.3859844\ttotal: 1.34s\tremaining: 377ms\n",
            "39:\tlearn: 0.3858021\ttotal: 1.37s\tremaining: 344ms\n",
            "40:\tlearn: 0.3856342\ttotal: 1.4s\tremaining: 308ms\n",
            "41:\tlearn: 0.3854358\ttotal: 1.43s\tremaining: 273ms\n",
            "42:\tlearn: 0.3851130\ttotal: 1.47s\tremaining: 239ms\n",
            "43:\tlearn: 0.3845468\ttotal: 1.51s\tremaining: 206ms\n",
            "44:\tlearn: 0.3844084\ttotal: 1.54s\tremaining: 171ms\n",
            "45:\tlearn: 0.3842798\ttotal: 1.57s\tremaining: 136ms\n",
            "46:\tlearn: 0.3841186\ttotal: 1.61s\tremaining: 103ms\n",
            "47:\tlearn: 0.3840084\ttotal: 1.66s\tremaining: 69.2ms\n",
            "48:\tlearn: 0.3838801\ttotal: 1.69s\tremaining: 34.5ms\n",
            "49:\tlearn: 0.3836828\ttotal: 1.72s\tremaining: 0us\n",
            "Model is fitted: True\n",
            "Model params:\n",
            "{'iterations': 50, 'learning_rate': 0.5, 'loss_function': 'CrossEntropy', 'custom_loss': ['AUC', 'Accuracy']}\n"
          ]
        }
      ]
    },
    {
      "cell_type": "code",
      "source": [
        "accuracy_score(y_train, model_cbct.predict(X_train))"
      ],
      "metadata": {
        "colab": {
          "base_uri": "https://localhost:8080/"
        },
        "id": "S8Asa_Ce6J7U",
        "outputId": "512b7f39-d795-4a03-9457-fdc69ff7a838"
      },
      "execution_count": null,
      "outputs": [
        {
          "output_type": "execute_result",
          "data": {
            "text/plain": [
              "0.839439448125399"
            ]
          },
          "metadata": {},
          "execution_count": 68
        }
      ]
    },
    {
      "cell_type": "code",
      "source": [
        "model_cbct = CatBoostClassifier()"
      ],
      "metadata": {
        "id": "sF1OMYKS2zU9"
      },
      "execution_count": null,
      "outputs": []
    },
    {
      "cell_type": "code",
      "source": [
        "model_cbct.fit(X_train, y_train)\n",
        "accuracy_score(y_train, model_cbct.predict(X_train))"
      ],
      "metadata": {
        "colab": {
          "base_uri": "https://localhost:8080/"
        },
        "id": "6Et7ic832zRC",
        "outputId": "2d53ec64-0a6a-4269-aa36-060fd4ee82ac"
      },
      "execution_count": null,
      "outputs": [
        {
          "output_type": "stream",
          "name": "stdout",
          "text": [
            "Learning rate set to 0.09029\n",
            "0:\tlearn: 0.6410333\ttotal: 98.8ms\tremaining: 1m 38s\n",
            "1:\tlearn: 0.5995043\ttotal: 137ms\tremaining: 1m 8s\n",
            "2:\tlearn: 0.5670247\ttotal: 175ms\tremaining: 58.2s\n",
            "3:\tlearn: 0.5406293\ttotal: 217ms\tremaining: 54.1s\n",
            "4:\tlearn: 0.5179692\ttotal: 259ms\tremaining: 51.5s\n",
            "5:\tlearn: 0.4983911\ttotal: 313ms\tremaining: 51.8s\n",
            "6:\tlearn: 0.4853851\ttotal: 347ms\tremaining: 49.2s\n",
            "7:\tlearn: 0.4703402\ttotal: 394ms\tremaining: 48.9s\n",
            "8:\tlearn: 0.4581121\ttotal: 437ms\tremaining: 48.1s\n",
            "9:\tlearn: 0.4482003\ttotal: 480ms\tremaining: 47.5s\n",
            "10:\tlearn: 0.4421654\ttotal: 518ms\tremaining: 46.6s\n",
            "11:\tlearn: 0.4350492\ttotal: 554ms\tremaining: 45.6s\n",
            "12:\tlearn: 0.4292144\ttotal: 590ms\tremaining: 44.8s\n",
            "13:\tlearn: 0.4259346\ttotal: 626ms\tremaining: 44.1s\n",
            "14:\tlearn: 0.4234303\ttotal: 668ms\tremaining: 43.9s\n",
            "15:\tlearn: 0.4204597\ttotal: 705ms\tremaining: 43.4s\n",
            "16:\tlearn: 0.4183805\ttotal: 744ms\tremaining: 43s\n",
            "17:\tlearn: 0.4166615\ttotal: 799ms\tremaining: 43.6s\n",
            "18:\tlearn: 0.4144305\ttotal: 851ms\tremaining: 44s\n",
            "19:\tlearn: 0.4132209\ttotal: 905ms\tremaining: 44.3s\n",
            "20:\tlearn: 0.4115059\ttotal: 942ms\tremaining: 43.9s\n",
            "21:\tlearn: 0.4099254\ttotal: 982ms\tremaining: 43.7s\n",
            "22:\tlearn: 0.4088572\ttotal: 1.02s\tremaining: 43.2s\n",
            "23:\tlearn: 0.4078723\ttotal: 1.05s\tremaining: 42.9s\n",
            "24:\tlearn: 0.4072062\ttotal: 1.09s\tremaining: 42.6s\n",
            "25:\tlearn: 0.4062347\ttotal: 1.15s\tremaining: 43.1s\n",
            "26:\tlearn: 0.4049322\ttotal: 1.2s\tremaining: 43.2s\n",
            "27:\tlearn: 0.4044002\ttotal: 1.24s\tremaining: 43.1s\n",
            "28:\tlearn: 0.4037711\ttotal: 1.28s\tremaining: 42.8s\n",
            "29:\tlearn: 0.4034339\ttotal: 1.32s\tremaining: 42.6s\n",
            "30:\tlearn: 0.4028203\ttotal: 1.35s\tremaining: 42.3s\n",
            "31:\tlearn: 0.4024974\ttotal: 1.4s\tremaining: 42.2s\n",
            "32:\tlearn: 0.4018959\ttotal: 1.44s\tremaining: 42.1s\n",
            "33:\tlearn: 0.4016155\ttotal: 1.47s\tremaining: 41.9s\n",
            "34:\tlearn: 0.4013335\ttotal: 1.51s\tremaining: 41.7s\n",
            "35:\tlearn: 0.4010277\ttotal: 1.55s\tremaining: 41.5s\n",
            "36:\tlearn: 0.4004628\ttotal: 1.59s\tremaining: 41.3s\n",
            "37:\tlearn: 0.3999530\ttotal: 1.63s\tremaining: 41.3s\n",
            "38:\tlearn: 0.3997022\ttotal: 1.67s\tremaining: 41.2s\n",
            "39:\tlearn: 0.3995134\ttotal: 1.71s\tremaining: 41s\n",
            "40:\tlearn: 0.3992894\ttotal: 1.75s\tremaining: 40.8s\n",
            "41:\tlearn: 0.3989904\ttotal: 1.79s\tremaining: 40.8s\n",
            "42:\tlearn: 0.3987680\ttotal: 1.82s\tremaining: 40.6s\n",
            "43:\tlearn: 0.3985672\ttotal: 1.87s\tremaining: 40.6s\n",
            "44:\tlearn: 0.3983619\ttotal: 1.94s\tremaining: 41.2s\n",
            "45:\tlearn: 0.3980266\ttotal: 1.99s\tremaining: 41.2s\n",
            "46:\tlearn: 0.3976828\ttotal: 2.02s\tremaining: 41.1s\n",
            "47:\tlearn: 0.3974915\ttotal: 2.06s\tremaining: 40.9s\n",
            "48:\tlearn: 0.3972675\ttotal: 2.11s\tremaining: 40.9s\n",
            "49:\tlearn: 0.3971082\ttotal: 2.14s\tremaining: 40.7s\n",
            "50:\tlearn: 0.3968988\ttotal: 2.18s\tremaining: 40.5s\n",
            "51:\tlearn: 0.3966756\ttotal: 2.21s\tremaining: 40.4s\n",
            "52:\tlearn: 0.3963600\ttotal: 2.27s\tremaining: 40.5s\n",
            "53:\tlearn: 0.3962016\ttotal: 2.31s\tremaining: 40.4s\n",
            "54:\tlearn: 0.3960574\ttotal: 2.36s\tremaining: 40.5s\n",
            "55:\tlearn: 0.3957675\ttotal: 2.39s\tremaining: 40.4s\n",
            "56:\tlearn: 0.3956227\ttotal: 2.44s\tremaining: 40.3s\n",
            "57:\tlearn: 0.3954776\ttotal: 2.48s\tremaining: 40.2s\n",
            "58:\tlearn: 0.3953284\ttotal: 2.51s\tremaining: 40.1s\n",
            "59:\tlearn: 0.3951929\ttotal: 2.55s\tremaining: 39.9s\n",
            "60:\tlearn: 0.3950069\ttotal: 2.59s\tremaining: 39.9s\n",
            "61:\tlearn: 0.3948176\ttotal: 2.63s\tremaining: 39.8s\n",
            "62:\tlearn: 0.3946830\ttotal: 2.67s\tremaining: 39.7s\n",
            "63:\tlearn: 0.3945290\ttotal: 2.7s\tremaining: 39.5s\n",
            "64:\tlearn: 0.3942848\ttotal: 2.75s\tremaining: 39.6s\n",
            "65:\tlearn: 0.3941917\ttotal: 2.8s\tremaining: 39.6s\n",
            "66:\tlearn: 0.3938585\ttotal: 2.84s\tremaining: 39.5s\n",
            "67:\tlearn: 0.3937274\ttotal: 2.88s\tremaining: 39.4s\n",
            "68:\tlearn: 0.3936107\ttotal: 2.92s\tremaining: 39.5s\n",
            "69:\tlearn: 0.3935129\ttotal: 2.96s\tremaining: 39.4s\n",
            "70:\tlearn: 0.3934166\ttotal: 3.01s\tremaining: 39.4s\n",
            "71:\tlearn: 0.3933188\ttotal: 3.05s\tremaining: 39.4s\n",
            "72:\tlearn: 0.3932013\ttotal: 3.09s\tremaining: 39.2s\n",
            "73:\tlearn: 0.3931044\ttotal: 3.13s\tremaining: 39.1s\n",
            "74:\tlearn: 0.3929859\ttotal: 3.16s\tremaining: 39s\n",
            "75:\tlearn: 0.3928772\ttotal: 3.2s\tremaining: 38.9s\n",
            "76:\tlearn: 0.3927922\ttotal: 3.24s\tremaining: 38.9s\n",
            "77:\tlearn: 0.3926941\ttotal: 3.28s\tremaining: 38.8s\n",
            "78:\tlearn: 0.3924908\ttotal: 3.32s\tremaining: 38.8s\n",
            "79:\tlearn: 0.3923962\ttotal: 3.36s\tremaining: 38.7s\n",
            "80:\tlearn: 0.3922763\ttotal: 3.41s\tremaining: 38.7s\n",
            "81:\tlearn: 0.3922159\ttotal: 3.44s\tremaining: 38.6s\n",
            "82:\tlearn: 0.3921314\ttotal: 3.49s\tremaining: 38.6s\n",
            "83:\tlearn: 0.3920010\ttotal: 3.53s\tremaining: 38.5s\n",
            "84:\tlearn: 0.3918848\ttotal: 3.57s\tremaining: 38.4s\n",
            "85:\tlearn: 0.3917569\ttotal: 3.61s\tremaining: 38.4s\n",
            "86:\tlearn: 0.3916621\ttotal: 3.65s\tremaining: 38.3s\n",
            "87:\tlearn: 0.3915270\ttotal: 3.69s\tremaining: 38.2s\n",
            "88:\tlearn: 0.3914702\ttotal: 3.72s\tremaining: 38.1s\n",
            "89:\tlearn: 0.3914005\ttotal: 3.77s\tremaining: 38.1s\n",
            "90:\tlearn: 0.3912343\ttotal: 3.81s\tremaining: 38s\n",
            "91:\tlearn: 0.3910982\ttotal: 3.84s\tremaining: 37.9s\n",
            "92:\tlearn: 0.3910138\ttotal: 3.89s\tremaining: 38s\n",
            "93:\tlearn: 0.3908232\ttotal: 3.96s\tremaining: 38.2s\n",
            "94:\tlearn: 0.3907508\ttotal: 3.99s\tremaining: 38s\n",
            "95:\tlearn: 0.3906732\ttotal: 4.03s\tremaining: 38s\n",
            "96:\tlearn: 0.3905679\ttotal: 4.07s\tremaining: 37.9s\n",
            "97:\tlearn: 0.3905104\ttotal: 4.11s\tremaining: 37.9s\n",
            "98:\tlearn: 0.3903625\ttotal: 4.15s\tremaining: 37.8s\n",
            "99:\tlearn: 0.3903012\ttotal: 4.19s\tremaining: 37.7s\n",
            "100:\tlearn: 0.3902293\ttotal: 4.22s\tremaining: 37.6s\n",
            "101:\tlearn: 0.3901783\ttotal: 4.26s\tremaining: 37.5s\n",
            "102:\tlearn: 0.3901161\ttotal: 4.29s\tremaining: 37.4s\n",
            "103:\tlearn: 0.3900545\ttotal: 4.33s\tremaining: 37.4s\n",
            "104:\tlearn: 0.3899764\ttotal: 4.38s\tremaining: 37.3s\n",
            "105:\tlearn: 0.3898854\ttotal: 4.41s\tremaining: 37.2s\n",
            "106:\tlearn: 0.3898168\ttotal: 4.45s\tremaining: 37.2s\n",
            "107:\tlearn: 0.3897340\ttotal: 4.49s\tremaining: 37.1s\n",
            "108:\tlearn: 0.3896907\ttotal: 4.53s\tremaining: 37s\n",
            "109:\tlearn: 0.3896441\ttotal: 4.57s\tremaining: 37s\n",
            "110:\tlearn: 0.3895866\ttotal: 4.61s\tremaining: 37s\n",
            "111:\tlearn: 0.3895147\ttotal: 4.65s\tremaining: 36.9s\n",
            "112:\tlearn: 0.3894683\ttotal: 4.69s\tremaining: 36.8s\n",
            "113:\tlearn: 0.3893329\ttotal: 4.73s\tremaining: 36.7s\n",
            "114:\tlearn: 0.3892534\ttotal: 4.77s\tremaining: 36.7s\n",
            "115:\tlearn: 0.3892100\ttotal: 4.81s\tremaining: 36.7s\n",
            "116:\tlearn: 0.3891258\ttotal: 4.85s\tremaining: 36.6s\n",
            "117:\tlearn: 0.3890450\ttotal: 4.89s\tremaining: 36.6s\n",
            "118:\tlearn: 0.3889869\ttotal: 4.93s\tremaining: 36.5s\n",
            "119:\tlearn: 0.3889315\ttotal: 5.01s\tremaining: 36.7s\n",
            "120:\tlearn: 0.3888099\ttotal: 5.06s\tremaining: 36.7s\n",
            "121:\tlearn: 0.3887675\ttotal: 5.09s\tremaining: 36.6s\n",
            "122:\tlearn: 0.3886593\ttotal: 5.13s\tremaining: 36.6s\n",
            "123:\tlearn: 0.3886078\ttotal: 5.16s\tremaining: 36.5s\n",
            "124:\tlearn: 0.3885624\ttotal: 5.2s\tremaining: 36.4s\n",
            "125:\tlearn: 0.3884815\ttotal: 5.24s\tremaining: 36.4s\n",
            "126:\tlearn: 0.3883932\ttotal: 5.28s\tremaining: 36.3s\n",
            "127:\tlearn: 0.3883182\ttotal: 5.32s\tremaining: 36.2s\n",
            "128:\tlearn: 0.3882734\ttotal: 5.35s\tremaining: 36.1s\n",
            "129:\tlearn: 0.3882263\ttotal: 5.39s\tremaining: 36.1s\n",
            "130:\tlearn: 0.3881838\ttotal: 5.42s\tremaining: 36s\n",
            "131:\tlearn: 0.3881423\ttotal: 5.47s\tremaining: 35.9s\n",
            "132:\tlearn: 0.3880482\ttotal: 5.5s\tremaining: 35.9s\n",
            "133:\tlearn: 0.3879639\ttotal: 5.54s\tremaining: 35.8s\n",
            "134:\tlearn: 0.3879091\ttotal: 5.58s\tremaining: 35.7s\n",
            "135:\tlearn: 0.3878500\ttotal: 5.62s\tremaining: 35.7s\n",
            "136:\tlearn: 0.3877774\ttotal: 5.65s\tremaining: 35.6s\n",
            "137:\tlearn: 0.3877320\ttotal: 5.7s\tremaining: 35.6s\n",
            "138:\tlearn: 0.3876540\ttotal: 5.74s\tremaining: 35.5s\n",
            "139:\tlearn: 0.3875769\ttotal: 5.78s\tremaining: 35.5s\n",
            "140:\tlearn: 0.3875180\ttotal: 5.81s\tremaining: 35.4s\n",
            "141:\tlearn: 0.3874435\ttotal: 5.85s\tremaining: 35.3s\n",
            "142:\tlearn: 0.3873684\ttotal: 5.88s\tremaining: 35.3s\n",
            "143:\tlearn: 0.3873166\ttotal: 5.92s\tremaining: 35.2s\n",
            "144:\tlearn: 0.3872530\ttotal: 5.96s\tremaining: 35.2s\n",
            "145:\tlearn: 0.3872060\ttotal: 6s\tremaining: 35.1s\n",
            "146:\tlearn: 0.3871153\ttotal: 6.04s\tremaining: 35.1s\n",
            "147:\tlearn: 0.3870588\ttotal: 6.08s\tremaining: 35s\n",
            "148:\tlearn: 0.3870008\ttotal: 6.12s\tremaining: 34.9s\n",
            "149:\tlearn: 0.3868922\ttotal: 6.16s\tremaining: 34.9s\n",
            "150:\tlearn: 0.3868308\ttotal: 6.2s\tremaining: 34.8s\n",
            "151:\tlearn: 0.3867792\ttotal: 6.23s\tremaining: 34.8s\n",
            "152:\tlearn: 0.3867256\ttotal: 6.26s\tremaining: 34.7s\n",
            "153:\tlearn: 0.3866566\ttotal: 6.31s\tremaining: 34.6s\n",
            "154:\tlearn: 0.3865918\ttotal: 6.34s\tremaining: 34.6s\n",
            "155:\tlearn: 0.3865089\ttotal: 6.38s\tremaining: 34.5s\n",
            "156:\tlearn: 0.3864466\ttotal: 6.42s\tremaining: 34.5s\n",
            "157:\tlearn: 0.3864110\ttotal: 6.46s\tremaining: 34.4s\n",
            "158:\tlearn: 0.3863459\ttotal: 6.49s\tremaining: 34.4s\n",
            "159:\tlearn: 0.3863044\ttotal: 6.53s\tremaining: 34.3s\n",
            "160:\tlearn: 0.3862410\ttotal: 6.57s\tremaining: 34.2s\n",
            "161:\tlearn: 0.3861808\ttotal: 6.62s\tremaining: 34.2s\n",
            "162:\tlearn: 0.3860549\ttotal: 6.65s\tremaining: 34.2s\n",
            "163:\tlearn: 0.3860063\ttotal: 6.69s\tremaining: 34.1s\n",
            "164:\tlearn: 0.3859522\ttotal: 6.72s\tremaining: 34s\n",
            "165:\tlearn: 0.3859066\ttotal: 6.76s\tremaining: 34s\n",
            "166:\tlearn: 0.3858691\ttotal: 6.79s\tremaining: 33.9s\n",
            "167:\tlearn: 0.3858228\ttotal: 6.84s\tremaining: 33.9s\n",
            "168:\tlearn: 0.3857789\ttotal: 6.87s\tremaining: 33.8s\n",
            "169:\tlearn: 0.3857284\ttotal: 6.91s\tremaining: 33.7s\n",
            "170:\tlearn: 0.3856729\ttotal: 6.94s\tremaining: 33.7s\n",
            "171:\tlearn: 0.3856016\ttotal: 6.98s\tremaining: 33.6s\n",
            "172:\tlearn: 0.3855171\ttotal: 7.02s\tremaining: 33.6s\n",
            "173:\tlearn: 0.3854608\ttotal: 7.07s\tremaining: 33.6s\n",
            "174:\tlearn: 0.3854166\ttotal: 7.11s\tremaining: 33.5s\n",
            "175:\tlearn: 0.3853704\ttotal: 7.14s\tremaining: 33.4s\n",
            "176:\tlearn: 0.3853323\ttotal: 7.17s\tremaining: 33.4s\n",
            "177:\tlearn: 0.3852800\ttotal: 7.21s\tremaining: 33.3s\n",
            "178:\tlearn: 0.3852029\ttotal: 7.25s\tremaining: 33.2s\n",
            "179:\tlearn: 0.3851577\ttotal: 7.29s\tremaining: 33.2s\n",
            "180:\tlearn: 0.3851130\ttotal: 7.34s\tremaining: 33.2s\n",
            "181:\tlearn: 0.3850650\ttotal: 7.37s\tremaining: 33.1s\n",
            "182:\tlearn: 0.3850173\ttotal: 7.41s\tremaining: 33.1s\n",
            "183:\tlearn: 0.3849663\ttotal: 7.47s\tremaining: 33.1s\n",
            "184:\tlearn: 0.3848599\ttotal: 7.52s\tremaining: 33.1s\n",
            "185:\tlearn: 0.3848052\ttotal: 7.56s\tremaining: 33.1s\n",
            "186:\tlearn: 0.3847491\ttotal: 7.6s\tremaining: 33s\n",
            "187:\tlearn: 0.3846930\ttotal: 7.63s\tremaining: 33s\n",
            "188:\tlearn: 0.3846500\ttotal: 7.67s\tremaining: 32.9s\n",
            "189:\tlearn: 0.3845972\ttotal: 7.71s\tremaining: 32.9s\n",
            "190:\tlearn: 0.3845212\ttotal: 7.75s\tremaining: 32.8s\n",
            "191:\tlearn: 0.3844751\ttotal: 7.79s\tremaining: 32.8s\n",
            "192:\tlearn: 0.3844430\ttotal: 7.82s\tremaining: 32.7s\n",
            "193:\tlearn: 0.3844014\ttotal: 7.87s\tremaining: 32.7s\n",
            "194:\tlearn: 0.3843528\ttotal: 7.92s\tremaining: 32.7s\n",
            "195:\tlearn: 0.3843108\ttotal: 7.95s\tremaining: 32.6s\n",
            "196:\tlearn: 0.3842634\ttotal: 7.99s\tremaining: 32.6s\n",
            "197:\tlearn: 0.3842119\ttotal: 8.03s\tremaining: 32.5s\n",
            "198:\tlearn: 0.3841730\ttotal: 8.08s\tremaining: 32.5s\n",
            "199:\tlearn: 0.3841183\ttotal: 8.11s\tremaining: 32.5s\n",
            "200:\tlearn: 0.3840860\ttotal: 8.15s\tremaining: 32.4s\n",
            "201:\tlearn: 0.3840405\ttotal: 8.19s\tremaining: 32.4s\n",
            "202:\tlearn: 0.3840113\ttotal: 8.23s\tremaining: 32.3s\n",
            "203:\tlearn: 0.3839571\ttotal: 8.27s\tremaining: 32.3s\n",
            "204:\tlearn: 0.3839151\ttotal: 8.3s\tremaining: 32.2s\n",
            "205:\tlearn: 0.3838821\ttotal: 8.35s\tremaining: 32.2s\n",
            "206:\tlearn: 0.3838420\ttotal: 8.38s\tremaining: 32.1s\n",
            "207:\tlearn: 0.3837882\ttotal: 8.42s\tremaining: 32.1s\n",
            "208:\tlearn: 0.3837574\ttotal: 8.46s\tremaining: 32s\n",
            "209:\tlearn: 0.3837073\ttotal: 8.49s\tremaining: 32s\n",
            "210:\tlearn: 0.3836444\ttotal: 8.54s\tremaining: 31.9s\n",
            "211:\tlearn: 0.3835947\ttotal: 8.58s\tremaining: 31.9s\n",
            "212:\tlearn: 0.3835561\ttotal: 8.62s\tremaining: 31.8s\n",
            "213:\tlearn: 0.3835154\ttotal: 8.67s\tremaining: 31.8s\n",
            "214:\tlearn: 0.3834306\ttotal: 8.71s\tremaining: 31.8s\n",
            "215:\tlearn: 0.3833779\ttotal: 8.74s\tremaining: 31.7s\n",
            "216:\tlearn: 0.3833178\ttotal: 8.78s\tremaining: 31.7s\n",
            "217:\tlearn: 0.3832769\ttotal: 8.82s\tremaining: 31.6s\n",
            "218:\tlearn: 0.3832245\ttotal: 8.85s\tremaining: 31.6s\n",
            "219:\tlearn: 0.3831790\ttotal: 8.9s\tremaining: 31.5s\n",
            "220:\tlearn: 0.3831221\ttotal: 8.94s\tremaining: 31.5s\n",
            "221:\tlearn: 0.3830635\ttotal: 8.99s\tremaining: 31.5s\n",
            "222:\tlearn: 0.3830267\ttotal: 9.02s\tremaining: 31.4s\n",
            "223:\tlearn: 0.3829773\ttotal: 9.07s\tremaining: 31.4s\n",
            "224:\tlearn: 0.3829264\ttotal: 9.11s\tremaining: 31.4s\n",
            "225:\tlearn: 0.3828816\ttotal: 9.15s\tremaining: 31.3s\n",
            "226:\tlearn: 0.3828287\ttotal: 9.19s\tremaining: 31.3s\n",
            "227:\tlearn: 0.3827686\ttotal: 9.23s\tremaining: 31.2s\n",
            "228:\tlearn: 0.3827289\ttotal: 9.26s\tremaining: 31.2s\n",
            "229:\tlearn: 0.3826842\ttotal: 9.3s\tremaining: 31.1s\n",
            "230:\tlearn: 0.3826224\ttotal: 9.34s\tremaining: 31.1s\n",
            "231:\tlearn: 0.3825640\ttotal: 9.38s\tremaining: 31.1s\n",
            "232:\tlearn: 0.3825135\ttotal: 9.42s\tremaining: 31s\n",
            "233:\tlearn: 0.3824830\ttotal: 9.46s\tremaining: 31s\n",
            "234:\tlearn: 0.3824433\ttotal: 9.5s\tremaining: 30.9s\n",
            "235:\tlearn: 0.3823941\ttotal: 9.53s\tremaining: 30.9s\n",
            "236:\tlearn: 0.3823590\ttotal: 9.57s\tremaining: 30.8s\n",
            "237:\tlearn: 0.3823060\ttotal: 9.61s\tremaining: 30.8s\n",
            "238:\tlearn: 0.3822546\ttotal: 9.66s\tremaining: 30.8s\n",
            "239:\tlearn: 0.3822235\ttotal: 9.71s\tremaining: 30.7s\n",
            "240:\tlearn: 0.3821874\ttotal: 9.74s\tremaining: 30.7s\n",
            "241:\tlearn: 0.3821592\ttotal: 9.78s\tremaining: 30.6s\n",
            "242:\tlearn: 0.3821039\ttotal: 9.82s\tremaining: 30.6s\n",
            "243:\tlearn: 0.3820682\ttotal: 9.85s\tremaining: 30.5s\n",
            "244:\tlearn: 0.3820322\ttotal: 9.89s\tremaining: 30.5s\n",
            "245:\tlearn: 0.3819739\ttotal: 9.93s\tremaining: 30.4s\n",
            "246:\tlearn: 0.3819104\ttotal: 9.97s\tremaining: 30.4s\n",
            "247:\tlearn: 0.3818611\ttotal: 10s\tremaining: 30.4s\n",
            "248:\tlearn: 0.3818142\ttotal: 10s\tremaining: 30.3s\n",
            "249:\tlearn: 0.3817559\ttotal: 10.1s\tremaining: 30.3s\n",
            "250:\tlearn: 0.3817030\ttotal: 10.1s\tremaining: 30.3s\n",
            "251:\tlearn: 0.3816668\ttotal: 10.2s\tremaining: 30.2s\n",
            "252:\tlearn: 0.3816250\ttotal: 10.2s\tremaining: 30.2s\n",
            "253:\tlearn: 0.3815849\ttotal: 10.3s\tremaining: 30.1s\n",
            "254:\tlearn: 0.3815596\ttotal: 10.3s\tremaining: 30.1s\n",
            "255:\tlearn: 0.3815131\ttotal: 10.3s\tremaining: 30s\n",
            "256:\tlearn: 0.3814480\ttotal: 10.4s\tremaining: 30s\n",
            "257:\tlearn: 0.3813970\ttotal: 10.4s\tremaining: 29.9s\n",
            "258:\tlearn: 0.3813530\ttotal: 10.5s\tremaining: 29.9s\n",
            "259:\tlearn: 0.3813242\ttotal: 10.5s\tremaining: 29.8s\n",
            "260:\tlearn: 0.3812819\ttotal: 10.5s\tremaining: 29.8s\n",
            "261:\tlearn: 0.3812497\ttotal: 10.6s\tremaining: 29.8s\n",
            "262:\tlearn: 0.3812048\ttotal: 10.6s\tremaining: 29.7s\n",
            "263:\tlearn: 0.3811789\ttotal: 10.6s\tremaining: 29.7s\n",
            "264:\tlearn: 0.3811454\ttotal: 10.7s\tremaining: 29.6s\n",
            "265:\tlearn: 0.3811151\ttotal: 10.7s\tremaining: 29.6s\n",
            "266:\tlearn: 0.3810621\ttotal: 10.8s\tremaining: 29.5s\n",
            "267:\tlearn: 0.3810185\ttotal: 10.8s\tremaining: 29.5s\n",
            "268:\tlearn: 0.3809815\ttotal: 10.8s\tremaining: 29.4s\n",
            "269:\tlearn: 0.3809523\ttotal: 10.9s\tremaining: 29.4s\n",
            "270:\tlearn: 0.3809095\ttotal: 10.9s\tremaining: 29.4s\n",
            "271:\tlearn: 0.3808753\ttotal: 11s\tremaining: 29.3s\n",
            "272:\tlearn: 0.3808452\ttotal: 11s\tremaining: 29.3s\n",
            "273:\tlearn: 0.3807791\ttotal: 11s\tremaining: 29.2s\n",
            "274:\tlearn: 0.3807423\ttotal: 11.1s\tremaining: 29.2s\n",
            "275:\tlearn: 0.3806959\ttotal: 11.1s\tremaining: 29.2s\n",
            "276:\tlearn: 0.3806639\ttotal: 11.2s\tremaining: 29.1s\n",
            "277:\tlearn: 0.3806377\ttotal: 11.2s\tremaining: 29.1s\n",
            "278:\tlearn: 0.3806032\ttotal: 11.2s\tremaining: 29s\n",
            "279:\tlearn: 0.3805609\ttotal: 11.3s\tremaining: 29s\n",
            "280:\tlearn: 0.3805116\ttotal: 11.3s\tremaining: 28.9s\n",
            "281:\tlearn: 0.3804696\ttotal: 11.4s\tremaining: 28.9s\n",
            "282:\tlearn: 0.3804289\ttotal: 11.4s\tremaining: 28.9s\n",
            "283:\tlearn: 0.3803876\ttotal: 11.4s\tremaining: 28.8s\n",
            "284:\tlearn: 0.3803540\ttotal: 11.5s\tremaining: 28.8s\n",
            "285:\tlearn: 0.3803200\ttotal: 11.5s\tremaining: 28.7s\n",
            "286:\tlearn: 0.3802815\ttotal: 11.5s\tremaining: 28.7s\n",
            "287:\tlearn: 0.3802351\ttotal: 11.6s\tremaining: 28.6s\n",
            "288:\tlearn: 0.3802066\ttotal: 11.6s\tremaining: 28.6s\n",
            "289:\tlearn: 0.3801763\ttotal: 11.7s\tremaining: 28.5s\n",
            "290:\tlearn: 0.3801323\ttotal: 11.7s\tremaining: 28.5s\n",
            "291:\tlearn: 0.3800918\ttotal: 11.7s\tremaining: 28.4s\n",
            "292:\tlearn: 0.3800641\ttotal: 11.8s\tremaining: 28.4s\n",
            "293:\tlearn: 0.3800237\ttotal: 11.8s\tremaining: 28.3s\n",
            "294:\tlearn: 0.3799764\ttotal: 11.8s\tremaining: 28.3s\n",
            "295:\tlearn: 0.3799454\ttotal: 11.9s\tremaining: 28.3s\n",
            "296:\tlearn: 0.3798972\ttotal: 11.9s\tremaining: 28.3s\n",
            "297:\tlearn: 0.3798263\ttotal: 12s\tremaining: 28.2s\n",
            "298:\tlearn: 0.3797926\ttotal: 12s\tremaining: 28.2s\n",
            "299:\tlearn: 0.3797275\ttotal: 12.1s\tremaining: 28.1s\n",
            "300:\tlearn: 0.3796896\ttotal: 12.1s\tremaining: 28.1s\n",
            "301:\tlearn: 0.3796567\ttotal: 12.1s\tremaining: 28.1s\n",
            "302:\tlearn: 0.3796270\ttotal: 12.2s\tremaining: 28s\n",
            "303:\tlearn: 0.3795897\ttotal: 12.2s\tremaining: 28s\n",
            "304:\tlearn: 0.3795503\ttotal: 12.3s\tremaining: 27.9s\n",
            "305:\tlearn: 0.3795103\ttotal: 12.3s\tremaining: 27.9s\n",
            "306:\tlearn: 0.3794612\ttotal: 12.3s\tremaining: 27.9s\n",
            "307:\tlearn: 0.3794345\ttotal: 12.4s\tremaining: 27.8s\n",
            "308:\tlearn: 0.3794006\ttotal: 12.4s\tremaining: 27.8s\n",
            "309:\tlearn: 0.3793619\ttotal: 12.5s\tremaining: 27.7s\n",
            "310:\tlearn: 0.3793128\ttotal: 12.5s\tremaining: 27.7s\n",
            "311:\tlearn: 0.3792876\ttotal: 12.5s\tremaining: 27.6s\n",
            "312:\tlearn: 0.3792584\ttotal: 12.6s\tremaining: 27.6s\n",
            "313:\tlearn: 0.3792219\ttotal: 12.6s\tremaining: 27.6s\n",
            "314:\tlearn: 0.3791719\ttotal: 12.7s\tremaining: 27.5s\n",
            "315:\tlearn: 0.3791430\ttotal: 12.7s\tremaining: 27.5s\n",
            "316:\tlearn: 0.3791027\ttotal: 12.7s\tremaining: 27.4s\n",
            "317:\tlearn: 0.3790799\ttotal: 12.8s\tremaining: 27.4s\n",
            "318:\tlearn: 0.3790372\ttotal: 12.8s\tremaining: 27.3s\n",
            "319:\tlearn: 0.3789983\ttotal: 12.8s\tremaining: 27.3s\n",
            "320:\tlearn: 0.3789459\ttotal: 12.9s\tremaining: 27.2s\n",
            "321:\tlearn: 0.3788763\ttotal: 12.9s\tremaining: 27.2s\n",
            "322:\tlearn: 0.3788340\ttotal: 13s\tremaining: 27.2s\n",
            "323:\tlearn: 0.3787872\ttotal: 13s\tremaining: 27.1s\n",
            "324:\tlearn: 0.3787571\ttotal: 13s\tremaining: 27.1s\n",
            "325:\tlearn: 0.3787244\ttotal: 13.1s\tremaining: 27s\n",
            "326:\tlearn: 0.3786873\ttotal: 13.1s\tremaining: 27s\n",
            "327:\tlearn: 0.3786515\ttotal: 13.2s\tremaining: 27s\n",
            "328:\tlearn: 0.3786123\ttotal: 13.2s\tremaining: 27s\n",
            "329:\tlearn: 0.3785641\ttotal: 13.3s\tremaining: 26.9s\n",
            "330:\tlearn: 0.3785114\ttotal: 13.3s\tremaining: 26.9s\n",
            "331:\tlearn: 0.3784663\ttotal: 13.3s\tremaining: 26.8s\n",
            "332:\tlearn: 0.3784293\ttotal: 13.4s\tremaining: 26.8s\n",
            "333:\tlearn: 0.3783672\ttotal: 13.4s\tremaining: 26.8s\n",
            "334:\tlearn: 0.3783326\ttotal: 13.5s\tremaining: 26.7s\n",
            "335:\tlearn: 0.3782998\ttotal: 13.5s\tremaining: 26.7s\n",
            "336:\tlearn: 0.3782642\ttotal: 13.5s\tremaining: 26.6s\n",
            "337:\tlearn: 0.3782453\ttotal: 13.6s\tremaining: 26.6s\n",
            "338:\tlearn: 0.3782009\ttotal: 13.6s\tremaining: 26.5s\n",
            "339:\tlearn: 0.3781717\ttotal: 13.6s\tremaining: 26.5s\n",
            "340:\tlearn: 0.3781128\ttotal: 13.7s\tremaining: 26.5s\n",
            "341:\tlearn: 0.3780734\ttotal: 13.7s\tremaining: 26.4s\n",
            "342:\tlearn: 0.3780166\ttotal: 13.8s\tremaining: 26.4s\n",
            "343:\tlearn: 0.3779761\ttotal: 13.8s\tremaining: 26.3s\n",
            "344:\tlearn: 0.3779447\ttotal: 13.8s\tremaining: 26.3s\n",
            "345:\tlearn: 0.3778970\ttotal: 13.9s\tremaining: 26.3s\n",
            "346:\tlearn: 0.3778509\ttotal: 13.9s\tremaining: 26.2s\n",
            "347:\tlearn: 0.3778212\ttotal: 14s\tremaining: 26.2s\n",
            "348:\tlearn: 0.3777783\ttotal: 14s\tremaining: 26.1s\n",
            "349:\tlearn: 0.3777376\ttotal: 14s\tremaining: 26.1s\n",
            "350:\tlearn: 0.3776819\ttotal: 14.1s\tremaining: 26s\n",
            "351:\tlearn: 0.3776496\ttotal: 14.1s\tremaining: 26s\n",
            "352:\tlearn: 0.3776099\ttotal: 14.2s\tremaining: 26s\n",
            "353:\tlearn: 0.3775762\ttotal: 14.2s\tremaining: 25.9s\n",
            "354:\tlearn: 0.3775529\ttotal: 14.3s\tremaining: 25.9s\n",
            "355:\tlearn: 0.3775278\ttotal: 14.3s\tremaining: 25.8s\n",
            "356:\tlearn: 0.3774993\ttotal: 14.3s\tremaining: 25.8s\n",
            "357:\tlearn: 0.3774540\ttotal: 14.4s\tremaining: 25.8s\n",
            "358:\tlearn: 0.3773955\ttotal: 14.4s\tremaining: 25.7s\n",
            "359:\tlearn: 0.3773458\ttotal: 14.4s\tremaining: 25.7s\n",
            "360:\tlearn: 0.3773171\ttotal: 14.5s\tremaining: 25.6s\n",
            "361:\tlearn: 0.3772820\ttotal: 14.5s\tremaining: 25.6s\n",
            "362:\tlearn: 0.3772222\ttotal: 14.6s\tremaining: 25.6s\n",
            "363:\tlearn: 0.3771829\ttotal: 14.6s\tremaining: 25.5s\n",
            "364:\tlearn: 0.3771479\ttotal: 14.6s\tremaining: 25.5s\n",
            "365:\tlearn: 0.3771085\ttotal: 14.7s\tremaining: 25.4s\n",
            "366:\tlearn: 0.3770682\ttotal: 14.7s\tremaining: 25.4s\n",
            "367:\tlearn: 0.3770412\ttotal: 14.8s\tremaining: 25.3s\n",
            "368:\tlearn: 0.3769998\ttotal: 14.8s\tremaining: 25.3s\n",
            "369:\tlearn: 0.3769504\ttotal: 14.8s\tremaining: 25.3s\n",
            "370:\tlearn: 0.3769134\ttotal: 14.9s\tremaining: 25.2s\n",
            "371:\tlearn: 0.3768588\ttotal: 14.9s\tremaining: 25.2s\n",
            "372:\tlearn: 0.3768035\ttotal: 15s\tremaining: 25.1s\n",
            "373:\tlearn: 0.3767661\ttotal: 15s\tremaining: 25.1s\n",
            "374:\tlearn: 0.3767314\ttotal: 15s\tremaining: 25.1s\n",
            "375:\tlearn: 0.3767006\ttotal: 15.1s\tremaining: 25s\n",
            "376:\tlearn: 0.3766664\ttotal: 15.1s\tremaining: 25s\n",
            "377:\tlearn: 0.3766205\ttotal: 15.2s\tremaining: 25s\n",
            "378:\tlearn: 0.3765817\ttotal: 15.2s\tremaining: 24.9s\n",
            "379:\tlearn: 0.3765354\ttotal: 15.3s\tremaining: 24.9s\n",
            "380:\tlearn: 0.3764930\ttotal: 15.3s\tremaining: 24.9s\n",
            "381:\tlearn: 0.3764625\ttotal: 15.3s\tremaining: 24.8s\n",
            "382:\tlearn: 0.3764327\ttotal: 15.4s\tremaining: 24.8s\n",
            "383:\tlearn: 0.3763957\ttotal: 15.4s\tremaining: 24.7s\n",
            "384:\tlearn: 0.3763582\ttotal: 15.5s\tremaining: 24.7s\n",
            "385:\tlearn: 0.3763322\ttotal: 15.5s\tremaining: 24.6s\n",
            "386:\tlearn: 0.3763028\ttotal: 15.5s\tremaining: 24.6s\n",
            "387:\tlearn: 0.3762609\ttotal: 15.6s\tremaining: 24.6s\n",
            "388:\tlearn: 0.3762250\ttotal: 15.6s\tremaining: 24.5s\n",
            "389:\tlearn: 0.3762101\ttotal: 15.6s\tremaining: 24.5s\n",
            "390:\tlearn: 0.3761833\ttotal: 15.7s\tremaining: 24.4s\n",
            "391:\tlearn: 0.3761483\ttotal: 15.7s\tremaining: 24.4s\n",
            "392:\tlearn: 0.3761072\ttotal: 15.8s\tremaining: 24.4s\n",
            "393:\tlearn: 0.3760563\ttotal: 15.8s\tremaining: 24.3s\n",
            "394:\tlearn: 0.3760170\ttotal: 15.8s\tremaining: 24.3s\n",
            "395:\tlearn: 0.3759797\ttotal: 15.9s\tremaining: 24.2s\n",
            "396:\tlearn: 0.3759480\ttotal: 15.9s\tremaining: 24.2s\n",
            "397:\tlearn: 0.3759103\ttotal: 16s\tremaining: 24.1s\n",
            "398:\tlearn: 0.3758672\ttotal: 16s\tremaining: 24.1s\n",
            "399:\tlearn: 0.3758157\ttotal: 16s\tremaining: 24.1s\n",
            "400:\tlearn: 0.3757868\ttotal: 16.1s\tremaining: 24s\n",
            "401:\tlearn: 0.3757454\ttotal: 16.1s\tremaining: 24s\n",
            "402:\tlearn: 0.3757032\ttotal: 16.1s\tremaining: 23.9s\n",
            "403:\tlearn: 0.3756506\ttotal: 16.2s\tremaining: 23.9s\n",
            "404:\tlearn: 0.3756126\ttotal: 16.2s\tremaining: 23.9s\n",
            "405:\tlearn: 0.3755890\ttotal: 16.3s\tremaining: 23.8s\n",
            "406:\tlearn: 0.3755598\ttotal: 16.3s\tremaining: 23.8s\n",
            "407:\tlearn: 0.3755198\ttotal: 16.4s\tremaining: 23.7s\n",
            "408:\tlearn: 0.3755044\ttotal: 16.4s\tremaining: 23.7s\n",
            "409:\tlearn: 0.3754743\ttotal: 16.4s\tremaining: 23.7s\n",
            "410:\tlearn: 0.3754340\ttotal: 16.5s\tremaining: 23.6s\n",
            "411:\tlearn: 0.3754013\ttotal: 16.5s\tremaining: 23.6s\n",
            "412:\tlearn: 0.3753721\ttotal: 16.6s\tremaining: 23.5s\n",
            "413:\tlearn: 0.3753345\ttotal: 16.6s\tremaining: 23.5s\n",
            "414:\tlearn: 0.3752908\ttotal: 16.6s\tremaining: 23.4s\n",
            "415:\tlearn: 0.3752578\ttotal: 16.7s\tremaining: 23.4s\n",
            "416:\tlearn: 0.3752319\ttotal: 16.7s\tremaining: 23.4s\n",
            "417:\tlearn: 0.3751983\ttotal: 16.7s\tremaining: 23.3s\n",
            "418:\tlearn: 0.3751599\ttotal: 16.8s\tremaining: 23.3s\n",
            "419:\tlearn: 0.3751306\ttotal: 16.8s\tremaining: 23.2s\n",
            "420:\tlearn: 0.3751079\ttotal: 16.9s\tremaining: 23.2s\n",
            "421:\tlearn: 0.3750795\ttotal: 16.9s\tremaining: 23.1s\n",
            "422:\tlearn: 0.3750387\ttotal: 16.9s\tremaining: 23.1s\n",
            "423:\tlearn: 0.3750086\ttotal: 17s\tremaining: 23.1s\n",
            "424:\tlearn: 0.3749593\ttotal: 17s\tremaining: 23s\n",
            "425:\tlearn: 0.3749121\ttotal: 17.1s\tremaining: 23s\n",
            "426:\tlearn: 0.3748806\ttotal: 17.1s\tremaining: 22.9s\n",
            "427:\tlearn: 0.3748432\ttotal: 17.2s\tremaining: 22.9s\n",
            "428:\tlearn: 0.3748052\ttotal: 17.2s\tremaining: 22.9s\n",
            "429:\tlearn: 0.3747752\ttotal: 17.3s\tremaining: 22.9s\n",
            "430:\tlearn: 0.3747257\ttotal: 17.3s\tremaining: 22.8s\n",
            "431:\tlearn: 0.3746808\ttotal: 17.3s\tremaining: 22.8s\n",
            "432:\tlearn: 0.3746429\ttotal: 17.4s\tremaining: 22.8s\n",
            "433:\tlearn: 0.3746068\ttotal: 17.5s\tremaining: 22.8s\n",
            "434:\tlearn: 0.3745729\ttotal: 17.5s\tremaining: 22.7s\n",
            "435:\tlearn: 0.3745338\ttotal: 17.5s\tremaining: 22.7s\n",
            "436:\tlearn: 0.3744965\ttotal: 17.6s\tremaining: 22.6s\n",
            "437:\tlearn: 0.3744616\ttotal: 17.6s\tremaining: 22.6s\n",
            "438:\tlearn: 0.3744380\ttotal: 17.6s\tremaining: 22.5s\n",
            "439:\tlearn: 0.3744140\ttotal: 17.7s\tremaining: 22.5s\n",
            "440:\tlearn: 0.3743913\ttotal: 17.7s\tremaining: 22.5s\n",
            "441:\tlearn: 0.3743554\ttotal: 17.8s\tremaining: 22.4s\n",
            "442:\tlearn: 0.3743226\ttotal: 17.8s\tremaining: 22.4s\n",
            "443:\tlearn: 0.3742943\ttotal: 17.8s\tremaining: 22.3s\n",
            "444:\tlearn: 0.3742481\ttotal: 17.9s\tremaining: 22.3s\n",
            "445:\tlearn: 0.3742018\ttotal: 17.9s\tremaining: 22.3s\n",
            "446:\tlearn: 0.3741666\ttotal: 18s\tremaining: 22.2s\n",
            "447:\tlearn: 0.3741285\ttotal: 18s\tremaining: 22.2s\n",
            "448:\tlearn: 0.3740878\ttotal: 18s\tremaining: 22.1s\n",
            "449:\tlearn: 0.3740549\ttotal: 18.1s\tremaining: 22.1s\n",
            "450:\tlearn: 0.3740136\ttotal: 18.1s\tremaining: 22s\n",
            "451:\tlearn: 0.3739743\ttotal: 18.1s\tremaining: 22s\n",
            "452:\tlearn: 0.3739534\ttotal: 18.2s\tremaining: 22s\n",
            "453:\tlearn: 0.3739239\ttotal: 18.2s\tremaining: 21.9s\n",
            "454:\tlearn: 0.3738993\ttotal: 18.3s\tremaining: 21.9s\n",
            "455:\tlearn: 0.3738692\ttotal: 18.3s\tremaining: 21.8s\n",
            "456:\tlearn: 0.3738253\ttotal: 18.3s\tremaining: 21.8s\n",
            "457:\tlearn: 0.3737924\ttotal: 18.4s\tremaining: 21.8s\n",
            "458:\tlearn: 0.3737567\ttotal: 18.4s\tremaining: 21.7s\n",
            "459:\tlearn: 0.3737186\ttotal: 18.5s\tremaining: 21.7s\n",
            "460:\tlearn: 0.3736925\ttotal: 18.5s\tremaining: 21.6s\n",
            "461:\tlearn: 0.3736615\ttotal: 18.5s\tremaining: 21.6s\n",
            "462:\tlearn: 0.3736338\ttotal: 18.6s\tremaining: 21.5s\n",
            "463:\tlearn: 0.3735965\ttotal: 18.6s\tremaining: 21.5s\n",
            "464:\tlearn: 0.3735485\ttotal: 18.7s\tremaining: 21.5s\n",
            "465:\tlearn: 0.3735209\ttotal: 18.7s\tremaining: 21.4s\n",
            "466:\tlearn: 0.3734820\ttotal: 18.7s\tremaining: 21.4s\n",
            "467:\tlearn: 0.3734438\ttotal: 18.8s\tremaining: 21.3s\n",
            "468:\tlearn: 0.3734129\ttotal: 18.8s\tremaining: 21.3s\n",
            "469:\tlearn: 0.3733858\ttotal: 18.8s\tremaining: 21.2s\n",
            "470:\tlearn: 0.3733493\ttotal: 18.9s\tremaining: 21.2s\n",
            "471:\tlearn: 0.3733195\ttotal: 18.9s\tremaining: 21.2s\n",
            "472:\tlearn: 0.3732839\ttotal: 19s\tremaining: 21.1s\n",
            "473:\tlearn: 0.3732445\ttotal: 19s\tremaining: 21.1s\n",
            "474:\tlearn: 0.3731980\ttotal: 19s\tremaining: 21s\n",
            "475:\tlearn: 0.3731635\ttotal: 19.1s\tremaining: 21s\n",
            "476:\tlearn: 0.3731170\ttotal: 19.1s\tremaining: 21s\n",
            "477:\tlearn: 0.3730693\ttotal: 19.2s\tremaining: 20.9s\n",
            "478:\tlearn: 0.3730415\ttotal: 19.2s\tremaining: 20.9s\n",
            "479:\tlearn: 0.3730175\ttotal: 19.2s\tremaining: 20.9s\n",
            "480:\tlearn: 0.3729877\ttotal: 19.3s\tremaining: 20.8s\n",
            "481:\tlearn: 0.3729430\ttotal: 19.3s\tremaining: 20.8s\n",
            "482:\tlearn: 0.3729126\ttotal: 19.4s\tremaining: 20.7s\n",
            "483:\tlearn: 0.3728792\ttotal: 19.4s\tremaining: 20.7s\n",
            "484:\tlearn: 0.3728518\ttotal: 19.5s\tremaining: 20.7s\n",
            "485:\tlearn: 0.3728186\ttotal: 19.5s\tremaining: 20.6s\n",
            "486:\tlearn: 0.3727795\ttotal: 19.5s\tremaining: 20.6s\n",
            "487:\tlearn: 0.3727360\ttotal: 19.6s\tremaining: 20.5s\n",
            "488:\tlearn: 0.3727027\ttotal: 19.6s\tremaining: 20.5s\n",
            "489:\tlearn: 0.3726711\ttotal: 19.6s\tremaining: 20.4s\n",
            "490:\tlearn: 0.3726479\ttotal: 19.7s\tremaining: 20.4s\n",
            "491:\tlearn: 0.3726216\ttotal: 19.7s\tremaining: 20.4s\n",
            "492:\tlearn: 0.3725943\ttotal: 19.8s\tremaining: 20.3s\n",
            "493:\tlearn: 0.3725559\ttotal: 19.8s\tremaining: 20.3s\n",
            "494:\tlearn: 0.3725228\ttotal: 19.8s\tremaining: 20.2s\n",
            "495:\tlearn: 0.3724726\ttotal: 19.9s\tremaining: 20.2s\n",
            "496:\tlearn: 0.3724304\ttotal: 19.9s\tremaining: 20.2s\n",
            "497:\tlearn: 0.3723967\ttotal: 20s\tremaining: 20.1s\n",
            "498:\tlearn: 0.3723813\ttotal: 20s\tremaining: 20.1s\n",
            "499:\tlearn: 0.3723502\ttotal: 20s\tremaining: 20s\n",
            "500:\tlearn: 0.3723097\ttotal: 20.1s\tremaining: 20s\n",
            "501:\tlearn: 0.3722795\ttotal: 20.1s\tremaining: 20s\n",
            "502:\tlearn: 0.3722479\ttotal: 20.2s\tremaining: 19.9s\n",
            "503:\tlearn: 0.3722260\ttotal: 20.2s\tremaining: 19.9s\n",
            "504:\tlearn: 0.3722057\ttotal: 20.2s\tremaining: 19.8s\n",
            "505:\tlearn: 0.3721797\ttotal: 20.3s\tremaining: 19.8s\n",
            "506:\tlearn: 0.3721533\ttotal: 20.3s\tremaining: 19.8s\n",
            "507:\tlearn: 0.3721229\ttotal: 20.4s\tremaining: 19.7s\n",
            "508:\tlearn: 0.3720897\ttotal: 20.4s\tremaining: 19.7s\n",
            "509:\tlearn: 0.3720565\ttotal: 20.4s\tremaining: 19.6s\n",
            "510:\tlearn: 0.3720226\ttotal: 20.5s\tremaining: 19.6s\n",
            "511:\tlearn: 0.3720026\ttotal: 20.5s\tremaining: 19.6s\n",
            "512:\tlearn: 0.3719713\ttotal: 20.6s\tremaining: 19.5s\n",
            "513:\tlearn: 0.3719400\ttotal: 20.6s\tremaining: 19.5s\n",
            "514:\tlearn: 0.3719070\ttotal: 20.6s\tremaining: 19.4s\n",
            "515:\tlearn: 0.3718725\ttotal: 20.7s\tremaining: 19.4s\n",
            "516:\tlearn: 0.3718443\ttotal: 20.7s\tremaining: 19.3s\n",
            "517:\tlearn: 0.3718184\ttotal: 20.7s\tremaining: 19.3s\n",
            "518:\tlearn: 0.3717790\ttotal: 20.8s\tremaining: 19.3s\n",
            "519:\tlearn: 0.3717485\ttotal: 20.8s\tremaining: 19.2s\n",
            "520:\tlearn: 0.3717213\ttotal: 20.9s\tremaining: 19.2s\n",
            "521:\tlearn: 0.3716864\ttotal: 20.9s\tremaining: 19.1s\n",
            "522:\tlearn: 0.3716622\ttotal: 20.9s\tremaining: 19.1s\n",
            "523:\tlearn: 0.3716307\ttotal: 21s\tremaining: 19.1s\n",
            "524:\tlearn: 0.3715946\ttotal: 21s\tremaining: 19s\n",
            "525:\tlearn: 0.3715510\ttotal: 21.1s\tremaining: 19s\n",
            "526:\tlearn: 0.3715133\ttotal: 21.1s\tremaining: 18.9s\n",
            "527:\tlearn: 0.3715012\ttotal: 21.1s\tremaining: 18.9s\n",
            "528:\tlearn: 0.3714796\ttotal: 21.2s\tremaining: 18.9s\n",
            "529:\tlearn: 0.3714394\ttotal: 21.2s\tremaining: 18.8s\n",
            "530:\tlearn: 0.3714126\ttotal: 21.3s\tremaining: 18.8s\n",
            "531:\tlearn: 0.3713737\ttotal: 21.3s\tremaining: 18.8s\n",
            "532:\tlearn: 0.3713337\ttotal: 21.4s\tremaining: 18.7s\n",
            "533:\tlearn: 0.3712867\ttotal: 21.4s\tremaining: 18.7s\n",
            "534:\tlearn: 0.3712559\ttotal: 21.4s\tremaining: 18.6s\n",
            "535:\tlearn: 0.3712248\ttotal: 21.5s\tremaining: 18.6s\n",
            "536:\tlearn: 0.3711966\ttotal: 21.5s\tremaining: 18.5s\n",
            "537:\tlearn: 0.3711776\ttotal: 21.6s\tremaining: 18.5s\n",
            "538:\tlearn: 0.3711393\ttotal: 21.6s\tremaining: 18.5s\n",
            "539:\tlearn: 0.3711078\ttotal: 21.6s\tremaining: 18.4s\n",
            "540:\tlearn: 0.3710633\ttotal: 21.7s\tremaining: 18.4s\n",
            "541:\tlearn: 0.3710352\ttotal: 21.7s\tremaining: 18.3s\n",
            "542:\tlearn: 0.3710016\ttotal: 21.7s\tremaining: 18.3s\n",
            "543:\tlearn: 0.3709670\ttotal: 21.8s\tremaining: 18.3s\n",
            "544:\tlearn: 0.3709404\ttotal: 21.8s\tremaining: 18.2s\n",
            "545:\tlearn: 0.3709112\ttotal: 21.9s\tremaining: 18.2s\n",
            "546:\tlearn: 0.3708863\ttotal: 21.9s\tremaining: 18.2s\n",
            "547:\tlearn: 0.3708514\ttotal: 22s\tremaining: 18.2s\n",
            "548:\tlearn: 0.3708138\ttotal: 22.1s\tremaining: 18.2s\n",
            "549:\tlearn: 0.3707836\ttotal: 22.2s\tremaining: 18.2s\n",
            "550:\tlearn: 0.3707374\ttotal: 22.3s\tremaining: 18.2s\n",
            "551:\tlearn: 0.3707090\ttotal: 22.4s\tremaining: 18.2s\n",
            "552:\tlearn: 0.3706714\ttotal: 22.5s\tremaining: 18.2s\n",
            "553:\tlearn: 0.3706365\ttotal: 22.6s\tremaining: 18.2s\n",
            "554:\tlearn: 0.3706166\ttotal: 22.7s\tremaining: 18.2s\n",
            "555:\tlearn: 0.3705926\ttotal: 22.8s\tremaining: 18.2s\n",
            "556:\tlearn: 0.3705551\ttotal: 22.9s\tremaining: 18.2s\n",
            "557:\tlearn: 0.3705172\ttotal: 22.9s\tremaining: 18.2s\n",
            "558:\tlearn: 0.3704790\ttotal: 23s\tremaining: 18.2s\n",
            "559:\tlearn: 0.3704544\ttotal: 23.2s\tremaining: 18.2s\n",
            "560:\tlearn: 0.3704206\ttotal: 23.3s\tremaining: 18.2s\n",
            "561:\tlearn: 0.3704001\ttotal: 23.3s\tremaining: 18.2s\n",
            "562:\tlearn: 0.3703685\ttotal: 23.4s\tremaining: 18.2s\n",
            "563:\tlearn: 0.3703366\ttotal: 23.5s\tremaining: 18.2s\n",
            "564:\tlearn: 0.3703105\ttotal: 23.6s\tremaining: 18.2s\n",
            "565:\tlearn: 0.3702800\ttotal: 23.7s\tremaining: 18.2s\n",
            "566:\tlearn: 0.3702466\ttotal: 23.8s\tremaining: 18.2s\n",
            "567:\tlearn: 0.3702191\ttotal: 23.9s\tremaining: 18.2s\n",
            "568:\tlearn: 0.3701844\ttotal: 24s\tremaining: 18.2s\n",
            "569:\tlearn: 0.3701512\ttotal: 24.1s\tremaining: 18.2s\n",
            "570:\tlearn: 0.3701184\ttotal: 24.2s\tremaining: 18.2s\n",
            "571:\tlearn: 0.3700897\ttotal: 24.3s\tremaining: 18.2s\n",
            "572:\tlearn: 0.3700545\ttotal: 24.4s\tremaining: 18.2s\n",
            "573:\tlearn: 0.3700206\ttotal: 24.5s\tremaining: 18.2s\n",
            "574:\tlearn: 0.3699937\ttotal: 24.6s\tremaining: 18.2s\n",
            "575:\tlearn: 0.3699694\ttotal: 24.7s\tremaining: 18.2s\n",
            "576:\tlearn: 0.3699287\ttotal: 24.8s\tremaining: 18.2s\n",
            "577:\tlearn: 0.3698920\ttotal: 24.9s\tremaining: 18.2s\n",
            "578:\tlearn: 0.3698538\ttotal: 25s\tremaining: 18.2s\n",
            "579:\tlearn: 0.3698255\ttotal: 25s\tremaining: 18.1s\n",
            "580:\tlearn: 0.3698024\ttotal: 25.1s\tremaining: 18.1s\n",
            "581:\tlearn: 0.3697748\ttotal: 25.1s\tremaining: 18s\n",
            "582:\tlearn: 0.3697418\ttotal: 25.1s\tremaining: 18s\n",
            "583:\tlearn: 0.3697140\ttotal: 25.2s\tremaining: 17.9s\n",
            "584:\tlearn: 0.3696914\ttotal: 25.2s\tremaining: 17.9s\n",
            "585:\tlearn: 0.3696599\ttotal: 25.2s\tremaining: 17.8s\n",
            "586:\tlearn: 0.3696277\ttotal: 25.3s\tremaining: 17.8s\n",
            "587:\tlearn: 0.3695955\ttotal: 25.3s\tremaining: 17.7s\n",
            "588:\tlearn: 0.3695653\ttotal: 25.4s\tremaining: 17.7s\n",
            "589:\tlearn: 0.3695250\ttotal: 25.4s\tremaining: 17.7s\n",
            "590:\tlearn: 0.3694957\ttotal: 25.5s\tremaining: 17.6s\n",
            "591:\tlearn: 0.3694807\ttotal: 25.5s\tremaining: 17.6s\n",
            "592:\tlearn: 0.3694518\ttotal: 25.5s\tremaining: 17.5s\n",
            "593:\tlearn: 0.3694260\ttotal: 25.6s\tremaining: 17.5s\n",
            "594:\tlearn: 0.3693915\ttotal: 25.6s\tremaining: 17.4s\n",
            "595:\tlearn: 0.3693714\ttotal: 25.6s\tremaining: 17.4s\n",
            "596:\tlearn: 0.3693441\ttotal: 25.7s\tremaining: 17.3s\n",
            "597:\tlearn: 0.3693176\ttotal: 25.7s\tremaining: 17.3s\n",
            "598:\tlearn: 0.3693053\ttotal: 25.8s\tremaining: 17.2s\n",
            "599:\tlearn: 0.3692735\ttotal: 25.8s\tremaining: 17.2s\n",
            "600:\tlearn: 0.3692513\ttotal: 25.8s\tremaining: 17.2s\n",
            "601:\tlearn: 0.3692207\ttotal: 25.9s\tremaining: 17.1s\n",
            "602:\tlearn: 0.3692061\ttotal: 25.9s\tremaining: 17.1s\n",
            "603:\tlearn: 0.3691761\ttotal: 26s\tremaining: 17s\n",
            "604:\tlearn: 0.3691514\ttotal: 26s\tremaining: 17s\n",
            "605:\tlearn: 0.3691246\ttotal: 26s\tremaining: 16.9s\n",
            "606:\tlearn: 0.3691063\ttotal: 26.1s\tremaining: 16.9s\n",
            "607:\tlearn: 0.3690662\ttotal: 26.1s\tremaining: 16.8s\n",
            "608:\tlearn: 0.3690196\ttotal: 26.2s\tremaining: 16.8s\n",
            "609:\tlearn: 0.3689893\ttotal: 26.2s\tremaining: 16.7s\n",
            "610:\tlearn: 0.3689588\ttotal: 26.2s\tremaining: 16.7s\n",
            "611:\tlearn: 0.3689205\ttotal: 26.3s\tremaining: 16.7s\n",
            "612:\tlearn: 0.3688779\ttotal: 26.3s\tremaining: 16.6s\n",
            "613:\tlearn: 0.3688425\ttotal: 26.4s\tremaining: 16.6s\n",
            "614:\tlearn: 0.3688005\ttotal: 26.4s\tremaining: 16.5s\n",
            "615:\tlearn: 0.3687719\ttotal: 26.4s\tremaining: 16.5s\n",
            "616:\tlearn: 0.3687369\ttotal: 26.5s\tremaining: 16.4s\n",
            "617:\tlearn: 0.3687143\ttotal: 26.5s\tremaining: 16.4s\n",
            "618:\tlearn: 0.3686909\ttotal: 26.6s\tremaining: 16.4s\n",
            "619:\tlearn: 0.3686587\ttotal: 26.6s\tremaining: 16.3s\n",
            "620:\tlearn: 0.3686272\ttotal: 26.7s\tremaining: 16.3s\n",
            "621:\tlearn: 0.3685966\ttotal: 26.7s\tremaining: 16.2s\n",
            "622:\tlearn: 0.3685577\ttotal: 26.7s\tremaining: 16.2s\n",
            "623:\tlearn: 0.3685194\ttotal: 26.8s\tremaining: 16.1s\n",
            "624:\tlearn: 0.3684946\ttotal: 26.8s\tremaining: 16.1s\n",
            "625:\tlearn: 0.3684531\ttotal: 26.9s\tremaining: 16s\n",
            "626:\tlearn: 0.3684196\ttotal: 26.9s\tremaining: 16s\n",
            "627:\tlearn: 0.3683963\ttotal: 26.9s\tremaining: 15.9s\n",
            "628:\tlearn: 0.3683734\ttotal: 27s\tremaining: 15.9s\n",
            "629:\tlearn: 0.3683425\ttotal: 27s\tremaining: 15.9s\n",
            "630:\tlearn: 0.3683022\ttotal: 27s\tremaining: 15.8s\n",
            "631:\tlearn: 0.3682544\ttotal: 27.1s\tremaining: 15.8s\n",
            "632:\tlearn: 0.3682129\ttotal: 27.1s\tremaining: 15.7s\n",
            "633:\tlearn: 0.3681861\ttotal: 27.2s\tremaining: 15.7s\n",
            "634:\tlearn: 0.3681497\ttotal: 27.2s\tremaining: 15.6s\n",
            "635:\tlearn: 0.3681266\ttotal: 27.2s\tremaining: 15.6s\n",
            "636:\tlearn: 0.3680970\ttotal: 27.3s\tremaining: 15.6s\n",
            "637:\tlearn: 0.3680653\ttotal: 27.3s\tremaining: 15.5s\n",
            "638:\tlearn: 0.3680457\ttotal: 27.4s\tremaining: 15.5s\n",
            "639:\tlearn: 0.3680198\ttotal: 27.4s\tremaining: 15.4s\n",
            "640:\tlearn: 0.3679948\ttotal: 27.4s\tremaining: 15.4s\n",
            "641:\tlearn: 0.3679753\ttotal: 27.5s\tremaining: 15.3s\n",
            "642:\tlearn: 0.3679573\ttotal: 27.5s\tremaining: 15.3s\n",
            "643:\tlearn: 0.3679170\ttotal: 27.6s\tremaining: 15.2s\n",
            "644:\tlearn: 0.3678861\ttotal: 27.6s\tremaining: 15.2s\n",
            "645:\tlearn: 0.3678475\ttotal: 27.6s\tremaining: 15.1s\n",
            "646:\tlearn: 0.3678019\ttotal: 27.7s\tremaining: 15.1s\n",
            "647:\tlearn: 0.3677853\ttotal: 27.7s\tremaining: 15.1s\n",
            "648:\tlearn: 0.3677519\ttotal: 27.8s\tremaining: 15s\n",
            "649:\tlearn: 0.3677351\ttotal: 27.8s\tremaining: 15s\n",
            "650:\tlearn: 0.3677004\ttotal: 27.9s\tremaining: 14.9s\n",
            "651:\tlearn: 0.3676653\ttotal: 27.9s\tremaining: 14.9s\n",
            "652:\tlearn: 0.3676367\ttotal: 28s\tremaining: 14.9s\n",
            "653:\tlearn: 0.3675990\ttotal: 28s\tremaining: 14.8s\n",
            "654:\tlearn: 0.3675704\ttotal: 28s\tremaining: 14.8s\n",
            "655:\tlearn: 0.3675328\ttotal: 28.1s\tremaining: 14.7s\n",
            "656:\tlearn: 0.3675092\ttotal: 28.1s\tremaining: 14.7s\n",
            "657:\tlearn: 0.3674795\ttotal: 28.2s\tremaining: 14.6s\n",
            "658:\tlearn: 0.3674565\ttotal: 28.2s\tremaining: 14.6s\n",
            "659:\tlearn: 0.3674236\ttotal: 28.2s\tremaining: 14.5s\n",
            "660:\tlearn: 0.3674014\ttotal: 28.3s\tremaining: 14.5s\n",
            "661:\tlearn: 0.3673774\ttotal: 28.3s\tremaining: 14.5s\n",
            "662:\tlearn: 0.3673512\ttotal: 28.3s\tremaining: 14.4s\n",
            "663:\tlearn: 0.3673234\ttotal: 28.4s\tremaining: 14.4s\n",
            "664:\tlearn: 0.3672881\ttotal: 28.4s\tremaining: 14.3s\n",
            "665:\tlearn: 0.3672628\ttotal: 28.5s\tremaining: 14.3s\n",
            "666:\tlearn: 0.3672288\ttotal: 28.5s\tremaining: 14.2s\n",
            "667:\tlearn: 0.3672038\ttotal: 28.6s\tremaining: 14.2s\n",
            "668:\tlearn: 0.3671750\ttotal: 28.6s\tremaining: 14.2s\n",
            "669:\tlearn: 0.3671409\ttotal: 28.7s\tremaining: 14.1s\n",
            "670:\tlearn: 0.3671070\ttotal: 28.7s\tremaining: 14.1s\n",
            "671:\tlearn: 0.3670715\ttotal: 28.7s\tremaining: 14s\n",
            "672:\tlearn: 0.3670409\ttotal: 28.8s\tremaining: 14s\n",
            "673:\tlearn: 0.3670186\ttotal: 28.8s\tremaining: 13.9s\n",
            "674:\tlearn: 0.3669910\ttotal: 28.8s\tremaining: 13.9s\n",
            "675:\tlearn: 0.3669533\ttotal: 28.9s\tremaining: 13.8s\n",
            "676:\tlearn: 0.3669142\ttotal: 28.9s\tremaining: 13.8s\n",
            "677:\tlearn: 0.3668884\ttotal: 29s\tremaining: 13.8s\n",
            "678:\tlearn: 0.3668679\ttotal: 29s\tremaining: 13.7s\n",
            "679:\tlearn: 0.3668403\ttotal: 29s\tremaining: 13.7s\n",
            "680:\tlearn: 0.3668055\ttotal: 29.1s\tremaining: 13.6s\n",
            "681:\tlearn: 0.3667734\ttotal: 29.1s\tremaining: 13.6s\n",
            "682:\tlearn: 0.3667451\ttotal: 29.2s\tremaining: 13.5s\n",
            "683:\tlearn: 0.3667165\ttotal: 29.2s\tremaining: 13.5s\n",
            "684:\tlearn: 0.3667017\ttotal: 29.2s\tremaining: 13.4s\n",
            "685:\tlearn: 0.3666797\ttotal: 29.3s\tremaining: 13.4s\n",
            "686:\tlearn: 0.3666400\ttotal: 29.3s\tremaining: 13.4s\n",
            "687:\tlearn: 0.3666121\ttotal: 29.3s\tremaining: 13.3s\n",
            "688:\tlearn: 0.3665963\ttotal: 29.4s\tremaining: 13.3s\n",
            "689:\tlearn: 0.3665626\ttotal: 29.4s\tremaining: 13.2s\n",
            "690:\tlearn: 0.3665408\ttotal: 29.5s\tremaining: 13.2s\n",
            "691:\tlearn: 0.3665092\ttotal: 29.5s\tremaining: 13.1s\n",
            "692:\tlearn: 0.3664721\ttotal: 29.6s\tremaining: 13.1s\n",
            "693:\tlearn: 0.3664487\ttotal: 29.6s\tremaining: 13s\n",
            "694:\tlearn: 0.3664297\ttotal: 29.6s\tremaining: 13s\n",
            "695:\tlearn: 0.3664122\ttotal: 29.7s\tremaining: 13s\n",
            "696:\tlearn: 0.3663793\ttotal: 29.7s\tremaining: 12.9s\n",
            "697:\tlearn: 0.3663542\ttotal: 29.7s\tremaining: 12.9s\n",
            "698:\tlearn: 0.3663220\ttotal: 29.8s\tremaining: 12.8s\n",
            "699:\tlearn: 0.3662879\ttotal: 29.8s\tremaining: 12.8s\n",
            "700:\tlearn: 0.3662666\ttotal: 29.8s\tremaining: 12.7s\n",
            "701:\tlearn: 0.3662410\ttotal: 29.9s\tremaining: 12.7s\n",
            "702:\tlearn: 0.3662204\ttotal: 29.9s\tremaining: 12.6s\n",
            "703:\tlearn: 0.3661963\ttotal: 30s\tremaining: 12.6s\n",
            "704:\tlearn: 0.3661669\ttotal: 30s\tremaining: 12.6s\n",
            "705:\tlearn: 0.3661243\ttotal: 30s\tremaining: 12.5s\n",
            "706:\tlearn: 0.3660991\ttotal: 30.1s\tremaining: 12.5s\n",
            "707:\tlearn: 0.3660757\ttotal: 30.1s\tremaining: 12.4s\n",
            "708:\tlearn: 0.3660527\ttotal: 30.1s\tremaining: 12.4s\n",
            "709:\tlearn: 0.3660237\ttotal: 30.2s\tremaining: 12.3s\n",
            "710:\tlearn: 0.3659966\ttotal: 30.2s\tremaining: 12.3s\n",
            "711:\tlearn: 0.3659790\ttotal: 30.3s\tremaining: 12.2s\n",
            "712:\tlearn: 0.3659522\ttotal: 30.3s\tremaining: 12.2s\n",
            "713:\tlearn: 0.3659320\ttotal: 30.3s\tremaining: 12.2s\n",
            "714:\tlearn: 0.3658972\ttotal: 30.4s\tremaining: 12.1s\n",
            "715:\tlearn: 0.3658747\ttotal: 30.4s\tremaining: 12.1s\n",
            "716:\tlearn: 0.3658390\ttotal: 30.5s\tremaining: 12s\n",
            "717:\tlearn: 0.3658194\ttotal: 30.5s\tremaining: 12s\n",
            "718:\tlearn: 0.3658052\ttotal: 30.5s\tremaining: 11.9s\n",
            "719:\tlearn: 0.3657805\ttotal: 30.6s\tremaining: 11.9s\n",
            "720:\tlearn: 0.3657569\ttotal: 30.6s\tremaining: 11.8s\n",
            "721:\tlearn: 0.3657256\ttotal: 30.7s\tremaining: 11.8s\n",
            "722:\tlearn: 0.3656876\ttotal: 30.7s\tremaining: 11.8s\n",
            "723:\tlearn: 0.3656681\ttotal: 30.7s\tremaining: 11.7s\n",
            "724:\tlearn: 0.3656355\ttotal: 30.8s\tremaining: 11.7s\n",
            "725:\tlearn: 0.3656024\ttotal: 30.8s\tremaining: 11.6s\n",
            "726:\tlearn: 0.3655874\ttotal: 30.8s\tremaining: 11.6s\n",
            "727:\tlearn: 0.3655580\ttotal: 30.9s\tremaining: 11.5s\n",
            "728:\tlearn: 0.3655320\ttotal: 30.9s\tremaining: 11.5s\n",
            "729:\tlearn: 0.3655038\ttotal: 30.9s\tremaining: 11.4s\n",
            "730:\tlearn: 0.3654673\ttotal: 31s\tremaining: 11.4s\n",
            "731:\tlearn: 0.3654417\ttotal: 31s\tremaining: 11.4s\n",
            "732:\tlearn: 0.3654060\ttotal: 31.1s\tremaining: 11.3s\n",
            "733:\tlearn: 0.3653797\ttotal: 31.1s\tremaining: 11.3s\n",
            "734:\tlearn: 0.3653481\ttotal: 31.1s\tremaining: 11.2s\n",
            "735:\tlearn: 0.3653114\ttotal: 31.2s\tremaining: 11.2s\n",
            "736:\tlearn: 0.3652775\ttotal: 31.2s\tremaining: 11.1s\n",
            "737:\tlearn: 0.3652481\ttotal: 31.3s\tremaining: 11.1s\n",
            "738:\tlearn: 0.3652183\ttotal: 31.3s\tremaining: 11.1s\n",
            "739:\tlearn: 0.3651850\ttotal: 31.3s\tremaining: 11s\n",
            "740:\tlearn: 0.3651623\ttotal: 31.4s\tremaining: 11s\n",
            "741:\tlearn: 0.3651301\ttotal: 31.4s\tremaining: 10.9s\n",
            "742:\tlearn: 0.3650982\ttotal: 31.4s\tremaining: 10.9s\n",
            "743:\tlearn: 0.3650607\ttotal: 31.5s\tremaining: 10.8s\n",
            "744:\tlearn: 0.3650264\ttotal: 31.5s\tremaining: 10.8s\n",
            "745:\tlearn: 0.3650042\ttotal: 31.6s\tremaining: 10.8s\n",
            "746:\tlearn: 0.3649662\ttotal: 31.6s\tremaining: 10.7s\n",
            "747:\tlearn: 0.3649492\ttotal: 31.6s\tremaining: 10.7s\n",
            "748:\tlearn: 0.3649284\ttotal: 31.7s\tremaining: 10.6s\n",
            "749:\tlearn: 0.3648986\ttotal: 31.7s\tremaining: 10.6s\n",
            "750:\tlearn: 0.3648686\ttotal: 31.8s\tremaining: 10.5s\n",
            "751:\tlearn: 0.3648313\ttotal: 31.8s\tremaining: 10.5s\n",
            "752:\tlearn: 0.3647921\ttotal: 31.8s\tremaining: 10.4s\n",
            "753:\tlearn: 0.3647636\ttotal: 31.9s\tremaining: 10.4s\n",
            "754:\tlearn: 0.3647331\ttotal: 31.9s\tremaining: 10.4s\n",
            "755:\tlearn: 0.3647062\ttotal: 31.9s\tremaining: 10.3s\n",
            "756:\tlearn: 0.3646753\ttotal: 32s\tremaining: 10.3s\n",
            "757:\tlearn: 0.3646524\ttotal: 32s\tremaining: 10.2s\n",
            "758:\tlearn: 0.3646318\ttotal: 32.1s\tremaining: 10.2s\n",
            "759:\tlearn: 0.3646185\ttotal: 32.1s\tremaining: 10.1s\n",
            "760:\tlearn: 0.3645923\ttotal: 32.1s\tremaining: 10.1s\n",
            "761:\tlearn: 0.3645590\ttotal: 32.2s\tremaining: 10s\n",
            "762:\tlearn: 0.3645193\ttotal: 32.2s\tremaining: 10s\n",
            "763:\tlearn: 0.3644867\ttotal: 32.2s\tremaining: 9.96s\n",
            "764:\tlearn: 0.3644580\ttotal: 32.3s\tremaining: 9.92s\n",
            "765:\tlearn: 0.3644381\ttotal: 32.3s\tremaining: 9.87s\n",
            "766:\tlearn: 0.3644219\ttotal: 32.4s\tremaining: 9.83s\n",
            "767:\tlearn: 0.3643835\ttotal: 32.4s\tremaining: 9.79s\n",
            "768:\tlearn: 0.3643561\ttotal: 32.4s\tremaining: 9.74s\n",
            "769:\tlearn: 0.3643304\ttotal: 32.5s\tremaining: 9.7s\n",
            "770:\tlearn: 0.3643076\ttotal: 32.5s\tremaining: 9.66s\n",
            "771:\tlearn: 0.3642661\ttotal: 32.6s\tremaining: 9.62s\n",
            "772:\tlearn: 0.3642457\ttotal: 32.6s\tremaining: 9.57s\n",
            "773:\tlearn: 0.3642277\ttotal: 32.6s\tremaining: 9.53s\n",
            "774:\tlearn: 0.3642048\ttotal: 32.7s\tremaining: 9.49s\n",
            "775:\tlearn: 0.3641703\ttotal: 32.7s\tremaining: 9.45s\n",
            "776:\tlearn: 0.3641456\ttotal: 32.8s\tremaining: 9.4s\n",
            "777:\tlearn: 0.3641125\ttotal: 32.8s\tremaining: 9.36s\n",
            "778:\tlearn: 0.3640893\ttotal: 32.8s\tremaining: 9.31s\n",
            "779:\tlearn: 0.3640684\ttotal: 32.9s\tremaining: 9.27s\n",
            "780:\tlearn: 0.3640365\ttotal: 32.9s\tremaining: 9.23s\n",
            "781:\tlearn: 0.3640028\ttotal: 33s\tremaining: 9.19s\n",
            "782:\tlearn: 0.3639799\ttotal: 33s\tremaining: 9.15s\n",
            "783:\tlearn: 0.3639553\ttotal: 33s\tremaining: 9.1s\n",
            "784:\tlearn: 0.3639348\ttotal: 33.1s\tremaining: 9.06s\n",
            "785:\tlearn: 0.3639172\ttotal: 33.1s\tremaining: 9.02s\n",
            "786:\tlearn: 0.3638834\ttotal: 33.2s\tremaining: 8.97s\n",
            "787:\tlearn: 0.3638619\ttotal: 33.2s\tremaining: 8.93s\n",
            "788:\tlearn: 0.3638311\ttotal: 33.2s\tremaining: 8.89s\n",
            "789:\tlearn: 0.3638066\ttotal: 33.3s\tremaining: 8.84s\n",
            "790:\tlearn: 0.3637799\ttotal: 33.3s\tremaining: 8.8s\n",
            "791:\tlearn: 0.3637576\ttotal: 33.3s\tremaining: 8.76s\n",
            "792:\tlearn: 0.3637267\ttotal: 33.4s\tremaining: 8.72s\n",
            "793:\tlearn: 0.3637015\ttotal: 33.4s\tremaining: 8.68s\n",
            "794:\tlearn: 0.3636647\ttotal: 33.5s\tremaining: 8.63s\n",
            "795:\tlearn: 0.3636283\ttotal: 33.5s\tremaining: 8.59s\n",
            "796:\tlearn: 0.3635907\ttotal: 33.6s\tremaining: 8.55s\n",
            "797:\tlearn: 0.3635629\ttotal: 33.6s\tremaining: 8.51s\n",
            "798:\tlearn: 0.3635376\ttotal: 33.7s\tremaining: 8.47s\n",
            "799:\tlearn: 0.3635140\ttotal: 33.7s\tremaining: 8.42s\n",
            "800:\tlearn: 0.3634826\ttotal: 33.7s\tremaining: 8.38s\n",
            "801:\tlearn: 0.3634509\ttotal: 33.8s\tremaining: 8.34s\n",
            "802:\tlearn: 0.3634255\ttotal: 33.8s\tremaining: 8.3s\n",
            "803:\tlearn: 0.3633990\ttotal: 33.9s\tremaining: 8.25s\n",
            "804:\tlearn: 0.3633723\ttotal: 33.9s\tremaining: 8.21s\n",
            "805:\tlearn: 0.3633315\ttotal: 33.9s\tremaining: 8.17s\n",
            "806:\tlearn: 0.3632931\ttotal: 34s\tremaining: 8.13s\n",
            "807:\tlearn: 0.3632600\ttotal: 34s\tremaining: 8.09s\n",
            "808:\tlearn: 0.3632369\ttotal: 34.1s\tremaining: 8.04s\n",
            "809:\tlearn: 0.3631997\ttotal: 34.1s\tremaining: 8s\n",
            "810:\tlearn: 0.3631852\ttotal: 34.2s\tremaining: 7.96s\n",
            "811:\tlearn: 0.3631648\ttotal: 34.2s\tremaining: 7.92s\n",
            "812:\tlearn: 0.3631455\ttotal: 34.2s\tremaining: 7.87s\n",
            "813:\tlearn: 0.3631287\ttotal: 34.3s\tremaining: 7.83s\n",
            "814:\tlearn: 0.3631038\ttotal: 34.3s\tremaining: 7.79s\n",
            "815:\tlearn: 0.3630829\ttotal: 34.4s\tremaining: 7.75s\n",
            "816:\tlearn: 0.3630614\ttotal: 34.4s\tremaining: 7.7s\n",
            "817:\tlearn: 0.3630243\ttotal: 34.4s\tremaining: 7.66s\n",
            "818:\tlearn: 0.3629979\ttotal: 34.5s\tremaining: 7.62s\n",
            "819:\tlearn: 0.3629647\ttotal: 34.5s\tremaining: 7.58s\n",
            "820:\tlearn: 0.3629248\ttotal: 34.6s\tremaining: 7.54s\n",
            "821:\tlearn: 0.3628987\ttotal: 34.6s\tremaining: 7.49s\n",
            "822:\tlearn: 0.3628748\ttotal: 34.7s\tremaining: 7.45s\n",
            "823:\tlearn: 0.3628506\ttotal: 34.7s\tremaining: 7.41s\n",
            "824:\tlearn: 0.3628237\ttotal: 34.7s\tremaining: 7.37s\n",
            "825:\tlearn: 0.3627939\ttotal: 34.8s\tremaining: 7.32s\n",
            "826:\tlearn: 0.3627677\ttotal: 34.8s\tremaining: 7.28s\n",
            "827:\tlearn: 0.3627385\ttotal: 34.8s\tremaining: 7.24s\n",
            "828:\tlearn: 0.3627071\ttotal: 34.9s\tremaining: 7.19s\n",
            "829:\tlearn: 0.3626881\ttotal: 34.9s\tremaining: 7.15s\n",
            "830:\tlearn: 0.3626442\ttotal: 35s\tremaining: 7.11s\n",
            "831:\tlearn: 0.3626248\ttotal: 35s\tremaining: 7.07s\n",
            "832:\tlearn: 0.3625968\ttotal: 35s\tremaining: 7.03s\n",
            "833:\tlearn: 0.3625746\ttotal: 35.1s\tremaining: 6.98s\n",
            "834:\tlearn: 0.3625417\ttotal: 35.1s\tremaining: 6.94s\n",
            "835:\tlearn: 0.3625111\ttotal: 35.2s\tremaining: 6.9s\n",
            "836:\tlearn: 0.3624828\ttotal: 35.2s\tremaining: 6.86s\n",
            "837:\tlearn: 0.3624583\ttotal: 35.2s\tremaining: 6.81s\n",
            "838:\tlearn: 0.3624332\ttotal: 35.3s\tremaining: 6.77s\n",
            "839:\tlearn: 0.3624016\ttotal: 35.3s\tremaining: 6.73s\n",
            "840:\tlearn: 0.3623706\ttotal: 35.4s\tremaining: 6.68s\n",
            "841:\tlearn: 0.3623287\ttotal: 35.4s\tremaining: 6.64s\n",
            "842:\tlearn: 0.3623085\ttotal: 35.4s\tremaining: 6.6s\n",
            "843:\tlearn: 0.3622881\ttotal: 35.5s\tremaining: 6.56s\n",
            "844:\tlearn: 0.3622593\ttotal: 35.5s\tremaining: 6.51s\n",
            "845:\tlearn: 0.3622274\ttotal: 35.6s\tremaining: 6.47s\n",
            "846:\tlearn: 0.3622120\ttotal: 35.6s\tremaining: 6.43s\n",
            "847:\tlearn: 0.3621790\ttotal: 35.6s\tremaining: 6.39s\n",
            "848:\tlearn: 0.3621518\ttotal: 35.7s\tremaining: 6.35s\n",
            "849:\tlearn: 0.3621327\ttotal: 35.7s\tremaining: 6.3s\n",
            "850:\tlearn: 0.3621056\ttotal: 35.8s\tremaining: 6.26s\n",
            "851:\tlearn: 0.3620783\ttotal: 35.8s\tremaining: 6.22s\n",
            "852:\tlearn: 0.3620471\ttotal: 35.8s\tremaining: 6.18s\n",
            "853:\tlearn: 0.3620248\ttotal: 35.9s\tremaining: 6.13s\n",
            "854:\tlearn: 0.3619999\ttotal: 35.9s\tremaining: 6.09s\n",
            "855:\tlearn: 0.3619758\ttotal: 36s\tremaining: 6.05s\n",
            "856:\tlearn: 0.3619519\ttotal: 36s\tremaining: 6s\n",
            "857:\tlearn: 0.3619267\ttotal: 36s\tremaining: 5.96s\n",
            "858:\tlearn: 0.3618830\ttotal: 36.1s\tremaining: 5.92s\n",
            "859:\tlearn: 0.3618573\ttotal: 36.1s\tremaining: 5.88s\n",
            "860:\tlearn: 0.3618148\ttotal: 36.2s\tremaining: 5.84s\n",
            "861:\tlearn: 0.3617776\ttotal: 36.2s\tremaining: 5.8s\n",
            "862:\tlearn: 0.3617474\ttotal: 36.2s\tremaining: 5.75s\n",
            "863:\tlearn: 0.3617177\ttotal: 36.3s\tremaining: 5.71s\n",
            "864:\tlearn: 0.3617001\ttotal: 36.3s\tremaining: 5.67s\n",
            "865:\tlearn: 0.3616796\ttotal: 36.4s\tremaining: 5.63s\n",
            "866:\tlearn: 0.3616601\ttotal: 36.4s\tremaining: 5.58s\n",
            "867:\tlearn: 0.3616538\ttotal: 36.4s\tremaining: 5.54s\n",
            "868:\tlearn: 0.3616222\ttotal: 36.5s\tremaining: 5.5s\n",
            "869:\tlearn: 0.3615959\ttotal: 36.5s\tremaining: 5.46s\n",
            "870:\tlearn: 0.3615698\ttotal: 36.6s\tremaining: 5.42s\n",
            "871:\tlearn: 0.3615551\ttotal: 36.6s\tremaining: 5.37s\n",
            "872:\tlearn: 0.3615285\ttotal: 36.7s\tremaining: 5.33s\n",
            "873:\tlearn: 0.3614957\ttotal: 36.7s\tremaining: 5.29s\n",
            "874:\tlearn: 0.3614730\ttotal: 36.7s\tremaining: 5.25s\n",
            "875:\tlearn: 0.3614391\ttotal: 36.8s\tremaining: 5.21s\n",
            "876:\tlearn: 0.3614270\ttotal: 36.8s\tremaining: 5.16s\n",
            "877:\tlearn: 0.3614082\ttotal: 36.8s\tremaining: 5.12s\n",
            "878:\tlearn: 0.3613878\ttotal: 36.9s\tremaining: 5.08s\n",
            "879:\tlearn: 0.3613678\ttotal: 36.9s\tremaining: 5.03s\n",
            "880:\tlearn: 0.3613433\ttotal: 37s\tremaining: 4.99s\n",
            "881:\tlearn: 0.3613193\ttotal: 37s\tremaining: 4.95s\n",
            "882:\tlearn: 0.3612952\ttotal: 37s\tremaining: 4.91s\n",
            "883:\tlearn: 0.3612656\ttotal: 37.1s\tremaining: 4.87s\n",
            "884:\tlearn: 0.3612443\ttotal: 37.1s\tremaining: 4.82s\n",
            "885:\tlearn: 0.3612231\ttotal: 37.2s\tremaining: 4.78s\n",
            "886:\tlearn: 0.3611953\ttotal: 37.2s\tremaining: 4.74s\n",
            "887:\tlearn: 0.3611664\ttotal: 37.2s\tremaining: 4.7s\n",
            "888:\tlearn: 0.3611462\ttotal: 37.3s\tremaining: 4.65s\n",
            "889:\tlearn: 0.3611137\ttotal: 37.3s\tremaining: 4.61s\n",
            "890:\tlearn: 0.3610837\ttotal: 37.4s\tremaining: 4.57s\n",
            "891:\tlearn: 0.3610622\ttotal: 37.4s\tremaining: 4.53s\n",
            "892:\tlearn: 0.3610362\ttotal: 37.4s\tremaining: 4.49s\n",
            "893:\tlearn: 0.3610074\ttotal: 37.5s\tremaining: 4.44s\n",
            "894:\tlearn: 0.3609829\ttotal: 37.5s\tremaining: 4.4s\n",
            "895:\tlearn: 0.3609455\ttotal: 37.6s\tremaining: 4.36s\n",
            "896:\tlearn: 0.3609312\ttotal: 37.6s\tremaining: 4.32s\n",
            "897:\tlearn: 0.3609091\ttotal: 37.7s\tremaining: 4.28s\n",
            "898:\tlearn: 0.3608739\ttotal: 37.7s\tremaining: 4.24s\n",
            "899:\tlearn: 0.3608518\ttotal: 37.7s\tremaining: 4.19s\n",
            "900:\tlearn: 0.3608395\ttotal: 37.8s\tremaining: 4.15s\n",
            "901:\tlearn: 0.3608235\ttotal: 37.8s\tremaining: 4.11s\n",
            "902:\tlearn: 0.3607953\ttotal: 37.9s\tremaining: 4.07s\n",
            "903:\tlearn: 0.3607721\ttotal: 37.9s\tremaining: 4.02s\n",
            "904:\tlearn: 0.3607429\ttotal: 37.9s\tremaining: 3.98s\n",
            "905:\tlearn: 0.3607177\ttotal: 38s\tremaining: 3.94s\n",
            "906:\tlearn: 0.3606984\ttotal: 38s\tremaining: 3.9s\n",
            "907:\tlearn: 0.3606806\ttotal: 38.1s\tremaining: 3.86s\n",
            "908:\tlearn: 0.3606521\ttotal: 38.1s\tremaining: 3.81s\n",
            "909:\tlearn: 0.3606306\ttotal: 38.1s\tremaining: 3.77s\n",
            "910:\tlearn: 0.3606064\ttotal: 38.2s\tremaining: 3.73s\n",
            "911:\tlearn: 0.3605865\ttotal: 38.2s\tremaining: 3.69s\n",
            "912:\tlearn: 0.3605678\ttotal: 38.3s\tremaining: 3.65s\n",
            "913:\tlearn: 0.3605442\ttotal: 38.3s\tremaining: 3.6s\n",
            "914:\tlearn: 0.3605234\ttotal: 38.3s\tremaining: 3.56s\n",
            "915:\tlearn: 0.3604876\ttotal: 38.4s\tremaining: 3.52s\n",
            "916:\tlearn: 0.3604684\ttotal: 38.4s\tremaining: 3.48s\n",
            "917:\tlearn: 0.3604509\ttotal: 38.5s\tremaining: 3.44s\n",
            "918:\tlearn: 0.3604262\ttotal: 38.5s\tremaining: 3.39s\n",
            "919:\tlearn: 0.3603961\ttotal: 38.5s\tremaining: 3.35s\n",
            "920:\tlearn: 0.3603693\ttotal: 38.6s\tremaining: 3.31s\n",
            "921:\tlearn: 0.3603431\ttotal: 38.6s\tremaining: 3.27s\n",
            "922:\tlearn: 0.3603188\ttotal: 38.7s\tremaining: 3.23s\n",
            "923:\tlearn: 0.3602877\ttotal: 38.7s\tremaining: 3.18s\n",
            "924:\tlearn: 0.3602596\ttotal: 38.7s\tremaining: 3.14s\n",
            "925:\tlearn: 0.3602309\ttotal: 38.8s\tremaining: 3.1s\n",
            "926:\tlearn: 0.3601896\ttotal: 38.8s\tremaining: 3.06s\n",
            "927:\tlearn: 0.3601673\ttotal: 38.9s\tremaining: 3.01s\n",
            "928:\tlearn: 0.3601402\ttotal: 38.9s\tremaining: 2.97s\n",
            "929:\tlearn: 0.3601121\ttotal: 38.9s\tremaining: 2.93s\n",
            "930:\tlearn: 0.3600829\ttotal: 39s\tremaining: 2.89s\n",
            "931:\tlearn: 0.3600597\ttotal: 39s\tremaining: 2.85s\n",
            "932:\tlearn: 0.3600353\ttotal: 39.1s\tremaining: 2.8s\n",
            "933:\tlearn: 0.3600181\ttotal: 39.1s\tremaining: 2.76s\n",
            "934:\tlearn: 0.3599980\ttotal: 39.1s\tremaining: 2.72s\n",
            "935:\tlearn: 0.3599714\ttotal: 39.2s\tremaining: 2.68s\n",
            "936:\tlearn: 0.3599492\ttotal: 39.2s\tremaining: 2.63s\n",
            "937:\tlearn: 0.3599346\ttotal: 39.3s\tremaining: 2.6s\n",
            "938:\tlearn: 0.3599154\ttotal: 39.3s\tremaining: 2.55s\n",
            "939:\tlearn: 0.3598896\ttotal: 39.3s\tremaining: 2.51s\n",
            "940:\tlearn: 0.3598500\ttotal: 39.4s\tremaining: 2.47s\n",
            "941:\tlearn: 0.3598253\ttotal: 39.4s\tremaining: 2.43s\n",
            "942:\tlearn: 0.3597924\ttotal: 39.5s\tremaining: 2.38s\n",
            "943:\tlearn: 0.3597590\ttotal: 39.5s\tremaining: 2.34s\n",
            "944:\tlearn: 0.3597306\ttotal: 39.5s\tremaining: 2.3s\n",
            "945:\tlearn: 0.3597037\ttotal: 39.6s\tremaining: 2.26s\n",
            "946:\tlearn: 0.3596840\ttotal: 39.6s\tremaining: 2.22s\n",
            "947:\tlearn: 0.3596511\ttotal: 39.7s\tremaining: 2.17s\n",
            "948:\tlearn: 0.3596288\ttotal: 39.7s\tremaining: 2.13s\n",
            "949:\tlearn: 0.3596021\ttotal: 39.7s\tremaining: 2.09s\n",
            "950:\tlearn: 0.3595765\ttotal: 39.8s\tremaining: 2.05s\n",
            "951:\tlearn: 0.3595563\ttotal: 39.8s\tremaining: 2.01s\n",
            "952:\tlearn: 0.3595224\ttotal: 39.9s\tremaining: 1.97s\n",
            "953:\tlearn: 0.3594967\ttotal: 39.9s\tremaining: 1.92s\n",
            "954:\tlearn: 0.3594738\ttotal: 39.9s\tremaining: 1.88s\n",
            "955:\tlearn: 0.3594503\ttotal: 40s\tremaining: 1.84s\n",
            "956:\tlearn: 0.3594295\ttotal: 40s\tremaining: 1.8s\n",
            "957:\tlearn: 0.3593962\ttotal: 40.1s\tremaining: 1.75s\n",
            "958:\tlearn: 0.3593716\ttotal: 40.1s\tremaining: 1.71s\n",
            "959:\tlearn: 0.3593448\ttotal: 40.1s\tremaining: 1.67s\n",
            "960:\tlearn: 0.3593242\ttotal: 40.2s\tremaining: 1.63s\n",
            "961:\tlearn: 0.3592990\ttotal: 40.2s\tremaining: 1.59s\n",
            "962:\tlearn: 0.3592726\ttotal: 40.3s\tremaining: 1.55s\n",
            "963:\tlearn: 0.3592494\ttotal: 40.3s\tremaining: 1.5s\n",
            "964:\tlearn: 0.3592160\ttotal: 40.3s\tremaining: 1.46s\n",
            "965:\tlearn: 0.3591953\ttotal: 40.4s\tremaining: 1.42s\n",
            "966:\tlearn: 0.3591580\ttotal: 40.4s\tremaining: 1.38s\n",
            "967:\tlearn: 0.3591339\ttotal: 40.5s\tremaining: 1.34s\n",
            "968:\tlearn: 0.3590937\ttotal: 40.5s\tremaining: 1.29s\n",
            "969:\tlearn: 0.3590546\ttotal: 40.6s\tremaining: 1.25s\n",
            "970:\tlearn: 0.3590236\ttotal: 40.6s\tremaining: 1.21s\n",
            "971:\tlearn: 0.3589910\ttotal: 40.6s\tremaining: 1.17s\n",
            "972:\tlearn: 0.3589659\ttotal: 40.7s\tremaining: 1.13s\n",
            "973:\tlearn: 0.3589417\ttotal: 40.7s\tremaining: 1.09s\n",
            "974:\tlearn: 0.3589251\ttotal: 40.8s\tremaining: 1.04s\n",
            "975:\tlearn: 0.3589075\ttotal: 40.8s\tremaining: 1s\n",
            "976:\tlearn: 0.3588696\ttotal: 40.8s\tremaining: 961ms\n",
            "977:\tlearn: 0.3588323\ttotal: 40.9s\tremaining: 920ms\n",
            "978:\tlearn: 0.3587991\ttotal: 40.9s\tremaining: 878ms\n",
            "979:\tlearn: 0.3587720\ttotal: 41s\tremaining: 836ms\n",
            "980:\tlearn: 0.3587490\ttotal: 41s\tremaining: 794ms\n",
            "981:\tlearn: 0.3587154\ttotal: 41s\tremaining: 752ms\n",
            "982:\tlearn: 0.3586856\ttotal: 41.1s\tremaining: 711ms\n",
            "983:\tlearn: 0.3586622\ttotal: 41.1s\tremaining: 669ms\n",
            "984:\tlearn: 0.3586512\ttotal: 41.2s\tremaining: 627ms\n",
            "985:\tlearn: 0.3586388\ttotal: 41.2s\tremaining: 585ms\n",
            "986:\tlearn: 0.3586136\ttotal: 41.2s\tremaining: 543ms\n",
            "987:\tlearn: 0.3585861\ttotal: 41.3s\tremaining: 501ms\n",
            "988:\tlearn: 0.3585488\ttotal: 41.3s\tremaining: 460ms\n",
            "989:\tlearn: 0.3585179\ttotal: 41.4s\tremaining: 418ms\n",
            "990:\tlearn: 0.3584965\ttotal: 41.4s\tremaining: 376ms\n",
            "991:\tlearn: 0.3584699\ttotal: 41.4s\tremaining: 334ms\n",
            "992:\tlearn: 0.3584463\ttotal: 41.5s\tremaining: 292ms\n",
            "993:\tlearn: 0.3584142\ttotal: 41.5s\tremaining: 251ms\n",
            "994:\tlearn: 0.3583939\ttotal: 41.5s\tremaining: 209ms\n",
            "995:\tlearn: 0.3583662\ttotal: 41.6s\tremaining: 167ms\n",
            "996:\tlearn: 0.3583317\ttotal: 41.7s\tremaining: 125ms\n",
            "997:\tlearn: 0.3583017\ttotal: 41.7s\tremaining: 83.5ms\n",
            "998:\tlearn: 0.3582845\ttotal: 41.7s\tremaining: 41.8ms\n",
            "999:\tlearn: 0.3582560\ttotal: 41.8s\tremaining: 0us\n"
          ]
        },
        {
          "output_type": "execute_result",
          "data": {
            "text/plain": [
              "0.8508252706999461"
            ]
          },
          "metadata": {},
          "execution_count": 133
        }
      ]
    },
    {
      "cell_type": "code",
      "source": [],
      "metadata": {
        "id": "bb4UQ_Vj2zKu"
      },
      "execution_count": null,
      "outputs": []
    },
    {
      "cell_type": "code",
      "source": [
        "model_lgb = lgb.LGBMClassifier()\n",
        "model_lgb.fit(X_train, y_train)\n",
        "accuracy_score(y_train, model_lgb.predict(X_train))"
      ],
      "metadata": {
        "colab": {
          "base_uri": "https://localhost:8080/"
        },
        "id": "i6tBpkstzjcl",
        "outputId": "7d83de40-2fe2-45b9-e694-80736da994ef"
      },
      "execution_count": null,
      "outputs": [
        {
          "output_type": "execute_result",
          "data": {
            "text/plain": [
              "0.8400778475403028"
            ]
          },
          "metadata": {},
          "execution_count": 134
        }
      ]
    },
    {
      "cell_type": "code",
      "source": [
        "estimator = lgb.LGBMClassifier(num_leaves=31)\n",
        "\n",
        "param_grid = {\n",
        "    'learning_rate': [0.01, 0.1, 1],\n",
        "    'n_estimators': [20, 40]\n",
        "}\n",
        "\n",
        "gbm = GridSearchCV(estimator, param_grid, cv=3)\n",
        "gbm.fit(X_train, y_train)\n",
        "\n",
        "print('Best parameters found by grid search are:', gbm.best_params_)"
      ],
      "metadata": {
        "id": "JwC61iK96RmX",
        "colab": {
          "base_uri": "https://localhost:8080/"
        },
        "outputId": "22b2f5b5-3fed-4026-b20d-4e0ff3c17882"
      },
      "execution_count": null,
      "outputs": [
        {
          "output_type": "stream",
          "name": "stdout",
          "text": [
            "Best parameters found by grid search are: {'learning_rate': 0.1, 'n_estimators': 40}\n"
          ]
        }
      ]
    },
    {
      "cell_type": "code",
      "source": [
        "accuracy_score(y_train, gbm.predict(X_train))"
      ],
      "metadata": {
        "id": "6YkBM70M6ReM",
        "colab": {
          "base_uri": "https://localhost:8080/"
        },
        "outputId": "b62ea048-e27f-453b-85af-85f47f99e95a"
      },
      "execution_count": null,
      "outputs": [
        {
          "output_type": "execute_result",
          "data": {
            "text/plain": [
              "0.837443675197253"
            ]
          },
          "metadata": {},
          "execution_count": 73
        }
      ]
    },
    {
      "cell_type": "code",
      "source": [],
      "metadata": {
        "id": "TExivqL66RJS"
      },
      "execution_count": null,
      "outputs": []
    },
    {
      "cell_type": "code",
      "source": [],
      "metadata": {
        "id": "xmBFOnQw6QzM"
      },
      "execution_count": null,
      "outputs": []
    }
  ]
}